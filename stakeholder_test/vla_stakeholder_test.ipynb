{
 "cells": [
  {
   "cell_type": "markdown",
   "id": "cb62af9f-2c94-42a0-a36d-7d1c35c48db0",
   "metadata": {},
   "source": [
    "# VLA Stakeholder Tests "
   ]
  },
  {
   "cell_type": "code",
   "execution_count": 1,
   "id": "51efd5f1-3668-48ac-baf4-1268f1f7e275",
   "metadata": {
    "tags": []
   },
   "outputs": [],
   "source": [
    "from astrohack.gdown_utils import gdown_data\n",
    "\n",
    "gdown_data('ea25_cal_small_spw1_4_60_ea04_after.ms', download_folder='data')\n",
    "gdown_data('ea25_cal_small_spw1_4_60_ea04_before.ms', download_folder='data')"
   ]
  },
  {
   "cell_type": "code",
   "execution_count": 2,
   "id": "84a7b2ed-17a0-43ce-a363-ca33ebffe36a",
   "metadata": {
    "tags": []
   },
   "outputs": [],
   "source": [
    "import astropy"
   ]
  },
  {
   "cell_type": "code",
   "execution_count": 3,
   "id": "daef9682",
   "metadata": {
    "tags": []
   },
   "outputs": [
    {
     "name": "stderr",
     "output_type": "stream",
     "text": [
      "2023-04-17 14:07:30,774 - distributed.diskutils - INFO - Found stale lock file and directory '/var/folders/8r/qj_26x951lv2t2kmlm5b8kdh0000gp/T/dask-worker-space/worker-jqh4fnm2', purging\n",
      "2023-04-17 14:07:30,774 - distributed.diskutils - INFO - Found stale lock file and directory '/var/folders/8r/qj_26x951lv2t2kmlm5b8kdh0000gp/T/dask-worker-space/worker-1ozjppey', purging\n",
      "2023-04-17 14:07:30,775 - distributed.diskutils - INFO - Found stale lock file and directory '/var/folders/8r/qj_26x951lv2t2kmlm5b8kdh0000gp/T/dask-worker-space/worker-_83lzl7o', purging\n",
      "2023-04-17 14:07:30,775 - distributed.diskutils - INFO - Found stale lock file and directory '/var/folders/8r/qj_26x951lv2t2kmlm5b8kdh0000gp/T/dask-worker-space/worker-03gxln8r', purging\n"
     ]
    },
    {
     "name": "stdout",
     "output_type": "stream",
     "text": [
      "2023-04-17 14:07:33,050 - \u001b[33;34mINFO    \u001b[0m - astrohack - (astrohack_client.py:74) - Created client <Client: 'tcp://127.0.0.1:53202' processes=2 threads=2, memory=14.90 GiB>\n"
     ]
    }
   ],
   "source": [
    "from astrohack.astrohack_client import astrohack_local_client\n",
    "\n",
    "log_parms = {'log_level':'DEBUG'}\n",
    "\n",
    "client = astrohack_local_client(cores=2,memory_limit='8GB',log_parms=log_parms)"
   ]
  },
  {
   "cell_type": "markdown",
   "id": "b097cb99-e59c-4065-a637-5d440cabe4cb",
   "metadata": {},
   "source": [
    "## Extract Holog"
   ]
  },
  {
   "cell_type": "code",
   "execution_count": 4,
   "id": "06a89e52",
   "metadata": {
    "tags": []
   },
   "outputs": [
    {
     "name": "stdout",
     "output_type": "stream",
     "text": [
      "2023-04-17 14:07:33,073 - \u001b[33;34mINFO    \u001b[0m - astrohack - (_check_parms.py:115) - Setting default point_name to results/before.point.zarr\n",
      "2023-04-17 14:07:33,076 - \u001b[33;33mWARNING \u001b[0m - astrohack - (_io.py:42) - results/before.holog.zarr will be overwritten.\n",
      "2023-04-17 14:07:33,078 - \u001b[33;33mWARNING \u001b[0m - astrohack - (_io.py:42) - results/before.point.zarr will be overwritten.\n",
      "Successful readonly open of usernoread-locked table data/ea25_cal_small_spw1_4_60_ea04_before.ms/ANTENNA: 8 columns, 27 rows\n",
      "Successful readonly open of usernoread-locked table data/ea25_cal_small_spw1_4_60_ea04_before.ms: 23 columns, 9145 rows\n",
      "2023-04-17 14:08:03,182 - \u001b[33;34mINFO    \u001b[0m - astrohack - (extract_holog.py:266) - Processing ddi: 0, scans: [8, 9, 10, 12, 13, 14, 16, 17, 18, 23, 24, 25, 27, 28, 29, 31, 32, 33, 38, 39, 40, 42, 43, 44, 46, 47, 48, 53, 54, 55, 57]\n",
      "2023-04-17 14:08:09,450 - \u001b[33;34mINFO    \u001b[0m - astrohack - (_check_parms.py:115) - Setting default point_name to results/after.point.zarr\n",
      "2023-04-17 14:08:09,452 - \u001b[33;33mWARNING \u001b[0m - astrohack - (_io.py:42) - results/after.holog.zarr will be overwritten.\n",
      "2023-04-17 14:08:09,453 - \u001b[33;33mWARNING \u001b[0m - astrohack - (_io.py:42) - results/after.point.zarr will be overwritten.\n",
      "Successful readonly open of usernoread-locked table data/ea25_cal_small_spw1_4_60_ea04_after.ms/ANTENNA: 8 columns, 27 rows\n",
      "Successful readonly open of usernoread-locked table data/ea25_cal_small_spw1_4_60_ea04_after.ms: 23 columns, 9145 rows\n",
      "2023-04-17 14:09:03,669 - \u001b[33;34mINFO    \u001b[0m - astrohack - (extract_holog.py:266) - Processing ddi: 0, scans: [8, 9, 10, 12, 13, 14, 16, 17, 18, 23, 24, 25, 27, 28, 29, 31, 32, 33, 38, 39, 40, 42, 43, 44, 46, 47, 48, 53, 54, 55, 57]\n"
     ]
    },
    {
     "data": {
      "text/plain": [
       "{'ddi_0': {'map_0': {'ant_ea25': <xarray.Dataset>\n",
       "   Dimensions:              (time: 9145, lm: 2, chan: 57, pol: 4)\n",
       "   Coordinates:\n",
       "     * chan                 (chan) float64 1.411e+10 1.411e+10 ... 1.422e+10\n",
       "     * pol                  (pol) <U2 'RR' 'RL' 'LR' 'LL'\n",
       "     * time                 (time) float64 5.17e+09 5.17e+09 ... 5.17e+09 5.17e+09\n",
       "   Dimensions without coordinates: lm\n",
       "   Data variables:\n",
       "       DIRECTIONAL_COSINES  (time, lm) float64 -0.004335 -0.002795 ... 0.009569\n",
       "       VIS                  (time, chan, pol) complex64 0j ... (0.008969664-0.01...\n",
       "       WEIGHT               (time, chan, pol) float64 0.0 0.0 ... 6.619e+04\n",
       "   Attributes:\n",
       "       antenna_name:         ea25\n",
       "       ddi:                  0\n",
       "       holog_map_key:        map_0\n",
       "       l_max:                0.009673800837874147\n",
       "       l_min:                -0.009671789717177779\n",
       "       m_max:                0.009698335330087179\n",
       "       m_min:                -0.009771580421317516\n",
       "       parallactic_samples:  [5.307972218541546, 5.354953165003047, 5.4937719298...\n",
       "       telescope_name:       EVLA}}}"
      ]
     },
     "execution_count": 4,
     "metadata": {},
     "output_type": "execute_result"
    }
   ],
   "source": [
    "from astrohack.extract_holog import extract_holog\n",
    "scans=[8,9,10,12,13,14,16,17,18,23,24,25,27,28,29,31,32,33,38,39,40,42,43,44,46,47,48,53,54,55,57]\n",
    "holog_obs_description = {'map_0' :{'scans':scans,'ant':{'ea25':['ea04']}}} #change 0 -> map_0\n",
    "holog_obs_description['ddi'] = [0]\n",
    "\n",
    "datafolder = 'data'\n",
    "resultsfolder = 'results'\n",
    "base_name = 'ea25_cal_small_spw1_4_60_ea04_'\n",
    "\n",
    "beforems = datafolder+'/'+ base_name + 'before.ms'\n",
    "beforeholog = resultsfolder+'/before.holog.zarr'\n",
    "afterms =  datafolder+'/'+ base_name + 'after.ms'\n",
    "afterholog = resultsfolder+'/after.holog.zarr'\n",
    "\n",
    "extract_holog(\n",
    "    ms_name=beforems, \n",
    "    holog_name=beforeholog, \n",
    "    holog_obs_dict=holog_obs_description,\n",
    "    data_col='CORRECTED_DATA',\n",
    "    parallel=True,\n",
    "    overwrite=True,\n",
    ")\n",
    "\n",
    "extract_holog(\n",
    "    ms_name=afterms, \n",
    "    holog_name=afterholog, \n",
    "    holog_obs_dict=holog_obs_description,\n",
    "    data_col='CORRECTED_DATA',\n",
    "    parallel=True,\n",
    "    overwrite=True,\n",
    ")"
   ]
  },
  {
   "cell_type": "markdown",
   "id": "25d46cd9-8a54-4c3d-a0ea-65f8696d720f",
   "metadata": {},
   "source": [
    "## Holog"
   ]
  },
  {
   "cell_type": "code",
   "execution_count": 5,
   "id": "d856b328",
   "metadata": {
    "tags": []
   },
   "outputs": [
    {
     "name": "stdout",
     "output_type": "stream",
     "text": [
      "2023-04-17 14:09:11,381 - \u001b[33;34mINFO    \u001b[0m - astrohack - (_check_parms.py:115) - Setting default image_file to results/before.image.zarr\n",
      "2023-04-17 14:09:11,389 - \u001b[33;34mINFO    \u001b[0m - astrohack - (_check_parms.py:115) - Setting default reference_scaling_frequency to None\n",
      "2023-04-17 14:09:11,390 - \u001b[33;34mINFO    \u001b[0m - astrohack - (_check_parms.py:115) - Setting default ant_list to all\n",
      "2023-04-17 14:09:11,393 - \u001b[33;33mWARNING \u001b[0m - astrohack - (_io.py:42) - results/before.image.zarr will be overwritten.\n",
      "2023-04-17 14:09:11,397 - \u001b[33;34mINFO    \u001b[0m - astrohack - (holog.py:135) - Mapping antennas ['ant_ea25']\n",
      "2023-04-17 14:09:11,399 - \u001b[33;34mINFO    \u001b[0m - astrohack - (holog.py:173) - Processing ant_id: ant_ea25 and ddi_0\n",
      "2023-04-17 14:09:17,172 - \u001b[33;34mINFO    \u001b[0m - astrohack - (_check_parms.py:115) - Setting default image_file to results/after.image.zarr\n",
      "2023-04-17 14:09:17,173 - \u001b[33;34mINFO    \u001b[0m - astrohack - (_check_parms.py:115) - Setting default reference_scaling_frequency to None\n",
      "2023-04-17 14:09:17,174 - \u001b[33;34mINFO    \u001b[0m - astrohack - (_check_parms.py:115) - Setting default ant_list to all\n",
      "2023-04-17 14:09:17,175 - \u001b[33;33mWARNING \u001b[0m - astrohack - (_io.py:42) - results/after.image.zarr will be overwritten.\n",
      "2023-04-17 14:09:17,177 - \u001b[33;34mINFO    \u001b[0m - astrohack - (holog.py:135) - Mapping antennas ['ant_ea25']\n",
      "2023-04-17 14:09:17,177 - \u001b[33;34mINFO    \u001b[0m - astrohack - (holog.py:173) - Processing ant_id: ant_ea25 and ddi_0\n"
     ]
    },
    {
     "data": {
      "text/plain": [
       "{'ant_ea25': {'ddi_0': <xarray.Dataset>\n",
       "  Dimensions:    (time: 1, chan: 1, pol: 4, u_prime: 442, v_prime: 442, u: 529,\n",
       "                  v: 529, l: 31, m: 31, ddi: 1)\n",
       "  Coordinates:\n",
       "    * chan       (chan) float64 1.417e+10\n",
       "    * ddi        (ddi) <U5 'ddi_0'\n",
       "    * l          (l) float64 0.009663 0.009019 0.008375 ... -0.009019 -0.009663\n",
       "    * m          (m) float64 -0.009663 -0.009019 -0.008375 ... 0.009019 0.009663\n",
       "    * pol        (pol) <U1 'I' 'Q' 'U' 'V'\n",
       "    * u          (u) float64 774.7 771.8 768.8 765.9 ... -768.8 -771.8 -774.7\n",
       "    * u_prime    (u_prime) float64 648.5 645.6 642.6 ... -639.7 -642.6 -645.6\n",
       "    * v          (v) float64 -774.7 -771.8 -768.8 -765.9 ... 768.8 771.8 774.7\n",
       "    * v_prime    (v_prime) float64 -648.5 -645.6 -642.6 ... 639.7 642.6 645.6\n",
       "  Dimensions without coordinates: time\n",
       "  Data variables:\n",
       "      AMPLITUDE  (time, chan, pol, u_prime, v_prime) float64 dask.array<chunksize=(1, 1, 1, 221, 221), meta=np.ndarray>\n",
       "      ANGLE      (time, chan, pol, u_prime, v_prime) float64 dask.array<chunksize=(1, 1, 1, 221, 221), meta=np.ndarray>\n",
       "      APERTURE   (time, chan, pol, u, v) complex128 dask.array<chunksize=(1, 1, 1, 133, 265), meta=np.ndarray>\n",
       "      BEAM       (time, chan, pol, l, m) complex128 dask.array<chunksize=(1, 1, 4, 31, 31), meta=np.ndarray>\n",
       "  Attributes:\n",
       "      ant_id:          ant_ea25\n",
       "      ant_name:        ea25\n",
       "      ddi:             ddi_0\n",
       "      telescope_name:  EVLA\n",
       "      time_centroid:   5170359444.5}}"
      ]
     },
     "execution_count": 5,
     "metadata": {},
     "output_type": "execute_result"
    }
   ],
   "source": [
    "import numpy as np\n",
    "from astrohack import holog\n",
    "\n",
    "cell_size = np.array([-0.0006442, 0.0006442])\n",
    "grid_size = np.array([31, 31])\n",
    "grid_interpolation_mode = 'linear' #'nearest' 'linear' 'cubic'\n",
    "chan_average = True\n",
    "reference_scaling_frequency = None #1.5*10**10 #None #In Hz\n",
    "scan_average = True\n",
    "\n",
    "holog(holog_name=beforeholog, padding_factor=50, \n",
    "      grid_size=grid_size, cell_size=cell_size, grid_interpolation_mode=grid_interpolation_mode,\n",
    "      chan_average = chan_average,\n",
    "      reference_scaling_frequency=reference_scaling_frequency,\n",
    "      scan_average = scan_average,\n",
    "      overwrite=True,\n",
    "      phase_fit=True,\n",
    "      apply_mask=True,\n",
    "      to_stokes=True,\n",
    "      parallel=True\n",
    "     )\n",
    "\n",
    "holog(holog_name=afterholog, padding_factor=50, \n",
    "      grid_size=grid_size, cell_size=cell_size, grid_interpolation_mode=grid_interpolation_mode,\n",
    "      chan_average = chan_average,\n",
    "      reference_scaling_frequency=reference_scaling_frequency,\n",
    "      scan_average = scan_average,\n",
    "      overwrite=True,\n",
    "      phase_fit=True,\n",
    "      apply_mask=True,\n",
    "      to_stokes=True,\n",
    "      parallel=True\n",
    "     )"
   ]
  },
  {
   "cell_type": "markdown",
   "id": "5f2bbc6c-7022-4891-919d-72dcd1123a58",
   "metadata": {},
   "source": [
    "## Panel"
   ]
  },
  {
   "cell_type": "code",
   "execution_count": 7,
   "id": "1ce05739",
   "metadata": {
    "tags": []
   },
   "outputs": [
    {
     "name": "stdout",
     "output_type": "stream",
     "text": [
      "2023-04-17 14:12:00,248 - \u001b[33;34mINFO    \u001b[0m - astrohack - (_check_parms.py:115) - Setting default panel_name to results/before.panel.zarr\n",
      "2023-04-17 14:12:00,249 - \u001b[33;34mINFO    \u001b[0m - astrohack - (_check_parms.py:115) - Setting default sel_ddi to all\n",
      "2023-04-17 14:12:00,251 - \u001b[33;33mWARNING \u001b[0m - astrohack - (_io.py:42) - results/before.panel.zarr will be overwritten.\n",
      "2023-04-17 14:12:00,253 - \u001b[33;34mINFO    \u001b[0m - astrohack - (panel.py:104) - Processing ddi_0 for ant_ea25\n",
      "2023-04-17 14:12:01,664 - \u001b[33;34mINFO    \u001b[0m - astrohack - (panel.py:117) - Panel finished processing\n",
      "2023-04-17 14:12:01,689 - \u001b[33;34mINFO    \u001b[0m - astrohack - (_check_parms.py:115) - Setting default panel_name to results/after.panel.zarr\n",
      "2023-04-17 14:12:01,690 - \u001b[33;34mINFO    \u001b[0m - astrohack - (_check_parms.py:115) - Setting default sel_ddi to all\n",
      "2023-04-17 14:12:01,691 - \u001b[33;33mWARNING \u001b[0m - astrohack - (_io.py:42) - results/after.panel.zarr will be overwritten.\n",
      "2023-04-17 14:12:01,693 - \u001b[33;34mINFO    \u001b[0m - astrohack - (panel.py:104) - Processing ddi_0 for ant_ea25\n",
      "2023-04-17 14:12:03,116 - \u001b[33;34mINFO    \u001b[0m - astrohack - (panel.py:117) - Panel finished processing\n"
     ]
    }
   ],
   "source": [
    "from astrohack.panel import panel\n",
    "panel_model = 'rigid'\n",
    "\n",
    "before_panel = panel(\n",
    "    image_name='results/before.image.zarr', \n",
    "    panel_model=panel_model,\n",
    "    parallel=True,\n",
    "    overwrite=True\n",
    ")\n",
    "after_panel = panel(\n",
    "    image_name='results/after.image.zarr', \n",
    "    panel_model=panel_model,\n",
    "    parallel=True,\n",
    "    overwrite=True\n",
    ")"
   ]
  },
  {
   "cell_type": "code",
   "execution_count": 8,
   "id": "1698423d",
   "metadata": {},
   "outputs": [],
   "source": [
    "beforescrews = resultsfolder+'/before-screws.txt'\n",
    "afterscrews = resultsfolder+'/after-screws.txt'\n",
    "before_ant = before_panel.review_antenna('ant_ea25', 'ddi_0')\n",
    "after_ant = after_panel.review_antenna('ant_ea25', 'ddi_0')\n",
    "\n",
    "before_ant.export_screws(beforescrews, unit=\"mils\")\n",
    "after_ant.export_screws(afterscrews, unit=\"mils\")"
   ]
  },
  {
   "cell_type": "code",
   "execution_count": 9,
   "id": "21d83487",
   "metadata": {},
   "outputs": [
    {
     "name": "stdout",
     "output_type": "stream",
     "text": [
      "No changes!\n"
     ]
    },
    {
     "name": "stderr",
     "output_type": "stream",
     "text": [
      "/var/folders/8r/qj_26x951lv2t2kmlm5b8kdh0000gp/T/ipykernel_12588/908213848.py:6: RuntimeWarning: divide by zero encountered in true_divide\n",
      "  ref_perce = (ref_means-expected)/expected*100.\n",
      "/var/folders/8r/qj_26x951lv2t2kmlm5b8kdh0000gp/T/ipykernel_12588/908213848.py:26: RuntimeWarning: divide by zero encountered in true_divide\n",
      "  percent = (means-expected)/expected*100.\n"
     ]
    }
   ],
   "source": [
    "import numpy as np\n",
    "panellist = ['3- 4', '5-27', '5-37', '5-38']\n",
    "expected  = np.array([-100, 75, 0, 150])\n",
    "\n",
    "ref_means = np.array([-112.28, 73.3025, -1.4, 139.125 ])\n",
    "ref_perce = (ref_means-expected)/expected*100.\n",
    "\n",
    "def extract_panel_data(fname, panellist):\n",
    "    data = open(fname, 'r')\n",
    "    panels = []\n",
    "    for line in data:\n",
    "        wrds = line.split('  ')\n",
    "        if wrds[0] in panellist:\n",
    "            nmbrs = line.split()\n",
    "            panel = [0, 0, 0, 0]\n",
    "            for i in range(4):\n",
    "                panel[-1-i] = float(nmbrs[-1-i])\n",
    "            panels.append(panel)\n",
    "    return np.array(panels)\n",
    "    \n",
    "def compare_before_after(panellist, expected): \n",
    "    after = extract_panel_data(afterscrews, panellist)\n",
    "    before = extract_panel_data(beforescrews, panellist)\n",
    "    diffs = after-before\n",
    "    means = np.mean(diffs, axis=1)\n",
    "    percent = (means-expected)/expected*100.\n",
    "    return means, percent\n",
    "\n",
    "def test_improvement(pname, diff, unit):\n",
    "    abso = np.abs(diff)\n",
    "    if abso > 1e-15:\n",
    "        if diff < 0:\n",
    "            print('Panel {0:s} has improved by {1:.2f} {2:s}'.format(pname, abso, unit))\n",
    "        else:\n",
    "            print('Panel {0:s} is worse by {1:.2f} {2:s}'.format(pname, abso, unit))\n",
    "    else:\n",
    "        print('Panel {0:s} is unchanged'.format(pname))\n",
    "\n",
    "def is_it_an_improvement(means, percent):\n",
    "    sumcomp = np.sum(ref_means-means)\n",
    "    if abs(sumcomp) < 1e-15:\n",
    "        print('No changes!')\n",
    "    else:\n",
    "        print('Results have changed')\n",
    "        for i in range(4):\n",
    "            pname = panellist[i]\n",
    "            if expected[i] == 0:\n",
    "                diff = means[i]-ref_means[i]\n",
    "                test_improvement(pname, diff, 'mils')\n",
    "            else:\n",
    "                diff = np.abs(percent[i]) - np.abs(ref_perce[i])\n",
    "                test_improvement(pname, diff, '%')\n",
    "\n",
    "\n",
    "                \n",
    "means, percent = compare_before_after(panellist, expected)\n",
    "is_it_an_improvement(means, percent)"
   ]
  },
  {
   "cell_type": "code",
   "execution_count": null,
   "id": "89de57a0-09cd-4036-a2dc-ac0a8df1f742",
   "metadata": {},
   "outputs": [],
   "source": []
  }
 ],
 "metadata": {
  "kernelspec": {
   "display_name": "Python 3 (ipykernel)",
   "language": "python",
   "name": "python3"
  },
  "language_info": {
   "codemirror_mode": {
    "name": "ipython",
    "version": 3
   },
   "file_extension": ".py",
   "mimetype": "text/x-python",
   "name": "python",
   "nbconvert_exporter": "python",
   "pygments_lexer": "ipython3",
   "version": "3.8.16"
  }
 },
 "nbformat": 4,
 "nbformat_minor": 5
}
