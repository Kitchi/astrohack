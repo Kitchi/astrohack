{
 "cells": [
  {
   "cell_type": "code",
   "execution_count": null,
   "id": "f1ac7ba0-048a-4c80-a978-ea87f07ecbff",
   "metadata": {
    "tags": []
   },
   "outputs": [],
   "source": [
    "!pip install -e .. > /dev/null 2>&1"
   ]
  },
  {
   "cell_type": "code",
   "execution_count": null,
   "id": "6b6c787b",
   "metadata": {
    "tags": []
   },
   "outputs": [],
   "source": [
    "import os\n",
    "import json\n",
    "import gdown\n",
    "import shutil\n",
    "import astrohack\n",
    "\n",
    "from astrohack.gdown_utils import gdown_data\n",
    "from astrohack.gdown_utils import build_folder_structure\n",
    "\n",
    "from astrohack.dio import open_pointing"
   ]
  },
  {
   "cell_type": "code",
   "execution_count": null,
   "id": "471bdb3d",
   "metadata": {
    "tags": []
   },
   "outputs": [],
   "source": [
    "# Build folder structure & download \n",
    "\n",
    "datafolder = 'data'\n",
    "resultsfolder = 'results'\n",
    "\n",
    "build_folder_structure(datafolder, resultsfolder)\n",
    "\n",
    "astrohack.gdown_utils.download('J1924-2914.ms.calibrated.split.SPW3', folder=datafolder, unpack=True)\n",
    "astrohack.gdown_utils.download(file='extract_holog_verification.json')\n",
    "astrohack.gdown_utils.download(file='holog_numerical_verification.json')"
   ]
  },
  {
   "cell_type": "code",
   "execution_count": null,
   "id": "daef9682",
   "metadata": {
    "tags": []
   },
   "outputs": [],
   "source": [
    "from astrohack.astrohack_client import astrohack_local_client\n",
    "\n",
    "log_parms = {'log_level':'DEBUG'}\n",
    "\n",
    "client = astrohack_local_client(cores=2, memory_limit='8GB', log_parms=log_parms)"
   ]
  },
  {
   "cell_type": "code",
   "execution_count": null,
   "id": "25c7f696-9494-44c3-8957-6eeccdef6565",
   "metadata": {
    "tags": []
   },
   "outputs": [],
   "source": [
    "def test_holog_obs_dictionary(holog_obs_dict):\n",
    "    import os\n",
    "    import json\n",
    "    import copy\n",
    "    \n",
    "    import numpy as np\n",
    "\n",
    "    from astrohack._utils._tools import _jsonify\n",
    "\n",
    "    ref_holog_obj = {}\n",
    "    ref_holog_obj = copy.deepcopy(holog_obs_dict)\n",
    "\n",
    "    _jsonify(ref_holog_obj)\n",
    "\n",
    "    with open(\".holog_obs_dict.json\") as json_file:\n",
    "        holog_obj = json.load(json_file)\n",
    "                          \n",
    "    assert holog_obj == ref_holog_obj, \"Error: holog_obs_descrition dictionary has changes unexpectedly.\"\n",
    "    \n",
    "def test_holog_diagnostics(cell_size, grid_size, number_of_digits=7):\n",
    "    import json\n",
    "    \n",
    "    with open(\".holog_diagnostic.json\") as json_file:\n",
    "        json_data = json.load(json_file)\n",
    "        \n",
    "    json_data['cell_size'] = [round(x, number_of_digits) for x in json_data['cell_size']]\n",
    "        \n",
    "    assert (json_data['cell_size'] == cell_size).all(), \"Unexpected change in cell_size occured.\"\n",
    "    assert (json_data['grid_size'] == grid_size).all(), \"Unexpected change in grid_size occured.\"\n",
    "\n",
    "    \n",
    "def test_center_pixel(file, antenna, ddi, reference_center_pixels, number_of_digits=7):\n",
    "    from astrohack.dio import open_image\n",
    "    \n",
    "    mds = open_image(file)[antenna][ddi]\n",
    "    \n",
    "    aperture_shape = mds.APERTURE.values.shape[-2], mds.APERTURE.values.shape[-1]\n",
    "    beam_shape = mds.BEAM.values.shape[-2], mds.BEAM.values.shape[-1]    \n",
    "    \n",
    "    aperture_center_pixels = np.squeeze(mds.APERTURE.values[..., aperture_shape[0]//2, aperture_shape[1]//2])\n",
    "    beam_center_pixels = np.squeeze(mds.BEAM.values[..., beam_shape[0]//2, beam_shape[1]//2])\n",
    "    \n",
    "    aperture_ref = list(map(complex, reference_center_pixels['aperture']))\n",
    "    beam_ref = list(map(complex, reference_center_pixels['beam']))\n",
    "    \n",
    "    for i in range(len(aperture_ref)):\n",
    "        # Should probably write a custom round function here\n",
    "        assert round(aperture_ref[i].real, number_of_digits) == round(aperture_center_pixels[i].real, number_of_digits), \"There has been a shift in aperture center pixel value(s)\"\n",
    "        assert round(beam_ref[i].real, number_of_digits) == round(beam_center_pixels[i].real, number_of_digits), \"There has been a shift in beam center pixel value(s)\"\n",
    "    \n",
    "        assert round(aperture_ref[i].imag, number_of_digits) == round(aperture_center_pixels[i].imag, number_of_digits), \"There has been a shift in aperture center pixel value(s)\"\n",
    "        assert round(beam_ref[i].imag, number_of_digits) == round(beam_center_pixels[i].imag, number_of_digits), \"There has been a shift in beam center pixel value(s)\"\n",
    "    \n",
    "def get_center_pixel(file, antenna, ddi):\n",
    "    from astrohack.dio import open_image\n",
    "    \n",
    "    mds = open_image(file)[antenna][ddi]\n",
    "    \n",
    "    aperture_shape = mds.APERTURE.values.shape[-2], mds.APERTURE.values.shape[-1]\n",
    "    beam_shape = mds.BEAM.values.shape[-2], mds.BEAM.values.shape[-1]    \n",
    "    \n",
    "    aperture_center_pixels = mds.APERTURE.values[..., aperture_shape[0]//2, aperture_shape[1]//2]\n",
    "    beam_center_pixels = mds.BEAM.values[..., beam_shape[0]//2, beam_shape[1]//2]\n",
    "    \n",
    "    return np.squeeze(aperture_center_pixels), np.squeeze(beam_center_pixels)"
   ]
  },
  {
   "cell_type": "code",
   "execution_count": null,
   "id": "06a89e52",
   "metadata": {
    "tags": []
   },
   "outputs": [],
   "source": [
    "import numpy as np\n",
    "\n",
    "from astrohack.extract_holog import extract_holog\n",
    "\n",
    "with open(\"extract_holog_verification.json\") as file:\n",
    "    json_dict = json.load(file)\n",
    "    \n",
    "holog_obs_dict = json_dict[\"alma\"]\n",
    "\n",
    "alma_ms = \"data/J1924-2914.ms.calibrated.split.SPW3\"\n",
    "alma_holog = 'results/alma.split.holog.zarr'\n",
    "\n",
    "extract_holog(\n",
    "    ms_name=alma_ms,\n",
    "    holog_name=alma_holog,\n",
    "    data_column='DATA',\n",
    "    parallel=False,\n",
    "    overwrite=True,\n",
    "    reuse_point_zarr=False\n",
    ")\n",
    "\n",
    "test_holog_obs_dictionary(holog_obs_dict)"
   ]
  },
  {
   "cell_type": "code",
   "execution_count": null,
   "id": "d856b328",
   "metadata": {
    "tags": []
   },
   "outputs": [],
   "source": [
    "import numpy as np\n",
    "from astrohack import holog\n",
    "\n",
    "with open(\"holog_numerical_verification.json\") as file:\n",
    "    reference_dict = json.load(file)\n",
    "\n",
    "grid_interpolation_mode = 'linear' #'nearest' 'linear' 'cubic'\n",
    "chan_average = True\n",
    "scan_average = True\n",
    "\n",
    "holog(\n",
    "    holog_name=alma_holog, \n",
    "    padding_factor=50, \n",
    "    grid_interpolation_mode=grid_interpolation_mode,\n",
    "    chan_average = chan_average,\n",
    "    scan_average = scan_average,\n",
    "    overwrite=True,\n",
    "    phase_fit=True,\n",
    "    apply_mask=True,\n",
    "    to_stokes=True,\n",
    "    parallel=True\n",
    ")\n",
    "    \n",
    "test_center_pixel(file=\"results/alma.split.image.zarr\", antenna=\"ant_DV13\", ddi=\"ddi_0\", reference_center_pixels=reference_dict[\"alma\"]['pixels'])\n",
    "\n",
    "test_holog_diagnostics(\n",
    "    cell_size = np.array(reference_dict[\"alma\"]['cell_size']),\n",
    "    grid_size = np.array(reference_dict[\"alma\"]['grid_size']),\n",
    "    number_of_digits=6\n",
    ")"
   ]
  },
  {
   "cell_type": "code",
   "execution_count": null,
   "id": "477cf776",
   "metadata": {
    "tags": []
   },
   "outputs": [],
   "source": [
    "import xarray as xr\n",
    "import matplotlib.pyplot as plt\n",
    "import scipy\n",
    "import matplotlib.patches as patches\n",
    "\n",
    "from scipy import constants\n",
    "\n",
    "from astrohack.dio import open_image\n",
    "\n",
    "alma_image = resultsfolder+'/alma.split.image.zarr'\n",
    "\n",
    "plt.close('all')\n",
    "\n",
    "chan = 0\n",
    "\n",
    "ds = open_image(\"results/alma.split.image.zarr\")['ant_DV13']['ddi_0']\n",
    "\n",
    "wavelength = scipy.constants.speed_of_light/ds.chan.values[chan]\n",
    "l = ds.l.values\n",
    "m = ds.m.values\n",
    "u = ds.u.values*wavelength\n",
    "v = ds.v.values*wavelength\n",
    "\n",
    "print(u.min(),u.max())\n",
    "\n",
    "plt.figure()\n",
    "plt.imshow(np.abs(ds.BEAM[0,chan,0,:,:]),extent=[l.min(), l.max(), m.min(), m.max()])\n",
    "plt.colorbar()\n",
    "plt.show()\n",
    "\n",
    "circle = patches.Circle((0,0), 12.5, fill=False, color='white', alpha=0.7, linewidth=2)\n",
    "\n",
    "fig, ax =plt.subplots()\n",
    "plt.imshow(np.abs(ds.APERTURE[0,chan,0,:,:]),extent=[u.min(), u.max(), v.min(), v.max()])\n",
    "\n",
    "plt.show()\n",
    "\n",
    "ds"
   ]
  },
  {
   "cell_type": "code",
   "execution_count": null,
   "id": "1ce05739",
   "metadata": {
    "tags": []
   },
   "outputs": [],
   "source": [
    "from astrohack.panel import panel\n",
    "\n",
    "panel_model = 'rigid'\n",
    "\n",
    "alma_panel = panel(\n",
    "    image_name=alma_image, \n",
    "    panel_model=panel_model,\n",
    "    parallel=True,\n",
    "    overwrite=True\n",
    ")"
   ]
  },
  {
   "cell_type": "code",
   "execution_count": null,
   "id": "61829e69-70c8-4600-89e4-fb1cc7b20b88",
   "metadata": {
    "tags": []
   },
   "outputs": [],
   "source": [
    "import numpy as np\n",
    "from astrohack.dio import open_panel\n",
    "\n",
    "def relative_difference(mean, expected):  \n",
    "    return 2*np.abs(mean - expected)/(abs(mean) + abs(expected))\n",
    "\n",
    "def verify_panel_positions(\n",
    "    panel_list=['3-11', '5-31', '7-52', '11-62'], \n",
    "    reference_position = np.array([-2.39678052, -0.87024129, 0.89391852, 0.48643069]),\n",
    "    antenna='ant_DV13',\n",
    "    ddi='ddi_0'\n",
    "):\n",
    "    \n",
    "    M_TO_MILS = 39370.1\n",
    "    \n",
    "    panel_mds = open_panel('results/alma.split.panel.zarr')\n",
    "    \n",
    "    panel_position = np.mean(panel_mds[antenna][ddi].sel(labels=panel_list).PANEL_SCREWS.values*M_TO_MILS, axis=1)\n",
    "\n",
    "    relative_position = relative_difference(panel_position, reference_position)\n",
    "    \n",
    "    if np.any(relative_position > 1e-6): \n",
    "        print(\"There were changes!\")\n",
    "        print(relative_position)    "
   ]
  },
  {
   "cell_type": "code",
   "execution_count": null,
   "id": "f901604c-76e6-4e71-b970-c127737426ee",
   "metadata": {
    "tags": []
   },
   "outputs": [],
   "source": [
    "verify_panel_positions(antenna='ant_DV13', ddi='ddi_0')"
   ]
  }
 ],
 "metadata": {
  "kernelspec": {
   "display_name": "Python 3 (ipykernel)",
   "language": "python",
   "name": "python3"
  },
  "language_info": {
   "codemirror_mode": {
    "name": "ipython",
    "version": 3
   },
   "file_extension": ".py",
   "mimetype": "text/x-python",
   "name": "python",
   "nbconvert_exporter": "python",
   "pygments_lexer": "ipython3",
   "version": "3.8.16"
  }
 },
 "nbformat": 4,
 "nbformat_minor": 5
}
