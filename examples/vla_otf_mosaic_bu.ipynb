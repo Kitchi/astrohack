{
 "cells": [
  {
   "cell_type": "code",
   "execution_count": null,
   "id": "8aac547b-c78d-4abb-8460-f5de9b4c79bd",
   "metadata": {},
   "outputs": [],
   "source": [
    "%load_ext autoreload\n",
    "%autoreload 2"
   ]
  },
  {
   "cell_type": "code",
   "execution_count": null,
   "id": "577375a1-d638-48e7-8220-d49d30e08f8f",
   "metadata": {},
   "outputs": [],
   "source": [
    "%matplotlib widget\n",
    "from astrohack._utils import _make_ant_pnt_dict\n",
    "ms_name = \"evla_bctest.ms\"\n",
    "pnt_name = \"evla.pnt.dict\"\n",
    "ant_dict = _make_ant_pnt_dict(ms_name,pnt_name,parallel=False)"
   ]
  },
  {
   "cell_type": "code",
   "execution_count": null,
   "id": "03ce7bd1-9c9b-47f7-b15b-42787319ee3e",
   "metadata": {},
   "outputs": [],
   "source": [
    "i = 0\n",
    "plt.figure()\n",
    "plt.scatter(ant_dict[i].DIRECTIONAL_COSINES[:,0].values,ant_dict[i].DIRECTIONAL_COSINES[:,1].values)\n",
    "plt.xlabel('l')\n",
    "plt.ylabel('m')\n",
    "plt.show()"
   ]
  },
  {
   "cell_type": "code",
   "execution_count": null,
   "id": "b45b7087-c7f3-4002-a09b-3548b502dffb",
   "metadata": {},
   "outputs": [],
   "source": [
    "ant_dict[0]"
   ]
  },
  {
   "cell_type": "code",
   "execution_count": null,
   "id": "05af0566-56fc-4f8e-9623-67061c00c061",
   "metadata": {},
   "outputs": [],
   "source": [
    "ant_dict\n",
    "\n",
    "import matplotlib.pyplot as plt\n",
    "\n",
    "plt.figure()\n",
    "for i in range(4):\n",
    "    print(ant_dict[i].DIRECTION.shape)\n",
    "    #plt.plot(ant_dict[i].time.values,ant_dict[i].DIRECTION[:,0].values,label='dir ' + str(i))\n",
    "    #plt.plot(ant_dict[i].time.values,ant_dict[i].ENCODER[:,0].values,label='enc ' + str(i))\n",
    "    #plt.plot(ant_dict[i].time.values,ant_dict[i].TARGET[:,0].values,label='tar ' + str(i))\n",
    "    plt.plot(ant_dict[i].time.values,ant_dict[i].DIRECTIONAL_COSINES[:,0].values,label='l ' + str(i))\n",
    "plt.legend()\n",
    "plt.show()\n",
    "    \n",
    "plt.figure()\n",
    "for i in range(4):   \n",
    "    #plt.plot(ant_dict[i].time.values,ant_dict[i].DIRECTION[:,1].values,label='dir ' + str(i))\n",
    "    #plt.plot(ant_dict[i].time.values,ant_dict[i].ENCODER[:,1].values,label='enc ' + str(i))\n",
    "    #plt.plot(ant_dict[i].time.values,ant_dict[i].TARGET[:,1].values,label='tar ' + str(i))\n",
    "    plt.plot(ant_dict[i].time.values,ant_dict[i].DIRECTIONAL_COSINES[:,1].values,label='m ' + str(i))\n",
    "plt.legend()\n",
    "plt.show()\n",
    "ant_dict.keys()\n",
    "\n",
    "\n"
   ]
  },
  {
   "cell_type": "code",
   "execution_count": null,
   "id": "0c8e284f-2032-4ab8-9ca0-a17ad86fe12c",
   "metadata": {},
   "outputs": [],
   "source": [
    "ant_dict\n",
    "\n",
    "import matplotlib.pyplot as plt\n",
    "\n",
    "plt.figure()\n",
    "for i in range(4):\n",
    "    print(ant_dict[i].DIRECTION.shape)\n",
    "    plt.scatter(ant_dict[i].DIRECTION[:,0].values,ant_dict[i].DIRECTION[:,1].values)\n",
    "plt.show()\n",
    "\n",
    "plt.figure()\n",
    "for i in range(4):\n",
    "    plt.scatter(ant_dict[i].TARGET[:,0].values,ant_dict[i].TARGET[:,1].values)\n",
    "plt.show()\n",
    "    \n",
    "plt.figure()\n",
    "for i in range(4):\n",
    "    print(ant_dict[i].DIRECTION.shape)\n",
    "    plt.scatter(ant_dict[i].ENCODER[:,0].values,ant_dict[i].ENCODER[:,1].values)\n",
    "plt.show()"
   ]
  },
  {
   "cell_type": "code",
   "execution_count": null,
   "id": "0016bbdc-75bb-42d8-8708-6a814569bff3",
   "metadata": {},
   "outputs": [],
   "source": [
    "from dask.distributed import Client, LocalCluster\n",
    "cluster = LocalCluster(n_workers=4, threads_per_worker=1, memory_limit='8GB')\n",
    "hack_client = Client(cluster)\n",
    "print(hack_client)"
   ]
  },
  {
   "cell_type": "code",
   "execution_count": null,
   "id": "6ffa094f-9190-4a42-b193-75a38b831b14",
   "metadata": {},
   "outputs": [],
   "source": [
    "ant_dict = _make_ant_pnt_dict(ms_name,pnt_name,parallel=True)"
   ]
  },
  {
   "cell_type": "code",
   "execution_count": null,
   "id": "f443cc30-4091-4843-922a-f3490d76666c",
   "metadata": {},
   "outputs": [],
   "source": [
    "ant_dict['0']"
   ]
  },
  {
   "cell_type": "code",
   "execution_count": null,
   "id": "86c99d16-5744-4969-b3a9-3829e336d700",
   "metadata": {},
   "outputs": [],
   "source": [
    "import time\n",
    "from astrohack._utils import _make_ant_pnt_dict\n",
    "ms_name = \"J1924-2914.ms.split.calibrated.SPW3\"\n",
    "pnt_name = \"alma.pnt.dict\"\n",
    "start = time.time()\n",
    "ant_dict = _make_ant_pnt_dict(ms_name,pnt_name,parallel=False)\n",
    "print(time.time()-start)"
   ]
  },
  {
   "cell_type": "code",
   "execution_count": null,
   "id": "59a5fc9f-051f-44e0-9f45-140850742ab8",
   "metadata": {},
   "outputs": [],
   "source": [
    "len(ant_dict.keys())"
   ]
  },
  {
   "cell_type": "code",
   "execution_count": null,
   "id": "e8262156-ffa4-4161-a744-d704e15c83da",
   "metadata": {},
   "outputs": [],
   "source": [
    "ant_dict\n",
    "\n",
    "import matplotlib.pyplot as plt\n",
    "\n",
    "plt.figure()\n",
    "for i in [0,20]:\n",
    "    print(ant_dict[i].DIRECTION.shape)\n",
    "    #plt.plot(ant_dict[i].time.values,ant_dict[i].DIRECTION[:,0].values,label='dir ' + str(i))\n",
    "    #plt.plot(ant_dict[i].time.values,ant_dict[i].ENCODER[:,0].values,label='enc ' + str(i))\n",
    "    #plt.plot(ant_dict[i].time.values,ant_dict[i].TARGET[:,0].values,label='tar ' + str(i))\n",
    "    plt.plot(ant_dict[i].time.values,ant_dict[i].DIRECTIONAL_COSINES[:,0].values,label='tar ' + str(i))\n",
    "plt.legend()\n",
    "plt.show()\n",
    "    \n",
    "plt.figure()\n",
    "for i in [0,20]:   \n",
    "    #plt.plot(ant_dict[i].time.values,ant_dict[i].DIRECTION[:,1].values,label='dir ' + str(i))\n",
    "    #plt.plot(ant_dict[i].time.values,ant_dict[i].ENCODER[:,1].values,label='enc ' + str(i))\n",
    "    #plt.plot(ant_dict[i].time.values,ant_dict[i].TARGET[:,1].values,label='tar ' + str(i))\n",
    "    plt.plot(ant_dict[i].time.values,ant_dict[i].DIRECTIONAL_COSINES[:,1].values,label='tar ' + str(i))\n",
    "plt.legend()\n",
    "plt.show()\n",
    "ant_dict.keys()"
   ]
  },
  {
   "cell_type": "code",
   "execution_count": null,
   "id": "df319696-dbca-4ca4-8d34-841f83e03b5e",
   "metadata": {},
   "outputs": [],
   "source": [
    "i = 0\n",
    "plt.figure()\n",
    "plt.scatter(ant_dict[i].DIRECTIONAL_COSINES[:,0].values,ant_dict[i].DIRECTIONAL_COSINES[:,1].values)\n",
    "plt.xlabel('l')\n",
    "plt.ylabel('m')\n",
    "plt.show()"
   ]
  },
  {
   "cell_type": "code",
   "execution_count": null,
   "id": "063c7651-0f2e-4343-a6da-dbbea28ae856",
   "metadata": {},
   "outputs": [],
   "source": [
    "a - 3"
   ]
  },
  {
   "cell_type": "code",
   "execution_count": null,
   "id": "ed156562-8ae4-493e-a3cd-29afb836ef35",
   "metadata": {},
   "outputs": [],
   "source": [
    "%load_ext autoreload\n",
    "%autoreload 2"
   ]
  },
  {
   "cell_type": "code",
   "execution_count": 2,
   "id": "697d26e4-b393-4bbc-9c6a-01526eb2c12a",
   "metadata": {},
   "outputs": [
    {
     "name": "stdout",
     "output_type": "stream",
     "text": [
      "/export/data_1/jsteeb/holog/J1924-2914.ms.split.calibrated.SPW3/DATA_DESCRIPTION\n",
      "Processing ddi: 0, scan: 2\n",
      "3.5034573078155518\n",
      "Time to unique 2  0.010533332824707031\n",
      "complex64\n",
      "Time to jit  16.174607038497925 (2401,) (1599066,)\n"
     ]
    },
    {
     "ename": "FileNotFoundError",
     "evalue": "[Errno 2] No such file or directory: '/export/data_1/jsteeb/holog/J1924-2914.ms.split.calibrated.SPW3.pnt.dict'",
     "output_type": "error",
     "traceback": [
      "\u001b[0;31m---------------------------------------------------------------------------\u001b[0m",
      "\u001b[0;31mFileNotFoundError\u001b[0m                         Traceback (most recent call last)",
      "Input \u001b[0;32mIn [2]\u001b[0m, in \u001b[0;36m<cell line: 7>\u001b[0;34m()\u001b[0m\n\u001b[1;32m      4\u001b[0m DV \u001b[38;5;241m=\u001b[39m [\u001b[38;5;124m'\u001b[39m\u001b[38;5;124mDV02\u001b[39m\u001b[38;5;124m'\u001b[39m, \u001b[38;5;124m'\u001b[39m\u001b[38;5;124mDV03\u001b[39m\u001b[38;5;124m'\u001b[39m, \u001b[38;5;124m'\u001b[39m\u001b[38;5;124mDV04\u001b[39m\u001b[38;5;124m'\u001b[39m, \u001b[38;5;124m'\u001b[39m\u001b[38;5;124mDV11\u001b[39m\u001b[38;5;124m'\u001b[39m, \u001b[38;5;124m'\u001b[39m\u001b[38;5;124mDV12\u001b[39m\u001b[38;5;124m'\u001b[39m, \u001b[38;5;124m'\u001b[39m\u001b[38;5;124mDV13\u001b[39m\u001b[38;5;124m'\u001b[39m, \u001b[38;5;124m'\u001b[39m\u001b[38;5;124mDV14\u001b[39m\u001b[38;5;124m'\u001b[39m, \u001b[38;5;124m'\u001b[39m\u001b[38;5;124mDV15\u001b[39m\u001b[38;5;124m'\u001b[39m, \u001b[38;5;124m'\u001b[39m\u001b[38;5;124mDV16\u001b[39m\u001b[38;5;124m'\u001b[39m, \u001b[38;5;124m'\u001b[39m\u001b[38;5;124mDV17\u001b[39m\u001b[38;5;124m'\u001b[39m, \u001b[38;5;124m'\u001b[39m\u001b[38;5;124mDV18\u001b[39m\u001b[38;5;124m'\u001b[39m, \u001b[38;5;124m'\u001b[39m\u001b[38;5;124mDV19\u001b[39m\u001b[38;5;124m'\u001b[39m, \u001b[38;5;124m'\u001b[39m\u001b[38;5;124mDV20\u001b[39m\u001b[38;5;124m'\u001b[39m, \u001b[38;5;124m'\u001b[39m\u001b[38;5;124mDV21\u001b[39m\u001b[38;5;124m'\u001b[39m, \u001b[38;5;124m'\u001b[39m\u001b[38;5;124mDV22\u001b[39m\u001b[38;5;124m'\u001b[39m, \u001b[38;5;124m'\u001b[39m\u001b[38;5;124mDV23\u001b[39m\u001b[38;5;124m'\u001b[39m, \u001b[38;5;124m'\u001b[39m\u001b[38;5;124mDV24\u001b[39m\u001b[38;5;124m'\u001b[39m, \u001b[38;5;124m'\u001b[39m\u001b[38;5;124mDV25\u001b[39m\u001b[38;5;124m'\u001b[39m] \n\u001b[1;32m      5\u001b[0m holog_obs_description \u001b[38;5;241m=\u001b[39m {\u001b[38;5;241m0\u001b[39m:{\u001b[38;5;241m2\u001b[39m:{\u001b[38;5;124m'\u001b[39m\u001b[38;5;124mmap\u001b[39m\u001b[38;5;124m'\u001b[39m:DV,\u001b[38;5;124m'\u001b[39m\u001b[38;5;124mref\u001b[39m\u001b[38;5;124m'\u001b[39m:DA}, \u001b[38;5;241m6\u001b[39m:{\u001b[38;5;124m'\u001b[39m\u001b[38;5;124mmap\u001b[39m\u001b[38;5;124m'\u001b[39m:DV,\u001b[38;5;124m'\u001b[39m\u001b[38;5;124mref\u001b[39m\u001b[38;5;124m'\u001b[39m:DA}, \u001b[38;5;241m10\u001b[39m:{\u001b[38;5;124m'\u001b[39m\u001b[38;5;124mmap\u001b[39m\u001b[38;5;124m'\u001b[39m:DV,\u001b[38;5;124m'\u001b[39m\u001b[38;5;124mref\u001b[39m\u001b[38;5;124m'\u001b[39m:DA},\u001b[38;5;241m4\u001b[39m:{\u001b[38;5;124m'\u001b[39m\u001b[38;5;124mmap\u001b[39m\u001b[38;5;124m'\u001b[39m:DA,\u001b[38;5;124m'\u001b[39m\u001b[38;5;124mref\u001b[39m\u001b[38;5;124m'\u001b[39m:DV}, \u001b[38;5;241m8\u001b[39m:{\u001b[38;5;124m'\u001b[39m\u001b[38;5;124mmap\u001b[39m\u001b[38;5;124m'\u001b[39m:DA,\u001b[38;5;124m'\u001b[39m\u001b[38;5;124mref\u001b[39m\u001b[38;5;124m'\u001b[39m:DV}, \u001b[38;5;241m12\u001b[39m:{\u001b[38;5;124m'\u001b[39m\u001b[38;5;124mmap\u001b[39m\u001b[38;5;124m'\u001b[39m:DA,\u001b[38;5;124m'\u001b[39m\u001b[38;5;124mref\u001b[39m\u001b[38;5;124m'\u001b[39m:DV}}} \u001b[38;5;66;03m# DDI:{SCAN:{map:[ant names],ref:[ant names]}}\u001b[39;00m\n\u001b[0;32m----> 7\u001b[0m \u001b[43mholog\u001b[49m\u001b[43m(\u001b[49m\u001b[43mms_name\u001b[49m\u001b[43m,\u001b[49m\u001b[43mholog_obs_description\u001b[49m\u001b[43m,\u001b[49m\u001b[43mdata_col\u001b[49m\u001b[38;5;241;43m=\u001b[39;49m\u001b[38;5;124;43m'\u001b[39;49m\u001b[38;5;124;43mDATA\u001b[39;49m\u001b[38;5;124;43m'\u001b[39;49m\u001b[43m,\u001b[49m\u001b[43mparallel\u001b[49m\u001b[38;5;241;43m=\u001b[39;49m\u001b[38;5;28;43;01mFalse\u001b[39;49;00m\u001b[43m)\u001b[49m\n",
      "File \u001b[0;32m~/astrohack/src/astrohack/holog.py:361\u001b[0m, in \u001b[0;36mholog\u001b[0;34m(ms_name, holog_obs_dict, data_col, subscan_intent, parallel)\u001b[0m\n\u001b[1;32m    358\u001b[0m             map_ant_ids \u001b[38;5;241m=\u001b[39m np\u001b[38;5;241m.\u001b[39mnonzero(np\u001b[38;5;241m.\u001b[39min1d(ant_name, holog_obs_dict[ddi][scan][\u001b[38;5;124m'\u001b[39m\u001b[38;5;124mmap\u001b[39m\u001b[38;5;124m'\u001b[39m]))[\u001b[38;5;241m0\u001b[39m]\n\u001b[1;32m    359\u001b[0m             ref_ant_ids \u001b[38;5;241m=\u001b[39m np\u001b[38;5;241m.\u001b[39mnonzero(np\u001b[38;5;241m.\u001b[39min1d(ant_name, holog_obs_dict[ddi][scan][\u001b[38;5;124m'\u001b[39m\u001b[38;5;124mref\u001b[39m\u001b[38;5;124m'\u001b[39m]))[\u001b[38;5;241m0\u001b[39m]        \n\u001b[0;32m--> 361\u001b[0m             \u001b[38;5;28;01mreturn\u001b[39;00m \u001b[43mholog_chunk\u001b[49m\u001b[43m(\u001b[49m\u001b[43mms_name\u001b[49m\u001b[43m,\u001b[49m\u001b[43m \u001b[49m\u001b[43mdata_col\u001b[49m\u001b[43m,\u001b[49m\u001b[43m \u001b[49m\u001b[43mddi\u001b[49m\u001b[43m,\u001b[49m\u001b[43m \u001b[49m\u001b[43mscan\u001b[49m\u001b[43m,\u001b[49m\u001b[43m \u001b[49m\u001b[43mmap_ant_ids\u001b[49m\u001b[43m,\u001b[49m\u001b[43m \u001b[49m\u001b[43mref_ant_ids\u001b[49m\u001b[43m,\u001b[49m\u001b[43m \u001b[49m\u001b[43mstate_ids\u001b[49m\u001b[43m)\u001b[49m\n\u001b[1;32m    362\u001b[0m \u001b[38;5;124;03m'''\u001b[39;00m\n\u001b[1;32m    363\u001b[0m \u001b[38;5;124;03mif parallel:\u001b[39;00m\n\u001b[1;32m    364\u001b[0m \u001b[38;5;124;03m    delayed_list = []\u001b[39;00m\n\u001b[0;32m   (...)\u001b[0m\n\u001b[1;32m    371\u001b[0m \u001b[38;5;124;03m            extract_holog(ms_name,data_col,i_d)\u001b[39;00m\n\u001b[1;32m    372\u001b[0m \u001b[38;5;124;03m'''\u001b[39;00m\n\u001b[1;32m    373\u001b[0m \u001b[38;5;66;03m#return _load_pnt_dict(pnt_name)\u001b[39;00m\n\u001b[1;32m    374\u001b[0m \n\u001b[1;32m    375\u001b[0m \n\u001b[0;32m   (...)\u001b[0m\n\u001b[1;32m    380\u001b[0m \u001b[38;5;66;03m#(4, 64, 3230766)\u001b[39;00m\n\u001b[1;32m    381\u001b[0m \u001b[38;5;66;03m#        3230766\u001b[39;00m\n",
      "File \u001b[0;32m~/astrohack/src/astrohack/holog.py:217\u001b[0m, in \u001b[0;36mholog_chunk\u001b[0;34m(ms_name, data_col, ddi, scan, map_ant_ids, ref_ant_ids, sel_state_ids)\u001b[0m\n\u001b[1;32m    214\u001b[0m \u001b[38;5;28mprint\u001b[39m(\u001b[38;5;124m'\u001b[39m\u001b[38;5;124mTime to jit \u001b[39m\u001b[38;5;124m'\u001b[39m,time\u001b[38;5;241m.\u001b[39mtime()\u001b[38;5;241m-\u001b[39mstart,time_vis\u001b[38;5;241m.\u001b[39mshape,time_vis_row\u001b[38;5;241m.\u001b[39mshape)\n\u001b[1;32m    216\u001b[0m \u001b[38;5;66;03m#pnt_ant_dict = _load_pnt_dict(...)\u001b[39;00m\n\u001b[0;32m--> 217\u001b[0m pnt_ant_dict \u001b[38;5;241m=\u001b[39m \u001b[43m_load_pnt_dict\u001b[49m\u001b[43m(\u001b[49m\u001b[38;5;124;43m'\u001b[39;49m\u001b[38;5;124;43m.\u001b[39;49m\u001b[38;5;124;43m'\u001b[39;49m\u001b[38;5;241;43m.\u001b[39;49m\u001b[43mjoin\u001b[49m\u001b[43m(\u001b[49m\u001b[43m(\u001b[49m\u001b[43mms_name\u001b[49m\u001b[43m,\u001b[49m\u001b[43m \u001b[49m\u001b[38;5;124;43m'\u001b[39;49m\u001b[38;5;124;43mpnt.dict\u001b[39;49m\u001b[38;5;124;43m'\u001b[39;49m\u001b[43m)\u001b[49m\u001b[43m)\u001b[49m\u001b[43m)\u001b[49m\n\u001b[1;32m    219\u001b[0m \u001b[38;5;66;03m# pnt_map_dict = _extract_pointing_chunk(map_ant_ids, time_vis, pnt_ant_dict)\u001b[39;00m\n\u001b[1;32m    220\u001b[0m \u001b[38;5;66;03m# >> map_ant_ids: list of antenna ids\u001b[39;00m\n\u001b[1;32m    221\u001b[0m \u001b[38;5;66;03m# >> time_vis: sorted, unique list of visibility times: MAIN table values\u001b[39;00m\n\u001b[1;32m    222\u001b[0m \u001b[38;5;66;03m# >> pnt_ant_dict: pointing directions mapped on antenna id [ant_id]->xarray.DIRECTIONAL_COSINES(time, direction) for instance : POINTING tables values\u001b[39;00m\n\u001b[1;32m    224\u001b[0m pnt_map_dict \u001b[38;5;241m=\u001b[39m _extract_pointing_chunk(map_ant_ids, time_vis, pnt_ant_dict)\n",
      "File \u001b[0;32m~/astrohack/src/astrohack/_utils/convert_ms.py:23\u001b[0m, in \u001b[0;36m_load_pnt_dict\u001b[0;34m(file)\u001b[0m\n\u001b[1;32m     14\u001b[0m \u001b[38;5;124;03m\"\"\"_summary_\u001b[39;00m\n\u001b[1;32m     15\u001b[0m \n\u001b[1;32m     16\u001b[0m \u001b[38;5;124;03mArgs:\u001b[39;00m\n\u001b[0;32m   (...)\u001b[0m\n\u001b[1;32m     20\u001b[0m \u001b[38;5;124;03m    dict: Pointing dictionary\u001b[39;00m\n\u001b[1;32m     21\u001b[0m \u001b[38;5;124;03m\"\"\"\u001b[39;00m\n\u001b[1;32m     22\u001b[0m pnt_dict \u001b[38;5;241m=\u001b[39m {}\n\u001b[0;32m---> 23\u001b[0m \u001b[38;5;28;01mfor\u001b[39;00m f \u001b[38;5;129;01min\u001b[39;00m \u001b[43mos\u001b[49m\u001b[38;5;241;43m.\u001b[39;49m\u001b[43mlistdir\u001b[49m\u001b[43m(\u001b[49m\u001b[43mfile\u001b[49m\u001b[43m)\u001b[49m:\n\u001b[1;32m     25\u001b[0m     \u001b[38;5;28;01mif\u001b[39;00m f\u001b[38;5;241m.\u001b[39misnumeric():\n\u001b[1;32m     26\u001b[0m         pnt_dict[\u001b[38;5;28mint\u001b[39m(f)] \u001b[38;5;241m=\u001b[39m  xr\u001b[38;5;241m.\u001b[39mopen_zarr(os\u001b[38;5;241m.\u001b[39mpath\u001b[38;5;241m.\u001b[39mjoin(file, f))\n",
      "\u001b[0;31mFileNotFoundError\u001b[0m: [Errno 2] No such file or directory: '/export/data_1/jsteeb/holog/J1924-2914.ms.split.calibrated.SPW3.pnt.dict'"
     ]
    }
   ],
   "source": [
    "from astrohack import holog\n",
    "ms_name = \"/export/data_1/jsteeb/holog/J1924-2914.ms.split.calibrated.SPW3\"\n",
    "DA = ['DA41', 'DA42', 'DA43', 'DA44', 'DA45', 'DA46', 'DA48', 'DA49', 'DA50', 'DA51', 'DA52', 'DA53', 'DA54', 'DA55', 'DA56', 'DA57', 'DA58', 'DA59']\n",
    "DV = ['DV02', 'DV03', 'DV04', 'DV11', 'DV12', 'DV13', 'DV14', 'DV15', 'DV16', 'DV17', 'DV18', 'DV19', 'DV20', 'DV21', 'DV22', 'DV23', 'DV24', 'DV25'] \n",
    "holog_obs_description = {0:{2:{'map':DV,'ref':DA}, 6:{'map':DV,'ref':DA}, 10:{'map':DV,'ref':DA},4:{'map':DA,'ref':DV}, 8:{'map':DA,'ref':DV}, 12:{'map':DA,'ref':DV}}} # DDI:{SCAN:{map:[ant names],ref:[ant names]}}\n",
    "\n",
    "holog(ms_name,holog_obs_description,data_col='DATA',parallel=False)"
   ]
  },
  {
   "cell_type": "code",
   "execution_count": null,
   "id": "49f0a7cc-780e-48f6-a492-ddb981a013be",
   "metadata": {},
   "outputs": [],
   "source": []
  },
  {
   "cell_type": "code",
   "execution_count": null,
   "id": "e7bebdbd-73f6-4e51-9ddc-e0e8bcd88534",
   "metadata": {},
   "outputs": [],
   "source": [
    "import time\n",
    "from astrohack._utils import _make_ant_pnt_dict, _load_pnt_dict\n",
    "ant_id = 1\n",
    "\n",
    "ant_dict = _load_pnt_dict('/export/data_1/jsteeb/holog/alma.pnt.dict')\n",
    "\n",
    "pnt = ant_dict[ant_id].DIRECTIONAL_COSINES\n",
    "\n",
    "import matplotlib.pyplot as plt\n",
    "plt.figure()\n",
    "plt.plot(pnt)\n",
    "plt.show()\n",
    "\n",
    "\n",
    "plt.figure()\n",
    "plt.plot(pnt[10320:19924,:])\n",
    "plt.show()\n",
    "\n",
    "plt.figure()\n",
    "plt.plot(pnt[30344:39948,:])\n",
    "plt.show()\n",
    "\n",
    "plt.figure()\n",
    "plt.plot(pnt[50368:59972,:])\n",
    "plt.show()\n",
    "\n",
    "plt.figure()\n",
    "plt.scatter(pnt[10320:19924,0],pnt[10320:19924,1])\n",
    "plt.show()\n",
    "\n",
    "plt.figure()\n",
    "plt.scatter(pnt[30344:39948,0],pnt[30344:39948,1])\n",
    "plt.show()\n",
    "\n",
    "plt.figure()\n",
    "plt.scatter(pnt[50368:59972,0],pnt[50368:59972,1])\n",
    "plt.show()\n",
    "\n"
   ]
  },
  {
   "cell_type": "code",
   "execution_count": null,
   "id": "06687e12-159e-4a09-858e-a750c68118f3",
   "metadata": {},
   "outputs": [],
   "source": []
  }
 ],
 "metadata": {
  "kernelspec": {
   "display_name": "Python 3 (ipykernel)",
   "language": "python",
   "name": "python3"
  },
  "language_info": {
   "codemirror_mode": {
    "name": "ipython",
    "version": 3
   },
   "file_extension": ".py",
   "mimetype": "text/x-python",
   "name": "python",
   "nbconvert_exporter": "python",
   "pygments_lexer": "ipython3",
   "version": "3.8.13"
  }
 },
 "nbformat": 4,
 "nbformat_minor": 5
}
