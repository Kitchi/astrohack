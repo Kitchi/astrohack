{
 "cells": [
  {
   "cell_type": "code",
   "execution_count": null,
   "id": "556919e8",
   "metadata": {},
   "outputs": [],
   "source": [
    "!pip install -e .."
   ]
  },
  {
   "cell_type": "code",
   "execution_count": null,
   "id": "c7d68f2c",
   "metadata": {},
   "outputs": [],
   "source": [
    "import os\n",
    "import gdown\n",
    "import tarfile\n",
    "import shutil\n",
    "import dask\n",
    "import requests\n",
    "import time\n",
    "import psutil\n",
    "\n",
    "import numpy as np\n",
    "import matplotlib.pyplot as plt\n",
    "\n",
    "from astrohack.dio import extract_holog\n",
    "from astrohack.dio import load_hack_file\n",
    "from astrohack._utils._io import _make_ant_pnt_dict\n",
    "\n",
    "from dask.distributed import Client, LocalCluster\n",
    "\n",
    "plt.rcParams[\"figure.figsize\"] = (15, 15)"
   ]
  },
  {
   "cell_type": "code",
   "execution_count": null,
   "id": "049390dc",
   "metadata": {},
   "outputs": [],
   "source": [
    "def performace(func):\n",
    "    def wrapper(*args, **kwargs):\n",
    "        start = time.time()\n",
    "        func(*args, **kwargs)\n",
    "        stop = time.time()\n",
    "        print(\"Completion time: {}\".format(stop - start))\n",
    "    return wrapper\n",
    "\n",
    "def get_max_memory_allocation():\n",
    "    memory_string = str(int((psutil.virtual_memory().total/1e9)/os.cpu_count()))\n",
    "    return \"\".join((memory_string, 'GB'))\n",
    "\n",
    "def get_example_data():\n",
    "    google_file_id = '1zpOtduyXtbh0wg0s5KWYuEMy7roGq92a'\n",
    "    output = 'alma_band3.calibrated.DV16.ms.tar'\n",
    "    path = \"/\".join((os.getcwd(), output))\n",
    "    \n",
    "    download_file_from_google_drive(\n",
    "        id=google_file_id,\n",
    "        destination=path\n",
    "    )\n",
    "\n",
    "    \n",
    "    tar = tarfile.open(path)\n",
    "    tar.extractall()\n",
    "    tar.close()\n",
    "    \n",
    "    os.remove(path)\n",
    "    \n",
    "    return path.split('.tar')[0]\n",
    "\n",
    "\n",
    "\n",
    "def download_file_from_google_drive(id, destination):\n",
    "    URL = \"https://docs.google.com/uc?export=download\"\n",
    "\n",
    "    session = requests.Session()\n",
    "\n",
    "    response = session.get(URL, params = { 'id' : id , 'confirm': 1 }, stream = True)\n",
    "    token = get_confirm_token(response)\n",
    "\n",
    "    if token:\n",
    "        params = { 'id' : id, 'confirm' : token }\n",
    "        response = session.get(URL, params = params, stream = True)\n",
    "\n",
    "    save_response_content(response, destination)    \n",
    "\n",
    "def get_confirm_token(response):\n",
    "    for key, value in response.cookies.items():\n",
    "        if key.startswith('download_warning'):\n",
    "            return value\n",
    "\n",
    "    return None\n",
    "\n",
    "def save_response_content(response, destination):\n",
    "    CHUNK_SIZE = 32768\n",
    "\n",
    "    with open(destination, \"wb\") as f:\n",
    "        for chunk in response.iter_content(CHUNK_SIZE):\n",
    "            if chunk: # filter out keep-alive new chunks\n",
    "                f.write(chunk)"
   ]
  },
  {
   "cell_type": "code",
   "execution_count": null,
   "id": "3cbd1a4c",
   "metadata": {},
   "outputs": [],
   "source": [
    "ms_name = get_example_data()"
   ]
  },
  {
   "cell_type": "code",
   "execution_count": null,
   "id": "2876e7b2",
   "metadata": {},
   "outputs": [],
   "source": [
    "cluster = LocalCluster(\n",
    "    n_workers=6,\n",
    "    threads_per_worker=1,\n",
    "    memory_limit='8GB'\n",
    ")\n",
    "\n",
    "client = Client(cluster)\n",
    "print(client.dashboard_link)"
   ]
  },
  {
   "cell_type": "code",
   "execution_count": null,
   "id": "169d6e30",
   "metadata": {},
   "outputs": [],
   "source": [
    "DA = ['DA41', 'DA42', 'DA43', 'DA44', 'DA45', 'DA46', 'DA48', 'DA49', 'DA50', 'DA51', 'DA52', 'DA53', 'DA54', 'DA55', 'DA56', 'DA57', 'DA58', 'DA59']\n",
    "DV = ['DV02', 'DV03', 'DV04', 'DV11', 'DV12', 'DV13', 'DV14', 'DV15', 'DV16', 'DV17', 'DV18', 'DV19', 'DV20', 'DV21', 'DV22', 'DV23', 'DV24', 'DV25'] \n",
    "\n",
    "holog_obs_description = {\n",
    "    0:{\n",
    "        2:{\n",
    "            'map':DV,\n",
    "            'ref':DA\n",
    "        } \n",
    "    }\n",
    "}\n",
    "\n",
    "start = time.time()\n",
    "extract_holog(\n",
    "    ms_name=ms_name,\n",
    "    hack_name='hack.dict',\n",
    "    holog_obs_dict=holog_obs_description,\n",
    "    data_col='DATA',\n",
    "    subscan_intent='MIXED',\n",
    "    parallel=True\n",
    ")\n",
    "print(time.time() - start)"
   ]
  },
  {
   "cell_type": "code",
   "execution_count": null,
   "id": "5d161f47",
   "metadata": {},
   "outputs": [],
   "source": [
    "hack = load_hack_file('hack.dict')"
   ]
  },
  {
   "cell_type": "code",
   "execution_count": null,
   "id": "4a4f559e-d281-4a83-addc-555fee6a272e",
   "metadata": {},
   "outputs": [],
   "source": [
    "time = hack[0][2][26].time.values\n",
    "l = hack[0][2][26].DIRECTIONAL_COSINES[:, 0]\n",
    "m = hack[0][2][26].DIRECTIONAL_COSINES[:, 1]"
   ]
  },
  {
   "cell_type": "code",
   "execution_count": null,
   "id": "7aaadd76-54cf-4dec-b298-ba4e38fd393f",
   "metadata": {},
   "outputs": [],
   "source": [
    "fig, ax = plt.subplots(nrows=2, ncols=1)\n",
    "\n",
    "ax[0].scatter(l, m)\n",
    "ax[0].set_xlabel('DIRECTIONAL COSINE(L)')\n",
    "ax[0].set_ylabel('DIRECTIONAL COSINE(M)')\n",
    "\n",
    "ax[1].scatter(time, l, label='L')\n",
    "ax[1].scatter(time, m, label='M')\n",
    "\n",
    "ax[1].set_xlabel('time')\n",
    "ax[1].set_ylabel('DIRECTIONAL COSINES(L, M)')\n",
    "\n",
    "ax[1].legend(bbox_to_anchor=(1.02, 1.0), loc='upper left', borderaxespad=0.)\n",
    "\n",
    "plt.show()"
   ]
  }
 ],
 "metadata": {
  "kernelspec": {
   "display_name": "Python 3 (ipykernel)",
   "language": "python",
   "name": "python3"
  },
  "language_info": {
   "codemirror_mode": {
    "name": "ipython",
    "version": 3
   },
   "file_extension": ".py",
   "mimetype": "text/x-python",
   "name": "python",
   "nbconvert_exporter": "python",
   "pygments_lexer": "ipython3",
   "version": "3.8.13"
  }
 },
 "nbformat": 4,
 "nbformat_minor": 5
}
