{
 "cells": [
  {
   "cell_type": "code",
   "execution_count": null,
   "id": "df3cb84b",
   "metadata": {},
   "outputs": [],
   "source": [
    "import gdown\n",
    "import shutil\n",
    "from astrohack import panel\n",
    "import os"
   ]
  },
  {
   "cell_type": "code",
   "execution_count": null,
   "id": "81032f79",
   "metadata": {},
   "outputs": [],
   "source": [
    "# Download VLA Holography with known panel deviationsurl = \"https://drive.google.com/u/1/uc?id=10fXyut_UHPUjIuaaEy6-m6wcycZHit2v&export=download\"\n",
    "datafolder = \"./paneldata/\"\n",
    "os.makedirs(name=datafolder, exist_ok=True)\n",
    "panelzip = datafolder+\"panel.zip\"\n",
    "if not os.path.exists(panelzip):\n",
    "    url = \"https://drive.google.com/u/1/uc?id=10fXyut_UHPUjIuaaEy6-m6wcycZHit2v&export=download\"\n",
    "    gdown.download(url, panelzip)\n",
    "shutil.unpack_archive(filename=panelzip, extract_dir=datafolder)"
   ]
  },
  {
   "cell_type": "code",
   "execution_count": null,
   "id": "ae59e3f6",
   "metadata": {},
   "outputs": [],
   "source": [
    "# Declare a path to the Amplitude and Deviation images produced by AIPS\n",
    "npoints = 43\n",
    "telescope = 'VLA'\n",
    "# Create a new Antenna_Surface\n",
    "vla = panel.Antenna_Surface(datafolder+'amp.fits',datafolder+'dev.fits',\n",
    "                            npoints,telescope)"
   ]
  },
  {
   "cell_type": "code",
   "execution_count": null,
   "id": "73bb3752",
   "metadata": {},
   "outputs": [],
   "source": [
    "%%time\n",
    "# Compile the list of points inside each panel, this is the longest step\n",
    "vla.compile_panel_points()"
   ]
  },
  {
   "cell_type": "code",
   "execution_count": null,
   "id": "7ca18e23",
   "metadata": {},
   "outputs": [],
   "source": [
    "%%time \n",
    "# Fit surface to get the parameters for each panel\n",
    "vla.fit_surface()"
   ]
  },
  {
   "cell_type": "code",
   "execution_count": null,
   "id": "cc1f4a98",
   "metadata": {},
   "outputs": [],
   "source": [
    "%%time\n",
    "# Apply corrections to create a new antenna surface\n",
    "vla.correct_surface()"
   ]
  },
  {
   "cell_type": "code",
   "execution_count": null,
   "id": "a293f149",
   "metadata": {},
   "outputs": [],
   "source": [
    "# Compute the gains at a wavelenght as well as the antenna surface RMSes\n",
    "wave = 1 # Unit may be cm or mm still not clear\n",
    "ingains, ougains = vla.gains(wave)\n",
    "inrms, ourms     = vla.get_rms()\n",
    "print(\"Gains before correction: Real: {0:7.3} dB, Theoretical: {1:7.3} dB\".format(*ingains))\n",
    "print(\"RMS before correction: {0:7.3} mm\".format(inrms))\n",
    "print()\n",
    "print(\"Gains after correction: Real: {0:7.3} dB, Theoretical: {1:7.3} dB\".format(*ougains))\n",
    "print(\"RMS after correction: {0:7.3} mm\".format(ourms))"
   ]
  },
  {
   "cell_type": "code",
   "execution_count": null,
   "id": "dcab4846",
   "metadata": {},
   "outputs": [],
   "source": [
    "vla.plot_surface()"
   ]
  },
  {
   "cell_type": "code",
   "execution_count": null,
   "id": "88a039a6",
   "metadata": {},
   "outputs": [],
   "source": [
    "# Export products of the panel fitting\n",
    "vla.export_screw_adjustments(datafolder+'screw-adjustments.txt')\n",
    "vla.export_corrected(datafolder+'corrected-surface.fits')"
   ]
  },
  {
   "cell_type": "code",
   "execution_count": null,
   "id": "3b6e6842",
   "metadata": {},
   "outputs": [],
   "source": []
  }
 ],
 "metadata": {
  "kernelspec": {
   "display_name": "Python 3 (ipykernel)",
   "language": "python",
   "name": "python3"
  },
  "language_info": {
   "codemirror_mode": {
    "name": "ipython",
    "version": 3
   },
   "file_extension": ".py",
   "mimetype": "text/x-python",
   "name": "python",
   "nbconvert_exporter": "python",
   "pygments_lexer": "ipython3",
   "version": "3.8.15"
  }
 },
 "nbformat": 4,
 "nbformat_minor": 5
}
