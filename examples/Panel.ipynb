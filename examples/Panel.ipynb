{
 "cells": [
  {
   "cell_type": "code",
   "execution_count": 1,
   "id": "b5b3c2d4",
   "metadata": {},
   "outputs": [
    {
     "name": "stdout",
     "output_type": "stream",
     "text": [
      "Obtaining file:///export/home/figs/vdesouza/work/Holography-1022/astrohack\n",
      "  Installing build dependencies ... \u001b[?25ldone\n",
      "\u001b[?25h  Checking if build backend supports build_editable ... \u001b[?25ldone\n",
      "\u001b[?25h  Getting requirements to build editable ... \u001b[?25ldone\n",
      "\u001b[?25h  Preparing editable metadata (pyproject.toml) ... \u001b[?25ldone\n",
      "\u001b[?25hBuilding wheels for collected packages: astrohack\n",
      "  Building editable for astrohack (pyproject.toml) ... \u001b[?25ldone\n",
      "\u001b[?25h  Created wheel for astrohack: filename=astrohack-0.0.1-py3-none-any.whl size=1061 sha256=59f59d1e6272b2f472c5ed799d07c7c8fb2fa0681314ade2716b2f218436951c\n",
      "  Stored in directory: /tmp/pip-ephem-wheel-cache-7g2h16bq/wheels/93/bb/ed/46bdf801cce81c3aea69f1f4af83e386e0f89149047ab78ae0\n",
      "Successfully built astrohack\n",
      "Installing collected packages: astrohack\n",
      "  Attempting uninstall: astrohack\n",
      "    Found existing installation: astrohack 0.0.1\n",
      "    Uninstalling astrohack-0.0.1:\n",
      "      Successfully uninstalled astrohack-0.0.1\n",
      "Successfully installed astrohack-0.0.1\n"
     ]
    }
   ],
   "source": [
    "!pip install -e .."
   ]
  },
  {
   "cell_type": "code",
   "execution_count": 2,
   "id": "df3cb84b",
   "metadata": {},
   "outputs": [],
   "source": [
    "import gdown\n",
    "import shutil\n",
    "from astrohack.panel import panel\n",
    "from astrohack._utils._io import _aips_holog_to_xds\n",
    "import os\n",
    "from dask.distributed import Client, LocalCluster"
   ]
  },
  {
   "cell_type": "code",
   "execution_count": 3,
   "id": "fe305ed4",
   "metadata": {},
   "outputs": [],
   "source": [
    "# Download VLA Holography with known panel deviations\n",
    "datafolder = \"./paneldata/\"\n",
    "os.makedirs(name=datafolder, exist_ok=True)\n",
    "panelzip = datafolder+\"panel.zip\"\n",
    "if not os.path.exists(panelzip):\n",
    "    url = \"https://drive.google.com/u/1/uc?id=10fXyut_UHPUjIuaaEy6-m6wcycZHit2v&export=download\"\n",
    "    gdown.download(url, panelzip)\n",
    "shutil.unpack_archive(filename=panelzip, extract_dir=datafolder)"
   ]
  },
  {
   "cell_type": "code",
   "execution_count": 4,
   "id": "2fb6c0e8",
   "metadata": {},
   "outputs": [
    {
     "data": {
      "text/plain": [
       "<xarray.backends.zarr.ZarrStore at 0x7f82adc78ba0>"
      ]
     },
     "execution_count": 4,
     "metadata": {},
     "output_type": "execute_result"
    }
   ],
   "source": [
    "# Create .zarr data set from AIPS data\n",
    "holog_image = datafolder+'input.zarr'\n",
    "input_data_xds = _aips_holog_to_xds(datafolder+'amp.fits', datafolder+'dev.fits')\n",
    "input_data_xds.to_zarr(holog_image, mode='w')"
   ]
  },
  {
   "cell_type": "code",
   "execution_count": 5,
   "id": "ae59e3f6",
   "metadata": {
    "scrolled": true
   },
   "outputs": [
    {
     "name": "stdout",
     "output_type": "stream",
     "text": [
      "CPU times: user 7.08 s, sys: 1.03 s, total: 8.1 s\n",
      "Wall time: 7.19 s\n"
     ]
    }
   ],
   "source": [
    "%%time\n",
    "# Execute Panel on a single VLA dataset\n",
    "panel(holog_image, 'vla_data',\n",
    "      panel_kind='corotated_robust',\n",
    "      aipsdata=True, \n",
    "      telescope='vla', \n",
    "      basename='antenna25', \n",
    "      save_mask=False, \n",
    "      save_phase=False, \n",
    "      unit='mils', \n",
    "      cutoff=0.2,\n",
    "      panel_margins=0.2)"
   ]
  },
  {
   "cell_type": "code",
   "execution_count": 6,
   "id": "76047a27",
   "metadata": {},
   "outputs": [
    {
     "name": "stderr",
     "output_type": "stream",
     "text": [
      "2023-03-15 14:39:07,336 - distributed.diskutils - INFO - Found stale lock file and directory '/tmp/dask-worker-space/worker-zax2lqir', purging\n",
      "2023-03-15 14:39:07,336 - distributed.diskutils - INFO - Found stale lock file and directory '/tmp/dask-worker-space/worker-6cj50knv', purging\n",
      "2023-03-15 14:39:07,336 - distributed.diskutils - INFO - Found stale lock file and directory '/tmp/dask-worker-space/worker-dj6qy08s', purging\n",
      "2023-03-15 14:39:07,337 - distributed.diskutils - INFO - Found stale lock file and directory '/tmp/dask-worker-space/worker-69ma3sd3', purging\n"
     ]
    }
   ],
   "source": [
    "# Initialize local cluster\n",
    "#asdrubal\n",
    "try:\n",
    "    client = Client('http://127.0.0.1:8787')\n",
    "\n",
    "except:\n",
    "    cluster = LocalCluster(\n",
    "        n_workers=4,\n",
    "        threads_per_worker=1,\n",
    "        memory_limit='16GB'\n",
    "    )\n",
    "\n",
    "    client = Client(cluster)"
   ]
  },
  {
   "cell_type": "code",
   "execution_count": 7,
   "id": "ef7e4352",
   "metadata": {},
   "outputs": [
    {
     "ename": "FileNotFoundError",
     "evalue": "[Errno 2] No such file or directory: 'hack_file.image.zarr'",
     "output_type": "error",
     "traceback": [
      "\u001b[0;31m---------------------------------------------------------------------------\u001b[0m",
      "\u001b[0;31mFileNotFoundError\u001b[0m                         Traceback (most recent call last)",
      "File \u001b[0;32m<timed exec>:3\u001b[0m\n",
      "File \u001b[0;32m~/work/Holography-1022/astrohack/src/astrohack/panel.py:60\u001b[0m, in \u001b[0;36mpanel\u001b[0;34m(holog_image, outfile, aipsdata, telescope, cutoff, panel_kind, basename, unit, panel_margins, save_mask, save_deviations, save_phase, parallel, ddis)\u001b[0m\n\u001b[1;32m     58\u001b[0m delayed_list \u001b[38;5;241m=\u001b[39m []\n\u001b[1;32m     59\u001b[0m fullname \u001b[38;5;241m=\u001b[39m holog_image\u001b[38;5;241m+\u001b[39m\u001b[38;5;124m'\u001b[39m\u001b[38;5;124m.image.zarr\u001b[39m\u001b[38;5;124m'\u001b[39m\n\u001b[0;32m---> 60\u001b[0m antennae \u001b[38;5;241m=\u001b[39m \u001b[43mos\u001b[49m\u001b[38;5;241;43m.\u001b[39;49m\u001b[43mlistdir\u001b[49m\u001b[43m(\u001b[49m\u001b[43mfullname\u001b[49m\u001b[43m)\u001b[49m\n\u001b[1;32m     62\u001b[0m \u001b[38;5;28;01mfor\u001b[39;00m antenna \u001b[38;5;129;01min\u001b[39;00m antennae:\n\u001b[1;32m     63\u001b[0m     \u001b[38;5;28;01mif\u001b[39;00m antenna\u001b[38;5;241m.\u001b[39misnumeric():\n\u001b[1;32m     64\u001b[0m         \u001b[38;5;66;03m#print('antenna',antenna)\u001b[39;00m\n",
      "\u001b[0;31mFileNotFoundError\u001b[0m: [Errno 2] No such file or directory: 'hack_file.image.zarr'"
     ]
    }
   ],
   "source": [
    "%%time\n",
    "holog_image = 'hack_file'\n",
    "panel_output = 'hack_file'\n",
    "panel(holog_image, panel_output,\n",
    "      panel_kind='corotated_robust',\n",
    "      aipsdata=False, \n",
    "      telescope=None, \n",
    "      save_mask=False, \n",
    "      save_phase=False, \n",
    "      unit='mm', cutoff=0.2)"
   ]
  },
  {
   "cell_type": "code",
   "execution_count": null,
   "id": "e08e3031",
   "metadata": {},
   "outputs": [],
   "source": []
  }
 ],
 "metadata": {
  "kernelspec": {
   "display_name": "Python 3 (ipykernel)",
   "language": "python",
   "name": "python3"
  },
  "language_info": {
   "codemirror_mode": {
    "name": "ipython",
    "version": 3
   },
   "file_extension": ".py",
   "mimetype": "text/x-python",
   "name": "python",
   "nbconvert_exporter": "python",
   "pygments_lexer": "ipython3",
   "version": "3.8.15"
  }
 },
 "nbformat": 4,
 "nbformat_minor": 5
}
