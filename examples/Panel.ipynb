{
 "cells": [
  {
   "cell_type": "code",
   "execution_count": 1,
   "id": "b5b3c2d4",
   "metadata": {},
   "outputs": [
    {
     "name": "stdout",
     "output_type": "stream",
     "text": [
      "Obtaining file:///export/home/figs/vdesouza/work/Holography-1022/astrohack\n",
      "  Installing build dependencies ... \u001b[?25ldone\n",
      "\u001b[?25h  Checking if build backend supports build_editable ... \u001b[?25ldone\n",
      "\u001b[?25h  Getting requirements to build editable ... \u001b[?25ldone\n",
      "\u001b[?25h  Preparing editable metadata (pyproject.toml) ... \u001b[?25ldone\n",
      "\u001b[?25hBuilding wheels for collected packages: astrohack\n",
      "  Building editable for astrohack (pyproject.toml) ... \u001b[?25ldone\n",
      "\u001b[?25h  Created wheel for astrohack: filename=astrohack-0.0.1-py3-none-any.whl size=1061 sha256=59f59d1e6272b2f472c5ed799d07c7c8fb2fa0681314ade2716b2f218436951c\n",
      "  Stored in directory: /tmp/pip-ephem-wheel-cache-i2p7ffkk/wheels/93/bb/ed/46bdf801cce81c3aea69f1f4af83e386e0f89149047ab78ae0\n",
      "Successfully built astrohack\n",
      "Installing collected packages: astrohack\n",
      "  Attempting uninstall: astrohack\n",
      "    Found existing installation: astrohack 0.0.1\n",
      "    Uninstalling astrohack-0.0.1:\n",
      "      Successfully uninstalled astrohack-0.0.1\n",
      "Successfully installed astrohack-0.0.1\n"
     ]
    }
   ],
   "source": [
    "!pip install -e .."
   ]
  },
  {
   "cell_type": "code",
   "execution_count": 2,
   "id": "df3cb84b",
   "metadata": {},
   "outputs": [],
   "source": [
    "import gdown\n",
    "import shutil\n",
    "from astrohack.panel import panel\n",
    "from astrohack._utils._io import _aips_holog_to_xds\n",
    "import os\n",
    "from dask.distributed import Client, LocalCluster"
   ]
  },
  {
   "cell_type": "code",
   "execution_count": 3,
   "id": "fe305ed4",
   "metadata": {},
   "outputs": [],
   "source": [
    "# Download VLA Holography with known panel deviations\n",
    "datafolder = \"./paneldata/\"\n",
    "os.makedirs(name=datafolder, exist_ok=True)\n",
    "panelzip = datafolder+\"panel.zip\"\n",
    "if not os.path.exists(panelzip):\n",
    "    url = \"https://drive.google.com/u/1/uc?id=10fXyut_UHPUjIuaaEy6-m6wcycZHit2v&export=download\"\n",
    "    gdown.download(url, panelzip)\n",
    "shutil.unpack_archive(filename=panelzip, extract_dir=datafolder)"
   ]
  },
  {
   "cell_type": "code",
   "execution_count": 4,
   "id": "2fb6c0e8",
   "metadata": {},
   "outputs": [
    {
     "data": {
      "text/plain": [
       "<xarray.backends.zarr.ZarrStore at 0x7f6fb82abac0>"
      ]
     },
     "execution_count": 4,
     "metadata": {},
     "output_type": "execute_result"
    }
   ],
   "source": [
    "# Create .zarr data set from AIPS data\n",
    "holog_image = datafolder+'input.zarr'\n",
    "input_data_xds = _aips_holog_to_xds(datafolder+'amp.fits', datafolder+'dev.fits')\n",
    "input_data_xds.to_zarr(holog_image, mode='w')"
   ]
  },
  {
   "cell_type": "code",
   "execution_count": 5,
   "id": "ae59e3f6",
   "metadata": {
    "scrolled": true
   },
   "outputs": [
    {
     "name": "stdout",
     "output_type": "stream",
     "text": [
      "CPU times: user 426 ms, sys: 220 ms, total: 646 ms\n",
      "Wall time: 360 ms\n"
     ]
    }
   ],
   "source": [
    "%%time\n",
    "# Execute Panel on a single VLA dataset\n",
    "panel(holog_image, 'vla_data',\n",
    "      aipsdata=True, \n",
    "      telescope='vla', \n",
    "      basename='antenna25', \n",
    "      unit='mils')"
   ]
  },
  {
   "cell_type": "code",
   "execution_count": 6,
   "id": "ef7e4352",
   "metadata": {},
   "outputs": [
    {
     "name": "stdout",
     "output_type": "stream",
     "text": [
      "[\u001b[01;34m2023-03-23 10:24:17.922880 System Info\u001b[01;00;39m]: Processing ddi_0 for ant_3\n",
      "CPU times: user 1.39 s, sys: 527 ms, total: 1.91 s\n",
      "Wall time: 1.29 s\n"
     ]
    }
   ],
   "source": [
    "%%time\n",
    "holog_image = 'hack_file'\n",
    "panel_output = 'hack_file'\n",
    "panel(holog_image, panel_output,\n",
    "      parallel=False)"
   ]
  },
  {
   "cell_type": "code",
   "execution_count": null,
   "id": "e08e3031",
   "metadata": {},
   "outputs": [],
   "source": []
  }
 ],
 "metadata": {
  "kernelspec": {
   "display_name": "Python 3 (ipykernel)",
   "language": "python",
   "name": "python3"
  },
  "language_info": {
   "codemirror_mode": {
    "name": "ipython",
    "version": 3
   },
   "file_extension": ".py",
   "mimetype": "text/x-python",
   "name": "python",
   "nbconvert_exporter": "python",
   "pygments_lexer": "ipython3",
   "version": "3.8.15"
  }
 },
 "nbformat": 4,
 "nbformat_minor": 5
}
