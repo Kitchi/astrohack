{
 "cells": [
  {
   "cell_type": "code",
   "execution_count": 1,
   "id": "b5b3c2d4",
   "metadata": {},
   "outputs": [],
   "source": [
    "!pip install -e .."
   ]
  },
  {
   "cell_type": "code",
   "execution_count": 2,
   "id": "df3cb84b",
   "metadata": {},
   "outputs": [],
   "source": [
    "import gdown\n",
    "import shutil\n",
    "from astrohack.panel import panel\n",
    "from astrohack._utils._fits_io import _aips_holog_to_xds\n",
    "import os\n",
    "from dask.distributed import Client, LocalCluster"
   ]
  },
  {
   "cell_type": "code",
   "execution_count": 3,
   "id": "fe305ed4",
   "metadata": {},
   "outputs": [],
   "source": [
    "# Download VLA Holography with known panel deviations\n",
    "datafolder = \"./paneldata/\"\n",
    "os.makedirs(name=datafolder, exist_ok=True)\n",
    "panelzip = datafolder+\"panel.zip\"\n",
    "if not os.path.exists(panelzip):\n",
    "    url = \"https://drive.google.com/u/1/uc?id=10fXyut_UHPUjIuaaEy6-m6wcycZHit2v&export=download\"\n",
    "    gdown.download(url, panelzip)\n",
    "shutil.unpack_archive(filename=panelzip, extract_dir=datafolder)"
   ]
  },
  {
   "cell_type": "code",
   "execution_count": 4,
   "id": "2fb6c0e8",
   "metadata": {},
   "outputs": [],
   "source": [
    "# Create .zarr data set from AIPS data\n",
    "holog_image = datafolder+'input.zarr'\n",
    "input_data_xds = _aips_holog_to_xds(datafolder+'amp.fits', datafolder+'dev.fits')\n",
    "input_data_xds.to_zarr(holog_image, mode='w')"
   ]
  },
  {
   "cell_type": "code",
   "execution_count": 5,
   "id": "ae59e3f6",
   "metadata": {
    "scrolled": true
   },
   "outputs": [],
   "source": [
    "%%time\n",
    "# Execute Panel on a single VLA dataset\n",
    "panel(holog_image, 'vla_data',\n",
    "      panel_kind='corotatedparaboloid',\n",
    "      aipsdata=True, \n",
    "      telescope='vla', \n",
    "      basename='antenna25', \n",
    "      save_mask=False, \n",
    "      save_phase=False, \n",
    "      unit='miliinches', \n",
    "      cutoff=0.2,\n",
    "      panel_margins=0.2)"
   ]
  },
  {
   "cell_type": "code",
   "execution_count": 6,
   "id": "76047a27",
   "metadata": {},
   "outputs": [],
   "source": [
    "# Initialize local cluster\n",
    "#asdrubal\n",
    "try:\n",
    "    client = Client('http://127.0.0.1:8787')\n",
    "\n",
    "except:\n",
    "    cluster = LocalCluster(\n",
    "        n_workers=4,\n",
    "        threads_per_worker=1,\n",
    "        memory_limit='16GB'\n",
    "    )\n",
    "\n",
    "    client = Client(cluster)"
   ]
  },
  {
   "cell_type": "code",
   "execution_count": 7,
   "id": "ef7e4352",
   "metadata": {},
   "outputs": [],
   "source": [
    "%%time\n",
    "holog_image = 'hack_file'\n",
    "panel_output = 'hack_file'\n",
    "panel(holog_image, panel_output,\n",
    "      panel_kind='corotated_lst_sq',\n",
    "      aipsdata=False, \n",
    "      telescope=None, \n",
    "      save_mask=False, \n",
    "      save_phase=False, \n",
    "      unit='mm', cutoff=0.2)"
   ]
  }
 ],
 "metadata": {
  "kernelspec": {
   "display_name": "Python 3 (ipykernel)",
   "language": "python",
   "name": "python3"
  },
  "language_info": {
   "codemirror_mode": {
    "name": "ipython",
    "version": 3
   },
   "file_extension": ".py",
   "mimetype": "text/x-python",
   "name": "python",
   "nbconvert_exporter": "python",
   "pygments_lexer": "ipython3",
   "version": "3.10.9"
  }
 },
 "nbformat": 4,
 "nbformat_minor": 5
}
