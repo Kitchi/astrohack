{
 "cells": [
  {
   "cell_type": "code",
   "execution_count": 1,
   "id": "b5b3c2d4",
   "metadata": {},
   "outputs": [
    {
     "name": "stdout",
     "output_type": "stream",
     "text": [
      "Obtaining file:///export/home/figs/vdesouza/work/Holography-1022/astrohack\n",
      "  Installing build dependencies ... \u001b[?25ldone\n",
      "\u001b[?25h  Checking if build backend supports build_editable ... \u001b[?25ldone\n",
      "\u001b[?25h  Getting requirements to build editable ... \u001b[?25ldone\n",
      "\u001b[?25h  Preparing editable metadata (pyproject.toml) ... \u001b[?25ldone\n",
      "\u001b[?25hBuilding wheels for collected packages: astrohack\n",
      "  Building editable for astrohack (pyproject.toml) ... \u001b[?25ldone\n",
      "\u001b[?25h  Created wheel for astrohack: filename=astrohack-0.0.1-py3-none-any.whl size=1057 sha256=e0b02524df485992829a221e9af827b970ea7ed94bf32a823d8ece75e40b3d23\n",
      "  Stored in directory: /tmp/pip-ephem-wheel-cache-gplhqn4t/wheels/93/bb/ed/46bdf801cce81c3aea69f1f4af83e386e0f89149047ab78ae0\n",
      "Successfully built astrohack\n",
      "Installing collected packages: astrohack\n",
      "  Attempting uninstall: astrohack\n",
      "    Found existing installation: astrohack 0.0.1\n",
      "    Uninstalling astrohack-0.0.1:\n",
      "      Successfully uninstalled astrohack-0.0.1\n",
      "Successfully installed astrohack-0.0.1\n"
     ]
    }
   ],
   "source": [
    "!pip install -e .."
   ]
  },
  {
   "cell_type": "code",
   "execution_count": 2,
   "id": "df3cb84b",
   "metadata": {},
   "outputs": [],
   "source": [
    "import gdown\n",
    "import shutil\n",
    "from astrohack.panel import panel\n",
    "from astrohack._utils._fits_io import _aips_holog_to_xds\n",
    "import os\n",
    "from dask.distributed import Client, LocalCluster"
   ]
  },
  {
   "cell_type": "code",
   "execution_count": 3,
   "id": "fe305ed4",
   "metadata": {},
   "outputs": [],
   "source": [
    "# Download VLA Holography with known panel deviations\n",
    "datafolder = \"./paneldata/\"\n",
    "os.makedirs(name=datafolder, exist_ok=True)\n",
    "panelzip = datafolder+\"panel.zip\"\n",
    "if not os.path.exists(panelzip):\n",
    "    url = \"https://drive.google.com/u/1/uc?id=10fXyut_UHPUjIuaaEy6-m6wcycZHit2v&export=download\"\n",
    "    gdown.download(url, panelzip)\n",
    "shutil.unpack_archive(filename=panelzip, extract_dir=datafolder)"
   ]
  },
  {
   "cell_type": "code",
   "execution_count": 4,
   "id": "2fb6c0e8",
   "metadata": {},
   "outputs": [
    {
     "data": {
      "text/plain": [
       "<xarray.backends.zarr.ZarrStore at 0x7fc42e349d60>"
      ]
     },
     "execution_count": 4,
     "metadata": {},
     "output_type": "execute_result"
    }
   ],
   "source": [
    "# Create .zarr data set from AIPS data\n",
    "holog_image = datafolder+'input.zarr'\n",
    "input_data_xds = _aips_holog_to_xds(datafolder+'amp.fits', datafolder+'dev.fits')\n",
    "input_data_xds.to_zarr(holog_image, mode='w')"
   ]
  },
  {
   "cell_type": "code",
   "execution_count": 5,
   "id": "ae59e3f6",
   "metadata": {
    "scrolled": true
   },
   "outputs": [
    {
     "name": "stdout",
     "output_type": "stream",
     "text": [
      "CPU times: user 7.02 s, sys: 1.18 s, total: 8.2 s\n",
      "Wall time: 7.02 s\n"
     ]
    }
   ],
   "source": [
    "%%time\n",
    "# Execute Panel on a single VLA dataset\n",
    "panel(holog_image, 'vla_data',\n",
    "      panel_kind='corotated_robust',\n",
    "      aipsdata=True, \n",
    "      telescope='vla', \n",
    "      basename='antenna25', \n",
    "      save_mask=False, \n",
    "      save_phase=False, \n",
    "      unit='miliinches', \n",
    "      cutoff=0.2,\n",
    "      panel_margins=0.2)"
   ]
  },
  {
   "cell_type": "code",
   "execution_count": 6,
   "id": "76047a27",
   "metadata": {},
   "outputs": [
    {
     "name": "stderr",
     "output_type": "stream",
     "text": [
      "2023-03-01 14:34:55,913 - distributed.diskutils - INFO - Found stale lock file and directory '/tmp/dask-worker-space/worker-t1zom8c7', purging\n"
     ]
    }
   ],
   "source": [
    "# Initialize local cluster\n",
    "#asdrubal\n",
    "try:\n",
    "    client = Client('http://127.0.0.1:8787')\n",
    "\n",
    "except:\n",
    "    cluster = LocalCluster(\n",
    "        n_workers=4,\n",
    "        threads_per_worker=1,\n",
    "        memory_limit='16GB'\n",
    "    )\n",
    "\n",
    "    client = Client(cluster)"
   ]
  },
  {
   "cell_type": "code",
   "execution_count": 7,
   "id": "ef7e4352",
   "metadata": {},
   "outputs": [
    {
     "name": "stdout",
     "output_type": "stream",
     "text": [
      "CPU times: user 16.1 s, sys: 1.65 s, total: 17.8 s\n",
      "Wall time: 4min 58s\n"
     ]
    }
   ],
   "source": [
    "%%time\n",
    "holog_image = 'hack_file'\n",
    "panel_output = 'hack_file'\n",
    "panel(holog_image, panel_output,\n",
    "      panel_kind='corotated_robust',\n",
    "      aipsdata=False, \n",
    "      telescope=None, \n",
    "      save_mask=False, \n",
    "      save_phase=False, \n",
    "      unit='mm', cutoff=0.2)"
   ]
  },
  {
   "cell_type": "code",
   "execution_count": null,
   "id": "e08e3031",
   "metadata": {},
   "outputs": [],
   "source": []
  }
 ],
 "metadata": {
  "kernelspec": {
   "display_name": "Python 3 (ipykernel)",
   "language": "python",
   "name": "python3"
  },
  "language_info": {
   "codemirror_mode": {
    "name": "ipython",
    "version": 3
   },
   "file_extension": ".py",
   "mimetype": "text/x-python",
   "name": "python",
   "nbconvert_exporter": "python",
   "pygments_lexer": "ipython3",
   "version": "3.8.15"
  }
 },
 "nbformat": 4,
 "nbformat_minor": 5
}
