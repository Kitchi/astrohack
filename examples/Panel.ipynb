{
 "cells": [
  {
   "cell_type": "code",
   "execution_count": 1,
   "id": "b5b3c2d4",
   "metadata": {},
   "outputs": [
    {
     "name": "stdout",
     "output_type": "stream",
     "text": [
      "Obtaining file:///export/home/figs/vdesouza/work/Holography-1022/astrohack\n",
      "  Installing build dependencies ... \u001b[?25ldone\n",
      "\u001b[?25h  Checking if build backend supports build_editable ... \u001b[?25ldone\n",
      "\u001b[?25h  Getting requirements to build editable ... \u001b[?25ldone\n",
      "\u001b[?25h  Preparing editable metadata (pyproject.toml) ... \u001b[?25ldone\n",
      "\u001b[?25hBuilding wheels for collected packages: astrohack\n",
      "  Building editable for astrohack (pyproject.toml) ... \u001b[?25ldone\n",
      "\u001b[?25h  Created wheel for astrohack: filename=astrohack-0.0.1-py3-none-any.whl size=1061 sha256=59f59d1e6272b2f472c5ed799d07c7c8fb2fa0681314ade2716b2f218436951c\n",
      "  Stored in directory: /tmp/pip-ephem-wheel-cache-a_5ab0l_/wheels/93/bb/ed/46bdf801cce81c3aea69f1f4af83e386e0f89149047ab78ae0\n",
      "Successfully built astrohack\n",
      "Installing collected packages: astrohack\n",
      "  Attempting uninstall: astrohack\n",
      "    Found existing installation: astrohack 0.0.1\n",
      "    Uninstalling astrohack-0.0.1:\n",
      "      Successfully uninstalled astrohack-0.0.1\n",
      "Successfully installed astrohack-0.0.1\n"
     ]
    }
   ],
   "source": [
    "!pip install -e .."
   ]
  },
  {
   "cell_type": "code",
   "execution_count": 2,
   "id": "df3cb84b",
   "metadata": {},
   "outputs": [],
   "source": [
    "import gdown\n",
    "import shutil\n",
    "from astrohack.panel import panel\n",
    "from astrohack._utils._io import _aips_holog_to_xds\n",
    "import os\n",
    "from dask.distributed import Client, LocalCluster"
   ]
  },
  {
   "cell_type": "code",
   "execution_count": 3,
   "id": "fe305ed4",
   "metadata": {},
   "outputs": [],
   "source": [
    "# Download VLA Holography with known panel deviations\n",
    "datafolder = \"./paneldata/\"\n",
    "os.makedirs(name=datafolder, exist_ok=True)\n",
    "panelzip = datafolder+\"panel.zip\"\n",
    "if not os.path.exists(panelzip):\n",
    "    url = \"https://drive.google.com/u/1/uc?id=10fXyut_UHPUjIuaaEy6-m6wcycZHit2v&export=download\"\n",
    "    gdown.download(url, panelzip)\n",
    "shutil.unpack_archive(filename=panelzip, extract_dir=datafolder)"
   ]
  },
  {
   "cell_type": "code",
   "execution_count": 4,
   "id": "2fb6c0e8",
   "metadata": {},
   "outputs": [
    {
     "data": {
      "text/plain": [
       "<xarray.backends.zarr.ZarrStore at 0x7fa1bdb47e40>"
      ]
     },
     "execution_count": 4,
     "metadata": {},
     "output_type": "execute_result"
    }
   ],
   "source": [
    "# Create .zarr data set from AIPS data\n",
    "holog_image = datafolder+'input.zarr'\n",
    "input_data_xds = _aips_holog_to_xds(datafolder+'amp.fits', datafolder+'dev.fits')\n",
    "input_data_xds.to_zarr(holog_image, mode='w')"
   ]
  },
  {
   "cell_type": "code",
   "execution_count": 5,
   "id": "ae59e3f6",
   "metadata": {
    "scrolled": true
   },
   "outputs": [
    {
     "name": "stdout",
     "output_type": "stream",
     "text": [
      "[\u001b[01;34m2023-03-22 17:24:12.735160 System Info\u001b[01;00;39m]: inrms:0.482952; ourms:0.221199\n",
      "CPU times: user 4.44 s, sys: 267 ms, total: 4.71 s\n",
      "Wall time: 4.41 s\n"
     ]
    }
   ],
   "source": [
    "%%time\n",
    "# Execute Panel on a single VLA dataset\n",
    "panel(holog_image, 'vla_data',\n",
    "      aipsdata=True, \n",
    "      telescope='vla', \n",
    "      basename='antenna25', \n",
    "      unit='mils', \n",
    "      optimize=0)"
   ]
  },
  {
   "cell_type": "code",
   "execution_count": 6,
   "id": "fc5478d7",
   "metadata": {
    "scrolled": true
   },
   "outputs": [
    {
     "name": "stdout",
     "output_type": "stream",
     "text": [
      "[\u001b[01;34m2023-03-22 17:24:15.011626 System Info\u001b[01;00;39m]: inrms:0.482952; ourms:0.214440\n",
      "CPU times: user 2.32 s, sys: 276 ms, total: 2.59 s\n",
      "Wall time: 2.27 s\n"
     ]
    }
   ],
   "source": [
    "%%time\n",
    "# Execute Panel on a single VLA dataset\n",
    "panel(holog_image, 'vla_data',\n",
    "      aipsdata=True, \n",
    "      telescope='vla', \n",
    "      basename='antenna25', \n",
    "      unit='mils', \n",
    "      optimize=1)"
   ]
  },
  {
   "cell_type": "code",
   "execution_count": 7,
   "id": "62113dc3",
   "metadata": {
    "scrolled": true
   },
   "outputs": [
    {
     "name": "stdout",
     "output_type": "stream",
     "text": [
      "[\u001b[01;34m2023-03-22 17:24:15.611548 System Info\u001b[01;00;39m]: inrms:0.482952; ourms:0.216367\n",
      "CPU times: user 646 ms, sys: 272 ms, total: 918 ms\n",
      "Wall time: 586 ms\n"
     ]
    }
   ],
   "source": [
    "%%time\n",
    "# Execute Panel on a single VLA dataset\n",
    "panel(holog_image, 'vla_data',\n",
    "      aipsdata=True, \n",
    "      telescope='vla', \n",
    "      basename='antenna25', \n",
    "      unit='mils', \n",
    "      optimize=2)"
   ]
  },
  {
   "cell_type": "code",
   "execution_count": 8,
   "id": "ef7e4352",
   "metadata": {},
   "outputs": [
    {
     "name": "stdout",
     "output_type": "stream",
     "text": [
      "[\u001b[01;34m2023-03-22 17:24:15.659923 System Info\u001b[01;00;39m]: Processing ddi_0 for ant_3\n",
      "[\u001b[01;34m2023-03-22 17:24:28.219197 System Info\u001b[01;00;39m]: inrms:0.042120; ourms:0.011616\n",
      "CPU times: user 12.7 s, sys: 547 ms, total: 13.2 s\n",
      "Wall time: 12.6 s\n"
     ]
    }
   ],
   "source": [
    "%%time\n",
    "holog_image = 'hack_file'\n",
    "panel_output = 'hack_file'\n",
    "panel(holog_image, panel_output,\n",
    "      parallel=False,\n",
    "      optimize=0)"
   ]
  },
  {
   "cell_type": "code",
   "execution_count": 9,
   "id": "13e8e785",
   "metadata": {},
   "outputs": [
    {
     "name": "stdout",
     "output_type": "stream",
     "text": [
      "[\u001b[01;34m2023-03-22 17:24:28.295441 System Info\u001b[01;00;39m]: Processing ddi_0 for ant_3\n",
      "[\u001b[01;34m2023-03-22 17:24:35.729927 System Info\u001b[01;00;39m]: inrms:0.042120; ourms:0.010982\n",
      "CPU times: user 7.58 s, sys: 487 ms, total: 8.07 s\n",
      "Wall time: 7.5 s\n"
     ]
    }
   ],
   "source": [
    "%%time\n",
    "holog_image = 'hack_file'\n",
    "panel_output = 'hack_file'\n",
    "panel(holog_image, panel_output,\n",
    "      parallel=False,\n",
    "      optimize=1)"
   ]
  },
  {
   "cell_type": "code",
   "execution_count": 10,
   "id": "1bae67b4",
   "metadata": {},
   "outputs": [
    {
     "name": "stdout",
     "output_type": "stream",
     "text": [
      "[\u001b[01;34m2023-03-22 17:24:35.804748 System Info\u001b[01;00;39m]: Processing ddi_0 for ant_3\n",
      "[\u001b[01;34m2023-03-22 17:24:37.718623 System Info\u001b[01;00;39m]: inrms:0.042120; ourms:0.010975\n",
      "CPU times: user 2.07 s, sys: 497 ms, total: 2.56 s\n",
      "Wall time: 1.98 s\n"
     ]
    }
   ],
   "source": [
    "%%time\n",
    "holog_image = 'hack_file'\n",
    "panel_output = 'hack_file'\n",
    "panel(holog_image, panel_output,\n",
    "      parallel=False,\n",
    "      optimize=2)"
   ]
  },
  {
   "cell_type": "code",
   "execution_count": null,
   "id": "e08e3031",
   "metadata": {},
   "outputs": [],
   "source": []
  }
 ],
 "metadata": {
  "kernelspec": {
   "display_name": "Python 3 (ipykernel)",
   "language": "python",
   "name": "python3"
  },
  "language_info": {
   "codemirror_mode": {
    "name": "ipython",
    "version": 3
   },
   "file_extension": ".py",
   "mimetype": "text/x-python",
   "name": "python",
   "nbconvert_exporter": "python",
   "pygments_lexer": "ipython3",
   "version": "3.8.15"
  }
 },
 "nbformat": 4,
 "nbformat_minor": 5
}
