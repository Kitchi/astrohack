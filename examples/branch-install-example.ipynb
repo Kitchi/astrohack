{
 "cells": [
  {
   "cell_type": "code",
   "execution_count": 1,
   "id": "e7b9cb02-6e34-440e-9904-954e63b37554",
   "metadata": {
    "tags": []
   },
   "outputs": [],
   "source": [
    "# This will clone and install the branch that has teh current changes on it. If you want to see the output of the install to be sure it \n",
    "# was successfull, remove the > /dev/null 2>&1 in the second line.  \n",
    "\n",
    "#!git clone --branch 159-change-calculation-of-default-grid-parameters https://github.com/casangi/astrohack.git\n",
    "#!pip install -e astrohack/ > /dev/null 2>&1\n",
    "!pip install -e .. > /dev/null 2>&1"
   ]
  },
  {
   "cell_type": "code",
   "execution_count": 3,
   "id": "41b8b125-0682-4679-87aa-a05c28a5ffb3",
   "metadata": {
    "tags": []
   },
   "outputs": [],
   "source": [
    "import os\n",
    "import json\n",
    "import astrohack\n",
    "\n",
    "import numpy as np"
   ]
  },
  {
   "cell_type": "code",
   "execution_count": 4,
   "id": "9c29afb5-a6c4-4131-a93c-de3fbc833ab8",
   "metadata": {
    "tags": []
   },
   "outputs": [
    {
     "name": "stdout",
     "output_type": "stream",
     "text": [
      "2023-10-06 11:29:12,856 - \u001b[33;34mINFO    \u001b[0m - astrohack - (_check_parms.py:135) - [_check_logger_parms]: Setting default log_to_term to True.\n",
      "2023-10-06 11:29:12,857 - \u001b[33;34mINFO    \u001b[0m - astrohack - (_check_parms.py:135) - [_check_logger_parms]: Setting default log_to_file to False.\n",
      "2023-10-06 11:29:12,857 - \u001b[33;34mINFO    \u001b[0m - astrohack - (_check_parms.py:135) - [_check_logger_parms]: Setting default log_file to hack_.\n",
      "2023-10-06 11:29:12,858 - \u001b[33;34mINFO    \u001b[0m - astrohack - (_check_parms.py:135) - [_check_worker_logger_parms]: Setting default log_to_term to False.\n",
      "2023-10-06 11:29:12,858 - \u001b[33;34mINFO    \u001b[0m - astrohack - (_check_parms.py:135) - [_check_worker_logger_parms]: Setting default log_to_file to False.\n",
      "2023-10-06 11:29:12,858 - \u001b[33;34mINFO    \u001b[0m - astrohack - (_check_parms.py:135) - [_check_worker_logger_parms]: Setting default log_file to hack_.\n",
      "2023-10-06 11:29:12,859 - \u001b[33;34mINFO    \u001b[0m - astrohack - (_check_parms.py:135) - [_check_worker_logger_parms]: Setting default log_level to INFO.\n",
      "2023-10-06 11:29:14,741 - \u001b[33;34mINFO    \u001b[0m - astrohack - (client.py:132) - Created client <Client: 'tcp://127.0.0.1:44093' processes=2 threads=2, memory=14.90 GiB>\n"
     ]
    },
    {
     "data": {
      "text/html": [
       "<div>\n",
       "    <div style=\"width: 24px; height: 24px; background-color: #e1e1e1; border: 3px solid #9D9D9D; border-radius: 5px; position: absolute;\"> </div>\n",
       "    <div style=\"margin-left: 48px;\">\n",
       "        <h3 style=\"margin-bottom: 0px;\">Client</h3>\n",
       "        <p style=\"color: #9D9D9D; margin-bottom: 0px;\">Client-1a92b9c0-645d-11ee-9245-b07b25220d78</p>\n",
       "        <table style=\"width: 100%; text-align: left;\">\n",
       "\n",
       "        <tr>\n",
       "        \n",
       "            <td style=\"text-align: left;\"><strong>Connection method:</strong> Cluster object</td>\n",
       "            <td style=\"text-align: left;\"><strong>Cluster type:</strong> distributed.LocalCluster</td>\n",
       "        \n",
       "        </tr>\n",
       "\n",
       "        \n",
       "            <tr>\n",
       "                <td style=\"text-align: left;\">\n",
       "                    <strong>Dashboard: </strong> <a href=\"http://127.0.0.1:8787/status\" target=\"_blank\">http://127.0.0.1:8787/status</a>\n",
       "                </td>\n",
       "                <td style=\"text-align: left;\"></td>\n",
       "            </tr>\n",
       "        \n",
       "\n",
       "        </table>\n",
       "\n",
       "        \n",
       "\n",
       "        \n",
       "            <details>\n",
       "            <summary style=\"margin-bottom: 20px;\"><h3 style=\"display: inline;\">Cluster Info</h3></summary>\n",
       "            <div class=\"jp-RenderedHTMLCommon jp-RenderedHTML jp-mod-trusted jp-OutputArea-output\">\n",
       "    <div style=\"width: 24px; height: 24px; background-color: #e1e1e1; border: 3px solid #9D9D9D; border-radius: 5px; position: absolute;\">\n",
       "    </div>\n",
       "    <div style=\"margin-left: 48px;\">\n",
       "        <h3 style=\"margin-bottom: 0px; margin-top: 0px;\">LocalCluster</h3>\n",
       "        <p style=\"color: #9D9D9D; margin-bottom: 0px;\">b980bf67</p>\n",
       "        <table style=\"width: 100%; text-align: left;\">\n",
       "            <tr>\n",
       "                <td style=\"text-align: left;\">\n",
       "                    <strong>Dashboard:</strong> <a href=\"http://127.0.0.1:8787/status\" target=\"_blank\">http://127.0.0.1:8787/status</a>\n",
       "                </td>\n",
       "                <td style=\"text-align: left;\">\n",
       "                    <strong>Workers:</strong> 2\n",
       "                </td>\n",
       "            </tr>\n",
       "            <tr>\n",
       "                <td style=\"text-align: left;\">\n",
       "                    <strong>Total threads:</strong> 2\n",
       "                </td>\n",
       "                <td style=\"text-align: left;\">\n",
       "                    <strong>Total memory:</strong> 14.90 GiB\n",
       "                </td>\n",
       "            </tr>\n",
       "            \n",
       "            <tr>\n",
       "    <td style=\"text-align: left;\"><strong>Status:</strong> running</td>\n",
       "    <td style=\"text-align: left;\"><strong>Using processes:</strong> True</td>\n",
       "</tr>\n",
       "\n",
       "            \n",
       "        </table>\n",
       "\n",
       "        <details>\n",
       "            <summary style=\"margin-bottom: 20px;\">\n",
       "                <h3 style=\"display: inline;\">Scheduler Info</h3>\n",
       "            </summary>\n",
       "\n",
       "            <div style=\"\">\n",
       "    <div>\n",
       "        <div style=\"width: 24px; height: 24px; background-color: #FFF7E5; border: 3px solid #FF6132; border-radius: 5px; position: absolute;\"> </div>\n",
       "        <div style=\"margin-left: 48px;\">\n",
       "            <h3 style=\"margin-bottom: 0px;\">Scheduler</h3>\n",
       "            <p style=\"color: #9D9D9D; margin-bottom: 0px;\">Scheduler-4ef52616-7546-4846-b894-00f30d39580d</p>\n",
       "            <table style=\"width: 100%; text-align: left;\">\n",
       "                <tr>\n",
       "                    <td style=\"text-align: left;\">\n",
       "                        <strong>Comm:</strong> tcp://127.0.0.1:44093\n",
       "                    </td>\n",
       "                    <td style=\"text-align: left;\">\n",
       "                        <strong>Workers:</strong> 2\n",
       "                    </td>\n",
       "                </tr>\n",
       "                <tr>\n",
       "                    <td style=\"text-align: left;\">\n",
       "                        <strong>Dashboard:</strong> <a href=\"http://127.0.0.1:8787/status\" target=\"_blank\">http://127.0.0.1:8787/status</a>\n",
       "                    </td>\n",
       "                    <td style=\"text-align: left;\">\n",
       "                        <strong>Total threads:</strong> 2\n",
       "                    </td>\n",
       "                </tr>\n",
       "                <tr>\n",
       "                    <td style=\"text-align: left;\">\n",
       "                        <strong>Started:</strong> Just now\n",
       "                    </td>\n",
       "                    <td style=\"text-align: left;\">\n",
       "                        <strong>Total memory:</strong> 14.90 GiB\n",
       "                    </td>\n",
       "                </tr>\n",
       "            </table>\n",
       "        </div>\n",
       "    </div>\n",
       "\n",
       "    <details style=\"margin-left: 48px;\">\n",
       "        <summary style=\"margin-bottom: 20px;\">\n",
       "            <h3 style=\"display: inline;\">Workers</h3>\n",
       "        </summary>\n",
       "\n",
       "        \n",
       "        <div style=\"margin-bottom: 20px;\">\n",
       "            <div style=\"width: 24px; height: 24px; background-color: #DBF5FF; border: 3px solid #4CC9FF; border-radius: 5px; position: absolute;\"> </div>\n",
       "            <div style=\"margin-left: 48px;\">\n",
       "            <details>\n",
       "                <summary>\n",
       "                    <h4 style=\"margin-bottom: 0px; display: inline;\">Worker: 0</h4>\n",
       "                </summary>\n",
       "                <table style=\"width: 100%; text-align: left;\">\n",
       "                    <tr>\n",
       "                        <td style=\"text-align: left;\">\n",
       "                            <strong>Comm: </strong> tcp://127.0.0.1:36255\n",
       "                        </td>\n",
       "                        <td style=\"text-align: left;\">\n",
       "                            <strong>Total threads: </strong> 1\n",
       "                        </td>\n",
       "                    </tr>\n",
       "                    <tr>\n",
       "                        <td style=\"text-align: left;\">\n",
       "                            <strong>Dashboard: </strong> <a href=\"http://127.0.0.1:33257/status\" target=\"_blank\">http://127.0.0.1:33257/status</a>\n",
       "                        </td>\n",
       "                        <td style=\"text-align: left;\">\n",
       "                            <strong>Memory: </strong> 7.45 GiB\n",
       "                        </td>\n",
       "                    </tr>\n",
       "                    <tr>\n",
       "                        <td style=\"text-align: left;\">\n",
       "                            <strong>Nanny: </strong> tcp://127.0.0.1:44471\n",
       "                        </td>\n",
       "                        <td style=\"text-align: left;\"></td>\n",
       "                    </tr>\n",
       "                    <tr>\n",
       "                        <td colspan=\"2\" style=\"text-align: left;\">\n",
       "                            <strong>Local directory: </strong> /tmp/dask-worker-space/worker-2b04h470\n",
       "                        </td>\n",
       "                    </tr>\n",
       "\n",
       "                    \n",
       "\n",
       "                    \n",
       "\n",
       "                </table>\n",
       "            </details>\n",
       "            </div>\n",
       "        </div>\n",
       "        \n",
       "        <div style=\"margin-bottom: 20px;\">\n",
       "            <div style=\"width: 24px; height: 24px; background-color: #DBF5FF; border: 3px solid #4CC9FF; border-radius: 5px; position: absolute;\"> </div>\n",
       "            <div style=\"margin-left: 48px;\">\n",
       "            <details>\n",
       "                <summary>\n",
       "                    <h4 style=\"margin-bottom: 0px; display: inline;\">Worker: 1</h4>\n",
       "                </summary>\n",
       "                <table style=\"width: 100%; text-align: left;\">\n",
       "                    <tr>\n",
       "                        <td style=\"text-align: left;\">\n",
       "                            <strong>Comm: </strong> tcp://127.0.0.1:33221\n",
       "                        </td>\n",
       "                        <td style=\"text-align: left;\">\n",
       "                            <strong>Total threads: </strong> 1\n",
       "                        </td>\n",
       "                    </tr>\n",
       "                    <tr>\n",
       "                        <td style=\"text-align: left;\">\n",
       "                            <strong>Dashboard: </strong> <a href=\"http://127.0.0.1:38631/status\" target=\"_blank\">http://127.0.0.1:38631/status</a>\n",
       "                        </td>\n",
       "                        <td style=\"text-align: left;\">\n",
       "                            <strong>Memory: </strong> 7.45 GiB\n",
       "                        </td>\n",
       "                    </tr>\n",
       "                    <tr>\n",
       "                        <td style=\"text-align: left;\">\n",
       "                            <strong>Nanny: </strong> tcp://127.0.0.1:43897\n",
       "                        </td>\n",
       "                        <td style=\"text-align: left;\"></td>\n",
       "                    </tr>\n",
       "                    <tr>\n",
       "                        <td colspan=\"2\" style=\"text-align: left;\">\n",
       "                            <strong>Local directory: </strong> /tmp/dask-worker-space/worker-ym1y_fow\n",
       "                        </td>\n",
       "                    </tr>\n",
       "\n",
       "                    \n",
       "\n",
       "                    \n",
       "\n",
       "                </table>\n",
       "            </details>\n",
       "            </div>\n",
       "        </div>\n",
       "        \n",
       "\n",
       "    </details>\n",
       "</div>\n",
       "\n",
       "        </details>\n",
       "    </div>\n",
       "</div>\n",
       "            </details>\n",
       "        \n",
       "\n",
       "    </div>\n",
       "</div>"
      ],
      "text/plain": [
       "<Client: 'tcp://127.0.0.1:44093' processes=2 threads=2, memory=14.90 GiB>"
      ]
     },
     "execution_count": 4,
     "metadata": {},
     "output_type": "execute_result"
    }
   ],
   "source": [
    "import distributed\n",
    "\n",
    "from astrohack.client import astrohack_local_client\n",
    "\n",
    "DEFAULT_DASK_ADDRESS=\"tcp://localhost:8786\"\n",
    "\n",
    "log_parms = {\n",
    "    'log_level':'DEBUG'\n",
    "}\n",
    "\n",
    "if not distributed.client._get_global_client():\n",
    "    try:\n",
    "        client = distributed.Client(DEFAULT_DASK_ADDRESS, timeout=2)\n",
    "        \n",
    "    except OSError:\n",
    "        os.environ[\"DASK_SCHEDULER_ADDRESS\"] = DEFAULT_DASK_ADDRESS\n",
    "        client=astrohack_local_client(\n",
    "            cores=2,\n",
    "            memory_limit='8GB',\n",
    "            log_parms=log_parms\n",
    "        )\n",
    "        \n",
    "else:\n",
    "    client = distributed.client._get_global_client()\n",
    "\n",
    "client"
   ]
  },
  {
   "cell_type": "code",
   "execution_count": 5,
   "id": "54b57ee3-b1d0-4c14-b97d-218623b18a05",
   "metadata": {
    "tags": []
   },
   "outputs": [],
   "source": [
    "ms_file = \"/lustre/cv/users/jhoskins/otf33.ms\""
   ]
  },
  {
   "cell_type": "code",
   "execution_count": 6,
   "id": "69ad4a05-0b89-48da-b633-800f7b0c6905",
   "metadata": {
    "tags": []
   },
   "outputs": [
    {
     "name": "stdout",
     "output_type": "stream",
     "text": [
      "2023-10-06 11:29:16,689 - \u001b[33;34mINFO    \u001b[0m - astrohack - (_extract_holog.py:432) - Writing distance matrix to /export/home/fornax/jhoskins/Development/validation/astrohack-unit-test-docstrings/stakeholder_test/.baseline_distance_matrix.csv ...\n"
     ]
    }
   ],
   "source": [
    "from astrohack.extract_holog import generate_holog_obs_dict\n",
    "\n",
    "holog_obs_dict = generate_holog_obs_dict(\n",
    "    ms_name=ms_file,\n",
    "    point_name=\"data/otf33.point.zarr\",\n",
    ")"
   ]
  },
  {
   "cell_type": "code",
   "execution_count": 7,
   "id": "fa8d3c17-7b45-40a9-b922-54c6cb5bf6c3",
   "metadata": {
    "tags": []
   },
   "outputs": [
    {
     "name": "stdout",
     "output_type": "stream",
     "text": [
      "2023-10-06 11:29:16,718 - \u001b[33;33mWARNING \u001b[0m - astrohack - (_dio.py:43) - [extract_pointing]: data/otf33.point.zarr will be overwritten.\n",
      "Successful readonly open of usernoread-locked table /lustre/cv/users/jhoskins/otf33.ms/ANTENNA: 8 columns, 24 rows\n",
      "2023-10-06 11:29:32,199 - \u001b[33;34mINFO    \u001b[0m - astrohack - (extract_pointing.py:129) - [extract_pointing]: Finished processing\n"
     ]
    }
   ],
   "source": [
    "from astrohack.extract_pointing import extract_pointing\n",
    "\n",
    "point_mds = extract_pointing(\n",
    "      ms_name=ms_file,\n",
    "      point_name=\"data/otf33.point.zarr\",\n",
    "      parallel=True,\n",
    "      overwrite=True\n",
    ")"
   ]
  },
  {
   "cell_type": "code",
   "execution_count": 8,
   "id": "a690ca05-e260-4435-a2fa-63d98a823339",
   "metadata": {
    "tags": []
   },
   "outputs": [
    {
     "name": "stdout",
     "output_type": "stream",
     "text": [
      "2023-10-06 11:29:34,020 - \u001b[33;34mINFO    \u001b[0m - astrohack - (_extract_holog.py:432) - Writing distance matrix to /export/home/fornax/jhoskins/Development/validation/astrohack-unit-test-docstrings/stakeholder_test/.baseline_distance_matrix.csv ...\n"
     ]
    }
   ],
   "source": [
    "# Here I reduced the size of the holog_obs_dict for quicker testing. You can comment this out of edit it as needed depending on your testing goals.\n",
    "\n",
    "from astrohack.extract_holog import generate_holog_obs_dict\n",
    "\n",
    "holog_obs_dict = generate_holog_obs_dict(\n",
    "    ms_name=ms_file,\n",
    "    point_name=\"data/otf33.point.zarr\",\n",
    ")"
   ]
  },
  {
   "cell_type": "markdown",
   "id": "2f8a0805-1da5-4293-872c-cc64f6de3a3f",
   "metadata": {},
   "source": [
    "### The holog observations dictionary has now been turned into an extended dictionary object similar to the `holog_mds`. There are a couple of new functionalities available to the user now:\n",
    "\n",
    "- The `select` function allows the user to trim the holog_obs_dict on all major axes (ddi, map, antenna, scan, baseline) in a much simpler way than previsouly.\n",
    "- The `print` function allows the user to inspect the holog_obs_dict with both a static, ascii print out style and a dynamic, collapsible json style.\n",
    "- A static method is available to allow the user to select the `n` closest baseline associated with a given mapping antenna adn return them in a list that cane be used with the baseline key option allowing the user to trim the holog_obs_dict based on baseline.\n",
    "\n",
    "### Each of these options is demonstrated below."
   ]
  },
  {
   "cell_type": "code",
   "execution_count": 9,
   "id": "9a65d569-9d62-4082-818c-3cef803ffb9a",
   "metadata": {
    "tags": []
   },
   "outputs": [],
   "source": [
    "#get_nearest_baselines(antenna=\"ea25\", n_baselines=5)"
   ]
  },
  {
   "cell_type": "code",
   "execution_count": 10,
   "id": "a9888297-948e-4f34-a921-1b6e73c2041a",
   "metadata": {
    "tags": []
   },
   "outputs": [
    {
     "data": {
      "application/json": {
       "ddi_0": {
        "map_0": {
         "ant": {
          "ea02": [
           "ea17",
           "ea12",
           "ea23",
           "ea01",
           "ea19",
           "ea20",
           "ea03",
           "ea18",
           "ea28"
          ],
          "ea04": [
           "ea17",
           "ea12",
           "ea23",
           "ea01",
           "ea19",
           "ea20",
           "ea03",
           "ea18",
           "ea28"
          ],
          "ea08": [
           "ea17",
           "ea12",
           "ea23",
           "ea01",
           "ea19",
           "ea20",
           "ea03",
           "ea18",
           "ea28"
          ],
          "ea09": [
           "ea17",
           "ea12",
           "ea23",
           "ea01",
           "ea19",
           "ea20",
           "ea03",
           "ea18",
           "ea28"
          ],
          "ea11": [
           "ea17",
           "ea12",
           "ea23",
           "ea01",
           "ea19",
           "ea20",
           "ea03",
           "ea18",
           "ea28"
          ],
          "ea13": [
           "ea17",
           "ea12",
           "ea23",
           "ea01",
           "ea19",
           "ea20",
           "ea03",
           "ea18",
           "ea28"
          ],
          "ea14": [
           "ea17",
           "ea12",
           "ea23",
           "ea01",
           "ea19",
           "ea20",
           "ea03",
           "ea18",
           "ea28"
          ],
          "ea15": [
           "ea17",
           "ea12",
           "ea23",
           "ea01",
           "ea19",
           "ea20",
           "ea03",
           "ea18",
           "ea28"
          ],
          "ea16": [
           "ea17",
           "ea12",
           "ea23",
           "ea01",
           "ea19",
           "ea20",
           "ea03",
           "ea18",
           "ea28"
          ],
          "ea21": [
           "ea17",
           "ea12",
           "ea23",
           "ea01",
           "ea19",
           "ea20",
           "ea03",
           "ea18",
           "ea28"
          ],
          "ea22": [
           "ea17",
           "ea12",
           "ea23",
           "ea01",
           "ea19",
           "ea20",
           "ea03",
           "ea18",
           "ea28"
          ],
          "ea24": [
           "ea17",
           "ea12",
           "ea23",
           "ea01",
           "ea19",
           "ea20",
           "ea03",
           "ea18",
           "ea28"
          ],
          "ea25": [
           "ea17",
           "ea12",
           "ea23",
           "ea01",
           "ea19",
           "ea20",
           "ea03",
           "ea18",
           "ea28"
          ],
          "ea26": [
           "ea17",
           "ea12",
           "ea23",
           "ea01",
           "ea19",
           "ea20",
           "ea03",
           "ea18",
           "ea28"
          ],
          "ea27": [
           "ea17",
           "ea12",
           "ea23",
           "ea01",
           "ea19",
           "ea20",
           "ea03",
           "ea18",
           "ea28"
          ]
         },
         "scans": [
          6,
          7,
          8,
          9,
          10,
          11,
          12,
          13,
          14,
          15,
          16,
          17,
          19,
          20,
          21,
          22,
          23,
          24,
          25,
          26,
          27,
          28,
          29,
          30,
          35,
          36,
          37,
          38,
          39,
          40,
          41,
          42,
          43,
          44,
          45,
          46,
          48,
          49,
          50,
          51,
          52,
          53,
          54,
          55,
          56,
          57,
          58,
          59,
          64,
          65,
          66,
          67,
          68,
          69,
          70,
          71,
          72,
          73,
          74,
          75,
          77,
          78,
          79,
          80,
          81,
          82,
          83,
          84,
          85,
          86,
          87,
          88,
          93,
          94,
          95,
          96,
          97,
          98,
          99,
          100,
          101,
          102,
          103,
          104,
          106,
          107,
          108,
          109,
          110,
          111,
          112,
          113,
          114,
          115,
          116,
          117,
          122,
          123,
          124
         ]
        }
       },
       "ddi_1": {
        "map_0": {
         "ant": {
          "ea02": [
           "ea17",
           "ea12",
           "ea23",
           "ea01",
           "ea19",
           "ea20",
           "ea03",
           "ea18",
           "ea28"
          ],
          "ea04": [
           "ea17",
           "ea12",
           "ea23",
           "ea01",
           "ea19",
           "ea20",
           "ea03",
           "ea18",
           "ea28"
          ],
          "ea08": [
           "ea17",
           "ea12",
           "ea23",
           "ea01",
           "ea19",
           "ea20",
           "ea03",
           "ea18",
           "ea28"
          ],
          "ea09": [
           "ea17",
           "ea12",
           "ea23",
           "ea01",
           "ea19",
           "ea20",
           "ea03",
           "ea18",
           "ea28"
          ],
          "ea11": [
           "ea17",
           "ea12",
           "ea23",
           "ea01",
           "ea19",
           "ea20",
           "ea03",
           "ea18",
           "ea28"
          ],
          "ea13": [
           "ea17",
           "ea12",
           "ea23",
           "ea01",
           "ea19",
           "ea20",
           "ea03",
           "ea18",
           "ea28"
          ],
          "ea14": [
           "ea17",
           "ea12",
           "ea23",
           "ea01",
           "ea19",
           "ea20",
           "ea03",
           "ea18",
           "ea28"
          ],
          "ea15": [
           "ea17",
           "ea12",
           "ea23",
           "ea01",
           "ea19",
           "ea20",
           "ea03",
           "ea18",
           "ea28"
          ],
          "ea16": [
           "ea17",
           "ea12",
           "ea23",
           "ea01",
           "ea19",
           "ea20",
           "ea03",
           "ea18",
           "ea28"
          ],
          "ea21": [
           "ea17",
           "ea12",
           "ea23",
           "ea01",
           "ea19",
           "ea20",
           "ea03",
           "ea18",
           "ea28"
          ],
          "ea22": [
           "ea17",
           "ea12",
           "ea23",
           "ea01",
           "ea19",
           "ea20",
           "ea03",
           "ea18",
           "ea28"
          ],
          "ea24": [
           "ea17",
           "ea12",
           "ea23",
           "ea01",
           "ea19",
           "ea20",
           "ea03",
           "ea18",
           "ea28"
          ],
          "ea25": [
           "ea17",
           "ea12",
           "ea23",
           "ea01",
           "ea19",
           "ea20",
           "ea03",
           "ea18",
           "ea28"
          ],
          "ea26": [
           "ea17",
           "ea12",
           "ea23",
           "ea01",
           "ea19",
           "ea20",
           "ea03",
           "ea18",
           "ea28"
          ],
          "ea27": [
           "ea17",
           "ea12",
           "ea23",
           "ea01",
           "ea19",
           "ea20",
           "ea03",
           "ea18",
           "ea28"
          ]
         },
         "scans": [
          6,
          7,
          8,
          9,
          10,
          11,
          12,
          13,
          14,
          15,
          16,
          17,
          19,
          20,
          21,
          22,
          23,
          24,
          25,
          26,
          27,
          28,
          29,
          30,
          35,
          36,
          37,
          38,
          39,
          40,
          41,
          42,
          43,
          44,
          45,
          46,
          48,
          49,
          50,
          51,
          52,
          53,
          54,
          55,
          56,
          57,
          58,
          59,
          64,
          65,
          66,
          67,
          68,
          69,
          70,
          71,
          72,
          73,
          74,
          75,
          77,
          78,
          79,
          80,
          81,
          82,
          83,
          84,
          85,
          86,
          87,
          88,
          93,
          94,
          95,
          96,
          97,
          98,
          99,
          100,
          101,
          102,
          103,
          104,
          106,
          107,
          108,
          109,
          110,
          111,
          112,
          113,
          114,
          115,
          116,
          117,
          122,
          123,
          124
         ]
        }
       }
      },
      "text/plain": [
       "<IPython.core.display.JSON object>"
      ]
     },
     "execution_count": 10,
     "metadata": {
      "application/json": {
       "expanded": false,
       "root": "root"
      }
     },
     "output_type": "execute_result"
    }
   ],
   "source": [
    "# There are two options here for style, static and dynamic. Static returns a formatted ascii output while dynamic returns a dynamic json object.\n",
    "holog_obs_dict.print(style=\"dynamic\")"
   ]
  },
  {
   "cell_type": "markdown",
   "id": "c4a7e899-21a5-420a-8561-641a81bfe3ae",
   "metadata": {},
   "source": [
    "### `Select(key, value, inplace, **kwargs)`\n",
    "### The select function allows the user to trim the `holog_obs_dict`. The `key` (ddi, map, antenna, scan, baseline) input gives the dictionary key you would like to select and `value` is the value you want to keep. Everything else is deleted. There is also an `inplace` boolean input. This specifies whether you want to modify the calling dictionay or return a new dictionary. The additional arguments, `kwarags` is currently only useful for the baseline example explain further down.\n",
    "\n",
    "### One key feature is also that all select calls are chainable. This allows for selecting on mutiple keys in a simple modular way. An example is shown below."
   ]
  },
  {
   "cell_type": "code",
   "execution_count": 11,
   "id": "653ade80-3e79-4727-86ae-23944bfec2d1",
   "metadata": {
    "tags": []
   },
   "outputs": [],
   "source": [
    "# Select only ddi=0 and return a new dictionary, from the original dictionary above.\n",
    "#trimmed_dict = holog_obs_dict.select(key=\"ddi\", value=1, inplace=False)\n",
    "#trimmed_dict.print(style=\"dynamic\")"
   ]
  },
  {
   "cell_type": "code",
   "execution_count": 12,
   "id": "a16a20b1-6c49-4e8c-ab1a-46d2682cfd70",
   "metadata": {
    "tags": []
   },
   "outputs": [
    {
     "data": {
      "application/json": {
       "ddi_0": {
        "map_0": {
         "ant": {
          "ea15": [
           "ea17",
           "ea12",
           "ea23",
           "ea01",
           "ea19",
           "ea20",
           "ea03",
           "ea18",
           "ea28"
          ],
          "ea22": [
           "ea17",
           "ea12",
           "ea23",
           "ea01",
           "ea19",
           "ea20",
           "ea03",
           "ea18",
           "ea28"
          ],
          "ea25": [
           "ea17",
           "ea12",
           "ea23",
           "ea01",
           "ea19",
           "ea20",
           "ea03",
           "ea18",
           "ea28"
          ]
         },
         "scans": [
          6,
          7,
          8,
          9,
          10
         ]
        }
       }
      },
      "text/plain": [
       "<IPython.core.display.JSON object>"
      ]
     },
     "execution_count": 12,
     "metadata": {
      "application/json": {
       "expanded": false,
       "root": "root"
      }
     },
     "output_type": "execute_result"
    }
   ],
   "source": [
    "# Here we will select only following (key,value) pairs: \n",
    "#\n",
    "# ddi=0\n",
    "# map=0\n",
    "# scans=6, 7, 8, 9, 10\n",
    "# antenna='ea22', 'ea15', 'ea25'\n",
    "#\n",
    "# We do this using function chaining. Because each call returns a new object, another call can be directly invoked.\n",
    "\n",
    "trimmed_dict = holog_obs_dict.select(\n",
    "    key=\"ddi\", \n",
    "    value=0, \n",
    "    inplace=False\n",
    ").select(\n",
    "    key=\"map\", \n",
    "    value=0, \n",
    "    inplace=False\n",
    ").select(\n",
    "    key=\"scan\", \n",
    "    value=[6, 7, 8, 9, 10], \n",
    "    inplace=False\n",
    ").select(\n",
    "    key=\"antenna\", \n",
    "    value=['ea22', 'ea15', 'ea25'], \n",
    "    inplace=False\n",
    ")\n",
    "\n",
    "trimmed_dict.print(style=\"dynamic\")"
   ]
  },
  {
   "cell_type": "markdown",
   "id": "fa119aba-3b6a-4f8c-b4cd-aa6f996f14b7",
   "metadata": {},
   "source": [
    "### `Select(...)` with the baseline option:\n",
    "\n",
    "### In order to trim the dictionary based on the shortest baseline formed using a given mapping antenna we require the use of two functions. First we use the static method to get the reference antennas that for the `n` shortest baselines given and antenna."
   ]
  },
  {
   "cell_type": "code",
   "execution_count": 13,
   "id": "a3ba9864-fa57-40cd-8d79-621a25532594",
   "metadata": {
    "tags": []
   },
   "outputs": [
    {
     "data": {
      "text/plain": [
       "['ea23',\n",
       " 'ea22',\n",
       " 'ea28',\n",
       " 'ea12',\n",
       " 'ea13',\n",
       " 'ea18',\n",
       " 'ea09',\n",
       " 'ea16',\n",
       " 'ea01',\n",
       " 'ea19',\n",
       " 'ea14',\n",
       " 'ea27',\n",
       " 'ea08',\n",
       " 'ea26',\n",
       " 'ea04',\n",
       " 'ea17',\n",
       " 'ea11',\n",
       " 'ea25',\n",
       " 'ea02',\n",
       " 'ea20',\n",
       " 'ea03',\n",
       " 'ea24',\n",
       " 'ea21']"
      ]
     },
     "execution_count": 13,
     "metadata": {},
     "output_type": "execute_result"
    }
   ],
   "source": [
    "# Since it doesn't mdoify the dictionary object, this can be called on the new returned dictionary or the original dictionary. The following \n",
    "# gives the antennas for the three shortest baselines formed with the mapping antenna, 'ea25'. Note these don't take into account whether the \n",
    "# antenna is reference or mapping, it only calculates the baseline lengths for reference.\n",
    "nearest_baselines = holog_obs_dict.get_nearest_baselines(antenna=\"ea15\", n_baselines=24)\n",
    "nearest_baselines"
   ]
  },
  {
   "cell_type": "code",
   "execution_count": 22,
   "id": "e5c8e74f-b2f5-4c42-8f76-98362210dc59",
   "metadata": {
    "tags": []
   },
   "outputs": [
    {
     "data": {
      "application/json": {
       "ddi_1": {
        "map_0": {
         "ant": {
          "ea15": [
           "ea23",
           "ea28",
           "ea12"
          ]
         },
         "scans": [
          6,
          7,
          8,
          9,
          10,
          11,
          12,
          13,
          14,
          15,
          16,
          17,
          19,
          20,
          21,
          22,
          23,
          24,
          25,
          26,
          27,
          28,
          29,
          30,
          35,
          36,
          37,
          38,
          39,
          40
         ]
        }
       }
      },
      "text/plain": [
       "<IPython.core.display.JSON object>"
      ]
     },
     "execution_count": 22,
     "metadata": {
      "application/json": {
       "expanded": false,
       "root": "root"
      }
     },
     "output_type": "execute_result"
    }
   ],
   "source": [
    "# With the reference antenna list in-hand we can now trim the dictionary using the select method as follows\n",
    "trimmed_dict = {}\n",
    "\n",
    "trimmed_dict = holog_obs_dict.select(\n",
    "    key=\"ddi\", \n",
    "    value=1,\n",
    "    inplace=False\n",
    ").select(\n",
    "    key=\"scan\", \n",
    "    value=[\n",
    "        6, 7, 8, 9, 10, 11, 12, 13, 14, 15,\n",
    "        16, 17, 19, 20, 21, 22, 23, 24, 25, \n",
    "        26, 27, 28, 29, 30, 35, 36, 37, 38, \n",
    "        39, 40\n",
    "    ],\n",
    "    inplace=False\n",
    ").select(\n",
    "    key=\"baseline\", \n",
    "    value=\"ea15\", \n",
    "    n_baselines=3, \n",
    "    inplace=False\n",
    ")\n",
    "\n",
    "trimmed_dict.print(style=\"dynamic\")"
   ]
  },
  {
   "cell_type": "code",
   "execution_count": null,
   "id": "6c4786e1-8a8f-4ef8-8687-f6a58cb45a52",
   "metadata": {
    "tags": []
   },
   "outputs": [],
   "source": [
    "# You will notice that there is a warning thrown below regarding the mutliple values of cell size and pixel number found in the pointing file\n",
    "# but suggested values are computed. They are NOT guarenteed to work though. For instance, below you will see the number of pixels is very small\n",
    "# and if you use the resonably calculated pixle value suggested, you will get a singular matrix. There is still work to be done.\n",
    "\n",
    "from astrohack.extract_holog import extract_holog\n",
    "\n",
    "holog_mds = extract_holog(\n",
    "    ms_name=ms_file,\n",
    "    point_name=\"data/otf33.point.zarr\",\n",
    "    holog_name=\"data/otf33.holog.zarr\",\n",
    "    holog_obs_dict=trimmed_dict,\n",
    "    data_column='CORRECTED_DATA',\n",
    "    parallel=True,\n",
    "    overwrite=True\n",
    ")"
   ]
  },
  {
   "cell_type": "code",
   "execution_count": null,
   "id": "2b15bda6-7248-4e86-982e-3ee7b7aa0c9d",
   "metadata": {
    "tags": []
   },
   "outputs": [],
   "source": [
    "with open(\"data/otf33.holog.zarr/.holog_attr\") as json_file:\n",
    "    json_object = json.load(json_file)\n",
    "    \n",
    "print(\"Cell size: \", json_object[\"cell_size\"])\n",
    "print(\"Number of pixels: \", json_object[\"n_pix\"])"
   ]
  },
  {
   "cell_type": "code",
   "execution_count": null,
   "id": "972a475f-9319-461f-98a9-3943bc9d2039",
   "metadata": {
    "tags": []
   },
   "outputs": [],
   "source": [
    "from astrohack.holog import holog\n",
    "\n",
    "image_mds = holog(\n",
    "    holog_name=\"data/otf33.holog.zarr\",\n",
    "    grid_size=np.array([30, 30]),\n",
    "    overwrite=True,\n",
    "    parallel=True\n",
    ")"
   ]
  },
  {
   "cell_type": "code",
   "execution_count": null,
   "id": "2c6cefba-c698-4f3c-a4de-3a42b58bd873",
   "metadata": {
    "tags": []
   },
   "outputs": [],
   "source": [
    "#\n",
    "# A list of colormaps available in matplotlib can be found here:\n",
    "#\n",
    "# https://matplotlib.org/stable/users/explain/colors/colormaps.html\n",
    "#\n",
    "\n",
    "image_mds.plot_apertures(\n",
    "    destination=\"plots\", \n",
    "    ant_id=\"ea25\",\n",
    "    colormap=\"RdYlGn\",\n",
    "    display=True\n",
    ")"
   ]
  }
 ],
 "metadata": {
  "kernelspec": {
   "display_name": "Python 3 (ipykernel)",
   "language": "python",
   "name": "python3"
  },
  "language_info": {
   "codemirror_mode": {
    "name": "ipython",
    "version": 3
   },
   "file_extension": ".py",
   "mimetype": "text/x-python",
   "name": "python",
   "nbconvert_exporter": "python",
   "pygments_lexer": "ipython3",
   "version": "3.8.16"
  }
 },
 "nbformat": 4,
 "nbformat_minor": 5
}
