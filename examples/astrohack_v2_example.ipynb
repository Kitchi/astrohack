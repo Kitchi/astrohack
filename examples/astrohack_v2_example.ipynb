{
 "cells": [
  {
   "cell_type": "code",
   "execution_count": null,
   "id": "5949d4af-19e7-4f9d-8480-b460ed23ce6b",
   "metadata": {},
   "outputs": [],
   "source": [
    "import os\n",
    "import tarfile\n",
    "import shutil\n",
    "import dask\n",
    "import requests\n",
    "import time\n",
    "import psutil\n",
    "\n",
    "import numpy as np\n",
    "import xarray as xr\n",
    "import matplotlib.pyplot as plt\n",
    "import matplotlib.patches as patches\n",
    "\n",
    "from astrohack import holog\n",
    "from astrohack.extract_holog import extract_holog\n",
    "from astrohack.dio import _load_holog_file\n",
    "from astrohack._utils._io import _make_ant_pnt_dict, _load_pnt_dict\n",
    "%matplotlib widget\n",
    "from dask.distributed import Client, LocalCluster\n",
    "import matplotlib.pyplot as plt\n",
    "from scipy import spatial"
   ]
  },
  {
   "cell_type": "code",
   "execution_count": null,
   "id": "ad262d63-9e61-4d12-8516-2f58207f3568",
   "metadata": {},
   "outputs": [],
   "source": [
    "# Only a single holography of VLA beam over scans 2,4,6,8,10,12,14,16,18,20,22 (ALMA can map an entire beam in a single scan).\n",
    "holog_obs_description = {0 :{'scans':[2,4,6,8,10,12,14,16,18,20,22],'ant':{'EA25':['EA08', 'EA04', 'EA12', 'EA27', 'EA19', 'EA07', 'EA21', 'EA03', 'EA11', 'EA05', 'EA01', 'EA09', 'EA24', 'EA22', 'EA14', 'EA18', 'EA02']}}}\n",
    "holog_obs_description['ddi'] = np.arange(16)\n",
    "\n",
    "extract_holog(\n",
    "    ms_name='ea25_cal_small.ms', \n",
    "    holog_name='ea25_cal_small', \n",
    "    holog_obs_dict=holog_obs_description,\n",
    "    data_col='DATA',\n",
    "    subscan_intent='MIXED',\n",
    "    parallel=False,\n",
    "    overwrite=True\n",
    ")"
   ]
  },
  {
   "cell_type": "code",
   "execution_count": null,
   "id": "67b1a88c-5a84-4b6a-bc92-2df5d75dd34b",
   "metadata": {},
   "outputs": [],
   "source": [
    "grid_size = None\n",
    "cell_size = None\n",
    "grid_interpolation_mode = 'linear' #'nearest' 'linear' 'cubic'\n",
    "chan_average = True\n",
    "chan_tolerance_factor = 0.005\n",
    "reference_scaling_frequency = None #1.5*10**10 #None #In Hz\n",
    "#spw_average if True users has to give reference_scaling_frequency\n",
    "scan_average = True\n",
    "holog(holog_file='ea25_cal_small.holog.zarr', padding_factor=50, \n",
    "      parallel=False,\n",
    "      grid_size=grid_size, cell_size=cell_size, grid_interpolation_mode=grid_interpolation_mode,\n",
    "      chan_average = chan_average, chan_tolerance_factor = chan_tolerance_factor,\n",
    "      reference_scaling_frequency=reference_scaling_frequency,\n",
    "      scan_average = scan_average,\n",
    "     )"
   ]
  },
  {
   "cell_type": "code",
   "execution_count": null,
   "id": "f3ca0586-b8a7-41c0-9456-ccefb9f33680",
   "metadata": {},
   "outputs": [],
   "source": [
    "%%time\n",
    "from astrohack.panel import panel\n",
    "image = 'ea25_cal_small'\n",
    "#ddi = [1] \n",
    "ddi = None\n",
    "\n",
    "panel(\n",
    "    holog_image=image, \n",
    "    outfile='hack_panel',\n",
    "    aipsdata=False, \n",
    "    unit='mm', \n",
    "    save_mask=True,\n",
    "    save_phase=True,\n",
    "    ddi=ddi\n",
    ")"
   ]
  }
 ],
 "metadata": {
  "kernelspec": {
   "display_name": "Python 3 (ipykernel)",
   "language": "python",
   "name": "python3"
  },
  "language_info": {
   "codemirror_mode": {
    "name": "ipython",
    "version": 3
   },
   "file_extension": ".py",
   "mimetype": "text/x-python",
   "name": "python",
   "nbconvert_exporter": "python",
   "pygments_lexer": "ipython3",
   "version": "3.8.15"
  }
 },
 "nbformat": 4,
 "nbformat_minor": 5
}
