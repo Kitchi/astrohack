{
 "cells": [
  {
   "cell_type": "code",
   "execution_count": null,
   "id": "5949d4af-19e7-4f9d-8480-b460ed23ce6b",
   "metadata": {},
   "outputs": [],
   "source": [
    "import os\n",
    "import tarfile\n",
    "import shutil\n",
    "import dask\n",
    "import requests\n",
    "import time\n",
    "import psutil\n",
    "\n",
    "import numpy as np\n",
    "import xarray as xr\n",
    "import matplotlib.pyplot as plt\n",
    "import matplotlib.patches as patches\n",
    "\n",
    "from astrohack import holog\n",
    "from astrohack.extract_holog import extract_holog\n",
    "from astrohack.dio import _load_holog_file\n",
    "from astrohack._utils._io import _make_ant_pnt_dict, _load_pnt_dict\n",
    "%matplotlib widget\n",
    "from dask.distributed import Client, LocalCluster\n",
    "import matplotlib.pyplot as plt\n",
    "from scipy import spatial"
   ]
  },
  {
   "cell_type": "code",
   "execution_count": null,
   "id": "ad262d63-9e61-4d12-8516-2f58207f3568",
   "metadata": {},
   "outputs": [],
   "source": [
    "# Only a single holography of VLA beam over scans 2,4,6,8,10,12,14,16,18,20,22 (ALMA can map an entire beam in a single scan).\n",
    "#holog_obs_description = {0 :{'scans':[2,4,6,8,10,12,14,16,18,20,22],'ant':{'EA25':['EA08', 'EA04', 'EA12', 'EA27', 'EA19', 'EA07', 'EA21', 'EA03', 'EA11', 'EA05', 'EA01', 'EA09', 'EA24', 'EA22', 'EA14', 'EA18', 'EA02']}}}\n",
    "holog_obs_description = {0 :{'scans':[2,4,6,8,10,12,14,16,18,20,22],'ant':{'EA25':['EA04']}}}\n",
    "holog_obs_description['ddi'] = np.arange(16)\n",
    "\n",
    "sel_ddi = [1]\n",
    "\n",
    "extract_holog(\n",
    "    ms_name='ea25/ea25_cal_small.ms', \n",
    "    holog_name='ea25/ea25_cal_small_1ref', \n",
    "    holog_obs_dict=holog_obs_description,\n",
    "    data_col='DATA',\n",
    "    subscan_intent='MIXED',\n",
    "    parallel=False,\n",
    "    overwrite=True,\n",
    "    sel_ddi=sel_ddi\n",
    ")"
   ]
  },
  {
   "cell_type": "code",
   "execution_count": 1,
   "id": "67b1a88c-5a84-4b6a-bc92-2df5d75dd34b",
   "metadata": {},
   "outputs": [
    {
     "name": "stderr",
     "output_type": "stream",
     "text": [
      "<frozen importlib._bootstrap>:219: RuntimeWarning: scipy._lib.messagestream.MessageStream size changed, may indicate binary incompatibility. Expected 56 from C header, got 64 from PyObject\n"
     ]
    },
    {
     "name": "stdout",
     "output_type": "stream",
     "text": [
      "[\u001b[01;34m2023-03-07 01:47:54.964968 System Info\u001b[01;00;39m]: Loading holography file ea25/ea25_cal_small_1ref.holog.zarr ...\n",
      "[\u001b[01;34m2023-03-07 01:47:54.968592 System Info\u001b[01;00;39m]: Cell size: [0.00062476 0.00062476] Grid size [31 31]\n",
      "(-0.024954214575700462-0.1105716438323725j) (-0.10330307074764278+0.016614910158750714j) (-0.024954214575700462-0.1105716438323725j) (-0.10330307074764278+0.016614910158750714j)\n",
      "0.11335255288207294 0.10463068223745771 0.11335255288207294 0.10463068223745771\n",
      "-102.7176620337067 170.86299444950316\n",
      "[\u001b[01;34m2023-03-07 01:47:55.153460 System Info\u001b[01;00;39m]: [_calculate_aperture_pattern] Calculating aperture illumination pattern ...\n",
      "[\u001b[01;34m2023-03-07 01:47:55.267432 System Info\u001b[01;00;39m]: [_holog_chunk] Applying phase correction ...\n"
     ]
    }
   ],
   "source": [
    "from astrohack import holog\n",
    "grid_size = None\n",
    "cell_size = None\n",
    "grid_interpolation_mode = 'linear' #'nearest' 'linear' 'cubic'\n",
    "chan_average = True\n",
    "chan_tolerance_factor = 0.005\n",
    "reference_scaling_frequency = None #1.5*10**10 #None #In Hz\n",
    "#spw_average if True users has to give reference_scaling_frequency\n",
    "scan_average = True\n",
    "holog(holog_file='ea25/ea25_cal_small_1ref.holog.zarr', padding_factor=50, \n",
    "      parallel=False,\n",
    "      grid_size=grid_size, cell_size=cell_size, grid_interpolation_mode=grid_interpolation_mode,\n",
    "      chan_average = chan_average, chan_tolerance_factor = chan_tolerance_factor,\n",
    "      reference_scaling_frequency=reference_scaling_frequency,\n",
    "      scan_average = scan_average,\n",
    "      to_stokes=True,\n",
    "     )"
   ]
  },
  {
   "cell_type": "code",
   "execution_count": null,
   "id": "f3ca0586-b8a7-41c0-9456-ccefb9f33680",
   "metadata": {},
   "outputs": [],
   "source": [
    "%%time\n",
    "from astrohack.panel import panel\n",
    "image = 'ea25/ea25_cal_small_1ref'\n",
    "#ddi = [1] \n",
    "ddi = None\n",
    "\n",
    "#[\"mean\", \"rigid\", \"corotated_scipy\", \"corotated_lst_sq\", \"corotated_robust\", \"xy_paraboloid\",\n",
    "#              \"rotated_paraboloid\", \"full_paraboloid_lst_sq\"]\n",
    "\n",
    "panel_kind = 'rigid'\n",
    "\n",
    "panel(\n",
    "    holog_image=image, \n",
    "    panel_kind=panel_kind,\n",
    "    outfile='ea25/ea25_cal_small_1ref'+panel_kind,\n",
    "    aipsdata=False, \n",
    "    unit='miliinches', \n",
    "    save_mask=True,\n",
    "    save_phase=True,\n",
    "    parallel=False\n",
    ")"
   ]
  },
  {
   "cell_type": "code",
   "execution_count": null,
   "id": "12eb2187-640e-4f5b-abe1-9fa1f0db2f51",
   "metadata": {},
   "outputs": [],
   "source": []
  },
  {
   "cell_type": "code",
   "execution_count": null,
   "id": "59de8461-fb7f-47e2-a378-f625b1059a9d",
   "metadata": {},
   "outputs": [],
   "source": []
  },
  {
   "cell_type": "code",
   "execution_count": null,
   "id": "2fc7c562-39c9-496d-a4ab-d0022fd77343",
   "metadata": {},
   "outputs": [],
   "source": []
  },
  {
   "cell_type": "markdown",
   "id": "244203c4-9e8a-4772-9415-867204a4e13a",
   "metadata": {},
   "source": [
    "Replace data for Panel"
   ]
  },
  {
   "cell_type": "code",
   "execution_count": null,
   "id": "a52f20cd-5541-4fc8-9ba6-c19a00c2bee3",
   "metadata": {},
   "outputs": [],
   "source": [
    "from astrohack._utils._fits_io import _read_fits, _aips_holog_to_xds"
   ]
  },
  {
   "cell_type": "code",
   "execution_count": null,
   "id": "1962d513-97db-4cad-985a-a09fb8f73cd8",
   "metadata": {},
   "outputs": [],
   "source": [
    "xds = _aips_holog_to_xds('panel-input-data/amp.fits','panel-input-data/dev.fits')"
   ]
  },
  {
   "cell_type": "code",
   "execution_count": null,
   "id": "cafaa02e-eb08-4e6f-ac41-b6d272c91bef",
   "metadata": {},
   "outputs": [],
   "source": [
    "import matplotlib.pyplot as plt\n",
    "\n",
    "plt.figure()\n",
    "plt.imshow(xds.DEVIATION)\n",
    "plt.show()"
   ]
  },
  {
   "cell_type": "code",
   "execution_count": null,
   "id": "a44cfcd1-1c47-40ec-9899-007310875b66",
   "metadata": {},
   "outputs": [],
   "source": [
    "import matplotlib.pyplot as plt\n",
    "\n",
    "plt.figure()\n",
    "plt.imshow(xds.AMPLITUDE)\n",
    "plt.show()"
   ]
  },
  {
   "cell_type": "code",
   "execution_count": null,
   "id": "11457024-9d43-4662-aad3-91b0920f8c0d",
   "metadata": {},
   "outputs": [],
   "source": [
    "import xarray as xr"
   ]
  },
  {
   "cell_type": "code",
   "execution_count": null,
   "id": "ff9b89cf-d5d6-4c3b-b27b-5f730377b046",
   "metadata": {},
   "outputs": [],
   "source": [
    "xds.to_zarr('ea25_aips.image.zarr')"
   ]
  },
  {
   "cell_type": "code",
   "execution_count": null,
   "id": "6dc7ea1f-45f1-44e7-9a03-e98721f2d8d2",
   "metadata": {},
   "outputs": [],
   "source": [
    "from astrohack.panel import panel\n",
    "image = '/Users/jsteeb/Dropbox/astrohack/examples/ea25/ea25_aips.image.zarr/24/1'\n",
    "#ddi = [1] \n",
    "ddi = None\n",
    "\n",
    "panel_kind = 'rigid'\n",
    "\n",
    "panel(\n",
    "    holog_image=image, \n",
    "    outfile='ea25/ea25_aips_'+panel_kind,\n",
    "    panel_kind = panel_kind,\n",
    "    aipsdata=True, \n",
    "    unit='miliinches', #mm, miliinches\n",
    "    save_mask=True,\n",
    "    save_phase=True,\n",
    "    parallel=False,\n",
    "    telescope=\"VLA\",\n",
    "    basename=\"EA\"\n",
    ")"
   ]
  },
  {
   "cell_type": "code",
   "execution_count": null,
   "id": "a0c20a0a-f997-4152-8828-0fd7992458ad",
   "metadata": {},
   "outputs": [],
   "source": []
  },
  {
   "cell_type": "code",
   "execution_count": null,
   "id": "4df53178-a0b8-4f42-8c0a-3e27afd7ff3e",
   "metadata": {},
   "outputs": [],
   "source": []
  }
 ],
 "metadata": {
  "kernelspec": {
   "display_name": "Python 3 (ipykernel)",
   "language": "python",
   "name": "python3"
  },
  "language_info": {
   "codemirror_mode": {
    "name": "ipython",
    "version": 3
   },
   "file_extension": ".py",
   "mimetype": "text/x-python",
   "name": "python",
   "nbconvert_exporter": "python",
   "pygments_lexer": "ipython3",
   "version": "3.8.15"
  }
 },
 "nbformat": 4,
 "nbformat_minor": 5
}
