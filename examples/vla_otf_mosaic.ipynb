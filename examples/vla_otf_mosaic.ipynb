{
 "cells": [
  {
   "cell_type": "code",
   "execution_count": 1,
   "id": "577375a1-d638-48e7-8220-d49d30e08f8f",
   "metadata": {},
   "outputs": [
    {
     "name": "stdout",
     "output_type": "stream",
     "text": [
      "evla.pnt.dict/0\n",
      "evla.pnt.dict/1\n",
      "evla.pnt.dict/3\n",
      "evla.pnt.dict/2\n"
     ]
    }
   ],
   "source": [
    "from astrohack._utils import make_ant_pnt_dict\n",
    "ms_name = \"evla_bctest.ms\"\n",
    "pnt_name = \"evla.pnt.dict\"\n",
    "ant_dict = make_ant_pnt_dict(ms_name,pnt_name,parallel=False)"
   ]
  },
  {
   "cell_type": "code",
   "execution_count": 2,
   "id": "0016bbdc-75bb-42d8-8708-6a814569bff3",
   "metadata": {},
   "outputs": [
    {
     "name": "stderr",
     "output_type": "stream",
     "text": [
      "2022-10-27 10:22:36,057 - distributed.diskutils - INFO - Found stale lock file and directory '/var/folders/79/617mn3ks34l63nk84y4pcsl40000gp/T/dask-worker-space/worker-185f1scc', purging\n",
      "2022-10-27 10:22:36,059 - distributed.diskutils - INFO - Found stale lock file and directory '/var/folders/79/617mn3ks34l63nk84y4pcsl40000gp/T/dask-worker-space/worker-pkw79_zi', purging\n",
      "2022-10-27 10:22:36,060 - distributed.diskutils - INFO - Found stale lock file and directory '/var/folders/79/617mn3ks34l63nk84y4pcsl40000gp/T/dask-worker-space/worker-vxhhzy9i', purging\n",
      "2022-10-27 10:22:36,061 - distributed.diskutils - INFO - Found stale lock file and directory '/var/folders/79/617mn3ks34l63nk84y4pcsl40000gp/T/dask-worker-space/worker-f0kds41b', purging\n"
     ]
    },
    {
     "name": "stdout",
     "output_type": "stream",
     "text": [
      "<Client: 'tcp://127.0.0.1:62481' processes=4 threads=4, memory=29.80 GiB>\n",
      "evla.pnt.dict/0\n",
      "evla.pnt.dict/1\n",
      "evla.pnt.dict/3\n",
      "evla.pnt.dict/2\n"
     ]
    }
   ],
   "source": [
    "from dask.distributed import Client, LocalCluster\n",
    "cluster = LocalCluster(n_workers=4, threads_per_worker=1, memory_limit='8GB')\n",
    "hack_client = Client(cluster)\n",
    "print(hack_client)\n",
    "\n",
    "ant_dict = make_ant_pnt_dict(ms_name,pnt_name,parallel=True)"
   ]
  },
  {
   "cell_type": "code",
   "execution_count": null,
   "id": "6ffa094f-9190-4a42-b193-75a38b831b14",
   "metadata": {},
   "outputs": [],
   "source": []
  },
  {
   "cell_type": "code",
   "execution_count": null,
   "id": "f443cc30-4091-4843-922a-f3490d76666c",
   "metadata": {},
   "outputs": [],
   "source": []
  }
 ],
 "metadata": {
  "kernelspec": {
   "display_name": "Python 3 (ipykernel)",
   "language": "python",
   "name": "python3"
  },
  "language_info": {
   "codemirror_mode": {
    "name": "ipython",
    "version": 3
   },
   "file_extension": ".py",
   "mimetype": "text/x-python",
   "name": "python",
   "nbconvert_exporter": "python",
   "pygments_lexer": "ipython3",
   "version": "3.8.12"
  }
 },
 "nbformat": 4,
 "nbformat_minor": 5
}
