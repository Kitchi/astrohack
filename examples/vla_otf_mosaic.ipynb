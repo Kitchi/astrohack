{
 "cells": [
  {
   "cell_type": "code",
   "execution_count": null,
   "id": "8aac547b-c78d-4abb-8460-f5de9b4c79bd",
   "metadata": {},
   "outputs": [],
   "source": [
    "%load_ext autoreload\n",
    "%autoreload 2"
   ]
  },
  {
   "cell_type": "code",
   "execution_count": null,
   "id": "577375a1-d638-48e7-8220-d49d30e08f8f",
   "metadata": {},
   "outputs": [],
   "source": [
    "%matplotlib widget\n",
    "from astrohack._utils import make_ant_pnt_dict\n",
    "ms_name = \"evla_bctest.ms\"\n",
    "pnt_name = \"evla.pnt.dict\"\n",
    "ant_dict = make_ant_pnt_dict(ms_name,pnt_name,parallel=False)"
   ]
  },
  {
   "cell_type": "code",
   "execution_count": null,
   "id": "03ce7bd1-9c9b-47f7-b15b-42787319ee3e",
   "metadata": {},
   "outputs": [],
   "source": [
    "i = 0\n",
    "plt.figure()\n",
    "plt.scatter(ant_dict[i].DIRECTIONAL_COSINES[:,0].values,ant_dict[i].DIRECTIONAL_COSINES[:,1].values)\n",
    "plt.xlabel('l')\n",
    "plt.ylabel('m')\n",
    "plt.show()"
   ]
  },
  {
   "cell_type": "code",
   "execution_count": null,
   "id": "b45b7087-c7f3-4002-a09b-3548b502dffb",
   "metadata": {},
   "outputs": [],
   "source": [
    "ant_dict[0]"
   ]
  },
  {
   "cell_type": "code",
   "execution_count": null,
   "id": "05af0566-56fc-4f8e-9623-67061c00c061",
   "metadata": {},
   "outputs": [],
   "source": [
    "ant_dict\n",
    "\n",
    "import matplotlib.pyplot as plt\n",
    "\n",
    "plt.figure()\n",
    "for i in range(4):\n",
    "    print(ant_dict[i].DIRECTION.shape)\n",
    "    #plt.plot(ant_dict[i].time.values,ant_dict[i].DIRECTION[:,0].values,label='dir ' + str(i))\n",
    "    #plt.plot(ant_dict[i].time.values,ant_dict[i].ENCODER[:,0].values,label='enc ' + str(i))\n",
    "    #plt.plot(ant_dict[i].time.values,ant_dict[i].TARGET[:,0].values,label='tar ' + str(i))\n",
    "    plt.plot(ant_dict[i].time.values,ant_dict[i].DIRECTIONAL_COSINES[:,0].values,label='l ' + str(i))\n",
    "plt.legend()\n",
    "plt.show()\n",
    "    \n",
    "plt.figure()\n",
    "for i in range(4):   \n",
    "    #plt.plot(ant_dict[i].time.values,ant_dict[i].DIRECTION[:,1].values,label='dir ' + str(i))\n",
    "    #plt.plot(ant_dict[i].time.values,ant_dict[i].ENCODER[:,1].values,label='enc ' + str(i))\n",
    "    #plt.plot(ant_dict[i].time.values,ant_dict[i].TARGET[:,1].values,label='tar ' + str(i))\n",
    "    plt.plot(ant_dict[i].time.values,ant_dict[i].DIRECTIONAL_COSINES[:,1].values,label='m ' + str(i))\n",
    "plt.legend()\n",
    "plt.show()\n",
    "ant_dict.keys()\n",
    "\n",
    "\n"
   ]
  },
  {
   "cell_type": "code",
   "execution_count": null,
   "id": "0c8e284f-2032-4ab8-9ca0-a17ad86fe12c",
   "metadata": {},
   "outputs": [],
   "source": [
    "ant_dict\n",
    "\n",
    "import matplotlib.pyplot as plt\n",
    "\n",
    "plt.figure()\n",
    "for i in range(4):\n",
    "    print(ant_dict[i].DIRECTION.shape)\n",
    "    plt.scatter(ant_dict[i].DIRECTION[:,0].values,ant_dict[i].DIRECTION[:,1].values)\n",
    "plt.show()\n",
    "\n",
    "plt.figure()\n",
    "for i in range(4):\n",
    "    plt.scatter(ant_dict[i].TARGET[:,0].values,ant_dict[i].TARGET[:,1].values)\n",
    "plt.show()\n",
    "    \n",
    "plt.figure()\n",
    "for i in range(4):\n",
    "    print(ant_dict[i].DIRECTION.shape)\n",
    "    plt.scatter(ant_dict[i].ENCODER[:,0].values,ant_dict[i].ENCODER[:,1].values)\n",
    "plt.show()"
   ]
  },
  {
   "cell_type": "code",
   "execution_count": null,
   "id": "0016bbdc-75bb-42d8-8708-6a814569bff3",
   "metadata": {},
   "outputs": [],
   "source": [
    "from dask.distributed import Client, LocalCluster\n",
    "cluster = LocalCluster(n_workers=4, threads_per_worker=1, memory_limit='8GB')\n",
    "hack_client = Client(cluster)\n",
    "print(hack_client)"
   ]
  },
  {
   "cell_type": "code",
   "execution_count": null,
   "id": "6ffa094f-9190-4a42-b193-75a38b831b14",
   "metadata": {},
   "outputs": [],
   "source": [
    "ant_dict = make_ant_pnt_dict(ms_name,pnt_name,parallel=True)"
   ]
  },
  {
   "cell_type": "code",
   "execution_count": null,
   "id": "f443cc30-4091-4843-922a-f3490d76666c",
   "metadata": {},
   "outputs": [],
   "source": [
    "ant_dict['0']"
   ]
  },
  {
   "cell_type": "code",
   "execution_count": null,
   "id": "86c99d16-5744-4969-b3a9-3829e336d700",
   "metadata": {},
   "outputs": [],
   "source": [
    "import time\n",
    "from astrohack._utils import make_ant_pnt_dict\n",
    "ms_name = \"J1924-2914.ms.split.calibrated.SPW3\"\n",
    "pnt_name = \"alma.pnt.dict\"\n",
    "start = time.time()\n",
    "ant_dict = make_ant_pnt_dict(ms_name,pnt_name,parallel=False)\n",
    "print(time.time()-start)"
   ]
  },
  {
   "cell_type": "code",
   "execution_count": null,
   "id": "59a5fc9f-051f-44e0-9f45-140850742ab8",
   "metadata": {},
   "outputs": [],
   "source": [
    "len(ant_dict.keys())"
   ]
  },
  {
   "cell_type": "code",
   "execution_count": null,
   "id": "e8262156-ffa4-4161-a744-d704e15c83da",
   "metadata": {},
   "outputs": [],
   "source": [
    "ant_dict\n",
    "\n",
    "import matplotlib.pyplot as plt\n",
    "\n",
    "plt.figure()\n",
    "for i in [0,20]:\n",
    "    print(ant_dict[i].DIRECTION.shape)\n",
    "    #plt.plot(ant_dict[i].time.values,ant_dict[i].DIRECTION[:,0].values,label='dir ' + str(i))\n",
    "    #plt.plot(ant_dict[i].time.values,ant_dict[i].ENCODER[:,0].values,label='enc ' + str(i))\n",
    "    #plt.plot(ant_dict[i].time.values,ant_dict[i].TARGET[:,0].values,label='tar ' + str(i))\n",
    "    plt.plot(ant_dict[i].time.values,ant_dict[i].DIRECTIONAL_COSINES[:,0].values,label='tar ' + str(i))\n",
    "plt.legend()\n",
    "plt.show()\n",
    "    \n",
    "plt.figure()\n",
    "for i in [0,20]:   \n",
    "    #plt.plot(ant_dict[i].time.values,ant_dict[i].DIRECTION[:,1].values,label='dir ' + str(i))\n",
    "    #plt.plot(ant_dict[i].time.values,ant_dict[i].ENCODER[:,1].values,label='enc ' + str(i))\n",
    "    #plt.plot(ant_dict[i].time.values,ant_dict[i].TARGET[:,1].values,label='tar ' + str(i))\n",
    "    plt.plot(ant_dict[i].time.values,ant_dict[i].DIRECTIONAL_COSINES[:,1].values,label='tar ' + str(i))\n",
    "plt.legend()\n",
    "plt.show()\n",
    "ant_dict.keys()"
   ]
  },
  {
   "cell_type": "code",
   "execution_count": null,
   "id": "df319696-dbca-4ca4-8d34-841f83e03b5e",
   "metadata": {},
   "outputs": [],
   "source": [
    "i = 0\n",
    "plt.figure()\n",
    "plt.scatter(ant_dict[i].DIRECTIONAL_COSINES[:,0].values,ant_dict[i].DIRECTIONAL_COSINES[:,1].values)\n",
    "plt.xlabel('l')\n",
    "plt.ylabel('m')\n",
    "plt.show()"
   ]
  },
  {
   "cell_type": "code",
   "execution_count": null,
   "id": "063c7651-0f2e-4343-a6da-dbbea28ae856",
   "metadata": {},
   "outputs": [],
   "source": [
    "a - 3"
   ]
  },
  {
   "cell_type": "code",
   "execution_count": null,
   "id": "ed156562-8ae4-493e-a3cd-29afb836ef35",
   "metadata": {},
   "outputs": [],
   "source": [
    "%load_ext autoreload\n",
    "%autoreload 2"
   ]
  },
  {
   "cell_type": "code",
   "execution_count": 1,
   "id": "697d26e4-b393-4bbc-9c6a-01526eb2c12a",
   "metadata": {},
   "outputs": [
    {
     "name": "stdout",
     "output_type": "stream",
     "text": [
      "J1924-2914.ms.split.calibrated.SPW3/DATA_DESCRIPTION\n",
      "Processing ddi: 0, scan: 2\n",
      "dict_keys(['ms_name', 'hack_name', 'pnt_name', 'ddi', 'data_col', 'chan_setup', 'pol_setup', 'map_ant_ids', 'map_ant_names', 'ref_ant_ids', 'sel_state_ids', 'scan'])\n",
      "9.557066202163696\n",
      "Time to unique  0.019659042358398438\n",
      "complex64\n",
      "Time to extract_holog_chunk_jit  21.809481859207153\n",
      "Time to extract_pointing_chunk  187.7027850151062\n",
      "(2401,) (64,) (4,)\n",
      "In scan  2  antenna  18  is flagged\n",
      "create_map_hack_xds_dict  2.130810022354126\n",
      "Done\n",
      "Processing ddi: 0, scan: 6\n",
      "dict_keys(['ms_name', 'hack_name', 'pnt_name', 'ddi', 'data_col', 'chan_setup', 'pol_setup', 'map_ant_ids', 'map_ant_names', 'ref_ant_ids', 'sel_state_ids', 'scan'])\n",
      "9.074718952178955\n",
      "Time to unique  0.01648879051208496\n",
      "complex64\n",
      "Time to extract_holog_chunk_jit  18.93487000465393\n",
      "Time to extract_pointing_chunk  205.5096471309662\n",
      "(2401,) (64,) (4,)\n",
      "In scan  6  antenna  18  is flagged\n",
      "create_map_hack_xds_dict  1.913985013961792\n",
      "Done\n",
      "Processing ddi: 0, scan: 10\n",
      "dict_keys(['ms_name', 'hack_name', 'pnt_name', 'ddi', 'data_col', 'chan_setup', 'pol_setup', 'map_ant_ids', 'map_ant_names', 'ref_ant_ids', 'sel_state_ids', 'scan'])\n",
      "8.21728515625\n",
      "Time to unique  0.01367807388305664\n",
      "complex64\n",
      "Time to extract_holog_chunk_jit  19.37634587287903\n",
      "Time to extract_pointing_chunk  202.68510961532593\n",
      "(2401,) (64,) (4,)\n",
      "In scan  10  antenna  18  is flagged\n",
      "create_map_hack_xds_dict  1.8247520923614502\n",
      "Done\n",
      "Processing ddi: 0, scan: 4\n",
      "dict_keys(['ms_name', 'hack_name', 'pnt_name', 'ddi', 'data_col', 'chan_setup', 'pol_setup', 'map_ant_ids', 'map_ant_names', 'ref_ant_ids', 'sel_state_ids', 'scan'])\n",
      "8.389840841293335\n",
      "Time to unique  0.013910770416259766\n",
      "complex64\n",
      "Time to extract_holog_chunk_jit  56.88981294631958\n",
      "Time to extract_pointing_chunk  198.74552607536316\n",
      "(2401,) (64,) (4,)\n",
      "create_map_hack_xds_dict  1.8955090045928955\n",
      "Done\n",
      "Processing ddi: 0, scan: 8\n",
      "dict_keys(['ms_name', 'hack_name', 'pnt_name', 'ddi', 'data_col', 'chan_setup', 'pol_setup', 'map_ant_ids', 'map_ant_names', 'ref_ant_ids', 'sel_state_ids', 'scan'])\n",
      "8.178378105163574\n",
      "Time to unique  0.012462139129638672\n",
      "complex64\n",
      "Time to extract_holog_chunk_jit  54.48945713043213\n",
      "Time to extract_pointing_chunk  197.00312209129333\n",
      "(2401,) (64,) (4,)\n",
      "create_map_hack_xds_dict  1.655886173248291\n",
      "Done\n",
      "Processing ddi: 0, scan: 12\n",
      "dict_keys(['ms_name', 'hack_name', 'pnt_name', 'ddi', 'data_col', 'chan_setup', 'pol_setup', 'map_ant_ids', 'map_ant_names', 'ref_ant_ids', 'sel_state_ids', 'scan'])\n",
      "8.309952020645142\n",
      "Time to unique  0.013014078140258789\n",
      "complex64\n",
      "Time to extract_holog_chunk_jit  54.418416023254395\n",
      "Time to extract_pointing_chunk  196.85610699653625\n",
      "(2401,) (64,) (4,)\n",
      "create_map_hack_xds_dict  1.7399928569793701\n",
      "Done\n"
     ]
    }
   ],
   "source": [
    "from astrohack.holog import exstract_holog\n",
    "ms_name = \"J1924-2914.ms.split.calibrated.SPW3\"\n",
    "DA = ['DA41', 'DA42', 'DA43', 'DA44', 'DA45', 'DA46', 'DA48', 'DA49', 'DA50', 'DA51', 'DA52', 'DA53', 'DA54', 'DA55', 'DA56', 'DA57', 'DA58', 'DA59']\n",
    "DV = ['DV02', 'DV03', 'DV04', 'DV11', 'DV12', 'DV13', 'DV14', 'DV15', 'DV16', 'DV17', 'DV18', 'DV19', 'DV20', 'DV21', 'DV22', 'DV23', 'DV24', 'DV25'] \n",
    "holog_obs_description = {0:{2:{'map':DV,'ref':DA}, 6:{'map':DV,'ref':DA}, 10:{'map':DV,'ref':DA},4:{'map':DA,'ref':DV}, 8:{'map':DA,'ref':DV}, 12:{'map':DA,'ref':DV}}} # DDI:{SCAN:{map:[ant names],ref:[ant names]}}\n",
    "hack_name = ms_name + '.hack.dict'\n",
    "\n",
    "exstract_holog(ms_name,hack_name,holog_obs_description,data_col='DATA',parallel=False)"
   ]
  },
  {
   "cell_type": "code",
   "execution_count": null,
   "id": "49f0a7cc-780e-48f6-a492-ddb981a013be",
   "metadata": {},
   "outputs": [],
   "source": []
  },
  {
   "cell_type": "code",
   "execution_count": null,
   "id": "e7bebdbd-73f6-4e51-9ddc-e0e8bcd88534",
   "metadata": {},
   "outputs": [],
   "source": []
  }
 ],
 "metadata": {
  "kernelspec": {
   "display_name": "Python 3 (ipykernel)",
   "language": "python",
   "name": "python3"
  },
  "language_info": {
   "codemirror_mode": {
    "name": "ipython",
    "version": 3
   },
   "file_extension": ".py",
   "mimetype": "text/x-python",
   "name": "python",
   "nbconvert_exporter": "python",
   "pygments_lexer": "ipython3",
   "version": "3.8.12"
  }
 },
 "nbformat": 4,
 "nbformat_minor": 5
}
