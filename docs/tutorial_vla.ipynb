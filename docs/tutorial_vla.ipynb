{
 "cells": [
  {
   "cell_type": "markdown",
   "id": "80ca8c71-4c92-41f6-8aee-a8aa4ee5fb2f",
   "metadata": {},
   "source": [
    "![astrohack](_media/astrohack_logo.png)"
   ]
  },
  {
   "cell_type": "markdown",
   "id": "e46c2166",
   "metadata": {},
   "source": [
    "# VLA Data Tutorial\n",
    "\n",
    "\n"
   ]
  },
  {
   "cell_type": "markdown",
   "id": "8f192eb8-7e2f-48a4-a04b-543629f3af79",
   "metadata": {},
   "source": [
    "## Download Tutorial Data"
   ]
  },
  {
   "cell_type": "code",
   "execution_count": null,
   "id": "ffb79bcd",
   "metadata": {
    "tags": []
   },
   "outputs": [],
   "source": [
    "from astrohack.gdown_utils import gdown_data\n",
    "\n",
    "gdown_data('ea25_cal_small_spw1_4_60_ea04_after.ms', download_folder='data')"
   ]
  },
  {
   "cell_type": "markdown",
   "id": "42331121-cc19-4f28-914b-fb5e495565bb",
   "metadata": {
    "tags": []
   },
   "source": [
    "## Setup Dask Local Cluster\n",
    "\n",
    "#### Here we initialize a Dask local client that will handle scheduling and managing of worker for the parallelization. The user has the option of choosing the number of cores and memory allocations for each worker howerver, we recommend a minimum of 8Gb per core with standard settings."
   ]
  },
  {
   "cell_type": "code",
   "execution_count": null,
   "id": "d6adf71a",
   "metadata": {
    "tags": []
   },
   "outputs": [],
   "source": [
    "from astrohack.astrohack_client import astrohack_local_client\n",
    "\n",
    "client = astrohack_local_client(cores=2, memory_limit='8GB')\n",
    "client"
   ]
  },
  {
   "cell_type": "markdown",
   "id": "a65ccd34-aa93-4689-bc5e-68d4775f759d",
   "metadata": {},
   "source": [
    "## Extract Holog\n",
    "\n",
    "#### The extraction and restructuring of the holography data if done using the `extract_holog` method. The input to `extract_holog` is a compound dictionary containing the holography-relevant run information including, *scan*, *mapping* and *antenna* information. The structure of the compound dictionary is shown below and the documentation can be found [here](https://astrohack.readthedocs.io/en/latest/_api/autoapi/astrohack/extract_holog/index.html).\n",
    "\n",
    "#### Inline information on the input paramters can also be gotten using `help(extract_holog)` in the cell."
   ]
  },
  {
   "cell_type": "code",
   "execution_count": null,
   "id": "0f6f37a0-4994-48b6-b930-7fb61e0d8db7",
   "metadata": {
    "tags": []
   },
   "outputs": [],
   "source": [
    "from astrohack.extract_holog import extract_holog\n",
    "\n",
    "scans=[\n",
    "    8, 9, 10, 12, 13, 14, 16, 17, 18, 23, 24, 25, \n",
    "    27, 28, 29, 31, 32, 33, 38, 39, 40, 42, 43, 44, \n",
    "    46, 47, 48, 53, 54, 55, 57\n",
    "]\n",
    "\n",
    "holog_obs_description = {\n",
    "    'map_0' :{\n",
    "        'scans': scans,\n",
    "        'ant':{\n",
    "            'ea25':[\n",
    "                'ea04'\n",
    "            ]\n",
    "        }\n",
    "    }, \n",
    "    'ddi':[0]\n",
    "}\n",
    "\n",
    "#holog_obs_description['ddi'] = [0]\n",
    "\n",
    "holog_mds = extract_holog(\n",
    "    ms_name='data/ea25_cal_small_spw1_4_60_ea04_after.ms', \n",
    "    holog_obs_dict=holog_obs_description,\n",
    "    data_col='CORRECTED_DATA',\n",
    "    parallel=True,\n",
    "    overwrite=True\n",
    ")"
   ]
  },
  {
   "cell_type": "markdown",
   "id": "108c9f23-1091-4dca-bb4e-b6fbf5f1abd3",
   "metadata": {},
   "source": [
    "#### The `holog_mds` object is a python dict containing the extracted holography data found in `.holog.zarr` but with extended functionality such as providing a summary of the run infomation in table form. Below for each `DDI` we can see the available `scan` and `antenna` information."
   ]
  },
  {
   "cell_type": "code",
   "execution_count": null,
   "id": "5e5127dd-5796-4d05-87c5-8d3747b44c54",
   "metadata": {
    "tags": []
   },
   "outputs": [],
   "source": [
    "holog_mds.summary()"
   ]
  },
  {
   "cell_type": "markdown",
   "id": "188ca309-8d58-4524-a3bd-b6143d1ddffd",
   "metadata": {},
   "source": [
    "#### In this case there is only one selction in the holography file but the `mds` meta data can be examined in the ordinary way. In addition to this the `numpy` arrays for the data are accessed in a manner similar to `pandas` tables. For instance accessing the data for the `DIRECTIONAL_COSINES` below would be simply\n",
    "```\n",
    ">> holog_mds['ddi_0']['map_0']['ant_ea25'].DIRECTIONAL_COSINES.values\n",
    ">> array([[-0.00433549, -0.0027946 ],\n",
    "       [-0.00870191, -0.00682571],\n",
    "       [-0.00965634, -0.00908509],\n",
    "       ...,\n",
    "       [ 0.00966373,  0.00957556],\n",
    "       [ 0.00966267,  0.00957601],\n",
    "       [ 0.00965895,  0.00956941]])\n",
    "\n",
    ">> holog_mds['ddi_0']['map_0']['ant_ea25'].DIRECTIONAL_COSINES.values.shape\n",
    ">> (9145, 2)\n",
    "\n",
    "```\n",
    "#### where the dimension are given in the `mds` output for each data variable (in this case `(time, lm)`). A more in-depth overview of how to interact with dask dataframe can be found [here](https://tutorial.dask.org/)."
   ]
  },
  {
   "cell_type": "code",
   "execution_count": null,
   "id": "44228223-1ea8-47a6-bf15-83ca36b8c6b3",
   "metadata": {
    "tags": []
   },
   "outputs": [],
   "source": [
    "holog_mds['ddi_0']['map_0']['ant_ea25']"
   ]
  },
  {
   "cell_type": "markdown",
   "id": "ab5d55ba-96fc-44bb-898f-8aefd7f6a8a3",
   "metadata": {},
   "source": [
    "## Holog\n",
    "\n",
    "#### The `holog` method processes the holography data and produces a holog image file on disk with the suffix, `.image.zarr`. It is required that the user provide the `grid_size` and `cell_size` when processing holography data. The `grid_size` defines the number of `l x m`  points used to when doing the gridding. The `cell_size` defines the value in arseconds of each grid spacing. More in-depth parameter information can be found in readthedocs [here](https://astrohack.readthedocs.io/en/latest/_api/autoapi/astrohack/holog/index.html).\n",
    "\n",
    "#### Inline information on the input paramters can also be gotten using `help(holog)` in the cell."
   ]
  },
  {
   "cell_type": "code",
   "execution_count": null,
   "id": "a0fe01a7-05d8-4865-825a-5eeda5c4042d",
   "metadata": {
    "tags": []
   },
   "outputs": [],
   "source": [
    "import numpy as np\n",
    "\n",
    "from astrohack import holog\n",
    "\n",
    "cell_size = np.array([-0.0006442, 0.0006442]) # arcseconds\n",
    "grid_size = np.array([31, 31])                # pixels\n",
    "\n",
    "image_mds = holog(\n",
    "    holog_name='data/ea25_cal_small_spw1_4_60_ea04_after.holog.zarr',\n",
    "    grid_size=grid_size, \n",
    "    cell_size=cell_size, \n",
    "    overwrite=True,\n",
    "    phase_fit=True,\n",
    "    apply_mask=True,\n",
    "    to_stokes=True,\n",
    "    parallel=True\n",
    ")"
   ]
  },
  {
   "cell_type": "code",
   "execution_count": null,
   "id": "c1e65b1e-6911-4ccd-a6e2-09617f36b511",
   "metadata": {
    "tags": []
   },
   "outputs": [],
   "source": [
    "image_mds.summary()"
   ]
  },
  {
   "cell_type": "markdown",
   "id": "9c1a32d2-e5ef-44e8-84ec-f3df4d208f15",
   "metadata": {},
   "source": [
    "#### Each of the holography output files is a compound dictionary with respect to the run parameters and contains a Dask Dataframe, this means that the holography files have access to all native Dask functionality. The user can use their favorite plotting package to visualize the data or use Dask's internal functions to do simple filtering and plotting."
   ]
  },
  {
   "cell_type": "code",
   "execution_count": null,
   "id": "429fa9c6-956c-4b36-b09f-a7c62aabd293",
   "metadata": {
    "tags": []
   },
   "outputs": [],
   "source": [
    "image_mds['ant_ea25']['ddi_0'].ANGLE.isel(chan=0, pol=0).plot()"
   ]
  },
  {
   "cell_type": "markdown",
   "id": "0c6f2f8c-afae-48d5-9f07-d35e77ffe5cc",
   "metadata": {
    "tags": []
   },
   "source": [
    "## Panel"
   ]
  },
  {
   "cell_type": "code",
   "execution_count": null,
   "id": "2ce3462e-48b8-4826-adc3-e628fbc4fdab",
   "metadata": {
    "tags": []
   },
   "outputs": [],
   "source": [
    "from astrohack.panel import panel\n",
    "\n",
    "panel_model = 'rigid'\n",
    "\n",
    "panel_mds = panel(\n",
    "    image_name='data/ea25_cal_small_spw1_4_60_ea04_after.image.zarr', \n",
    "    panel_model=panel_model,\n",
    "    unit='mils', \n",
    "    parallel=True,\n",
    "    overwrite=True\n",
    ")\n",
    "\n",
    "panel_mds"
   ]
  },
  {
   "cell_type": "code",
   "execution_count": null,
   "id": "ce77dc75-71c5-4ec6-9628-b57b9c5648a3",
   "metadata": {},
   "outputs": [],
   "source": [
    "panel_mds.summary()"
   ]
  },
  {
   "cell_type": "code",
   "execution_count": null,
   "id": "91d99976-3fa8-4809-9758-20cbbd79c142",
   "metadata": {
    "tags": []
   },
   "outputs": [],
   "source": [
    "panel_mds['ant_ea25']['ddi_0']"
   ]
  }
 ],
 "metadata": {
  "kernelspec": {
   "display_name": "Python 3 (ipykernel)",
   "language": "python",
   "name": "python3"
  },
  "language_info": {
   "codemirror_mode": {
    "name": "ipython",
    "version": 3
   },
   "file_extension": ".py",
   "mimetype": "text/x-python",
   "name": "python",
   "nbconvert_exporter": "python",
   "pygments_lexer": "ipython3",
   "version": "3.8.16"
  }
 },
 "nbformat": 4,
 "nbformat_minor": 5
}
