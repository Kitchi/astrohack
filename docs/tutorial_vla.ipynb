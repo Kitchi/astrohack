{
 "cells": [
  {
   "cell_type": "markdown",
   "id": "e46c2166",
   "metadata": {},
   "source": [
    "# astroHACK VLA Tutorial\n",
    "\n",
    "\n"
   ]
  },
  {
   "cell_type": "markdown",
   "id": "8f192eb8-7e2f-48a4-a04b-543629f3af79",
   "metadata": {},
   "source": [
    "## Download Tutorial Data"
   ]
  },
  {
   "cell_type": "code",
   "execution_count": null,
   "id": "ffb79bcd",
   "metadata": {
    "tags": []
   },
   "outputs": [],
   "source": [
    "from astrohack.gdown_utils import gdown_data\n",
    "gdown_data('ea25_cal_small_spw1_4_60_ea04_after.ms',download_folder='data')"
   ]
  },
  {
   "cell_type": "markdown",
   "id": "42331121-cc19-4f28-914b-fb5e495565bb",
   "metadata": {
    "tags": []
   },
   "source": [
    "## Setup Dask Local Cluster"
   ]
  },
  {
   "cell_type": "code",
   "execution_count": null,
   "id": "d6adf71a",
   "metadata": {
    "tags": []
   },
   "outputs": [],
   "source": [
    "from astrohack.astrohack_client import astrohack_local_client\n",
    "\n",
    "client = astrohack_local_client(cores=2,memory_limit='8GB')\n",
    "client"
   ]
  },
  {
   "cell_type": "markdown",
   "id": "a65ccd34-aa93-4689-bc5e-68d4775f759d",
   "metadata": {},
   "source": [
    "## Extract Holog"
   ]
  },
  {
   "cell_type": "code",
   "execution_count": null,
   "id": "0f6f37a0-4994-48b6-b930-7fb61e0d8db7",
   "metadata": {
    "tags": []
   },
   "outputs": [],
   "source": [
    "from astrohack.extract_holog import extract_holog\n",
    "scans=[8,9,10,12,13,14,16,17,18,23,24,25,27,28,29,31,32,33,38,39,40,42,43,44,46,47,48,53,54,55,57]\n",
    "holog_obs_description = {'map_0' :{'scans':scans,'ant':{'ea25':['ea04']}}} #change 0 -> map_0\n",
    "holog_obs_description['ddi'] = [0]\n",
    "\n",
    "holog_mds = extract_holog(ms_name='data/ea25_cal_small_spw1_4_60_ea04_after.ms', \n",
    "                                     holog_obs_dict=holog_obs_description,\n",
    "                                     data_col='CORRECTED_DATA',\n",
    "                                     parallel=True,\n",
    "                                     overwrite=True,\n",
    "                                    )"
   ]
  },
  {
   "cell_type": "markdown",
   "id": "108c9f23-1091-4dca-bb4e-b6fbf5f1abd3",
   "metadata": {},
   "source": [
    "The holog_mds object is a python dict that has extended with the following functionality "
   ]
  },
  {
   "cell_type": "code",
   "execution_count": null,
   "id": "5e5127dd-5796-4d05-87c5-8d3747b44c54",
   "metadata": {
    "tags": []
   },
   "outputs": [],
   "source": [
    "holog_mds.summary()"
   ]
  },
  {
   "cell_type": "code",
   "execution_count": null,
   "id": "9cf00e53-a226-48f0-9a43-1d6a4a3cdf19",
   "metadata": {
    "tags": []
   },
   "outputs": [],
   "source": [
    "from astrohack._utils._dio_classes import AstrohackHologFile\n",
    "\n",
    "holog_mds = AstrohackHologFile('data/ea25_cal_small_spw1_4_60_ea04_after.holog.zarr')\n",
    "holog_mds.open()\n",
    "ds = holog_mds['ddi_0']['map_0']['ant_ea25']\n",
    "\n",
    "holog_correct_mds = AstrohackHologFile('data/correct/ea25_cal_small_spw1_4_60_ea04_after.holog.zarr')\n",
    "holog_correct_mds.open()\n",
    "c_ds = holog_correct_mds['ddi_0']['map_0']['ant_23']"
   ]
  },
  {
   "cell_type": "code",
   "execution_count": null,
   "id": "8b0b2423-225c-453f-bee5-f01a7cbcd8f5",
   "metadata": {
    "tags": []
   },
   "outputs": [],
   "source": [
    "c_ds"
   ]
  },
  {
   "cell_type": "code",
   "execution_count": null,
   "id": "b6385fe4-615a-455c-a533-c91cca06b084",
   "metadata": {
    "tags": []
   },
   "outputs": [],
   "source": [
    "ds"
   ]
  },
  {
   "cell_type": "code",
   "execution_count": null,
   "id": "44228223-1ea8-47a6-bf15-83ca36b8c6b3",
   "metadata": {
    "tags": []
   },
   "outputs": [],
   "source": []
  },
  {
   "cell_type": "markdown",
   "id": "ab5d55ba-96fc-44bb-898f-8aefd7f6a8a3",
   "metadata": {},
   "source": [
    "## Holog"
   ]
  },
  {
   "cell_type": "code",
   "execution_count": null,
   "id": "a0fe01a7-05d8-4865-825a-5eeda5c4042d",
   "metadata": {
    "tags": []
   },
   "outputs": [],
   "source": [
    "from astrohack import holog\n",
    "import numpy as np\n",
    "\n",
    "cell_size = np.array([-0.0006442, 0.0006442]) #arcseconds\n",
    "grid_size = np.array([31, 31]) #pixels\n",
    "\n",
    "image_mds = holog(holog_name='data/ea25_cal_small_spw1_4_60_ea04_after.holog.zarr',\n",
    "                  grid_size=grid_size, cell_size=cell_size, \n",
    "                  overwrite=True,\n",
    "                  phase_fit=True,\n",
    "                  apply_mask=True,\n",
    "                  to_stokes=True,\n",
    "                  parallel=True\n",
    "                 )"
   ]
  },
  {
   "cell_type": "code",
   "execution_count": null,
   "id": "c1e65b1e-6911-4ccd-a6e2-09617f36b511",
   "metadata": {
    "tags": []
   },
   "outputs": [],
   "source": [
    "image_mds.summary()"
   ]
  },
  {
   "cell_type": "code",
   "execution_count": null,
   "id": "60a3b78f-1ffc-4e08-9918-5d203dfecd2a",
   "metadata": {
    "tags": []
   },
   "outputs": [],
   "source": [
    "image_mds['ant_ea25']['ddi_0']"
   ]
  },
  {
   "cell_type": "code",
   "execution_count": null,
   "id": "429fa9c6-956c-4b36-b09f-a7c62aabd293",
   "metadata": {
    "tags": []
   },
   "outputs": [],
   "source": [
    "image_mds['ant_ea25']['ddi_0'].ANGLE.isel(chan=0,pol=0).plot()"
   ]
  },
  {
   "cell_type": "code",
   "execution_count": null,
   "id": "35ad5c5f-022f-405a-900a-6d851ffe67fa",
   "metadata": {
    "tags": []
   },
   "outputs": [],
   "source": [
    "from astrohack._utils._dio_classes import AstrohackImageFile\n",
    "\n",
    "image_mds = AstrohackImageFile('data/ea25_cal_small_spw1_4_60_ea04_after.image.zarr')\n",
    "image_mds.open()\n",
    "image_mds.summary()"
   ]
  },
  {
   "cell_type": "markdown",
   "id": "0c6f2f8c-afae-48d5-9f07-d35e77ffe5cc",
   "metadata": {
    "tags": []
   },
   "source": [
    "## Panel"
   ]
  },
  {
   "cell_type": "code",
   "execution_count": null,
   "id": "2ce3462e-48b8-4826-adc3-e628fbc4fdab",
   "metadata": {
    "tags": []
   },
   "outputs": [],
   "source": [
    "from astrohack.panel import panel\n",
    "panel_model = 'rigid'\n",
    "\n",
    "panel_mds = panel(\n",
    "                    image_name='data/ea25_cal_small_spw1_4_60_ea04_after.image.zarr', \n",
    "                    panel_model=panel_model,\n",
    "                    unit='mils', \n",
    "                    parallel=True,\n",
    "                    overwrite=True\n",
    "                )\n",
    "\n",
    "panel_mds"
   ]
  },
  {
   "cell_type": "code",
   "execution_count": null,
   "id": "4a5d9e75-2b9f-48f7-bf43-9bb68622b530",
   "metadata": {
    "tags": []
   },
   "outputs": [],
   "source": [
    "from astrohack._utils._dio_classes import AstrohackPanelFile\n",
    "\n",
    "a = AstrohackPanelFile('data/ea25_cal_small_spw1_4_60_ea04_after.panel.zarr')\n",
    "a.open()"
   ]
  },
  {
   "cell_type": "code",
   "execution_count": null,
   "id": "ce77dc75-71c5-4ec6-9628-b57b9c5648a3",
   "metadata": {},
   "outputs": [],
   "source": [
    "a.summary()"
   ]
  },
  {
   "cell_type": "code",
   "execution_count": null,
   "id": "91d99976-3fa8-4809-9758-20cbbd79c142",
   "metadata": {},
   "outputs": [],
   "source": []
  }
 ],
 "metadata": {
  "kernelspec": {
   "display_name": "Python 3 (ipykernel)",
   "language": "python",
   "name": "python3"
  },
  "language_info": {
   "codemirror_mode": {
    "name": "ipython",
    "version": 3
   },
   "file_extension": ".py",
   "mimetype": "text/x-python",
   "name": "python",
   "nbconvert_exporter": "python",
   "pygments_lexer": "ipython3",
   "version": "3.8.16"
  }
 },
 "nbformat": 4,
 "nbformat_minor": 5
}
