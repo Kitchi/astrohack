{
 "cells": [
  {
   "cell_type": "markdown",
   "id": "756761ad-fe5f-4de7-b02e-26ab85d7e2fe",
   "metadata": {},
   "source": [
    "[![Open In Colab](https://colab.research.google.com/assets/colab-badge.svg)](https://colab.research.google.com/github/casangi/astrohack/blob/main/docs/tutorial_vla.ipynb)"
   ]
  },
  {
   "cell_type": "markdown",
   "id": "80ca8c71-4c92-41f6-8aee-a8aa4ee5fb2f",
   "metadata": {},
   "source": [
    "![astrohack](_media/astrohack_logo.png)"
   ]
  },
  {
   "cell_type": "code",
   "execution_count": 1,
   "id": "7db6f868-030c-41ee-8188-c236aa675c27",
   "metadata": {
    "tags": []
   },
   "outputs": [
    {
     "name": "stdout",
     "output_type": "stream",
     "text": [
      "AstroHACK version 0.0.5 already installed.\n"
     ]
    }
   ],
   "source": [
    "import os\n",
    "\n",
    "from importlib.metadata import version\n",
    "\n",
    "try:\n",
    "    import astrohack\n",
    "    \n",
    "    print('AstroHACK version', version('astrohack'), 'already installed.')\n",
    "except ImportError as e:\n",
    "    print(e)\n",
    "    print('Installing AstroHACK')\n",
    "    \n",
    "    os.system(\"pip install astrohack\")\n",
    "    \n",
    "    import astrohack \n",
    "    print('astrohack version', version('astrohack'), ' installed.')"
   ]
  },
  {
   "cell_type": "markdown",
   "id": "e46c2166",
   "metadata": {},
   "source": [
    "# VLA Data Tutorial\n",
    "\n",
    "### Important External Information\n",
    "\n",
    "- #### xarray Official Documentation ([docs](https://docs.xarray.dev/en/stable/)).\n",
    "- #### Dask Official Documentation ([docs](https://www.dask.org/)).\n",
    "- #### zarr Official Documentation ([docs](https://zarr.readthedocs.io/en/stable/))"
   ]
  },
  {
   "cell_type": "markdown",
   "id": "8f192eb8-7e2f-48a4-a04b-543629f3af79",
   "metadata": {},
   "source": [
    "## Download Tutorial Data"
   ]
  },
  {
   "cell_type": "code",
   "execution_count": 2,
   "id": "ffb79bcd",
   "metadata": {
    "tags": []
   },
   "outputs": [
    {
     "name": "stderr",
     "output_type": "stream",
     "text": [
      "Downloading...\n",
      "From (uriginal): https://drive.google.com/u/0/uc?id=1PmWvPA0rUtAfegVu9wOb4AGJXiQIp3Cp&export=download\n",
      "From (redirected): https://drive.google.com/uc?id=1PmWvPA0rUtAfegVu9wOb4AGJXiQIp3Cp&export=download&confirm=t&uuid=1390c37b-f50e-4532-a096-ae044fff04bc\n",
      "To: /export/home/fornax/jhoskins/Development/astrohack/docs/data/ea25_cal_small_spw1_4_60_ea04_after.ms.zip\n",
      "100%|████████████████████████████████████████████████████████████████████████████████████████████████████████████████████████████████████████████████| 136M/136M [00:01<00:00, 98.5MB/s]\n"
     ]
    }
   ],
   "source": [
    "from astrohack.gdown_utils import gdown_data\n",
    "\n",
    "gdown_data('ea25_cal_small_spw1_4_60_ea04_after.ms', download_folder='data')"
   ]
  },
  {
   "cell_type": "markdown",
   "id": "81fa2ab3-b718-46e3-9dd0-b29eba815a57",
   "metadata": {},
   "source": [
    "## Holography Data File API\n",
    "\n",
    "As part of the `astroHACK` API a set of functions to allow users to easily open on disk holography files has been provided. Each function takes an `astroHACK` holography file name as an argument and returns an object related to the given file type, ie. holog, image, panel, point. Each object allows the user to access data via dictionary keys with values consisting of the relevant holography dataset. Each object also provides a `summary()` helper function to list available keys for each file. An example call for each file type is show below and the API documentation for all data-io functions can be found [here](https://astrohack.readthedocs.io/en/latest/_api/autoapi/astrohack/dio/index.html)."
   ]
  },
  {
   "cell_type": "code",
   "execution_count": 3,
   "id": "2f70a51f-a443-4316-809c-98d68dcc098c",
   "metadata": {
    "tags": []
   },
   "outputs": [
    {
     "name": "stderr",
     "output_type": "stream",
     "text": [
      "[Errno 2] No such file or directory: './data/ea25_cal_small_spw1_4_60_ea04_after.holog.zarr//.holog_attr'\n"
     ]
    },
    {
     "ename": "FileNotFoundError",
     "evalue": "[Errno 2] No such file or directory: './data/ea25_cal_small_spw1_4_60_ea04_after.holog.zarr//.holog_attr'",
     "output_type": "error",
     "traceback": [
      "\u001b[0;31m---------------------------------------------------------------------------\u001b[0m",
      "\u001b[0;31mFileNotFoundError\u001b[0m                         Traceback (most recent call last)",
      "Cell \u001b[0;32mIn[3], line 6\u001b[0m\n\u001b[1;32m      3\u001b[0m \u001b[38;5;28;01mfrom\u001b[39;00m \u001b[38;5;21;01mastrohack\u001b[39;00m\u001b[38;5;21;01m.\u001b[39;00m\u001b[38;5;21;01mdio\u001b[39;00m \u001b[38;5;28;01mimport\u001b[39;00m open_panel\n\u001b[1;32m      4\u001b[0m \u001b[38;5;28;01mfrom\u001b[39;00m \u001b[38;5;21;01mastrohack\u001b[39;00m\u001b[38;5;21;01m.\u001b[39;00m\u001b[38;5;21;01mdio\u001b[39;00m \u001b[38;5;28;01mimport\u001b[39;00m open_pointing\n\u001b[0;32m----> 6\u001b[0m holog_data \u001b[38;5;241m=\u001b[39m \u001b[43mopen_holog\u001b[49m\u001b[43m(\u001b[49m\u001b[43mfile\u001b[49m\u001b[38;5;241;43m=\u001b[39;49m\u001b[38;5;124;43m'\u001b[39;49m\u001b[38;5;124;43m./data/ea25_cal_small_spw1_4_60_ea04_after.holog.zarr\u001b[39;49m\u001b[38;5;124;43m'\u001b[39;49m\u001b[43m)\u001b[49m\n\u001b[1;32m      7\u001b[0m image_data \u001b[38;5;241m=\u001b[39m open_image(file\u001b[38;5;241m=\u001b[39m\u001b[38;5;124m'\u001b[39m\u001b[38;5;124m./data/ea25_cal_small_spw1_4_60_ea04_after.image.zarr\u001b[39m\u001b[38;5;124m'\u001b[39m)\n\u001b[1;32m      8\u001b[0m panel_data \u001b[38;5;241m=\u001b[39m open_panel(file\u001b[38;5;241m=\u001b[39m\u001b[38;5;124m'\u001b[39m\u001b[38;5;124m./data/ea25_cal_small_spw1_4_60_ea04_after.panel.zarr\u001b[39m\u001b[38;5;124m'\u001b[39m)\n",
      "File \u001b[0;32m/export/home/fornax/jhoskins/Development/astrohack/src/astrohack/dio.py:213\u001b[0m, in \u001b[0;36mopen_holog\u001b[0;34m(file)\u001b[0m\n\u001b[1;32m    209\u001b[0m logger \u001b[38;5;241m=\u001b[39m _get_astrohack_logger()\n\u001b[1;32m    211\u001b[0m _data_file \u001b[38;5;241m=\u001b[39m AstrohackHologFile(file\u001b[38;5;241m=\u001b[39mfile)\n\u001b[0;32m--> 213\u001b[0m \u001b[38;5;28;01mif\u001b[39;00m \u001b[43m_data_file\u001b[49m\u001b[38;5;241;43m.\u001b[39;49m\u001b[43mopen\u001b[49m\u001b[43m(\u001b[49m\u001b[43m)\u001b[49m:\n\u001b[1;32m    214\u001b[0m   \u001b[38;5;28;01mreturn\u001b[39;00m _data_file\n\u001b[1;32m    216\u001b[0m \u001b[38;5;28;01melse\u001b[39;00m:\n",
      "File \u001b[0;32m/export/home/fornax/jhoskins/Development/astrohack/src/astrohack/_utils/_dio.py:178\u001b[0m, in \u001b[0;36mAstrohackHologFile.open\u001b[0;34m(self, file, dask_load)\u001b[0m\n\u001b[1;32m    175\u001b[0m \u001b[38;5;28;01mif\u001b[39;00m file \u001b[38;5;129;01mis\u001b[39;00m \u001b[38;5;28;01mNone\u001b[39;00m:\n\u001b[1;32m    176\u001b[0m     file \u001b[38;5;241m=\u001b[39m \u001b[38;5;28mself\u001b[39m\u001b[38;5;241m.\u001b[39mfile\n\u001b[0;32m--> 178\u001b[0m \u001b[38;5;28mself\u001b[39m\u001b[38;5;241m.\u001b[39m_meta_data \u001b[38;5;241m=\u001b[39m \u001b[43m_read_meta_data\u001b[49m\u001b[43m(\u001b[49m\u001b[43mholog_file\u001b[49m\u001b[38;5;241;43m=\u001b[39;49m\u001b[43mfile\u001b[49m\u001b[43m)\u001b[49m\n\u001b[1;32m    180\u001b[0m \u001b[38;5;28;01mtry\u001b[39;00m:\n\u001b[1;32m    181\u001b[0m     _load_holog_file(holog_file\u001b[38;5;241m=\u001b[39mfile, dask_load\u001b[38;5;241m=\u001b[39mdask_load, load_pnt_dict\u001b[38;5;241m=\u001b[39m\u001b[38;5;28;01mFalse\u001b[39;00m, holog_dict\u001b[38;5;241m=\u001b[39m\u001b[38;5;28mself\u001b[39m)\n",
      "File \u001b[0;32m/export/home/fornax/jhoskins/Development/astrohack/src/astrohack/_utils/_io.py:318\u001b[0m, in \u001b[0;36m_read_meta_data\u001b[0;34m(holog_file)\u001b[0m\n\u001b[1;32m    316\u001b[0m logger \u001b[38;5;241m=\u001b[39m _get_astrohack_logger()\n\u001b[1;32m    317\u001b[0m \u001b[38;5;28;01mtry\u001b[39;00m:\n\u001b[0;32m--> 318\u001b[0m     \u001b[38;5;28;01mwith\u001b[39;00m \u001b[38;5;28;43mopen\u001b[39;49m\u001b[43m(\u001b[49m\u001b[38;5;124;43m\"\u001b[39;49m\u001b[38;5;132;43;01m{name}\u001b[39;49;00m\u001b[38;5;124;43m/\u001b[39;49m\u001b[38;5;132;43;01m{file}\u001b[39;49;00m\u001b[38;5;124;43m\"\u001b[39;49m\u001b[38;5;241;43m.\u001b[39;49m\u001b[43mformat\u001b[49m\u001b[43m(\u001b[49m\u001b[43mname\u001b[49m\u001b[38;5;241;43m=\u001b[39;49m\u001b[43mholog_file\u001b[49m\u001b[43m,\u001b[49m\u001b[43m \u001b[49m\u001b[43mfile\u001b[49m\u001b[38;5;241;43m=\u001b[39;49m\u001b[38;5;124;43m\"\u001b[39;49m\u001b[38;5;124;43m/.holog_attr\u001b[39;49m\u001b[38;5;124;43m\"\u001b[39;49m\u001b[43m)\u001b[49m\u001b[43m)\u001b[49m \u001b[38;5;28;01mas\u001b[39;00m json_file:\n\u001b[1;32m    319\u001b[0m         json_dict \u001b[38;5;241m=\u001b[39m json\u001b[38;5;241m.\u001b[39mload(json_file)\n\u001b[1;32m    321\u001b[0m \u001b[38;5;28;01mexcept\u001b[39;00m \u001b[38;5;167;01mException\u001b[39;00m \u001b[38;5;28;01mas\u001b[39;00m error:\n",
      "\u001b[0;31mFileNotFoundError\u001b[0m: [Errno 2] No such file or directory: './data/ea25_cal_small_spw1_4_60_ea04_after.holog.zarr//.holog_attr'"
     ]
    }
   ],
   "source": [
    "from astrohack.dio import open_holog\n",
    "from astrohack.dio import open_image\n",
    "from astrohack.dio import open_panel\n",
    "from astrohack.dio import open_pointing\n",
    "\n",
    "holog_data = open_holog(file='./data/ea25_cal_small_spw1_4_60_ea04_after.holog.zarr')\n",
    "image_data = open_image(file='./data/ea25_cal_small_spw1_4_60_ea04_after.image.zarr')\n",
    "panel_data = open_panel(file='./data/ea25_cal_small_spw1_4_60_ea04_after.panel.zarr')\n",
    "pointing_data = open_pointing(file='./data/ea25_cal_small_spw1_4_60_ea04_after.point.zarr')"
   ]
  },
  {
   "cell_type": "markdown",
   "id": "42331121-cc19-4f28-914b-fb5e495565bb",
   "metadata": {
    "tags": []
   },
   "source": [
    "## Setup Dask Local Cluster\n",
    "\n",
    "The local Dask client handles scheduling and worker managment for the parallelization. The user has the option of choosing the number of cores and memory allocations for each worker howerver, we recommend a minimum of 8Gb per core with standard settings.\n",
    "\n",
    "\n",
    "A significant amount of information related to the client and scheduling can be found using the [Dask Dashboard](https://docs.dask.org/en/stable/dashboard.html). This is a built in dashboard native to Dask and allows the user to monitor the workers during processing. This is especially useful for profilling. For those that are interested in working soley within Jupyterlab a dashboard extension is availabe for [Jupyterlab](https://github.com/dask/dask-labextension#dask-jupyterlab-extension).\n",
    "\n",
    "![dashboard](_media/dashboard.png)"
   ]
  },
  {
   "cell_type": "code",
   "execution_count": null,
   "id": "10dffc63-1907-497f-b025-392b5813eac9",
   "metadata": {
    "tags": []
   },
   "outputs": [],
   "source": [
    "from astrohack.astrohack_client import astrohack_local_client\n",
    "\n",
    "client = astrohack_local_client(cores=2, memory_limit='8GB')\n",
    "client"
   ]
  },
  {
   "cell_type": "markdown",
   "id": "a65ccd34-aa93-4689-bc5e-68d4775f759d",
   "metadata": {},
   "source": [
    "## Extract Holog\n",
    "\n",
    "The extraction and restructuring of the holography data if done using the `extract_holog` function. This function is a direct replacement for the `UVHOL` AIPS function. The input to `extract_holog` is a compound dictionary containing the holography-relevant run information: *scan*, *mapping* and *antenna* id. The structure input dictionary is shown below and a detail description of the structure of the *holog_obs_description* dictionary can be found in the documentation [here](https://astrohack.readthedocs.io/en/latest/_api/autoapi/astrohack/extract_holog/index.html).\n",
    "\n",
    "Inline information on the input paramters can also be gotten using `help(extract_holog)` in the cell."
   ]
  },
  {
   "cell_type": "code",
   "execution_count": null,
   "id": "0f6f37a0-4994-48b6-b930-7fb61e0d8db7",
   "metadata": {
    "tags": []
   },
   "outputs": [],
   "source": [
    "from astrohack.extract_holog import extract_holog\n",
    "\n",
    "scans=[\n",
    "    8, 9, 10, 12, 13, 14, 16, 17, 18, 23, 24, 25, \n",
    "    27, 28, 29, 31, 32, 33, 38, 39, 40, 42, 43, 44, \n",
    "    46, 47, 48, 53, 54, 55, 57\n",
    "]\n",
    "\n",
    "holog_obs_description = {\n",
    "    'map_0' :{\n",
    "        'scans': scans,\n",
    "        'ant':{\n",
    "            'ea25':[\n",
    "                'ea04'\n",
    "            ]\n",
    "        }\n",
    "    }, \n",
    "    'ddi':[0]\n",
    "}\n",
    "\n",
    "#holog_obs_description['ddi'] = [0]\n",
    "\n",
    "holog_mds = extract_holog(\n",
    "    ms_name='data/ea25_cal_small_spw1_4_60_ea04_after.ms', \n",
    "    holog_obs_dict=holog_obs_description,\n",
    "    data_col='CORRECTED_DATA',\n",
    "    parallel=True,\n",
    "    overwrite=True\n",
    ")"
   ]
  },
  {
   "cell_type": "markdown",
   "id": "108c9f23-1091-4dca-bb4e-b6fbf5f1abd3",
   "metadata": {},
   "source": [
    "Two files are created by `extract_holog`: The extracted pointing information in the form of `<point_name>.point.zarr` and the extracted holography data as `<point_name>.holog.zarr`. In addition, a holography data object is returned. This is the same holography data object returned by the hologrphy data API above. The `holog_mds` object is a python dict containing the extracted holography data found in `.holog.zarr` but with extended functionality such as providing a summary of the run infomation in table form. Below for each `DDI` we can see the available `scan` and `antenna` information.\n",
    "\n",
    "\n",
    "___point_name.point.zarr:___ <span style=\"color:red\"> The pointing zarr file contains position and pointing information extracted from the pointing table of the input measurement set. In addition, the antenna and mapping scan information is listed for each antenna. The pointing object is structured as a simple dictionary with `key:value` sets with the key being the antenna id and the value being the pointing dataset. </span>\n",
    "\n",
    "```\n",
    "point_mds = \n",
    "{\n",
    "   ant_0: point_ds,\n",
    "            ⋮\n",
    "   ant_n: point_ds\n",
    "}\n",
    "```\n"
   ]
  },
  {
   "cell_type": "markdown",
   "id": "702f7a0b-bc15-4ca9-a476-b655901cd23d",
   "metadata": {},
   "source": [
    "___holog_name.holog.zarr:___ <span style=\"color:red\"> The holog zarr file contains ungridded data extracted from the pointing and main tables in the measurement set. The holog file includes the directional, visibility and weight information recorded on a shared time axis; the sampling is done because the native sample rates between the pointing and main tables are not the same. In addition, the meta data such as sampled parallactic data (beginning, middle and end of scan) and l(m) extent is recorded in the file attributes. The holog file structure is a compound dictionary keyed according to `ddi` -> `map` -> `ant` with values consisting of the holog dataset. </span>\n",
    "\n",
    "```\n",
    "holog_mds = \n",
    "{\n",
    "   ddi_0:{\n",
    "          map_0:{\n",
    "                 ant_0: holog_ds,\n",
    "                          ⋮\n",
    "                 ant_n: holog_ds\n",
    "                },\n",
    "              ⋮\n",
    "          map_p: …\n",
    "         },\n",
    "       ⋮\n",
    "   ddi_m: …\n",
    "}\n",
    "\n",
    "```\n",
    "\n",
    "An example of the holog dataset object is show below."
   ]
  },
  {
   "cell_type": "code",
   "execution_count": null,
   "id": "f4ce2575-5925-4822-b426-fc8b67580e9e",
   "metadata": {
    "tags": []
   },
   "outputs": [],
   "source": [
    "holog_mds['ddi_0']['map_0']['ant_ea25']"
   ]
  },
  {
   "cell_type": "markdown",
   "id": "6b807ce2-9d85-440c-9c17-ec55f910345b",
   "metadata": {},
   "source": [
    "In this case, there is only one selection in the holography file as seen in the summary. Using the available keys we can see an overview of the Dask dataset structure. In addition, the numpy arrays for the data are accessed by calling `values` on a given dataset variable. For instance accessing the data for the `DIRECTIONAL_COSINES` below would be simply\n",
    "```\n",
    ">> holog_mds['ddi_0']['map_0']['ant_ea25'].DIRECTIONAL_COSINES.values\n",
    ">> array([[-0.00433549, -0.0027946 ],\n",
    "       [-0.00870191, -0.00682571],\n",
    "       [-0.00965634, -0.00908509],\n",
    "       ...,\n",
    "       [ 0.00966373,  0.00957556],\n",
    "       [ 0.00966267,  0.00957601],\n",
    "       [ 0.00965895,  0.00956941]])\n",
    "\n",
    ">> holog_mds['ddi_0']['map_0']['ant_ea25'].DIRECTIONAL_COSINES.values.shape\n",
    ">> (9145, 2)\n",
    "\n",
    "```\n",
    "where the dimension are given in the mds output for each data variable (in this case `(time, lm)`). A more in-depth overview of how to interact with Dask dataset can be found [here](https://tutorial.dask.org/).\n",
    "\n",
    "A summary of the available key values can be obtained using the summary convenience function."
   ]
  },
  {
   "cell_type": "code",
   "execution_count": null,
   "id": "5e5127dd-5796-4d05-87c5-8d3747b44c54",
   "metadata": {
    "tags": []
   },
   "outputs": [],
   "source": [
    "holog_mds.summary()"
   ]
  },
  {
   "cell_type": "markdown",
   "id": "ab5d55ba-96fc-44bb-898f-8aefd7f6a8a3",
   "metadata": {},
   "source": [
    "## Holog\n",
    "\n",
    "The `holog` function processes the holography data and produces a holog image file on disk with the suffix, `.image.zarr`. This function is a direct replacement for the `HOLOG` AIPS function. It is required that the user provide the `grid_size` and `cell_size` when processing holography data. The `grid_size` defines the number of `l x m`  points used to when doing the gridding. The `cell_size` defines the value in arseconds of each grid spacing. More in-depth parameter information can be found in readthedocs [here](https://astrohack.readthedocs.io/en/latest/_api/autoapi/astrohack/holog/index.html).\n",
    "\n",
    "Inline information on the input paramters can also be gotten using `help(holog)` in the cell."
   ]
  },
  {
   "cell_type": "code",
   "execution_count": null,
   "id": "a0fe01a7-05d8-4865-825a-5eeda5c4042d",
   "metadata": {
    "tags": []
   },
   "outputs": [],
   "source": [
    "import numpy as np\n",
    "\n",
    "from astrohack import holog\n",
    "\n",
    "cell_size = np.array([-0.0006442, 0.0006442]) # arcseconds\n",
    "grid_size = np.array([31, 31])                # pixels\n",
    "\n",
    "image_mds = holog(\n",
    "    holog_name='data/ea25_cal_small_spw1_4_60_ea04_after.holog.zarr',\n",
    "    grid_size=grid_size, \n",
    "    cell_size=cell_size, \n",
    "    overwrite=True,\n",
    "    phase_fit=True,\n",
    "    apply_mask=True,\n",
    "    to_stokes=True,\n",
    "    parallel=True\n",
    ")"
   ]
  },
  {
   "cell_type": "markdown",
   "id": "0beb9904-a5fb-48c6-8ddb-82e6f8678e3c",
   "metadata": {
    "tags": []
   },
   "source": [
    "___image_name.image.zarr:___ <span style=\"color:red\"> The image zarr file contains gridded image data the beam, extracted aperture and the amplitude and phase components. It also contains all of the relevant coordinate information. The image file structure is a compound dictionary keys according to `ant` -> `ddi` with the dictionary values consisting of the image dataset. </span>\n",
    "\n",
    "```\n",
    "image_mds = \n",
    "{\n",
    "   ant_0:{\n",
    "          ddi_0: image_ds,\n",
    "                 ⋮               \n",
    "          ddi_m: image_ds\n",
    "         },\n",
    "       ⋮\n",
    "   ant_n: …\n",
    "}\n",
    "\n",
    "```\n",
    "\n",
    "\n",
    "An example of the image dataset object is show below."
   ]
  },
  {
   "cell_type": "code",
   "execution_count": null,
   "id": "67f4ac19-5b40-4f93-8d6a-d5fd8362d517",
   "metadata": {
    "tags": []
   },
   "outputs": [],
   "source": [
    "image_mds['ant_ea25']['ddi_0']"
   ]
  },
  {
   "cell_type": "markdown",
   "id": "b879a189-d321-4f78-834d-5424a39d07a8",
   "metadata": {},
   "source": [
    "A summary of the available key values can be obtained using the summary convenience function."
   ]
  },
  {
   "cell_type": "code",
   "execution_count": null,
   "id": "c1e65b1e-6911-4ccd-a6e2-09617f36b511",
   "metadata": {
    "tags": []
   },
   "outputs": [],
   "source": [
    "image_mds.summary()"
   ]
  },
  {
   "cell_type": "markdown",
   "id": "9c1a32d2-e5ef-44e8-84ec-f3df4d208f15",
   "metadata": {},
   "source": [
    "Each of the holography output files is a compound dictionary with respect to the run parameters and contains a Dask Dataset, this means that the holography files have access to all native Dask functionality. The user can use their favorite plotting package to visualize the data or use Dask's internal functions to do simple filtering and plotting."
   ]
  },
  {
   "cell_type": "code",
   "execution_count": null,
   "id": "429fa9c6-956c-4b36-b09f-a7c62aabd293",
   "metadata": {
    "tags": []
   },
   "outputs": [],
   "source": [
    "image_mds['ant_ea25']['ddi_0'].ANGLE.isel(chan=0, pol=0).plot()"
   ]
  },
  {
   "cell_type": "markdown",
   "id": "0c6f2f8c-afae-48d5-9f07-d35e77ffe5cc",
   "metadata": {
    "tags": []
   },
   "source": [
    "## Panel\n",
    "\n",
    "The `panel` function takes the place of and expands the `PANEL` AIPS function to processes the image information and derives adjustements to the dish panels. This produces a file on disk of format `.panel.zarr` containing information on corrections, residuals and screw adjustments. As an added bonus the `panel` function has a helper function to convert aips data to astrohack format and process it using the `aips_holog_to_astrohack` function. For a full description of the operation and arguments of the `panel` function see [docs](https://astrohack.readthedocs.io/en/latest/_api/autoapi/astrohack/panel/index.html)."
   ]
  },
  {
   "cell_type": "code",
   "execution_count": null,
   "id": "2ce3462e-48b8-4826-adc3-e628fbc4fdab",
   "metadata": {
    "tags": []
   },
   "outputs": [],
   "source": [
    "from astrohack.panel import panel\n",
    "\n",
    "panel_model = 'rigid'\n",
    "\n",
    "panel_mds = panel(\n",
    "    image_name='data/ea25_cal_small_spw1_4_60_ea04_after.image.zarr', \n",
    "    panel_model=panel_model, \n",
    "    parallel=True,\n",
    "    overwrite=True\n",
    ")"
   ]
  },
  {
   "cell_type": "markdown",
   "id": "b623156c-691c-47fc-ad14-0b2d5a9a0d40",
   "metadata": {},
   "source": [
    "___panel_name.panel.zarr:___ <span style=\"color:red\"> The panel zarr file contains process information regarding the per panel scre corrections as well as residuals, masks and phase corrections used to produce them. The panel file structure is a compound dictionary keyed according to `ant` -> `ddi` with the value consisting of the panel dataset.</span>\n",
    "\n",
    "```\n",
    "panel_mds = \n",
    "{\n",
    "   ant_0:{\n",
    "          ddi_0: panel_ds,\n",
    "                 ⋮               \n",
    "          ddi_m: panel_ds\n",
    "         },\n",
    "       ⋮\n",
    "   ant_n: …\n",
    "\n",
    "```\n",
    "\n",
    "An example of the panel dataset object is show below."
   ]
  },
  {
   "cell_type": "code",
   "execution_count": null,
   "id": "033850be-7f56-447c-91a4-b5fb3d602a37",
   "metadata": {
    "tags": []
   },
   "outputs": [],
   "source": [
    "panel_mds['ant_ea25']['ddi_0']"
   ]
  },
  {
   "cell_type": "markdown",
   "id": "b4b5b594-0490-46fd-bc10-5c0eddaa1223",
   "metadata": {},
   "source": [
    "A summary of the available key values can be obtained using the summary convenience function."
   ]
  },
  {
   "cell_type": "code",
   "execution_count": null,
   "id": "ce77dc75-71c5-4ec6-9628-b57b9c5648a3",
   "metadata": {
    "tags": []
   },
   "outputs": [],
   "source": [
    "panel_mds.summary()"
   ]
  }
 ],
 "metadata": {
  "kernelspec": {
   "display_name": "Python 3 (ipykernel)",
   "language": "python",
   "name": "python3"
  },
  "language_info": {
   "codemirror_mode": {
    "name": "ipython",
    "version": 3
   },
   "file_extension": ".py",
   "mimetype": "text/x-python",
   "name": "python",
   "nbconvert_exporter": "python",
   "pygments_lexer": "ipython3",
   "version": "3.8.16"
  }
 },
 "nbformat": 4,
 "nbformat_minor": 5
}
