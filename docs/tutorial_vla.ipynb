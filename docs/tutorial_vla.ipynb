{
 "cells": [
  {
   "cell_type": "markdown",
   "id": "756761ad-fe5f-4de7-b02e-26ab85d7e2fe",
   "metadata": {},
   "source": [
    "[![Open In Colab](https://colab.research.google.com/assets/colab-badge.svg)](https://colab.research.google.com/github/casangi/astrohack/blob/main/docs/tutorial_vla.ipynb)"
   ]
  },
  {
   "cell_type": "markdown",
   "id": "80ca8c71-4c92-41f6-8aee-a8aa4ee5fb2f",
   "metadata": {},
   "source": [
    "![astrohack](_media/astrohack_logo.png)"
   ]
  },
  {
   "cell_type": "code",
   "execution_count": null,
   "id": "7db6f868-030c-41ee-8188-c236aa675c27",
   "metadata": {
    "tags": []
   },
   "outputs": [],
   "source": [
    "import os\n",
    "\n",
    "try:\n",
    "    import astrohack\n",
    "    \n",
    "    print('AstroHACK version', astrohack.__version__, 'already installed.')\n",
    "except ImportError as e:\n",
    "    print(e)\n",
    "    print('Installing AstroHACK')\n",
    "    \n",
    "    os.system(\"pip install astrohack\")\n",
    "    \n",
    "    import astrohack \n",
    "    print('astrohack version', astrohack.__version__, ' installed.')"
   ]
  },
  {
   "cell_type": "code",
   "execution_count": 1,
   "id": "4c5a7a11-67a1-4e5c-b688-8fed0f026ea5",
   "metadata": {},
   "outputs": [],
   "source": [
    "!pip install -e .. >> /dev/null"
   ]
  },
  {
   "cell_type": "markdown",
   "id": "e46c2166",
   "metadata": {},
   "source": [
    "# VLA Data Tutorial\n",
    "\n",
    "### Important External Information\n",
    "\n",
    "- #### xarray Official Documentation ([docs](https://docs.xarray.dev/en/stable/)).\n",
    "- #### Dask Official Documentation ([docs](https://www.dask.org/)).\n",
    "- #### zarr Official Documentation ([docs](https://zarr.readthedocs.io/en/stable/))"
   ]
  },
  {
   "cell_type": "markdown",
   "id": "8f192eb8-7e2f-48a4-a04b-543629f3af79",
   "metadata": {},
   "source": [
    "## Download Tutorial Data"
   ]
  },
  {
   "cell_type": "code",
   "execution_count": 3,
   "id": "ffb79bcd",
   "metadata": {
    "tags": []
   },
   "outputs": [
    {
     "data": {
      "text/html": [
       "<pre style=\"white-space:pre;overflow-x:auto;line-height:normal;font-family:Menlo,'DejaVu Sans Mono',consolas,'Courier New',monospace\"><span style=\"color: #7fbfbf; text-decoration-color: #7fbfbf\">[2023-12-15,13:53:04] </span><span style=\"color: #008000; text-decoration-color: #008000\">DEBUG   </span> Starting new HTTPS connection <span style=\"font-weight: bold\">(</span><span style=\"color: #008080; text-decoration-color: #008080; font-weight: bold\">1</span><span style=\"font-weight: bold\">)</span>: www.dropbox.com:<span style=\"color: #008080; text-decoration-color: #008080; font-weight: bold\">443</span>         <a href=\"file:///export/home/ajax/jhoskins/.local/lib/python3.8/site-packages/urllib3/connectionpool.py\" target=\"_blank\"><span style=\"color: #7f7f7f; text-decoration-color: #7f7f7f\">connectionpool.py</span></a><span style=\"color: #7f7f7f; text-decoration-color: #7f7f7f\">:</span><a href=\"file:///export/home/ajax/jhoskins/.local/lib/python3.8/site-packages/urllib3/connectionpool.py#971\" target=\"_blank\"><span style=\"color: #7f7f7f; text-decoration-color: #7f7f7f\">971</span></a>\n",
       "</pre>\n"
      ],
      "text/plain": [
       "\u001b[2;36m[2023-12-15,13:53:04]\u001b[0m\u001b[2;36m \u001b[0m\u001b[32mDEBUG   \u001b[0m Starting new HTTPS connection \u001b[1m(\u001b[0m\u001b[1;36m1\u001b[0m\u001b[1m)\u001b[0m: www.dropbox.com:\u001b[1;36m443\u001b[0m         \u001b]8;id=798211;file:///export/home/ajax/jhoskins/.local/lib/python3.8/site-packages/urllib3/connectionpool.py\u001b\\\u001b[2mconnectionpool.py\u001b[0m\u001b]8;;\u001b\\\u001b[2m:\u001b[0m\u001b]8;id=923481;file:///export/home/ajax/jhoskins/.local/lib/python3.8/site-packages/urllib3/connectionpool.py#971\u001b\\\u001b[2m971\u001b[0m\u001b]8;;\u001b\\\n"
      ]
     },
     "metadata": {},
     "output_type": "display_data"
    },
    {
     "data": {
      "text/html": [
       "<pre style=\"white-space:pre;overflow-x:auto;line-height:normal;font-family:Menlo,'DejaVu Sans Mono',consolas,'Courier New',monospace\"><span style=\"color: #7fbfbf; text-decoration-color: #7fbfbf\">[2023-12-15,13:53:05] </span><span style=\"color: #008000; text-decoration-color: #008000\">DEBUG   </span> <span style=\"color: #0000ff; text-decoration-color: #0000ff; text-decoration: underline\">https://www.dropbox.com:443</span> <span style=\"color: #008000; text-decoration-color: #008000\">\"</span><span style=\"color: #808000; text-decoration-color: #808000; font-weight: bold\">GET</span><span style=\"color: #008000; text-decoration-color: #008000\"> </span>                              <a href=\"file:///export/home/ajax/jhoskins/.local/lib/python3.8/site-packages/urllib3/connectionpool.py\" target=\"_blank\"><span style=\"color: #7f7f7f; text-decoration-color: #7f7f7f\">connectionpool.py</span></a><span style=\"color: #7f7f7f; text-decoration-color: #7f7f7f\">:</span><a href=\"file:///export/home/ajax/jhoskins/.local/lib/python3.8/site-packages/urllib3/connectionpool.py#452\" target=\"_blank\"><span style=\"color: #7f7f7f; text-decoration-color: #7f7f7f\">452</span></a>\n",
       "<span style=\"color: #7fbfbf; text-decoration-color: #7fbfbf\">                      </span>         <span style=\"color: #008000; text-decoration-color: #008000\">/scl/fi/o3tl05e3qa440s4rk5owf/ea25_cal_small_after_fixed.split</span> <span style=\"color: #7f7f7f; text-decoration-color: #7f7f7f\">                     </span>\n",
       "<span style=\"color: #7fbfbf; text-decoration-color: #7fbfbf\">                      </span>         <span style=\"color: #008000; text-decoration-color: #008000\">.ms.zip?rlkey=hoxte3zzeqgkju2ywnif2t7ko HTTP/1.1\"</span> <span style=\"color: #008080; text-decoration-color: #008080; font-weight: bold\">302</span> <span style=\"color: #800080; text-decoration-color: #800080; font-style: italic\">None</span>     <span style=\"color: #7f7f7f; text-decoration-color: #7f7f7f\">                     </span>\n",
       "</pre>\n"
      ],
      "text/plain": [
       "\u001b[2;36m[2023-12-15,13:53:05]\u001b[0m\u001b[2;36m \u001b[0m\u001b[32mDEBUG   \u001b[0m \u001b[4;94mhttps://www.dropbox.com:443\u001b[0m \u001b[32m\"\u001b[0m\u001b[1;33mGET\u001b[0m\u001b[32m \u001b[0m                              \u001b]8;id=414288;file:///export/home/ajax/jhoskins/.local/lib/python3.8/site-packages/urllib3/connectionpool.py\u001b\\\u001b[2mconnectionpool.py\u001b[0m\u001b]8;;\u001b\\\u001b[2m:\u001b[0m\u001b]8;id=101433;file:///export/home/ajax/jhoskins/.local/lib/python3.8/site-packages/urllib3/connectionpool.py#452\u001b\\\u001b[2m452\u001b[0m\u001b]8;;\u001b\\\n",
       "\u001b[2;36m                      \u001b[0m         \u001b[32m/scl/fi/o3tl05e3qa440s4rk5owf/ea25_cal_small_after_fixed.split\u001b[0m \u001b[2m                     \u001b[0m\n",
       "\u001b[2;36m                      \u001b[0m         \u001b[32m.ms.zip?\u001b[0m\u001b[32mrlkey\u001b[0m\u001b[32m=\u001b[0m\u001b[32mhoxte3zzeqgkju2ywnif2t7ko\u001b[0m\u001b[32m HTTP/1.1\"\u001b[0m \u001b[1;36m302\u001b[0m \u001b[3;35mNone\u001b[0m     \u001b[2m                     \u001b[0m\n"
      ]
     },
     "metadata": {},
     "output_type": "display_data"
    },
    {
     "data": {
      "text/html": [
       "<pre style=\"white-space:pre;overflow-x:auto;line-height:normal;font-family:Menlo,'DejaVu Sans Mono',consolas,'Courier New',monospace\"><span style=\"color: #7fbfbf; text-decoration-color: #7fbfbf\">                      </span><span style=\"color: #008000; text-decoration-color: #008000\">DEBUG   </span> Starting new HTTPS connection <span style=\"font-weight: bold\">(</span><span style=\"color: #008080; text-decoration-color: #008080; font-weight: bold\">1</span><span style=\"font-weight: bold\">)</span>:                             <a href=\"file:///export/home/ajax/jhoskins/.local/lib/python3.8/site-packages/urllib3/connectionpool.py\" target=\"_blank\"><span style=\"color: #7f7f7f; text-decoration-color: #7f7f7f\">connectionpool.py</span></a><span style=\"color: #7f7f7f; text-decoration-color: #7f7f7f\">:</span><a href=\"file:///export/home/ajax/jhoskins/.local/lib/python3.8/site-packages/urllib3/connectionpool.py#971\" target=\"_blank\"><span style=\"color: #7f7f7f; text-decoration-color: #7f7f7f\">971</span></a>\n",
       "<span style=\"color: #7fbfbf; text-decoration-color: #7fbfbf\">                      </span>         uc7e72083b15c449cba94a5fcf1e.dl.dropboxusercontent.com:<span style=\"color: #008080; text-decoration-color: #008080; font-weight: bold\">443</span>     <span style=\"color: #7f7f7f; text-decoration-color: #7f7f7f\">                     </span>\n",
       "</pre>\n"
      ],
      "text/plain": [
       "\u001b[2;36m                     \u001b[0m\u001b[2;36m \u001b[0m\u001b[32mDEBUG   \u001b[0m Starting new HTTPS connection \u001b[1m(\u001b[0m\u001b[1;36m1\u001b[0m\u001b[1m)\u001b[0m:                             \u001b]8;id=94202;file:///export/home/ajax/jhoskins/.local/lib/python3.8/site-packages/urllib3/connectionpool.py\u001b\\\u001b[2mconnectionpool.py\u001b[0m\u001b]8;;\u001b\\\u001b[2m:\u001b[0m\u001b]8;id=639404;file:///export/home/ajax/jhoskins/.local/lib/python3.8/site-packages/urllib3/connectionpool.py#971\u001b\\\u001b[2m971\u001b[0m\u001b]8;;\u001b\\\n",
       "\u001b[2;36m                      \u001b[0m         uc7e72083b15c449cba94a5fcf1e.dl.dropboxusercontent.com:\u001b[1;36m443\u001b[0m     \u001b[2m                     \u001b[0m\n"
      ]
     },
     "metadata": {},
     "output_type": "display_data"
    },
    {
     "data": {
      "text/html": [
       "<pre style=\"white-space:pre;overflow-x:auto;line-height:normal;font-family:Menlo,'DejaVu Sans Mono',consolas,'Courier New',monospace\"><span style=\"color: #7fbfbf; text-decoration-color: #7fbfbf\">[2023-12-15,13:53:06] </span><span style=\"color: #008000; text-decoration-color: #008000\">DEBUG   </span> <span style=\"color: #0000ff; text-decoration-color: #0000ff; text-decoration: underline\">https://uc7e72083b15c449cba94a5fcf1e.dl.dropboxusercontent.com</span> <a href=\"file:///export/home/ajax/jhoskins/.local/lib/python3.8/site-packages/urllib3/connectionpool.py\" target=\"_blank\"><span style=\"color: #7f7f7f; text-decoration-color: #7f7f7f\">connectionpool.py</span></a><span style=\"color: #7f7f7f; text-decoration-color: #7f7f7f\">:</span><a href=\"file:///export/home/ajax/jhoskins/.local/lib/python3.8/site-packages/urllib3/connectionpool.py#452\" target=\"_blank\"><span style=\"color: #7f7f7f; text-decoration-color: #7f7f7f\">452</span></a>\n",
       "<span style=\"color: #7fbfbf; text-decoration-color: #7fbfbf\">                      </span>         <span style=\"color: #0000ff; text-decoration-color: #0000ff; text-decoration: underline\">:443</span> <span style=\"color: #008000; text-decoration-color: #008000\">\"</span><span style=\"color: #808000; text-decoration-color: #808000; font-weight: bold\">GET</span><span style=\"color: #008000; text-decoration-color: #008000\"> </span>                                                     <span style=\"color: #7f7f7f; text-decoration-color: #7f7f7f\">                     </span>\n",
       "<span style=\"color: #7fbfbf; text-decoration-color: #7fbfbf\">                      </span>         <span style=\"color: #008000; text-decoration-color: #008000\">/cd/0/inline/CJdUQNxau-vy0KD5JvYIoxF7OzqZy6rsynRPsCWguWXsrMmF5</span> <span style=\"color: #7f7f7f; text-decoration-color: #7f7f7f\">                     </span>\n",
       "<span style=\"color: #7fbfbf; text-decoration-color: #7fbfbf\">                      </span>         <span style=\"color: #008000; text-decoration-color: #008000\">pSyzJxWk9HuGQHG_L7ZNjTydHMuvlQaV9vPYh_ClE7BjIe4NsPry62yH7I3Oul</span> <span style=\"color: #7f7f7f; text-decoration-color: #7f7f7f\">                     </span>\n",
       "<span style=\"color: #7fbfbf; text-decoration-color: #7fbfbf\">                      </span>         <span style=\"color: #008000; text-decoration-color: #008000\">UaGK7RDtWgB8TRouF9C-mjTX-OsEJdGU7IDbQuYYF/file HTTP/1.1\"</span> <span style=\"color: #008080; text-decoration-color: #008080; font-weight: bold\">302</span>   <span style=\"color: #7f7f7f; text-decoration-color: #7f7f7f\">                     </span>\n",
       "<span style=\"color: #7fbfbf; text-decoration-color: #7fbfbf\">                      </span>         <span style=\"color: #800080; text-decoration-color: #800080; font-style: italic\">None</span>                                                           <span style=\"color: #7f7f7f; text-decoration-color: #7f7f7f\">                     </span>\n",
       "</pre>\n"
      ],
      "text/plain": [
       "\u001b[2;36m[2023-12-15,13:53:06]\u001b[0m\u001b[2;36m \u001b[0m\u001b[32mDEBUG   \u001b[0m \u001b[4;94mhttps://uc7e72083b15c449cba94a5fcf1e.dl.dropboxusercontent.com\u001b[0m \u001b]8;id=647477;file:///export/home/ajax/jhoskins/.local/lib/python3.8/site-packages/urllib3/connectionpool.py\u001b\\\u001b[2mconnectionpool.py\u001b[0m\u001b]8;;\u001b\\\u001b[2m:\u001b[0m\u001b]8;id=471110;file:///export/home/ajax/jhoskins/.local/lib/python3.8/site-packages/urllib3/connectionpool.py#452\u001b\\\u001b[2m452\u001b[0m\u001b]8;;\u001b\\\n",
       "\u001b[2;36m                      \u001b[0m         \u001b[4;94m:443\u001b[0m \u001b[32m\"\u001b[0m\u001b[1;33mGET\u001b[0m\u001b[32m \u001b[0m                                                     \u001b[2m                     \u001b[0m\n",
       "\u001b[2;36m                      \u001b[0m         \u001b[32m/cd/0/inline/CJdUQNxau-vy0KD5JvYIoxF7OzqZy6rsynRPsCWguWXsrMmF5\u001b[0m \u001b[2m                     \u001b[0m\n",
       "\u001b[2;36m                      \u001b[0m         \u001b[32mpSyzJxWk9HuGQHG_L7ZNjTydHMuvlQaV9vPYh_ClE7BjIe4NsPry62yH7I3Oul\u001b[0m \u001b[2m                     \u001b[0m\n",
       "\u001b[2;36m                      \u001b[0m         \u001b[32mUaGK7RDtWgB8TRouF9C-mjTX-OsEJdGU7IDbQuYYF/file HTTP/1.1\"\u001b[0m \u001b[1;36m302\u001b[0m   \u001b[2m                     \u001b[0m\n",
       "\u001b[2;36m                      \u001b[0m         \u001b[3;35mNone\u001b[0m                                                           \u001b[2m                     \u001b[0m\n"
      ]
     },
     "metadata": {},
     "output_type": "display_data"
    },
    {
     "data": {
      "text/html": [
       "<pre style=\"white-space:pre;overflow-x:auto;line-height:normal;font-family:Menlo,'DejaVu Sans Mono',consolas,'Courier New',monospace\"><span style=\"color: #7fbfbf; text-decoration-color: #7fbfbf\">                      </span><span style=\"color: #008000; text-decoration-color: #008000\">DEBUG   </span> <span style=\"color: #0000ff; text-decoration-color: #0000ff; text-decoration: underline\">https://uc7e72083b15c449cba94a5fcf1e.dl.dropboxusercontent.com</span> <a href=\"file:///export/home/ajax/jhoskins/.local/lib/python3.8/site-packages/urllib3/connectionpool.py\" target=\"_blank\"><span style=\"color: #7f7f7f; text-decoration-color: #7f7f7f\">connectionpool.py</span></a><span style=\"color: #7f7f7f; text-decoration-color: #7f7f7f\">:</span><a href=\"file:///export/home/ajax/jhoskins/.local/lib/python3.8/site-packages/urllib3/connectionpool.py#452\" target=\"_blank\"><span style=\"color: #7f7f7f; text-decoration-color: #7f7f7f\">452</span></a>\n",
       "<span style=\"color: #7fbfbf; text-decoration-color: #7fbfbf\">                      </span>         <span style=\"color: #0000ff; text-decoration-color: #0000ff; text-decoration: underline\">:443</span> <span style=\"color: #008000; text-decoration-color: #008000\">\"</span><span style=\"color: #808000; text-decoration-color: #808000; font-weight: bold\">GET</span><span style=\"color: #008000; text-decoration-color: #008000\"> </span>                                                     <span style=\"color: #7f7f7f; text-decoration-color: #7f7f7f\">                     </span>\n",
       "<span style=\"color: #7fbfbf; text-decoration-color: #7fbfbf\">                      </span>         <span style=\"color: #008000; text-decoration-color: #008000\">/cd/0/inline2/CJcMAaRnPRAdjy1oAJ5nMmW_kDXbDKX8K01DNA1AtuckWSgk</span> <span style=\"color: #7f7f7f; text-decoration-color: #7f7f7f\">                     </span>\n",
       "<span style=\"color: #7fbfbf; text-decoration-color: #7fbfbf\">                      </span>         <span style=\"color: #008000; text-decoration-color: #008000\">oB-UP_wjZfw-1jDCWcOAcAs6z264UiUKVPzDObXxoanLf0OZgAv0h2Pm4CEVF3</span> <span style=\"color: #7f7f7f; text-decoration-color: #7f7f7f\">                     </span>\n",
       "<span style=\"color: #7fbfbf; text-decoration-color: #7fbfbf\">                      </span>         <span style=\"color: #008000; text-decoration-color: #008000\">j0G0gztCxnIf6HgWZYF_ydeJ40h9TS8YH_c0xdrzDo7lgbPzivdpbEw86lTWH9</span> <span style=\"color: #7f7f7f; text-decoration-color: #7f7f7f\">                     </span>\n",
       "<span style=\"color: #7fbfbf; text-decoration-color: #7fbfbf\">                      </span>         <span style=\"color: #008000; text-decoration-color: #008000\">6UFdiIWXj9t88A7rS9dyex9LFcVwN3N8qeyebsEZHCnLdZAksqbnSXPYJufljK</span> <span style=\"color: #7f7f7f; text-decoration-color: #7f7f7f\">                     </span>\n",
       "<span style=\"color: #7fbfbf; text-decoration-color: #7fbfbf\">                      </span>         <span style=\"color: #008000; text-decoration-color: #008000\">DcE4o9dtlq5gOUDocWuAq5Jm8M80Tsg58fV2LcSNMH0JbLUi8jaXOTHX81celC</span> <span style=\"color: #7f7f7f; text-decoration-color: #7f7f7f\">                     </span>\n",
       "<span style=\"color: #7fbfbf; text-decoration-color: #7fbfbf\">                      </span>         <span style=\"color: #008000; text-decoration-color: #008000\">eRyP7oYkt5LrwO8KPsuJcoLyKpWBJ7cYyqNKTPKpnpiJw21ABbKTa7aATPxRs0</span> <span style=\"color: #7f7f7f; text-decoration-color: #7f7f7f\">                     </span>\n",
       "<span style=\"color: #7fbfbf; text-decoration-color: #7fbfbf\">                      </span>         <span style=\"color: #008000; text-decoration-color: #008000\">zpM56PykI5xWmX7c7jPzdL1REMrBg/file HTTP/1.1\"</span> <span style=\"color: #008080; text-decoration-color: #008080; font-weight: bold\">200</span> <span style=\"color: #008080; text-decoration-color: #008080; font-weight: bold\">150031008</span>     <span style=\"color: #7f7f7f; text-decoration-color: #7f7f7f\">                     </span>\n",
       "</pre>\n"
      ],
      "text/plain": [
       "\u001b[2;36m                     \u001b[0m\u001b[2;36m \u001b[0m\u001b[32mDEBUG   \u001b[0m \u001b[4;94mhttps://uc7e72083b15c449cba94a5fcf1e.dl.dropboxusercontent.com\u001b[0m \u001b]8;id=468455;file:///export/home/ajax/jhoskins/.local/lib/python3.8/site-packages/urllib3/connectionpool.py\u001b\\\u001b[2mconnectionpool.py\u001b[0m\u001b]8;;\u001b\\\u001b[2m:\u001b[0m\u001b]8;id=224993;file:///export/home/ajax/jhoskins/.local/lib/python3.8/site-packages/urllib3/connectionpool.py#452\u001b\\\u001b[2m452\u001b[0m\u001b]8;;\u001b\\\n",
       "\u001b[2;36m                      \u001b[0m         \u001b[4;94m:443\u001b[0m \u001b[32m\"\u001b[0m\u001b[1;33mGET\u001b[0m\u001b[32m \u001b[0m                                                     \u001b[2m                     \u001b[0m\n",
       "\u001b[2;36m                      \u001b[0m         \u001b[32m/cd/0/inline2/CJcMAaRnPRAdjy1oAJ5nMmW_kDXbDKX8K01DNA1AtuckWSgk\u001b[0m \u001b[2m                     \u001b[0m\n",
       "\u001b[2;36m                      \u001b[0m         \u001b[32moB-UP_wjZfw-1jDCWcOAcAs6z264UiUKVPzDObXxoanLf0OZgAv0h2Pm4CEVF3\u001b[0m \u001b[2m                     \u001b[0m\n",
       "\u001b[2;36m                      \u001b[0m         \u001b[32mj0G0gztCxnIf6HgWZYF_ydeJ40h9TS8YH_c0xdrzDo7lgbPzivdpbEw86lTWH9\u001b[0m \u001b[2m                     \u001b[0m\n",
       "\u001b[2;36m                      \u001b[0m         \u001b[32m6UFdiIWXj9t88A7rS9dyex9LFcVwN3N8qeyebsEZHCnLdZAksqbnSXPYJufljK\u001b[0m \u001b[2m                     \u001b[0m\n",
       "\u001b[2;36m                      \u001b[0m         \u001b[32mDcE4o9dtlq5gOUDocWuAq5Jm8M80Tsg58fV2LcSNMH0JbLUi8jaXOTHX81celC\u001b[0m \u001b[2m                     \u001b[0m\n",
       "\u001b[2;36m                      \u001b[0m         \u001b[32meRyP7oYkt5LrwO8KPsuJcoLyKpWBJ7cYyqNKTPKpnpiJw21ABbKTa7aATPxRs0\u001b[0m \u001b[2m                     \u001b[0m\n",
       "\u001b[2;36m                      \u001b[0m         \u001b[32mzpM56PykI5xWmX7c7jPzdL1REMrBg/file HTTP/1.1\"\u001b[0m \u001b[1;36m200\u001b[0m \u001b[1;36m150031008\u001b[0m     \u001b[2m                     \u001b[0m\n"
      ]
     },
     "metadata": {},
     "output_type": "display_data"
    },
    {
     "name": "stderr",
     "output_type": "stream",
     "text": [
      "data/ea25_cal_small_after_fixed.split.ms.zip: 100%|███| 143M/143M [00:17<00:00, 8.58MiB/s]\n"
     ]
    }
   ],
   "source": [
    "import astrohack\n",
    "\n",
    "astrohack.data.datasets.download('ea25_cal_small_after_fixed.split.ms', folder='data', unpack=True)"
   ]
  },
  {
   "cell_type": "markdown",
   "id": "81fa2ab3-b718-46e3-9dd0-b29eba815a57",
   "metadata": {},
   "source": [
    "## Holography Data File API\n",
    "\n",
    "As part of the `astroHACK` API a set of functions to allow users to easily open on disk holography files has been provided. Each function takes an `astroHACK` holography file name as an argument and returns an object related to the given file type, ie. holog, image, panel, point. Each object allows the user to access data via dictionary keys with values consisting of the relevant holography dataset. Each object also provides a `summary()` helper function to list available keys for each file. An example call for each file type is show below and the API documentation for all data-io functions can be found [here](https://astrohack.readthedocs.io/en/latest/_api/autoapi/astrohack/dio/index.html)."
   ]
  },
  {
   "cell_type": "markdown",
   "id": "85088acd-1247-4469-aa88-a012c9ffc089",
   "metadata": {
    "tags": []
   },
   "source": [
    "```python\n",
    "from astrohack.dio import open_holog\n",
    "from astrohack.dio import open_image\n",
    "from astrohack.dio import open_panel\n",
    "from astrohack.dio import open_pointing\n",
    "\n",
    "holog_data = open_holog(file='./data/ea25_cal_small_spw1_4_60_ea04_after.holog.zarr')\n",
    "image_data = open_image(file='./data/ea25_cal_small_spw1_4_60_ea04_after.image.zarr')\n",
    "panel_data = open_panel(file='./data/ea25_cal_small_spw1_4_60_ea04_after.panel.zarr')\n",
    "pointing_data = open_pointing(file='./data/ea25_cal_small_spw1_4_60_ea04_after.point.zarr')\n",
    "```"
   ]
  },
  {
   "cell_type": "markdown",
   "id": "42331121-cc19-4f28-914b-fb5e495565bb",
   "metadata": {
    "tags": []
   },
   "source": [
    "## Setup Dask Local Cluster\n",
    "\n",
    "The local Dask client handles scheduling and worker managment for the parallelization. The user has the option of choosing the number of cores and memory allocations for each worker howerver, we recommend a minimum of 8Gb per core with standard settings.\n",
    "\n",
    "\n",
    "A significant amount of information related to the client and scheduling can be found using the [Dask Dashboard](https://docs.dask.org/en/stable/dashboard.html). This is a built in dashboard native to Dask and allows the user to monitor the workers during processing. This is especially useful for profilling. For those that are interested in working soley within Jupyterlab a dashboard extension is availabe for [Jupyterlab](https://github.com/dask/dask-labextension#dask-jupyterlab-extension).\n",
    "\n",
    "![dashboard](_media/dashboard.png)"
   ]
  },
  {
   "cell_type": "markdown",
   "id": "4c68374a-905f-4183-80e6-04eb326cfcbc",
   "metadata": {},
   "source": [
    "### Estimated Memory Requirements\n",
    "A new functionality, currently being refined, is a function to estimate the amount of memory per core max that would be required to process a given file. The estimation is given as the suggested memory per core need to not spilling over into swap memory. If the user has already computed the holog_obs_dict, it can be added as a parameter to speed up the estitmate as this is a serial function currently.\n",
    "\n",
    "In the resulting table the following definitions are important:\n",
    "\n",
    "- **Available memory**: The available memory on the system currently, ie. the total not currently in use.\n",
    "- **Total memory**: The total system memory\n",
    "- **Suggested memory per core**: Memory allocation per core estimated to not spill ove rinto swap memory.\n",
    "\n",
    "  Reference: *https://psutil.readthedocs.io/en/latest/#psutil.virtual_memory*"
   ]
  },
  {
   "cell_type": "code",
   "execution_count": 6,
   "id": "7fb0902f-f274-4d47-a48e-61c0c2561ca7",
   "metadata": {},
   "outputs": [
    {
     "data": {
      "text/html": [
       "<pre style=\"white-space:pre;overflow-x:auto;line-height:normal;font-family:Menlo,'DejaVu Sans Mono',consolas,'Courier New',monospace\"><span style=\"color: #7fbfbf; text-decoration-color: #7fbfbf\">[2023-12-15,13:54:43] </span><span style=\"color: #000080; text-decoration-color: #000080\">INFO    </span> Checking parameter values for extract_pointing.extract_pointing     <a href=\"file:///export/home/ajax/jhoskins/.conda/envs/holo-3.8/lib/python3.8/site-packages/auror/parameter.py\" target=\"_blank\"><span style=\"color: #7f7f7f; text-decoration-color: #7f7f7f\">parameter.py</span></a><span style=\"color: #7f7f7f; text-decoration-color: #7f7f7f\">:</span><a href=\"file:///export/home/ajax/jhoskins/.conda/envs/holo-3.8/lib/python3.8/site-packages/auror/parameter.py#120\" target=\"_blank\"><span style=\"color: #7f7f7f; text-decoration-color: #7f7f7f\">120</span></a>\n",
       "</pre>\n"
      ],
      "text/plain": [
       "\u001b[2;36m[2023-12-15,13:54:43]\u001b[0m\u001b[2;36m \u001b[0m\u001b[34mINFO    \u001b[0m Checking parameter values for extract_pointing.extract_pointing     \u001b]8;id=799643;file:///export/home/ajax/jhoskins/.conda/envs/holo-3.8/lib/python3.8/site-packages/auror/parameter.py\u001b\\\u001b[2mparameter.py\u001b[0m\u001b]8;;\u001b\\\u001b[2m:\u001b[0m\u001b]8;id=37215;file:///export/home/ajax/jhoskins/.conda/envs/holo-3.8/lib/python3.8/site-packages/auror/parameter.py#120\u001b\\\u001b[2m120\u001b[0m\u001b]8;;\u001b\\\n"
      ]
     },
     "metadata": {},
     "output_type": "display_data"
    },
    {
     "name": "stdout",
     "output_type": "stream",
     "text": [
      "Successful readonly open of usernoread-locked table data/ea25_cal_small_after_fixed.split.ms/ANTENNA: 8 columns, 3 rows\n"
     ]
    },
    {
     "data": {
      "text/html": [
       "<pre style=\"white-space:pre;overflow-x:auto;line-height:normal;font-family:Menlo,'DejaVu Sans Mono',consolas,'Courier New',monospace\"><span style=\"color: #7fbfbf; text-decoration-color: #7fbfbf\">[2023-12-15,13:54:44] </span><span style=\"color: #000080; text-decoration-color: #000080\">INFO    </span> Writing pointing xds to temporary.pointing.zarr/ant_ea04                <a href=\"file:///export/home/ajax/jhoskins/.conda/envs/holo-3.8/lib/python3.8/site-packages/skriba/prototype/logger.py\" target=\"_blank\"><span style=\"color: #7f7f7f; text-decoration-color: #7f7f7f\">logger.py</span></a><span style=\"color: #7f7f7f; text-decoration-color: #7f7f7f\">:</span><a href=\"file:///export/home/ajax/jhoskins/.conda/envs/holo-3.8/lib/python3.8/site-packages/skriba/prototype/logger.py#31\" target=\"_blank\"><span style=\"color: #7f7f7f; text-decoration-color: #7f7f7f\">31</span></a>\n",
       "</pre>\n"
      ],
      "text/plain": [
       "\u001b[2;36m[2023-12-15,13:54:44]\u001b[0m\u001b[2;36m \u001b[0m\u001b[34mINFO    \u001b[0m Writing pointing xds to temporary.pointing.zarr/ant_ea04                \u001b]8;id=420370;file:///export/home/ajax/jhoskins/.conda/envs/holo-3.8/lib/python3.8/site-packages/skriba/prototype/logger.py\u001b\\\u001b[2mlogger.py\u001b[0m\u001b]8;;\u001b\\\u001b[2m:\u001b[0m\u001b]8;id=289441;file:///export/home/ajax/jhoskins/.conda/envs/holo-3.8/lib/python3.8/site-packages/skriba/prototype/logger.py#31\u001b\\\u001b[2m31\u001b[0m\u001b]8;;\u001b\\\n"
      ]
     },
     "metadata": {},
     "output_type": "display_data"
    },
    {
     "data": {
      "text/html": [
       "<pre style=\"white-space:pre;overflow-x:auto;line-height:normal;font-family:Menlo,'DejaVu Sans Mono',consolas,'Courier New',monospace\"><span style=\"color: #7fbfbf; text-decoration-color: #7fbfbf\">                      </span><span style=\"color: #000080; text-decoration-color: #000080\">INFO    </span> Writing pointing xds to temporary.pointing.zarr/ant_ea06                <a href=\"file:///export/home/ajax/jhoskins/.conda/envs/holo-3.8/lib/python3.8/site-packages/skriba/prototype/logger.py\" target=\"_blank\"><span style=\"color: #7f7f7f; text-decoration-color: #7f7f7f\">logger.py</span></a><span style=\"color: #7f7f7f; text-decoration-color: #7f7f7f\">:</span><a href=\"file:///export/home/ajax/jhoskins/.conda/envs/holo-3.8/lib/python3.8/site-packages/skriba/prototype/logger.py#31\" target=\"_blank\"><span style=\"color: #7f7f7f; text-decoration-color: #7f7f7f\">31</span></a>\n",
       "</pre>\n"
      ],
      "text/plain": [
       "\u001b[2;36m                     \u001b[0m\u001b[2;36m \u001b[0m\u001b[34mINFO    \u001b[0m Writing pointing xds to temporary.pointing.zarr/ant_ea06                \u001b]8;id=910594;file:///export/home/ajax/jhoskins/.conda/envs/holo-3.8/lib/python3.8/site-packages/skriba/prototype/logger.py\u001b\\\u001b[2mlogger.py\u001b[0m\u001b]8;;\u001b\\\u001b[2m:\u001b[0m\u001b]8;id=732799;file:///export/home/ajax/jhoskins/.conda/envs/holo-3.8/lib/python3.8/site-packages/skriba/prototype/logger.py#31\u001b\\\u001b[2m31\u001b[0m\u001b]8;;\u001b\\\n"
      ]
     },
     "metadata": {},
     "output_type": "display_data"
    },
    {
     "data": {
      "text/html": [
       "<pre style=\"white-space:pre;overflow-x:auto;line-height:normal;font-family:Menlo,'DejaVu Sans Mono',consolas,'Courier New',monospace\"><span style=\"color: #7fbfbf; text-decoration-color: #7fbfbf\">                      </span><span style=\"color: #000080; text-decoration-color: #000080\">INFO    </span> Writing pointing xds to temporary.pointing.zarr/ant_ea25                <a href=\"file:///export/home/ajax/jhoskins/.conda/envs/holo-3.8/lib/python3.8/site-packages/skriba/prototype/logger.py\" target=\"_blank\"><span style=\"color: #7f7f7f; text-decoration-color: #7f7f7f\">logger.py</span></a><span style=\"color: #7f7f7f; text-decoration-color: #7f7f7f\">:</span><a href=\"file:///export/home/ajax/jhoskins/.conda/envs/holo-3.8/lib/python3.8/site-packages/skriba/prototype/logger.py#31\" target=\"_blank\"><span style=\"color: #7f7f7f; text-decoration-color: #7f7f7f\">31</span></a>\n",
       "</pre>\n"
      ],
      "text/plain": [
       "\u001b[2;36m                     \u001b[0m\u001b[2;36m \u001b[0m\u001b[34mINFO    \u001b[0m Writing pointing xds to temporary.pointing.zarr/ant_ea25                \u001b]8;id=761790;file:///export/home/ajax/jhoskins/.conda/envs/holo-3.8/lib/python3.8/site-packages/skriba/prototype/logger.py\u001b\\\u001b[2mlogger.py\u001b[0m\u001b]8;;\u001b\\\u001b[2m:\u001b[0m\u001b]8;id=844991;file:///export/home/ajax/jhoskins/.conda/envs/holo-3.8/lib/python3.8/site-packages/skriba/prototype/logger.py#31\u001b\\\u001b[2m31\u001b[0m\u001b]8;;\u001b\\\n"
      ]
     },
     "metadata": {},
     "output_type": "display_data"
    },
    {
     "data": {
      "text/html": [
       "<pre style=\"white-space:pre;overflow-x:auto;line-height:normal;font-family:Menlo,'DejaVu Sans Mono',consolas,'Courier New',monospace\"><span style=\"color: #7fbfbf; text-decoration-color: #7fbfbf\">[2023-12-15,13:54:45] </span><span style=\"color: #000080; text-decoration-color: #000080\">INFO    </span> Finished processing                                                     <a href=\"file:///export/home/ajax/jhoskins/.conda/envs/holo-3.8/lib/python3.8/site-packages/skriba/prototype/logger.py\" target=\"_blank\"><span style=\"color: #7f7f7f; text-decoration-color: #7f7f7f\">logger.py</span></a><span style=\"color: #7f7f7f; text-decoration-color: #7f7f7f\">:</span><a href=\"file:///export/home/ajax/jhoskins/.conda/envs/holo-3.8/lib/python3.8/site-packages/skriba/prototype/logger.py#31\" target=\"_blank\"><span style=\"color: #7f7f7f; text-decoration-color: #7f7f7f\">31</span></a>\n",
       "</pre>\n"
      ],
      "text/plain": [
       "\u001b[2;36m[2023-12-15,13:54:45]\u001b[0m\u001b[2;36m \u001b[0m\u001b[34mINFO    \u001b[0m Finished processing                                                     \u001b]8;id=940611;file:///export/home/ajax/jhoskins/.conda/envs/holo-3.8/lib/python3.8/site-packages/skriba/prototype/logger.py\u001b\\\u001b[2mlogger.py\u001b[0m\u001b]8;;\u001b\\\u001b[2m:\u001b[0m\u001b]8;id=315115;file:///export/home/ajax/jhoskins/.conda/envs/holo-3.8/lib/python3.8/site-packages/skriba/prototype/logger.py#31\u001b\\\u001b[2m31\u001b[0m\u001b]8;;\u001b\\\n"
      ]
     },
     "metadata": {},
     "output_type": "display_data"
    },
    {
     "data": {
      "text/html": [
       "<pre style=\"white-space:pre;overflow-x:auto;line-height:normal;font-family:Menlo,'DejaVu Sans Mono',consolas,'Courier New',monospace\"><span style=\"color: #7fbfbf; text-decoration-color: #7fbfbf\">                      </span><span style=\"color: #000080; text-decoration-color: #000080\">INFO    </span> Writing distance matrix to                                              <a href=\"file:///export/home/ajax/jhoskins/.conda/envs/holo-3.8/lib/python3.8/site-packages/skriba/prototype/logger.py\" target=\"_blank\"><span style=\"color: #7f7f7f; text-decoration-color: #7f7f7f\">logger.py</span></a><span style=\"color: #7f7f7f; text-decoration-color: #7f7f7f\">:</span><a href=\"file:///export/home/ajax/jhoskins/.conda/envs/holo-3.8/lib/python3.8/site-packages/skriba/prototype/logger.py#31\" target=\"_blank\"><span style=\"color: #7f7f7f; text-decoration-color: #7f7f7f\">31</span></a>\n",
       "<span style=\"color: #7fbfbf; text-decoration-color: #7fbfbf\">                      </span>         <span style=\"color: #800080; text-decoration-color: #800080\">/export/home/ajax/jhoskins/Development/astrohack-prototype-logger/docs/</span> <span style=\"color: #7f7f7f; text-decoration-color: #7f7f7f\">            </span>\n",
       "<span style=\"color: #7fbfbf; text-decoration-color: #7fbfbf\">                      </span>         <span style=\"color: #ff00ff; text-decoration-color: #ff00ff\">.baseline_distance_matrix.csv</span> <span style=\"color: #808000; text-decoration-color: #808000\">...</span>                                       <span style=\"color: #7f7f7f; text-decoration-color: #7f7f7f\">            </span>\n",
       "</pre>\n"
      ],
      "text/plain": [
       "\u001b[2;36m                     \u001b[0m\u001b[2;36m \u001b[0m\u001b[34mINFO    \u001b[0m Writing distance matrix to                                              \u001b]8;id=656715;file:///export/home/ajax/jhoskins/.conda/envs/holo-3.8/lib/python3.8/site-packages/skriba/prototype/logger.py\u001b\\\u001b[2mlogger.py\u001b[0m\u001b]8;;\u001b\\\u001b[2m:\u001b[0m\u001b]8;id=520384;file:///export/home/ajax/jhoskins/.conda/envs/holo-3.8/lib/python3.8/site-packages/skriba/prototype/logger.py#31\u001b\\\u001b[2m31\u001b[0m\u001b]8;;\u001b\\\n",
       "\u001b[2;36m                      \u001b[0m         \u001b[35m/export/home/ajax/jhoskins/Development/astrohack-prototype-logger/docs/\u001b[0m \u001b[2m            \u001b[0m\n",
       "\u001b[2;36m                      \u001b[0m         \u001b[95m.baseline_distance_matrix.csv\u001b[0m \u001b[33m...\u001b[0m                                       \u001b[2m            \u001b[0m\n"
      ]
     },
     "metadata": {},
     "output_type": "display_data"
    },
    {
     "data": {
      "text/html": [
       "<pre style=\"white-space:pre;overflow-x:auto;line-height:normal;font-family:Menlo,'DejaVu Sans Mono',consolas,'Courier New',monospace\"><span style=\"color: #7fbfbf; text-decoration-color: #7fbfbf\">                      </span><span style=\"color: #008000; text-decoration-color: #008000\">DEBUG   </span> Starting new HTTPS connection <span style=\"font-weight: bold\">(</span><span style=\"color: #008080; text-decoration-color: #008080; font-weight: bold\">1</span><span style=\"font-weight: bold\">)</span>: www.dropbox.com:<span style=\"color: #008080; text-decoration-color: #008080; font-weight: bold\">443</span>         <a href=\"file:///export/home/ajax/jhoskins/.local/lib/python3.8/site-packages/urllib3/connectionpool.py\" target=\"_blank\"><span style=\"color: #7f7f7f; text-decoration-color: #7f7f7f\">connectionpool.py</span></a><span style=\"color: #7f7f7f; text-decoration-color: #7f7f7f\">:</span><a href=\"file:///export/home/ajax/jhoskins/.local/lib/python3.8/site-packages/urllib3/connectionpool.py#971\" target=\"_blank\"><span style=\"color: #7f7f7f; text-decoration-color: #7f7f7f\">971</span></a>\n",
       "</pre>\n"
      ],
      "text/plain": [
       "\u001b[2;36m                     \u001b[0m\u001b[2;36m \u001b[0m\u001b[32mDEBUG   \u001b[0m Starting new HTTPS connection \u001b[1m(\u001b[0m\u001b[1;36m1\u001b[0m\u001b[1m)\u001b[0m: www.dropbox.com:\u001b[1;36m443\u001b[0m         \u001b]8;id=656537;file:///export/home/ajax/jhoskins/.local/lib/python3.8/site-packages/urllib3/connectionpool.py\u001b\\\u001b[2mconnectionpool.py\u001b[0m\u001b]8;;\u001b\\\u001b[2m:\u001b[0m\u001b]8;id=23692;file:///export/home/ajax/jhoskins/.local/lib/python3.8/site-packages/urllib3/connectionpool.py#971\u001b\\\u001b[2m971\u001b[0m\u001b]8;;\u001b\\\n"
      ]
     },
     "metadata": {},
     "output_type": "display_data"
    },
    {
     "data": {
      "text/html": [
       "<pre style=\"white-space:pre;overflow-x:auto;line-height:normal;font-family:Menlo,'DejaVu Sans Mono',consolas,'Courier New',monospace\"><span style=\"color: #7fbfbf; text-decoration-color: #7fbfbf\">[2023-12-15,13:54:46] </span><span style=\"color: #008000; text-decoration-color: #008000\">DEBUG   </span> <span style=\"color: #0000ff; text-decoration-color: #0000ff; text-decoration: underline\">https://www.dropbox.com:443</span> <span style=\"color: #008000; text-decoration-color: #008000\">\"</span><span style=\"color: #808000; text-decoration-color: #808000; font-weight: bold\">GET</span><span style=\"color: #008000; text-decoration-color: #008000\"> </span>                              <a href=\"file:///export/home/ajax/jhoskins/.local/lib/python3.8/site-packages/urllib3/connectionpool.py\" target=\"_blank\"><span style=\"color: #7f7f7f; text-decoration-color: #7f7f7f\">connectionpool.py</span></a><span style=\"color: #7f7f7f; text-decoration-color: #7f7f7f\">:</span><a href=\"file:///export/home/ajax/jhoskins/.local/lib/python3.8/site-packages/urllib3/connectionpool.py#452\" target=\"_blank\"><span style=\"color: #7f7f7f; text-decoration-color: #7f7f7f\">452</span></a>\n",
       "<span style=\"color: #7fbfbf; text-decoration-color: #7fbfbf\">                      </span>         <span style=\"color: #008000; text-decoration-color: #008000\">/scl/fi/mihy28n7ei72sk2982v0y/elastic.model?rlkey=xdzwfbfsrg6e</span> <span style=\"color: #7f7f7f; text-decoration-color: #7f7f7f\">                     </span>\n",
       "<span style=\"color: #7fbfbf; text-decoration-color: #7fbfbf\">                      </span>         <span style=\"color: #008000; text-decoration-color: #008000\">hhvhaj6iyp58y HTTP/1.1\"</span> <span style=\"color: #008080; text-decoration-color: #008080; font-weight: bold\">302</span> <span style=\"color: #800080; text-decoration-color: #800080; font-style: italic\">None</span>                               <span style=\"color: #7f7f7f; text-decoration-color: #7f7f7f\">                     </span>\n",
       "</pre>\n"
      ],
      "text/plain": [
       "\u001b[2;36m[2023-12-15,13:54:46]\u001b[0m\u001b[2;36m \u001b[0m\u001b[32mDEBUG   \u001b[0m \u001b[4;94mhttps://www.dropbox.com:443\u001b[0m \u001b[32m\"\u001b[0m\u001b[1;33mGET\u001b[0m\u001b[32m \u001b[0m                              \u001b]8;id=1139;file:///export/home/ajax/jhoskins/.local/lib/python3.8/site-packages/urllib3/connectionpool.py\u001b\\\u001b[2mconnectionpool.py\u001b[0m\u001b]8;;\u001b\\\u001b[2m:\u001b[0m\u001b]8;id=832906;file:///export/home/ajax/jhoskins/.local/lib/python3.8/site-packages/urllib3/connectionpool.py#452\u001b\\\u001b[2m452\u001b[0m\u001b]8;;\u001b\\\n",
       "\u001b[2;36m                      \u001b[0m         \u001b[32m/scl/fi/mihy28n7ei72sk2982v0y/elastic.model?\u001b[0m\u001b[32mrlkey\u001b[0m\u001b[32m=\u001b[0m\u001b[32mxdzwfbfsrg6e\u001b[0m \u001b[2m                     \u001b[0m\n",
       "\u001b[2;36m                      \u001b[0m         \u001b[32mhhvhaj6iyp58y\u001b[0m\u001b[32m HTTP/1.1\"\u001b[0m \u001b[1;36m302\u001b[0m \u001b[3;35mNone\u001b[0m                               \u001b[2m                     \u001b[0m\n"
      ]
     },
     "metadata": {},
     "output_type": "display_data"
    },
    {
     "data": {
      "text/html": [
       "<pre style=\"white-space:pre;overflow-x:auto;line-height:normal;font-family:Menlo,'DejaVu Sans Mono',consolas,'Courier New',monospace\"><span style=\"color: #7fbfbf; text-decoration-color: #7fbfbf\">                      </span><span style=\"color: #008000; text-decoration-color: #008000\">DEBUG   </span> Starting new HTTPS connection <span style=\"font-weight: bold\">(</span><span style=\"color: #008080; text-decoration-color: #008080; font-weight: bold\">1</span><span style=\"font-weight: bold\">)</span>:                             <a href=\"file:///export/home/ajax/jhoskins/.local/lib/python3.8/site-packages/urllib3/connectionpool.py\" target=\"_blank\"><span style=\"color: #7f7f7f; text-decoration-color: #7f7f7f\">connectionpool.py</span></a><span style=\"color: #7f7f7f; text-decoration-color: #7f7f7f\">:</span><a href=\"file:///export/home/ajax/jhoskins/.local/lib/python3.8/site-packages/urllib3/connectionpool.py#971\" target=\"_blank\"><span style=\"color: #7f7f7f; text-decoration-color: #7f7f7f\">971</span></a>\n",
       "<span style=\"color: #7fbfbf; text-decoration-color: #7fbfbf\">                      </span>         uc7f01b4dc1f610f9ccc96efe61a.dl.dropboxusercontent.com:<span style=\"color: #008080; text-decoration-color: #008080; font-weight: bold\">443</span>     <span style=\"color: #7f7f7f; text-decoration-color: #7f7f7f\">                     </span>\n",
       "</pre>\n"
      ],
      "text/plain": [
       "\u001b[2;36m                     \u001b[0m\u001b[2;36m \u001b[0m\u001b[32mDEBUG   \u001b[0m Starting new HTTPS connection \u001b[1m(\u001b[0m\u001b[1;36m1\u001b[0m\u001b[1m)\u001b[0m:                             \u001b]8;id=839521;file:///export/home/ajax/jhoskins/.local/lib/python3.8/site-packages/urllib3/connectionpool.py\u001b\\\u001b[2mconnectionpool.py\u001b[0m\u001b]8;;\u001b\\\u001b[2m:\u001b[0m\u001b]8;id=727313;file:///export/home/ajax/jhoskins/.local/lib/python3.8/site-packages/urllib3/connectionpool.py#971\u001b\\\u001b[2m971\u001b[0m\u001b]8;;\u001b\\\n",
       "\u001b[2;36m                      \u001b[0m         uc7f01b4dc1f610f9ccc96efe61a.dl.dropboxusercontent.com:\u001b[1;36m443\u001b[0m     \u001b[2m                     \u001b[0m\n"
      ]
     },
     "metadata": {},
     "output_type": "display_data"
    },
    {
     "data": {
      "text/html": [
       "<pre style=\"white-space:pre;overflow-x:auto;line-height:normal;font-family:Menlo,'DejaVu Sans Mono',consolas,'Courier New',monospace\"><span style=\"color: #7fbfbf; text-decoration-color: #7fbfbf\">                      </span><span style=\"color: #008000; text-decoration-color: #008000\">DEBUG   </span> <span style=\"color: #0000ff; text-decoration-color: #0000ff; text-decoration: underline\">https://uc7f01b4dc1f610f9ccc96efe61a.dl.dropboxusercontent.com</span> <a href=\"file:///export/home/ajax/jhoskins/.local/lib/python3.8/site-packages/urllib3/connectionpool.py\" target=\"_blank\"><span style=\"color: #7f7f7f; text-decoration-color: #7f7f7f\">connectionpool.py</span></a><span style=\"color: #7f7f7f; text-decoration-color: #7f7f7f\">:</span><a href=\"file:///export/home/ajax/jhoskins/.local/lib/python3.8/site-packages/urllib3/connectionpool.py#452\" target=\"_blank\"><span style=\"color: #7f7f7f; text-decoration-color: #7f7f7f\">452</span></a>\n",
       "<span style=\"color: #7fbfbf; text-decoration-color: #7fbfbf\">                      </span>         <span style=\"color: #0000ff; text-decoration-color: #0000ff; text-decoration: underline\">:443</span> <span style=\"color: #008000; text-decoration-color: #008000\">\"</span><span style=\"color: #808000; text-decoration-color: #808000; font-weight: bold\">GET</span><span style=\"color: #008000; text-decoration-color: #008000\"> </span>                                                     <span style=\"color: #7f7f7f; text-decoration-color: #7f7f7f\">                     </span>\n",
       "<span style=\"color: #7fbfbf; text-decoration-color: #7fbfbf\">                      </span>         <span style=\"color: #008000; text-decoration-color: #008000\">/cd/0/inline/CJcZqzbW6RT0pPZbXaEZzctkNoFug63wr13JFGpD09uhzAffJ</span> <span style=\"color: #7f7f7f; text-decoration-color: #7f7f7f\">                     </span>\n",
       "<span style=\"color: #7fbfbf; text-decoration-color: #7fbfbf\">                      </span>         <span style=\"color: #008000; text-decoration-color: #008000\">FSeifG3E_kfhowcYFfa2cO-zTLytJDUYGH-iioZ9NOl5-qqFHw-fiCGBVe8Rn4</span> <span style=\"color: #7f7f7f; text-decoration-color: #7f7f7f\">                     </span>\n",
       "<span style=\"color: #7fbfbf; text-decoration-color: #7fbfbf\">                      </span>         <span style=\"color: #008000; text-decoration-color: #008000\">xA0Z4CmFYjuOF3uhO-lYQOnlx_Wiwlz_QVoTMboFo/file HTTP/1.1\"</span> <span style=\"color: #008080; text-decoration-color: #008080; font-weight: bold\">302</span>   <span style=\"color: #7f7f7f; text-decoration-color: #7f7f7f\">                     </span>\n",
       "<span style=\"color: #7fbfbf; text-decoration-color: #7fbfbf\">                      </span>         <span style=\"color: #800080; text-decoration-color: #800080; font-style: italic\">None</span>                                                           <span style=\"color: #7f7f7f; text-decoration-color: #7f7f7f\">                     </span>\n",
       "</pre>\n"
      ],
      "text/plain": [
       "\u001b[2;36m                     \u001b[0m\u001b[2;36m \u001b[0m\u001b[32mDEBUG   \u001b[0m \u001b[4;94mhttps://uc7f01b4dc1f610f9ccc96efe61a.dl.dropboxusercontent.com\u001b[0m \u001b]8;id=150848;file:///export/home/ajax/jhoskins/.local/lib/python3.8/site-packages/urllib3/connectionpool.py\u001b\\\u001b[2mconnectionpool.py\u001b[0m\u001b]8;;\u001b\\\u001b[2m:\u001b[0m\u001b]8;id=78279;file:///export/home/ajax/jhoskins/.local/lib/python3.8/site-packages/urllib3/connectionpool.py#452\u001b\\\u001b[2m452\u001b[0m\u001b]8;;\u001b\\\n",
       "\u001b[2;36m                      \u001b[0m         \u001b[4;94m:443\u001b[0m \u001b[32m\"\u001b[0m\u001b[1;33mGET\u001b[0m\u001b[32m \u001b[0m                                                     \u001b[2m                     \u001b[0m\n",
       "\u001b[2;36m                      \u001b[0m         \u001b[32m/cd/0/inline/CJcZqzbW6RT0pPZbXaEZzctkNoFug63wr13JFGpD09uhzAffJ\u001b[0m \u001b[2m                     \u001b[0m\n",
       "\u001b[2;36m                      \u001b[0m         \u001b[32mFSeifG3E_kfhowcYFfa2cO-zTLytJDUYGH-iioZ9NOl5-qqFHw-fiCGBVe8Rn4\u001b[0m \u001b[2m                     \u001b[0m\n",
       "\u001b[2;36m                      \u001b[0m         \u001b[32mxA0Z4CmFYjuOF3uhO-lYQOnlx_Wiwlz_QVoTMboFo/file HTTP/1.1\"\u001b[0m \u001b[1;36m302\u001b[0m   \u001b[2m                     \u001b[0m\n",
       "\u001b[2;36m                      \u001b[0m         \u001b[3;35mNone\u001b[0m                                                           \u001b[2m                     \u001b[0m\n"
      ]
     },
     "metadata": {},
     "output_type": "display_data"
    },
    {
     "data": {
      "text/html": [
       "<pre style=\"white-space:pre;overflow-x:auto;line-height:normal;font-family:Menlo,'DejaVu Sans Mono',consolas,'Courier New',monospace\"><span style=\"color: #7fbfbf; text-decoration-color: #7fbfbf\">                      </span><span style=\"color: #008000; text-decoration-color: #008000\">DEBUG   </span> <span style=\"color: #0000ff; text-decoration-color: #0000ff; text-decoration: underline\">https://uc7f01b4dc1f610f9ccc96efe61a.dl.dropboxusercontent.com</span> <a href=\"file:///export/home/ajax/jhoskins/.local/lib/python3.8/site-packages/urllib3/connectionpool.py\" target=\"_blank\"><span style=\"color: #7f7f7f; text-decoration-color: #7f7f7f\">connectionpool.py</span></a><span style=\"color: #7f7f7f; text-decoration-color: #7f7f7f\">:</span><a href=\"file:///export/home/ajax/jhoskins/.local/lib/python3.8/site-packages/urllib3/connectionpool.py#452\" target=\"_blank\"><span style=\"color: #7f7f7f; text-decoration-color: #7f7f7f\">452</span></a>\n",
       "<span style=\"color: #7fbfbf; text-decoration-color: #7fbfbf\">                      </span>         <span style=\"color: #0000ff; text-decoration-color: #0000ff; text-decoration: underline\">:443</span> <span style=\"color: #008000; text-decoration-color: #008000\">\"</span><span style=\"color: #808000; text-decoration-color: #808000; font-weight: bold\">GET</span><span style=\"color: #008000; text-decoration-color: #008000\"> </span>                                                     <span style=\"color: #7f7f7f; text-decoration-color: #7f7f7f\">                     </span>\n",
       "<span style=\"color: #7fbfbf; text-decoration-color: #7fbfbf\">                      </span>         <span style=\"color: #008000; text-decoration-color: #008000\">/cd/0/inline2/CJfh2DCoSJfe_UiDSxP2GJ9lCo_HAo3u2SA_F_-K1vihUXAU</span> <span style=\"color: #7f7f7f; text-decoration-color: #7f7f7f\">                     </span>\n",
       "<span style=\"color: #7fbfbf; text-decoration-color: #7fbfbf\">                      </span>         <span style=\"color: #008000; text-decoration-color: #008000\">5zUANOhdB-g9a9XM86EUCg_lwLODU5w6CPSf3CUr9opcaopeMfFibm6aE7f1Ar</span> <span style=\"color: #7f7f7f; text-decoration-color: #7f7f7f\">                     </span>\n",
       "<span style=\"color: #7fbfbf; text-decoration-color: #7fbfbf\">                      </span>         <span style=\"color: #008000; text-decoration-color: #008000\">2agHhdwlXJOtWusn3qGsVhxhNr4KvlJrO3DMl90umkbfqvC-z94RgV23kMCjKt</span> <span style=\"color: #7f7f7f; text-decoration-color: #7f7f7f\">                     </span>\n",
       "<span style=\"color: #7fbfbf; text-decoration-color: #7fbfbf\">                      </span>         <span style=\"color: #008000; text-decoration-color: #008000\">5-_grAh25j5MwdMLmh5ks_eynJATBxKDQ1dxZ59YXn_ETPO2AwJKHm7Y8aM5lv</span> <span style=\"color: #7f7f7f; text-decoration-color: #7f7f7f\">                     </span>\n",
       "<span style=\"color: #7fbfbf; text-decoration-color: #7fbfbf\">                      </span>         <span style=\"color: #008000; text-decoration-color: #008000\">plWXNJpvbQ7RHF8WJDjfdiTvmE8FksaeHhPcGnF0cyBOk_sUQVwSpb7VyNRVUS</span> <span style=\"color: #7f7f7f; text-decoration-color: #7f7f7f\">                     </span>\n",
       "<span style=\"color: #7fbfbf; text-decoration-color: #7fbfbf\">                      </span>         <span style=\"color: #008000; text-decoration-color: #008000\">Vm46-J9ktDbynWu270v6TuZdMMrQ-yslo1cyDDIirzF6q7nz6EoQyf0eh1AQBs</span> <span style=\"color: #7f7f7f; text-decoration-color: #7f7f7f\">                     </span>\n",
       "<span style=\"color: #7fbfbf; text-decoration-color: #7fbfbf\">                      </span>         <span style=\"color: #008000; text-decoration-color: #008000\">XH29N9zbw66028k_wmBxbZwuq_CLg/file HTTP/1.1\"</span> <span style=\"color: #008080; text-decoration-color: #008080; font-weight: bold\">200</span> <span style=\"color: #008080; text-decoration-color: #008080; font-weight: bold\">556</span>           <span style=\"color: #7f7f7f; text-decoration-color: #7f7f7f\">                     </span>\n",
       "</pre>\n"
      ],
      "text/plain": [
       "\u001b[2;36m                     \u001b[0m\u001b[2;36m \u001b[0m\u001b[32mDEBUG   \u001b[0m \u001b[4;94mhttps://uc7f01b4dc1f610f9ccc96efe61a.dl.dropboxusercontent.com\u001b[0m \u001b]8;id=397417;file:///export/home/ajax/jhoskins/.local/lib/python3.8/site-packages/urllib3/connectionpool.py\u001b\\\u001b[2mconnectionpool.py\u001b[0m\u001b]8;;\u001b\\\u001b[2m:\u001b[0m\u001b]8;id=855670;file:///export/home/ajax/jhoskins/.local/lib/python3.8/site-packages/urllib3/connectionpool.py#452\u001b\\\u001b[2m452\u001b[0m\u001b]8;;\u001b\\\n",
       "\u001b[2;36m                      \u001b[0m         \u001b[4;94m:443\u001b[0m \u001b[32m\"\u001b[0m\u001b[1;33mGET\u001b[0m\u001b[32m \u001b[0m                                                     \u001b[2m                     \u001b[0m\n",
       "\u001b[2;36m                      \u001b[0m         \u001b[32m/cd/0/inline2/CJfh2DCoSJfe_UiDSxP2GJ9lCo_HAo3u2SA_F_-K1vihUXAU\u001b[0m \u001b[2m                     \u001b[0m\n",
       "\u001b[2;36m                      \u001b[0m         \u001b[32m5zUANOhdB-g9a9XM86EUCg_lwLODU5w6CPSf3CUr9opcaopeMfFibm6aE7f1Ar\u001b[0m \u001b[2m                     \u001b[0m\n",
       "\u001b[2;36m                      \u001b[0m         \u001b[32m2agHhdwlXJOtWusn3qGsVhxhNr4KvlJrO3DMl90umkbfqvC-z94RgV23kMCjKt\u001b[0m \u001b[2m                     \u001b[0m\n",
       "\u001b[2;36m                      \u001b[0m         \u001b[32m5-_grAh25j5MwdMLmh5ks_eynJATBxKDQ1dxZ59YXn_ETPO2AwJKHm7Y8aM5lv\u001b[0m \u001b[2m                     \u001b[0m\n",
       "\u001b[2;36m                      \u001b[0m         \u001b[32mplWXNJpvbQ7RHF8WJDjfdiTvmE8FksaeHhPcGnF0cyBOk_sUQVwSpb7VyNRVUS\u001b[0m \u001b[2m                     \u001b[0m\n",
       "\u001b[2;36m                      \u001b[0m         \u001b[32mVm46-J9ktDbynWu270v6TuZdMMrQ-yslo1cyDDIirzF6q7nz6EoQyf0eh1AQBs\u001b[0m \u001b[2m                     \u001b[0m\n",
       "\u001b[2;36m                      \u001b[0m         \u001b[32mXH29N9zbw66028k_wmBxbZwuq_CLg/file HTTP/1.1\"\u001b[0m \u001b[1;36m200\u001b[0m \u001b[1;36m556\u001b[0m           \u001b[2m                     \u001b[0m\n"
      ]
     },
     "metadata": {},
     "output_type": "display_data"
    },
    {
     "name": "stderr",
     "output_type": "stream",
     "text": [
      "model/elastic.model: 100%|███████████████████████████████| 556/556 [00:00<00:00, 203kiB/s]\n"
     ]
    },
    {
     "data": {
      "text/html": [
       "<pre style=\"white-space:pre;overflow-x:auto;line-height:normal;font-family:Menlo,'DejaVu Sans Mono',consolas,'Courier New',monospace\"><span style=\"font-style: italic\">                                      System Info                                       </span>\n",
       "┏━━━━━━━━━┳━━━━━━━━━━━━━━━━━━━━━━━┳━━━━━━━━━━━━━━━━━━━┳━━━━━━━━━━━━━━━━━━━━━━━━━━━━━━━━┓\n",
       "┃<span style=\"font-weight: bold\"> N-cores </span>┃<span style=\"font-weight: bold\"> Available memory (MB) </span>┃<span style=\"font-weight: bold\"> Total memory (MB) </span>┃<span style=\"font-weight: bold\"> Suggested memory per core (MB) </span>┃\n",
       "┡━━━━━━━━━╇━━━━━━━━━━━━━━━━━━━━━━━╇━━━━━━━━━━━━━━━━━━━╇━━━━━━━━━━━━━━━━━━━━━━━━━━━━━━━━┩\n",
       "│<span style=\"color: #000080; text-decoration-color: #000080\">       4 </span>│<span style=\"color: #800080; text-decoration-color: #800080\"> 1612                  </span>│<span style=\"color: #008080; text-decoration-color: #008080\"> 15893             </span>│<span style=\"color: #008000; text-decoration-color: #008000\">                          11911 </span>│\n",
       "└─────────┴───────────────────────┴───────────────────┴────────────────────────────────┘\n",
       "<span style=\"color: #7f7f7f; text-decoration-color: #7f7f7f; font-style: italic\">    Available memory: represents the system memory available without going into swap    </span>\n",
       "</pre>\n"
      ],
      "text/plain": [
       "\u001b[3m                                      System Info                                       \u001b[0m\n",
       "┏━━━━━━━━━┳━━━━━━━━━━━━━━━━━━━━━━━┳━━━━━━━━━━━━━━━━━━━┳━━━━━━━━━━━━━━━━━━━━━━━━━━━━━━━━┓\n",
       "┃\u001b[1m \u001b[0m\u001b[1mN-cores\u001b[0m\u001b[1m \u001b[0m┃\u001b[1m \u001b[0m\u001b[1mAvailable memory (MB)\u001b[0m\u001b[1m \u001b[0m┃\u001b[1m \u001b[0m\u001b[1mTotal memory (MB)\u001b[0m\u001b[1m \u001b[0m┃\u001b[1m \u001b[0m\u001b[1mSuggested memory per core (MB)\u001b[0m\u001b[1m \u001b[0m┃\n",
       "┡━━━━━━━━━╇━━━━━━━━━━━━━━━━━━━━━━━╇━━━━━━━━━━━━━━━━━━━╇━━━━━━━━━━━━━━━━━━━━━━━━━━━━━━━━┩\n",
       "│\u001b[34m \u001b[0m\u001b[34m      4\u001b[0m\u001b[34m \u001b[0m│\u001b[35m \u001b[0m\u001b[35m1612                 \u001b[0m\u001b[35m \u001b[0m│\u001b[36m \u001b[0m\u001b[36m15893            \u001b[0m\u001b[36m \u001b[0m│\u001b[32m \u001b[0m\u001b[32m                         11911\u001b[0m\u001b[32m \u001b[0m│\n",
       "└─────────┴───────────────────────┴───────────────────┴────────────────────────────────┘\n",
       "\u001b[2;3m    Available memory: represents the system memory available without going into swap    \u001b[0m\n"
      ]
     },
     "metadata": {},
     "output_type": "display_data"
    },
    {
     "data": {
      "text/plain": [
       "11911"
      ]
     },
     "execution_count": 6,
     "metadata": {},
     "output_type": "execute_result"
    }
   ],
   "source": [
    "from astrohack.extract_holog import model_memory_usage\n",
    "\n",
    "model_memory_usage(\n",
    "    ms_name=\"data/ea25_cal_small_after_fixed.split.ms\",\n",
    "    holog_obs_dict=None\n",
    ")\n"
   ]
  },
  {
   "cell_type": "code",
   "execution_count": 5,
   "id": "10dffc63-1907-497f-b025-392b5813eac9",
   "metadata": {
    "tags": []
   },
   "outputs": [
    {
     "data": {
      "text/html": [
       "<pre style=\"white-space:pre;overflow-x:auto;line-height:normal;font-family:Menlo,'DejaVu Sans Mono',consolas,'Courier New',monospace\"><span style=\"color: #7fbfbf; text-decoration-color: #7fbfbf\">[2023-12-15,13:54:36] </span><span style=\"color: #000080; text-decoration-color: #000080\">INFO    </span> Checking parameter values for client.local_client                   <a href=\"file:///export/home/ajax/jhoskins/.conda/envs/holo-3.8/lib/python3.8/site-packages/auror/parameter.py\" target=\"_blank\"><span style=\"color: #7f7f7f; text-decoration-color: #7f7f7f\">parameter.py</span></a><span style=\"color: #7f7f7f; text-decoration-color: #7f7f7f\">:</span><a href=\"file:///export/home/ajax/jhoskins/.conda/envs/holo-3.8/lib/python3.8/site-packages/auror/parameter.py#120\" target=\"_blank\"><span style=\"color: #7f7f7f; text-decoration-color: #7f7f7f\">120</span></a>\n",
       "</pre>\n"
      ],
      "text/plain": [
       "\u001b[2;36m[2023-12-15,13:54:36]\u001b[0m\u001b[2;36m \u001b[0m\u001b[34mINFO    \u001b[0m Checking parameter values for client.local_client                   \u001b]8;id=420307;file:///export/home/ajax/jhoskins/.conda/envs/holo-3.8/lib/python3.8/site-packages/auror/parameter.py\u001b\\\u001b[2mparameter.py\u001b[0m\u001b]8;;\u001b\\\u001b[2m:\u001b[0m\u001b]8;id=658246;file:///export/home/ajax/jhoskins/.conda/envs/holo-3.8/lib/python3.8/site-packages/auror/parameter.py#120\u001b\\\u001b[2m120\u001b[0m\u001b]8;;\u001b\\\n"
      ]
     },
     "metadata": {},
     "output_type": "display_data"
    },
    {
     "data": {
      "text/html": [
       "<pre style=\"white-space:pre;overflow-x:auto;line-height:normal;font-family:Menlo,'DejaVu Sans Mono',consolas,'Courier New',monospace\"><span style=\"color: #7fbfbf; text-decoration-color: #7fbfbf\">                      </span><span style=\"color: #800000; text-decoration-color: #800000\">WARNING </span> It is recommended that the local cache directory be set using the       <a href=\"file:///export/home/ajax/jhoskins/.conda/envs/holo-3.8/lib/python3.8/site-packages/skriba/prototype/logger.py\" target=\"_blank\"><span style=\"color: #7f7f7f; text-decoration-color: #7f7f7f\">logger.py</span></a><span style=\"color: #7f7f7f; text-decoration-color: #7f7f7f\">:</span><a href=\"file:///export/home/ajax/jhoskins/.conda/envs/holo-3.8/lib/python3.8/site-packages/skriba/prototype/logger.py#53\" target=\"_blank\"><span style=\"color: #7f7f7f; text-decoration-color: #7f7f7f\">53</span></a>\n",
       "<span style=\"color: #7fbfbf; text-decoration-color: #7fbfbf\">                      </span>         `local_dir` parameter.                                                  <span style=\"color: #7f7f7f; text-decoration-color: #7f7f7f\">            </span>\n",
       "</pre>\n"
      ],
      "text/plain": [
       "\u001b[2;36m                     \u001b[0m\u001b[2;36m \u001b[0m\u001b[31mWARNING \u001b[0m It is recommended that the local cache directory be set using the       \u001b]8;id=99046;file:///export/home/ajax/jhoskins/.conda/envs/holo-3.8/lib/python3.8/site-packages/skriba/prototype/logger.py\u001b\\\u001b[2mlogger.py\u001b[0m\u001b]8;;\u001b\\\u001b[2m:\u001b[0m\u001b]8;id=963411;file:///export/home/ajax/jhoskins/.conda/envs/holo-3.8/lib/python3.8/site-packages/skriba/prototype/logger.py#53\u001b\\\u001b[2m53\u001b[0m\u001b]8;;\u001b\\\n",
       "\u001b[2;36m                      \u001b[0m         `local_dir` parameter.                                                  \u001b[2m            \u001b[0m\n"
      ]
     },
     "metadata": {},
     "output_type": "display_data"
    },
    {
     "data": {
      "text/html": [
       "<pre style=\"white-space:pre;overflow-x:auto;line-height:normal;font-family:Menlo,'DejaVu Sans Mono',consolas,'Courier New',monospace\"><span style=\"color: #7fbfbf; text-decoration-color: #7fbfbf\">                      </span><span style=\"color: #008000; text-decoration-color: #008000\">DEBUG   </span> Using selector: EpollSelector                                  <a href=\"file:///export/home/ajax/jhoskins/.conda/envs/holo-3.8/lib/python3.8/asyncio/selector_events.py\" target=\"_blank\"><span style=\"color: #7f7f7f; text-decoration-color: #7f7f7f\">selector_events.py</span></a><span style=\"color: #7f7f7f; text-decoration-color: #7f7f7f\">:</span><a href=\"file:///export/home/ajax/jhoskins/.conda/envs/holo-3.8/lib/python3.8/asyncio/selector_events.py#59\" target=\"_blank\"><span style=\"color: #7f7f7f; text-decoration-color: #7f7f7f\">59</span></a>\n",
       "</pre>\n"
      ],
      "text/plain": [
       "\u001b[2;36m                     \u001b[0m\u001b[2;36m \u001b[0m\u001b[32mDEBUG   \u001b[0m Using selector: EpollSelector                                  \u001b]8;id=606139;file:///export/home/ajax/jhoskins/.conda/envs/holo-3.8/lib/python3.8/asyncio/selector_events.py\u001b\\\u001b[2mselector_events.py\u001b[0m\u001b]8;;\u001b\\\u001b[2m:\u001b[0m\u001b]8;id=38764;file:///export/home/ajax/jhoskins/.conda/envs/holo-3.8/lib/python3.8/asyncio/selector_events.py#59\u001b\\\u001b[2m59\u001b[0m\u001b]8;;\u001b\\\n"
      ]
     },
     "metadata": {},
     "output_type": "display_data"
    },
    {
     "name": "stderr",
     "output_type": "stream",
     "text": [
      "/export/home/ajax/jhoskins/.conda/envs/holo-3.8/lib/python3.8/site-packages/distributed/node.py:182: UserWarning: Port 8787 is already in use.\n",
      "Perhaps you already have a cluster running?\n",
      "Hosting the HTTP server on port 41217 instead\n",
      "  warnings.warn(\n"
     ]
    },
    {
     "data": {
      "text/html": [
       "<pre style=\"white-space:pre;overflow-x:auto;line-height:normal;font-family:Menlo,'DejaVu Sans Mono',consolas,'Courier New',monospace\"><span style=\"color: #7fbfbf; text-decoration-color: #7fbfbf\">[2023-12-15,13:54:40] </span><span style=\"color: #000080; text-decoration-color: #000080\">INFO    </span> Created client <span style=\"font-weight: bold\">&lt;</span><span style=\"color: #ff00ff; text-decoration-color: #ff00ff; font-weight: bold\">Client:</span><span style=\"color: #000000; text-decoration-color: #000000\"> </span><span style=\"color: #008000; text-decoration-color: #008000\">'tcp://127.0.0.1:33209'</span><span style=\"color: #000000; text-decoration-color: #000000\"> </span><span style=\"color: #808000; text-decoration-color: #808000\">processes</span><span style=\"color: #000000; text-decoration-color: #000000\">=</span><span style=\"color: #008080; text-decoration-color: #008080; font-weight: bold\">2</span><span style=\"color: #000000; text-decoration-color: #000000\"> </span><span style=\"color: #808000; text-decoration-color: #808000\">threads</span><span style=\"color: #000000; text-decoration-color: #000000\">=</span><span style=\"color: #008080; text-decoration-color: #008080; font-weight: bold\">2</span><span style=\"color: #000000; text-decoration-color: #000000\">, </span> <a href=\"file:///export/home/ajax/jhoskins/.conda/envs/holo-3.8/lib/python3.8/site-packages/skriba/prototype/logger.py\" target=\"_blank\"><span style=\"color: #7f7f7f; text-decoration-color: #7f7f7f\">logger.py</span></a><span style=\"color: #7f7f7f; text-decoration-color: #7f7f7f\">:</span><a href=\"file:///export/home/ajax/jhoskins/.conda/envs/holo-3.8/lib/python3.8/site-packages/skriba/prototype/logger.py#31\" target=\"_blank\"><span style=\"color: #7f7f7f; text-decoration-color: #7f7f7f\">31</span></a>\n",
       "<span style=\"color: #7fbfbf; text-decoration-color: #7fbfbf\">                      </span>         <span style=\"color: #808000; text-decoration-color: #808000\">memory</span><span style=\"color: #000000; text-decoration-color: #000000\">=</span><span style=\"color: #008080; text-decoration-color: #008080; font-weight: bold\">14.90</span><span style=\"color: #000000; text-decoration-color: #000000\"> GiB</span><span style=\"font-weight: bold\">&gt;</span>                                                       <span style=\"color: #7f7f7f; text-decoration-color: #7f7f7f\">            </span>\n",
       "</pre>\n"
      ],
      "text/plain": [
       "\u001b[2;36m[2023-12-15,13:54:40]\u001b[0m\u001b[2;36m \u001b[0m\u001b[34mINFO    \u001b[0m Created client \u001b[1m<\u001b[0m\u001b[1;95mClient:\u001b[0m\u001b[39m \u001b[0m\u001b[32m'tcp://127.0.0.1:33209'\u001b[0m\u001b[39m \u001b[0m\u001b[33mprocesses\u001b[0m\u001b[39m=\u001b[0m\u001b[1;36m2\u001b[0m\u001b[39m \u001b[0m\u001b[33mthreads\u001b[0m\u001b[39m=\u001b[0m\u001b[1;36m2\u001b[0m\u001b[39m, \u001b[0m \u001b]8;id=53859;file:///export/home/ajax/jhoskins/.conda/envs/holo-3.8/lib/python3.8/site-packages/skriba/prototype/logger.py\u001b\\\u001b[2mlogger.py\u001b[0m\u001b]8;;\u001b\\\u001b[2m:\u001b[0m\u001b]8;id=884886;file:///export/home/ajax/jhoskins/.conda/envs/holo-3.8/lib/python3.8/site-packages/skriba/prototype/logger.py#31\u001b\\\u001b[2m31\u001b[0m\u001b]8;;\u001b\\\n",
       "\u001b[2;36m                      \u001b[0m         \u001b[33mmemory\u001b[0m\u001b[39m=\u001b[0m\u001b[1;36m14\u001b[0m\u001b[1;36m.90\u001b[0m\u001b[39m GiB\u001b[0m\u001b[1m>\u001b[0m                                                       \u001b[2m            \u001b[0m\n"
      ]
     },
     "metadata": {},
     "output_type": "display_data"
    },
    {
     "data": {
      "text/html": [
       "<div>\n",
       "    <div style=\"width: 24px; height: 24px; background-color: #e1e1e1; border: 3px solid #9D9D9D; border-radius: 5px; position: absolute;\"> </div>\n",
       "    <div style=\"margin-left: 48px;\">\n",
       "        <h3 style=\"margin-bottom: 0px;\">Client</h3>\n",
       "        <p style=\"color: #9D9D9D; margin-bottom: 0px;\">Client-6559bfaa-9b7b-11ee-b5eb-c858c0afdf93</p>\n",
       "        <table style=\"width: 100%; text-align: left;\">\n",
       "\n",
       "        <tr>\n",
       "        \n",
       "            <td style=\"text-align: left;\"><strong>Connection method:</strong> Cluster object</td>\n",
       "            <td style=\"text-align: left;\"><strong>Cluster type:</strong> distributed.LocalCluster</td>\n",
       "        \n",
       "        </tr>\n",
       "\n",
       "        \n",
       "            <tr>\n",
       "                <td style=\"text-align: left;\">\n",
       "                    <strong>Dashboard: </strong> <a href=\"http://127.0.0.1:41217/status\" target=\"_blank\">http://127.0.0.1:41217/status</a>\n",
       "                </td>\n",
       "                <td style=\"text-align: left;\"></td>\n",
       "            </tr>\n",
       "        \n",
       "\n",
       "        </table>\n",
       "\n",
       "        \n",
       "\n",
       "        \n",
       "            <details>\n",
       "            <summary style=\"margin-bottom: 20px;\"><h3 style=\"display: inline;\">Cluster Info</h3></summary>\n",
       "            <div class=\"jp-RenderedHTMLCommon jp-RenderedHTML jp-mod-trusted jp-OutputArea-output\">\n",
       "    <div style=\"width: 24px; height: 24px; background-color: #e1e1e1; border: 3px solid #9D9D9D; border-radius: 5px; position: absolute;\">\n",
       "    </div>\n",
       "    <div style=\"margin-left: 48px;\">\n",
       "        <h3 style=\"margin-bottom: 0px; margin-top: 0px;\">LocalCluster</h3>\n",
       "        <p style=\"color: #9D9D9D; margin-bottom: 0px;\">acc23f68</p>\n",
       "        <table style=\"width: 100%; text-align: left;\">\n",
       "            <tr>\n",
       "                <td style=\"text-align: left;\">\n",
       "                    <strong>Dashboard:</strong> <a href=\"http://127.0.0.1:41217/status\" target=\"_blank\">http://127.0.0.1:41217/status</a>\n",
       "                </td>\n",
       "                <td style=\"text-align: left;\">\n",
       "                    <strong>Workers:</strong> 2\n",
       "                </td>\n",
       "            </tr>\n",
       "            <tr>\n",
       "                <td style=\"text-align: left;\">\n",
       "                    <strong>Total threads:</strong> 2\n",
       "                </td>\n",
       "                <td style=\"text-align: left;\">\n",
       "                    <strong>Total memory:</strong> 14.90 GiB\n",
       "                </td>\n",
       "            </tr>\n",
       "            \n",
       "            <tr>\n",
       "    <td style=\"text-align: left;\"><strong>Status:</strong> running</td>\n",
       "    <td style=\"text-align: left;\"><strong>Using processes:</strong> True</td>\n",
       "</tr>\n",
       "\n",
       "            \n",
       "        </table>\n",
       "\n",
       "        <details>\n",
       "            <summary style=\"margin-bottom: 20px;\">\n",
       "                <h3 style=\"display: inline;\">Scheduler Info</h3>\n",
       "            </summary>\n",
       "\n",
       "            <div style=\"\">\n",
       "    <div>\n",
       "        <div style=\"width: 24px; height: 24px; background-color: #FFF7E5; border: 3px solid #FF6132; border-radius: 5px; position: absolute;\"> </div>\n",
       "        <div style=\"margin-left: 48px;\">\n",
       "            <h3 style=\"margin-bottom: 0px;\">Scheduler</h3>\n",
       "            <p style=\"color: #9D9D9D; margin-bottom: 0px;\">Scheduler-4a111d56-08f4-417d-8735-166a76651b8c</p>\n",
       "            <table style=\"width: 100%; text-align: left;\">\n",
       "                <tr>\n",
       "                    <td style=\"text-align: left;\">\n",
       "                        <strong>Comm:</strong> tcp://127.0.0.1:33209\n",
       "                    </td>\n",
       "                    <td style=\"text-align: left;\">\n",
       "                        <strong>Workers:</strong> 2\n",
       "                    </td>\n",
       "                </tr>\n",
       "                <tr>\n",
       "                    <td style=\"text-align: left;\">\n",
       "                        <strong>Dashboard:</strong> <a href=\"http://127.0.0.1:41217/status\" target=\"_blank\">http://127.0.0.1:41217/status</a>\n",
       "                    </td>\n",
       "                    <td style=\"text-align: left;\">\n",
       "                        <strong>Total threads:</strong> 2\n",
       "                    </td>\n",
       "                </tr>\n",
       "                <tr>\n",
       "                    <td style=\"text-align: left;\">\n",
       "                        <strong>Started:</strong> Just now\n",
       "                    </td>\n",
       "                    <td style=\"text-align: left;\">\n",
       "                        <strong>Total memory:</strong> 14.90 GiB\n",
       "                    </td>\n",
       "                </tr>\n",
       "            </table>\n",
       "        </div>\n",
       "    </div>\n",
       "\n",
       "    <details style=\"margin-left: 48px;\">\n",
       "        <summary style=\"margin-bottom: 20px;\">\n",
       "            <h3 style=\"display: inline;\">Workers</h3>\n",
       "        </summary>\n",
       "\n",
       "        \n",
       "        <div style=\"margin-bottom: 20px;\">\n",
       "            <div style=\"width: 24px; height: 24px; background-color: #DBF5FF; border: 3px solid #4CC9FF; border-radius: 5px; position: absolute;\"> </div>\n",
       "            <div style=\"margin-left: 48px;\">\n",
       "            <details>\n",
       "                <summary>\n",
       "                    <h4 style=\"margin-bottom: 0px; display: inline;\">Worker: 0</h4>\n",
       "                </summary>\n",
       "                <table style=\"width: 100%; text-align: left;\">\n",
       "                    <tr>\n",
       "                        <td style=\"text-align: left;\">\n",
       "                            <strong>Comm: </strong> tcp://127.0.0.1:41781\n",
       "                        </td>\n",
       "                        <td style=\"text-align: left;\">\n",
       "                            <strong>Total threads: </strong> 1\n",
       "                        </td>\n",
       "                    </tr>\n",
       "                    <tr>\n",
       "                        <td style=\"text-align: left;\">\n",
       "                            <strong>Dashboard: </strong> <a href=\"http://127.0.0.1:43057/status\" target=\"_blank\">http://127.0.0.1:43057/status</a>\n",
       "                        </td>\n",
       "                        <td style=\"text-align: left;\">\n",
       "                            <strong>Memory: </strong> 7.45 GiB\n",
       "                        </td>\n",
       "                    </tr>\n",
       "                    <tr>\n",
       "                        <td style=\"text-align: left;\">\n",
       "                            <strong>Nanny: </strong> tcp://127.0.0.1:42047\n",
       "                        </td>\n",
       "                        <td style=\"text-align: left;\"></td>\n",
       "                    </tr>\n",
       "                    <tr>\n",
       "                        <td colspan=\"2\" style=\"text-align: left;\">\n",
       "                            <strong>Local directory: </strong> /tmp/dask-scratch-space/worker-savxq9ia\n",
       "                        </td>\n",
       "                    </tr>\n",
       "\n",
       "                    \n",
       "\n",
       "                    \n",
       "                    <tr>\n",
       "                        <td style=\"text-align: left;\">\n",
       "                            <strong>Tasks executing: </strong> \n",
       "                        </td>\n",
       "                        <td style=\"text-align: left;\">\n",
       "                            <strong>Tasks in memory: </strong> \n",
       "                        </td>\n",
       "                    </tr>\n",
       "                    <tr>\n",
       "                        <td style=\"text-align: left;\">\n",
       "                            <strong>Tasks ready: </strong> \n",
       "                        </td>\n",
       "                        <td style=\"text-align: left;\">\n",
       "                            <strong>Tasks in flight: </strong>\n",
       "                        </td>\n",
       "                    </tr>\n",
       "                    <tr>\n",
       "                        <td style=\"text-align: left;\">\n",
       "                            <strong>CPU usage:</strong> 0.0%\n",
       "                        </td>\n",
       "                        <td style=\"text-align: left;\">\n",
       "                            <strong>Last seen: </strong> Just now\n",
       "                        </td>\n",
       "                    </tr>\n",
       "                    <tr>\n",
       "                        <td style=\"text-align: left;\">\n",
       "                            <strong>Memory usage: </strong> 60.92 MiB\n",
       "                        </td>\n",
       "                        <td style=\"text-align: left;\">\n",
       "                            <strong>Spilled bytes: </strong> 0 B\n",
       "                        </td>\n",
       "                    </tr>\n",
       "                    <tr>\n",
       "                        <td style=\"text-align: left;\">\n",
       "                            <strong>Read bytes: </strong> 0.0 B\n",
       "                        </td>\n",
       "                        <td style=\"text-align: left;\">\n",
       "                            <strong>Write bytes: </strong> 0.0 B\n",
       "                        </td>\n",
       "                    </tr>\n",
       "                    \n",
       "\n",
       "                </table>\n",
       "            </details>\n",
       "            </div>\n",
       "        </div>\n",
       "        \n",
       "        <div style=\"margin-bottom: 20px;\">\n",
       "            <div style=\"width: 24px; height: 24px; background-color: #DBF5FF; border: 3px solid #4CC9FF; border-radius: 5px; position: absolute;\"> </div>\n",
       "            <div style=\"margin-left: 48px;\">\n",
       "            <details>\n",
       "                <summary>\n",
       "                    <h4 style=\"margin-bottom: 0px; display: inline;\">Worker: 1</h4>\n",
       "                </summary>\n",
       "                <table style=\"width: 100%; text-align: left;\">\n",
       "                    <tr>\n",
       "                        <td style=\"text-align: left;\">\n",
       "                            <strong>Comm: </strong> tcp://127.0.0.1:40609\n",
       "                        </td>\n",
       "                        <td style=\"text-align: left;\">\n",
       "                            <strong>Total threads: </strong> 1\n",
       "                        </td>\n",
       "                    </tr>\n",
       "                    <tr>\n",
       "                        <td style=\"text-align: left;\">\n",
       "                            <strong>Dashboard: </strong> <a href=\"http://127.0.0.1:34495/status\" target=\"_blank\">http://127.0.0.1:34495/status</a>\n",
       "                        </td>\n",
       "                        <td style=\"text-align: left;\">\n",
       "                            <strong>Memory: </strong> 7.45 GiB\n",
       "                        </td>\n",
       "                    </tr>\n",
       "                    <tr>\n",
       "                        <td style=\"text-align: left;\">\n",
       "                            <strong>Nanny: </strong> tcp://127.0.0.1:36655\n",
       "                        </td>\n",
       "                        <td style=\"text-align: left;\"></td>\n",
       "                    </tr>\n",
       "                    <tr>\n",
       "                        <td colspan=\"2\" style=\"text-align: left;\">\n",
       "                            <strong>Local directory: </strong> /tmp/dask-scratch-space/worker-8s7vgppv\n",
       "                        </td>\n",
       "                    </tr>\n",
       "\n",
       "                    \n",
       "\n",
       "                    \n",
       "                    <tr>\n",
       "                        <td style=\"text-align: left;\">\n",
       "                            <strong>Tasks executing: </strong> \n",
       "                        </td>\n",
       "                        <td style=\"text-align: left;\">\n",
       "                            <strong>Tasks in memory: </strong> \n",
       "                        </td>\n",
       "                    </tr>\n",
       "                    <tr>\n",
       "                        <td style=\"text-align: left;\">\n",
       "                            <strong>Tasks ready: </strong> \n",
       "                        </td>\n",
       "                        <td style=\"text-align: left;\">\n",
       "                            <strong>Tasks in flight: </strong>\n",
       "                        </td>\n",
       "                    </tr>\n",
       "                    <tr>\n",
       "                        <td style=\"text-align: left;\">\n",
       "                            <strong>CPU usage:</strong> 0.0%\n",
       "                        </td>\n",
       "                        <td style=\"text-align: left;\">\n",
       "                            <strong>Last seen: </strong> Just now\n",
       "                        </td>\n",
       "                    </tr>\n",
       "                    <tr>\n",
       "                        <td style=\"text-align: left;\">\n",
       "                            <strong>Memory usage: </strong> 60.75 MiB\n",
       "                        </td>\n",
       "                        <td style=\"text-align: left;\">\n",
       "                            <strong>Spilled bytes: </strong> 0 B\n",
       "                        </td>\n",
       "                    </tr>\n",
       "                    <tr>\n",
       "                        <td style=\"text-align: left;\">\n",
       "                            <strong>Read bytes: </strong> 0.0 B\n",
       "                        </td>\n",
       "                        <td style=\"text-align: left;\">\n",
       "                            <strong>Write bytes: </strong> 0.0 B\n",
       "                        </td>\n",
       "                    </tr>\n",
       "                    \n",
       "\n",
       "                </table>\n",
       "            </details>\n",
       "            </div>\n",
       "        </div>\n",
       "        \n",
       "\n",
       "    </details>\n",
       "</div>\n",
       "\n",
       "        </details>\n",
       "    </div>\n",
       "</div>\n",
       "            </details>\n",
       "        \n",
       "\n",
       "    </div>\n",
       "</div>"
      ],
      "text/plain": [
       "<Client: 'tcp://127.0.0.1:33209' processes=2 threads=2, memory=14.90 GiB>"
      ]
     },
     "execution_count": 5,
     "metadata": {},
     "output_type": "execute_result"
    }
   ],
   "source": [
    "from astrohack.client import local_client\n",
    "client = local_client(cores=2, memory_limit='8GB')\n",
    "client"
   ]
  },
  {
   "cell_type": "markdown",
   "id": "a65ccd34-aa93-4689-bc5e-68d4775f759d",
   "metadata": {},
   "source": [
    "## Extract Holog\n",
    "\n",
    "The extraction and restructuring of the holography data is done using the `extract_holog` function. This function is similar in function to the `UVHOL` task in AIPS. \n",
    "The holography data that is extracted can be set using the compound dictionary *holog_obs_description*: *mapping*, *scan*, and *antenna* id. A detailed description of the structure of the *holog_obs_description* dictionary can be found in the documentation [here](https://astrohack.readthedocs.io/en/latest/_api/autoapi/astrohack/extract_holog/index.html). The `extract_holog` can automatically generate the *holog_obs_description* by inspecting the pointing table. \n",
    "\n",
    "Inline information on the input parameters can also be gotten using `help(extract_holog)` in the cell."
   ]
  },
  {
   "cell_type": "code",
   "execution_count": 7,
   "id": "0f6f37a0-4994-48b6-b930-7fb61e0d8db7",
   "metadata": {
    "tags": []
   },
   "outputs": [
    {
     "data": {
      "text/html": [
       "<pre style=\"white-space:pre;overflow-x:auto;line-height:normal;font-family:Menlo,'DejaVu Sans Mono',consolas,'Courier New',monospace\"><span style=\"color: #7fbfbf; text-decoration-color: #7fbfbf\">[2023-12-15,13:55:02] </span><span style=\"color: #000080; text-decoration-color: #000080\">INFO    </span> Checking parameter values for extract_pointing.extract_pointing     <a href=\"file:///export/home/ajax/jhoskins/.conda/envs/holo-3.8/lib/python3.8/site-packages/auror/parameter.py\" target=\"_blank\"><span style=\"color: #7f7f7f; text-decoration-color: #7f7f7f\">parameter.py</span></a><span style=\"color: #7f7f7f; text-decoration-color: #7f7f7f\">:</span><a href=\"file:///export/home/ajax/jhoskins/.conda/envs/holo-3.8/lib/python3.8/site-packages/auror/parameter.py#120\" target=\"_blank\"><span style=\"color: #7f7f7f; text-decoration-color: #7f7f7f\">120</span></a>\n",
       "</pre>\n"
      ],
      "text/plain": [
       "\u001b[2;36m[2023-12-15,13:55:02]\u001b[0m\u001b[2;36m \u001b[0m\u001b[34mINFO    \u001b[0m Checking parameter values for extract_pointing.extract_pointing     \u001b]8;id=915908;file:///export/home/ajax/jhoskins/.conda/envs/holo-3.8/lib/python3.8/site-packages/auror/parameter.py\u001b\\\u001b[2mparameter.py\u001b[0m\u001b]8;;\u001b\\\u001b[2m:\u001b[0m\u001b]8;id=767950;file:///export/home/ajax/jhoskins/.conda/envs/holo-3.8/lib/python3.8/site-packages/auror/parameter.py#120\u001b\\\u001b[2m120\u001b[0m\u001b]8;;\u001b\\\n"
      ]
     },
     "metadata": {},
     "output_type": "display_data"
    },
    {
     "name": "stdout",
     "output_type": "stream",
     "text": [
      "Successful readonly open of usernoread-locked table data/ea25_cal_small_after_fixed.split.ms/ANTENNA: 8 columns, 3 rows\n",
      "[2023-12-15,13:55:02] INFO     Writing pointing xds to              logger.py:31\n",
      "                               data/ea25_cal_small_after_fixed.spli             \n",
      "                               t.point.zarr/ant_ea25                            \n",
      "[2023-12-15,13:55:02] INFO     Writing pointing xds to              logger.py:31\n",
      "                               data/ea25_cal_small_after_fixed.spli             \n",
      "                               t.point.zarr/ant_ea06                            \n",
      "                      INFO     Writing pointing xds to              logger.py:31\n",
      "                               data/ea25_cal_small_after_fixed.spli             \n",
      "                               t.point.zarr/ant_ea04                            \n"
     ]
    },
    {
     "data": {
      "text/html": [
       "<pre style=\"white-space:pre;overflow-x:auto;line-height:normal;font-family:Menlo,'DejaVu Sans Mono',consolas,'Courier New',monospace\"><span style=\"color: #7fbfbf; text-decoration-color: #7fbfbf\">                      </span><span style=\"color: #000080; text-decoration-color: #000080\">INFO    </span> Finished processing                                                     <a href=\"file:///export/home/ajax/jhoskins/.conda/envs/holo-3.8/lib/python3.8/site-packages/skriba/prototype/logger.py\" target=\"_blank\"><span style=\"color: #7f7f7f; text-decoration-color: #7f7f7f\">logger.py</span></a><span style=\"color: #7f7f7f; text-decoration-color: #7f7f7f\">:</span><a href=\"file:///export/home/ajax/jhoskins/.conda/envs/holo-3.8/lib/python3.8/site-packages/skriba/prototype/logger.py#31\" target=\"_blank\"><span style=\"color: #7f7f7f; text-decoration-color: #7f7f7f\">31</span></a>\n",
       "</pre>\n"
      ],
      "text/plain": [
       "\u001b[2;36m                     \u001b[0m\u001b[2;36m \u001b[0m\u001b[34mINFO    \u001b[0m Finished processing                                                     \u001b]8;id=71037;file:///export/home/ajax/jhoskins/.conda/envs/holo-3.8/lib/python3.8/site-packages/skriba/prototype/logger.py\u001b\\\u001b[2mlogger.py\u001b[0m\u001b]8;;\u001b\\\u001b[2m:\u001b[0m\u001b]8;id=810180;file:///export/home/ajax/jhoskins/.conda/envs/holo-3.8/lib/python3.8/site-packages/skriba/prototype/logger.py#31\u001b\\\u001b[2m31\u001b[0m\u001b]8;;\u001b\\\n"
      ]
     },
     "metadata": {},
     "output_type": "display_data"
    },
    {
     "data": {
      "text/html": [
       "<pre style=\"white-space:pre;overflow-x:auto;line-height:normal;font-family:Menlo,'DejaVu Sans Mono',consolas,'Courier New',monospace\"><span style=\"color: #7fbfbf; text-decoration-color: #7fbfbf\">[2023-12-15,13:55:03] </span><span style=\"color: #000080; text-decoration-color: #000080\">INFO    </span> Checking parameter values for extract_holog.extract_holog           <a href=\"file:///export/home/ajax/jhoskins/.conda/envs/holo-3.8/lib/python3.8/site-packages/auror/parameter.py\" target=\"_blank\"><span style=\"color: #7f7f7f; text-decoration-color: #7f7f7f\">parameter.py</span></a><span style=\"color: #7f7f7f; text-decoration-color: #7f7f7f\">:</span><a href=\"file:///export/home/ajax/jhoskins/.conda/envs/holo-3.8/lib/python3.8/site-packages/auror/parameter.py#120\" target=\"_blank\"><span style=\"color: #7f7f7f; text-decoration-color: #7f7f7f\">120</span></a>\n",
       "</pre>\n"
      ],
      "text/plain": [
       "\u001b[2;36m[2023-12-15,13:55:03]\u001b[0m\u001b[2;36m \u001b[0m\u001b[34mINFO    \u001b[0m Checking parameter values for extract_holog.extract_holog           \u001b]8;id=187714;file:///export/home/ajax/jhoskins/.conda/envs/holo-3.8/lib/python3.8/site-packages/auror/parameter.py\u001b\\\u001b[2mparameter.py\u001b[0m\u001b]8;;\u001b\\\u001b[2m:\u001b[0m\u001b]8;id=40721;file:///export/home/ajax/jhoskins/.conda/envs/holo-3.8/lib/python3.8/site-packages/auror/parameter.py#120\u001b\\\u001b[2m120\u001b[0m\u001b]8;;\u001b\\\n"
      ]
     },
     "metadata": {},
     "output_type": "display_data"
    },
    {
     "data": {
      "text/html": [
       "<pre style=\"white-space:pre;overflow-x:auto;line-height:normal;font-family:Menlo,'DejaVu Sans Mono',consolas,'Courier New',monospace\"><span style=\"color: #7fbfbf; text-decoration-color: #7fbfbf\">                      </span><span style=\"color: #000080; text-decoration-color: #000080\">INFO    </span> Creating output file name:                                              <a href=\"file:///export/home/ajax/jhoskins/.conda/envs/holo-3.8/lib/python3.8/site-packages/skriba/prototype/logger.py\" target=\"_blank\"><span style=\"color: #7f7f7f; text-decoration-color: #7f7f7f\">logger.py</span></a><span style=\"color: #7f7f7f; text-decoration-color: #7f7f7f\">:</span><a href=\"file:///export/home/ajax/jhoskins/.conda/envs/holo-3.8/lib/python3.8/site-packages/skriba/prototype/logger.py#31\" target=\"_blank\"><span style=\"color: #7f7f7f; text-decoration-color: #7f7f7f\">31</span></a>\n",
       "<span style=\"color: #7fbfbf; text-decoration-color: #7fbfbf\">                      </span>         data/ea25_cal_small_after_fixed.split.holog.zarr                        <span style=\"color: #7f7f7f; text-decoration-color: #7f7f7f\">            </span>\n",
       "</pre>\n"
      ],
      "text/plain": [
       "\u001b[2;36m                     \u001b[0m\u001b[2;36m \u001b[0m\u001b[34mINFO    \u001b[0m Creating output file name:                                              \u001b]8;id=237246;file:///export/home/ajax/jhoskins/.conda/envs/holo-3.8/lib/python3.8/site-packages/skriba/prototype/logger.py\u001b\\\u001b[2mlogger.py\u001b[0m\u001b]8;;\u001b\\\u001b[2m:\u001b[0m\u001b]8;id=648064;file:///export/home/ajax/jhoskins/.conda/envs/holo-3.8/lib/python3.8/site-packages/skriba/prototype/logger.py#31\u001b\\\u001b[2m31\u001b[0m\u001b]8;;\u001b\\\n",
       "\u001b[2;36m                      \u001b[0m         data/ea25_cal_small_after_fixed.split.holog.zarr                        \u001b[2m            \u001b[0m\n"
      ]
     },
     "metadata": {},
     "output_type": "display_data"
    },
    {
     "data": {
      "text/html": [
       "<pre style=\"white-space:pre;overflow-x:auto;line-height:normal;font-family:Menlo,'DejaVu Sans Mono',consolas,'Courier New',monospace\"><span style=\"color: #7fbfbf; text-decoration-color: #7fbfbf\">                      </span><span style=\"color: #000080; text-decoration-color: #000080\">INFO    </span> Processing ddi: <span style=\"color: #008080; text-decoration-color: #008080; font-weight: bold\">0</span>, scans: <span style=\"font-weight: bold\">[</span><span style=\"color: #008080; text-decoration-color: #008080; font-weight: bold\">8</span> <span style=\"color: #808000; text-decoration-color: #808000\">...</span> <span style=\"color: #008080; text-decoration-color: #008080; font-weight: bold\">57</span><span style=\"font-weight: bold\">]</span>                                    <a href=\"file:///export/home/ajax/jhoskins/.conda/envs/holo-3.8/lib/python3.8/site-packages/skriba/prototype/logger.py\" target=\"_blank\"><span style=\"color: #7f7f7f; text-decoration-color: #7f7f7f\">logger.py</span></a><span style=\"color: #7f7f7f; text-decoration-color: #7f7f7f\">:</span><a href=\"file:///export/home/ajax/jhoskins/.conda/envs/holo-3.8/lib/python3.8/site-packages/skriba/prototype/logger.py#31\" target=\"_blank\"><span style=\"color: #7f7f7f; text-decoration-color: #7f7f7f\">31</span></a>\n",
       "</pre>\n"
      ],
      "text/plain": [
       "\u001b[2;36m                     \u001b[0m\u001b[2;36m \u001b[0m\u001b[34mINFO    \u001b[0m Processing ddi: \u001b[1;36m0\u001b[0m, scans: \u001b[1m[\u001b[0m\u001b[1;36m8\u001b[0m \u001b[33m...\u001b[0m \u001b[1;36m57\u001b[0m\u001b[1m]\u001b[0m                                    \u001b]8;id=641775;file:///export/home/ajax/jhoskins/.conda/envs/holo-3.8/lib/python3.8/site-packages/skriba/prototype/logger.py\u001b\\\u001b[2mlogger.py\u001b[0m\u001b]8;;\u001b\\\u001b[2m:\u001b[0m\u001b]8;id=953860;file:///export/home/ajax/jhoskins/.conda/envs/holo-3.8/lib/python3.8/site-packages/skriba/prototype/logger.py#31\u001b\\\u001b[2m31\u001b[0m\u001b]8;;\u001b\\\n"
      ]
     },
     "metadata": {},
     "output_type": "display_data"
    },
    {
     "data": {
      "text/html": [
       "<pre style=\"white-space:pre;overflow-x:auto;line-height:normal;font-family:Menlo,'DejaVu Sans Mono',consolas,'Courier New',monospace\"><span style=\"color: #7fbfbf; text-decoration-color: #7fbfbf\">                      </span><span style=\"color: #000080; text-decoration-color: #000080\">INFO    </span> Processing ddi: <span style=\"color: #008080; text-decoration-color: #008080; font-weight: bold\">1</span>, scans: <span style=\"font-weight: bold\">[</span><span style=\"color: #008080; text-decoration-color: #008080; font-weight: bold\">8</span> <span style=\"color: #808000; text-decoration-color: #808000\">...</span> <span style=\"color: #008080; text-decoration-color: #008080; font-weight: bold\">57</span><span style=\"font-weight: bold\">]</span>                                    <a href=\"file:///export/home/ajax/jhoskins/.conda/envs/holo-3.8/lib/python3.8/site-packages/skriba/prototype/logger.py\" target=\"_blank\"><span style=\"color: #7f7f7f; text-decoration-color: #7f7f7f\">logger.py</span></a><span style=\"color: #7f7f7f; text-decoration-color: #7f7f7f\">:</span><a href=\"file:///export/home/ajax/jhoskins/.conda/envs/holo-3.8/lib/python3.8/site-packages/skriba/prototype/logger.py#31\" target=\"_blank\"><span style=\"color: #7f7f7f; text-decoration-color: #7f7f7f\">31</span></a>\n",
       "</pre>\n"
      ],
      "text/plain": [
       "\u001b[2;36m                     \u001b[0m\u001b[2;36m \u001b[0m\u001b[34mINFO    \u001b[0m Processing ddi: \u001b[1;36m1\u001b[0m, scans: \u001b[1m[\u001b[0m\u001b[1;36m8\u001b[0m \u001b[33m...\u001b[0m \u001b[1;36m57\u001b[0m\u001b[1m]\u001b[0m                                    \u001b]8;id=463315;file:///export/home/ajax/jhoskins/.conda/envs/holo-3.8/lib/python3.8/site-packages/skriba/prototype/logger.py\u001b\\\u001b[2mlogger.py\u001b[0m\u001b]8;;\u001b\\\u001b[2m:\u001b[0m\u001b]8;id=989519;file:///export/home/ajax/jhoskins/.conda/envs/holo-3.8/lib/python3.8/site-packages/skriba/prototype/logger.py#31\u001b\\\u001b[2m31\u001b[0m\u001b]8;;\u001b\\\n"
      ]
     },
     "metadata": {},
     "output_type": "display_data"
    },
    {
     "name": "stdout",
     "output_type": "stream",
     "text": [
      "Successful readonly open of default-locked table data/ea25_cal_small_after_fixed.split.ms/ANTENNA: 8 columns, 3 rows\n",
      "Successful readonly open of default-locked table data/ea25_cal_small_after_fixed.split.ms/OBSERVATION: 9 columns, 1 rows\n",
      "[2023-12-15,13:55:10] INFO     Writing holog file to                logger.py:31\n",
      "                               data/ea25_cal_small_after_fixed.spli             \n",
      "                               t.holog.zarr                                     \n",
      "Successful readonly open of default-locked table data/ea25_cal_small_after_fixed.split.ms/ANTENNA: 8 columns, 3 rows\n",
      "Successful readonly open of default-locked table data/ea25_cal_small_after_fixed.split.ms/OBSERVATION: 9 columns, 1 rows\n",
      "[2023-12-15,13:55:10] INFO     Writing holog file to                logger.py:31\n",
      "                               data/ea25_cal_small_after_fixed.spli             \n",
      "                               t.holog.zarr                                     \n",
      "                      INFO     Writing holog file to                logger.py:31\n",
      "                               data/ea25_cal_small_after_fixed.spli             \n",
      "                               t.holog.zarr                                     \n",
      "                      INFO     Writing holog file to                logger.py:31\n",
      "                               data/ea25_cal_small_after_fixed.spli             \n",
      "                               t.holog.zarr                                     \n",
      "                      INFO     Finished extracting holography chunk logger.py:31\n",
      "                               for ddi: 1 holog_map_key: map_0                  \n",
      "                      INFO     Finished extracting holography chunk logger.py:31\n",
      "                               for ddi: 0 holog_map_key: map_0                  \n"
     ]
    },
    {
     "data": {
      "text/html": [
       "<pre style=\"white-space:pre;overflow-x:auto;line-height:normal;font-family:Menlo,'DejaVu Sans Mono',consolas,'Courier New',monospace\"><span style=\"color: #7fbfbf; text-decoration-color: #7fbfbf\">[2023-12-15,13:55:10] </span><span style=\"color: #000080; text-decoration-color: #000080\">INFO    </span> Finished processing                                                     <a href=\"file:///export/home/ajax/jhoskins/.conda/envs/holo-3.8/lib/python3.8/site-packages/skriba/prototype/logger.py\" target=\"_blank\"><span style=\"color: #7f7f7f; text-decoration-color: #7f7f7f\">logger.py</span></a><span style=\"color: #7f7f7f; text-decoration-color: #7f7f7f\">:</span><a href=\"file:///export/home/ajax/jhoskins/.conda/envs/holo-3.8/lib/python3.8/site-packages/skriba/prototype/logger.py#31\" target=\"_blank\"><span style=\"color: #7f7f7f; text-decoration-color: #7f7f7f\">31</span></a>\n",
       "</pre>\n"
      ],
      "text/plain": [
       "\u001b[2;36m[2023-12-15,13:55:10]\u001b[0m\u001b[2;36m \u001b[0m\u001b[34mINFO    \u001b[0m Finished processing                                                     \u001b]8;id=158095;file:///export/home/ajax/jhoskins/.conda/envs/holo-3.8/lib/python3.8/site-packages/skriba/prototype/logger.py\u001b\\\u001b[2mlogger.py\u001b[0m\u001b]8;;\u001b\\\u001b[2m:\u001b[0m\u001b]8;id=340385;file:///export/home/ajax/jhoskins/.conda/envs/holo-3.8/lib/python3.8/site-packages/skriba/prototype/logger.py#31\u001b\\\u001b[2m31\u001b[0m\u001b]8;;\u001b\\\n"
      ]
     },
     "metadata": {},
     "output_type": "display_data"
    }
   ],
   "source": [
    "from astrohack.extract_pointing import extract_pointing\n",
    "from astrohack.extract_holog import extract_holog\n",
    "\n",
    "extract_pointing(\n",
    "      ms_name='data/ea25_cal_small_after_fixed.split.ms',\n",
    "      point_name='data/ea25_cal_small_after_fixed.split.point.zarr',\n",
    "      parallel=True,\n",
    "      overwrite=True\n",
    ")\n",
    "\n",
    "holog_mds = extract_holog(\n",
    "    ms_name='data/ea25_cal_small_after_fixed.split.ms',\n",
    "    point_name='data/ea25_cal_small_after_fixed.split.point.zarr',\n",
    "    data_column='CORRECTED_DATA', \n",
    "    parallel=True,\n",
    "    overwrite=True\n",
    ")\n",
    "\n"
   ]
  },
  {
   "cell_type": "markdown",
   "id": "108c9f23-1091-4dca-bb4e-b6fbf5f1abd3",
   "metadata": {},
   "source": [
    "Two files are created by `extract_holog`: The extracted pointing information in the form of `<point_name>.point.zarr` and the extracted holography data as `<point_name>.holog.zarr`. In addition, a holography data object is returned. This is the same holography data object returned by the hologrphy data API above. The `holog_mds` object is a python dict containing the extracted holography data found in `.holog.zarr` but with extended functionality such as providing a summary of the run infomation in table form. Below for each `DDI` we can see the available `scan` and `antenna` information.\n",
    "\n",
    "\n",
    "___point_name.point.zarr:___ <span style=\"color:red\"> The pointing zarr file contains position and pointing information extracted from the pointing table of the input measurement set. In addition, the antenna and mapping scan information is listed for each antenna. The pointing object is structured as a simple dictionary with `key:value` sets with the key being the antenna id and the value being the pointing dataset. </span>\n",
    "\n",
    "```\n",
    "point_mds = \n",
    "{\n",
    "   ant_0: point_ds,\n",
    "            ⋮\n",
    "   ant_n: point_ds\n",
    "}\n",
    "```\n"
   ]
  },
  {
   "cell_type": "markdown",
   "id": "702f7a0b-bc15-4ca9-a476-b655901cd23d",
   "metadata": {},
   "source": [
    "___holog_name.holog.zarr:___ <span style=\"color:red\"> The holog zarr file contains ungridded data extracted from the pointing and main tables in the measurement set. The holog file includes the directional, visibility and weight information recorded on a shared time axis; the sampling is done because the native sample rates between the pointing and main tables are not the same. In addition, the meta data such as sampled parallactic data (beginning, middle and end of scan) and l(m) extent is recorded in the file attributes. The holog file structure is a compound dictionary keyed according to `ddi` -> `map` -> `ant` with values consisting of the holog dataset. </span>\n",
    "\n",
    "```\n",
    "holog_mds = \n",
    "{\n",
    "   ddi_0:{\n",
    "          map_0:{\n",
    "                 ant_0: holog_ds,\n",
    "                          ⋮\n",
    "                 ant_n: holog_ds\n",
    "                },\n",
    "              ⋮\n",
    "          map_p: …\n",
    "         },\n",
    "       ⋮\n",
    "   ddi_m: …\n",
    "}\n",
    "\n",
    "```\n",
    "\n",
    "An example of the holog dataset object is show below."
   ]
  },
  {
   "cell_type": "code",
   "execution_count": 8,
   "id": "f4ce2575-5925-4822-b426-fc8b67580e9e",
   "metadata": {
    "tags": []
   },
   "outputs": [
    {
     "data": {
      "text/html": [
       "<div><svg style=\"position: absolute; width: 0; height: 0; overflow: hidden\">\n",
       "<defs>\n",
       "<symbol id=\"icon-database\" viewBox=\"0 0 32 32\">\n",
       "<path d=\"M16 0c-8.837 0-16 2.239-16 5v4c0 2.761 7.163 5 16 5s16-2.239 16-5v-4c0-2.761-7.163-5-16-5z\"></path>\n",
       "<path d=\"M16 17c-8.837 0-16-2.239-16-5v6c0 2.761 7.163 5 16 5s16-2.239 16-5v-6c0 2.761-7.163 5-16 5z\"></path>\n",
       "<path d=\"M16 26c-8.837 0-16-2.239-16-5v6c0 2.761 7.163 5 16 5s16-2.239 16-5v-6c0 2.761-7.163 5-16 5z\"></path>\n",
       "</symbol>\n",
       "<symbol id=\"icon-file-text2\" viewBox=\"0 0 32 32\">\n",
       "<path d=\"M28.681 7.159c-0.694-0.947-1.662-2.053-2.724-3.116s-2.169-2.030-3.116-2.724c-1.612-1.182-2.393-1.319-2.841-1.319h-15.5c-1.378 0-2.5 1.121-2.5 2.5v27c0 1.378 1.122 2.5 2.5 2.5h23c1.378 0 2.5-1.122 2.5-2.5v-19.5c0-0.448-0.137-1.23-1.319-2.841zM24.543 5.457c0.959 0.959 1.712 1.825 2.268 2.543h-4.811v-4.811c0.718 0.556 1.584 1.309 2.543 2.268zM28 29.5c0 0.271-0.229 0.5-0.5 0.5h-23c-0.271 0-0.5-0.229-0.5-0.5v-27c0-0.271 0.229-0.5 0.5-0.5 0 0 15.499-0 15.5 0v7c0 0.552 0.448 1 1 1h7v19.5z\"></path>\n",
       "<path d=\"M23 26h-14c-0.552 0-1-0.448-1-1s0.448-1 1-1h14c0.552 0 1 0.448 1 1s-0.448 1-1 1z\"></path>\n",
       "<path d=\"M23 22h-14c-0.552 0-1-0.448-1-1s0.448-1 1-1h14c0.552 0 1 0.448 1 1s-0.448 1-1 1z\"></path>\n",
       "<path d=\"M23 18h-14c-0.552 0-1-0.448-1-1s0.448-1 1-1h14c0.552 0 1 0.448 1 1s-0.448 1-1 1z\"></path>\n",
       "</symbol>\n",
       "</defs>\n",
       "</svg>\n",
       "<style>/* CSS stylesheet for displaying xarray objects in jupyterlab.\n",
       " *\n",
       " */\n",
       "\n",
       ":root {\n",
       "  --xr-font-color0: var(--jp-content-font-color0, rgba(0, 0, 0, 1));\n",
       "  --xr-font-color2: var(--jp-content-font-color2, rgba(0, 0, 0, 0.54));\n",
       "  --xr-font-color3: var(--jp-content-font-color3, rgba(0, 0, 0, 0.38));\n",
       "  --xr-border-color: var(--jp-border-color2, #e0e0e0);\n",
       "  --xr-disabled-color: var(--jp-layout-color3, #bdbdbd);\n",
       "  --xr-background-color: var(--jp-layout-color0, white);\n",
       "  --xr-background-color-row-even: var(--jp-layout-color1, white);\n",
       "  --xr-background-color-row-odd: var(--jp-layout-color2, #eeeeee);\n",
       "}\n",
       "\n",
       "html[theme=dark],\n",
       "body[data-theme=dark],\n",
       "body.vscode-dark {\n",
       "  --xr-font-color0: rgba(255, 255, 255, 1);\n",
       "  --xr-font-color2: rgba(255, 255, 255, 0.54);\n",
       "  --xr-font-color3: rgba(255, 255, 255, 0.38);\n",
       "  --xr-border-color: #1F1F1F;\n",
       "  --xr-disabled-color: #515151;\n",
       "  --xr-background-color: #111111;\n",
       "  --xr-background-color-row-even: #111111;\n",
       "  --xr-background-color-row-odd: #313131;\n",
       "}\n",
       "\n",
       ".xr-wrap {\n",
       "  display: block !important;\n",
       "  min-width: 300px;\n",
       "  max-width: 700px;\n",
       "}\n",
       "\n",
       ".xr-text-repr-fallback {\n",
       "  /* fallback to plain text repr when CSS is not injected (untrusted notebook) */\n",
       "  display: none;\n",
       "}\n",
       "\n",
       ".xr-header {\n",
       "  padding-top: 6px;\n",
       "  padding-bottom: 6px;\n",
       "  margin-bottom: 4px;\n",
       "  border-bottom: solid 1px var(--xr-border-color);\n",
       "}\n",
       "\n",
       ".xr-header > div,\n",
       ".xr-header > ul {\n",
       "  display: inline;\n",
       "  margin-top: 0;\n",
       "  margin-bottom: 0;\n",
       "}\n",
       "\n",
       ".xr-obj-type,\n",
       ".xr-array-name {\n",
       "  margin-left: 2px;\n",
       "  margin-right: 10px;\n",
       "}\n",
       "\n",
       ".xr-obj-type {\n",
       "  color: var(--xr-font-color2);\n",
       "}\n",
       "\n",
       ".xr-sections {\n",
       "  padding-left: 0 !important;\n",
       "  display: grid;\n",
       "  grid-template-columns: 150px auto auto 1fr 20px 20px;\n",
       "}\n",
       "\n",
       ".xr-section-item {\n",
       "  display: contents;\n",
       "}\n",
       "\n",
       ".xr-section-item input {\n",
       "  display: none;\n",
       "}\n",
       "\n",
       ".xr-section-item input + label {\n",
       "  color: var(--xr-disabled-color);\n",
       "}\n",
       "\n",
       ".xr-section-item input:enabled + label {\n",
       "  cursor: pointer;\n",
       "  color: var(--xr-font-color2);\n",
       "}\n",
       "\n",
       ".xr-section-item input:enabled + label:hover {\n",
       "  color: var(--xr-font-color0);\n",
       "}\n",
       "\n",
       ".xr-section-summary {\n",
       "  grid-column: 1;\n",
       "  color: var(--xr-font-color2);\n",
       "  font-weight: 500;\n",
       "}\n",
       "\n",
       ".xr-section-summary > span {\n",
       "  display: inline-block;\n",
       "  padding-left: 0.5em;\n",
       "}\n",
       "\n",
       ".xr-section-summary-in:disabled + label {\n",
       "  color: var(--xr-font-color2);\n",
       "}\n",
       "\n",
       ".xr-section-summary-in + label:before {\n",
       "  display: inline-block;\n",
       "  content: '►';\n",
       "  font-size: 11px;\n",
       "  width: 15px;\n",
       "  text-align: center;\n",
       "}\n",
       "\n",
       ".xr-section-summary-in:disabled + label:before {\n",
       "  color: var(--xr-disabled-color);\n",
       "}\n",
       "\n",
       ".xr-section-summary-in:checked + label:before {\n",
       "  content: '▼';\n",
       "}\n",
       "\n",
       ".xr-section-summary-in:checked + label > span {\n",
       "  display: none;\n",
       "}\n",
       "\n",
       ".xr-section-summary,\n",
       ".xr-section-inline-details {\n",
       "  padding-top: 4px;\n",
       "  padding-bottom: 4px;\n",
       "}\n",
       "\n",
       ".xr-section-inline-details {\n",
       "  grid-column: 2 / -1;\n",
       "}\n",
       "\n",
       ".xr-section-details {\n",
       "  display: none;\n",
       "  grid-column: 1 / -1;\n",
       "  margin-bottom: 5px;\n",
       "}\n",
       "\n",
       ".xr-section-summary-in:checked ~ .xr-section-details {\n",
       "  display: contents;\n",
       "}\n",
       "\n",
       ".xr-array-wrap {\n",
       "  grid-column: 1 / -1;\n",
       "  display: grid;\n",
       "  grid-template-columns: 20px auto;\n",
       "}\n",
       "\n",
       ".xr-array-wrap > label {\n",
       "  grid-column: 1;\n",
       "  vertical-align: top;\n",
       "}\n",
       "\n",
       ".xr-preview {\n",
       "  color: var(--xr-font-color3);\n",
       "}\n",
       "\n",
       ".xr-array-preview,\n",
       ".xr-array-data {\n",
       "  padding: 0 5px !important;\n",
       "  grid-column: 2;\n",
       "}\n",
       "\n",
       ".xr-array-data,\n",
       ".xr-array-in:checked ~ .xr-array-preview {\n",
       "  display: none;\n",
       "}\n",
       "\n",
       ".xr-array-in:checked ~ .xr-array-data,\n",
       ".xr-array-preview {\n",
       "  display: inline-block;\n",
       "}\n",
       "\n",
       ".xr-dim-list {\n",
       "  display: inline-block !important;\n",
       "  list-style: none;\n",
       "  padding: 0 !important;\n",
       "  margin: 0;\n",
       "}\n",
       "\n",
       ".xr-dim-list li {\n",
       "  display: inline-block;\n",
       "  padding: 0;\n",
       "  margin: 0;\n",
       "}\n",
       "\n",
       ".xr-dim-list:before {\n",
       "  content: '(';\n",
       "}\n",
       "\n",
       ".xr-dim-list:after {\n",
       "  content: ')';\n",
       "}\n",
       "\n",
       ".xr-dim-list li:not(:last-child):after {\n",
       "  content: ',';\n",
       "  padding-right: 5px;\n",
       "}\n",
       "\n",
       ".xr-has-index {\n",
       "  font-weight: bold;\n",
       "}\n",
       "\n",
       ".xr-var-list,\n",
       ".xr-var-item {\n",
       "  display: contents;\n",
       "}\n",
       "\n",
       ".xr-var-item > div,\n",
       ".xr-var-item label,\n",
       ".xr-var-item > .xr-var-name span {\n",
       "  background-color: var(--xr-background-color-row-even);\n",
       "  margin-bottom: 0;\n",
       "}\n",
       "\n",
       ".xr-var-item > .xr-var-name:hover span {\n",
       "  padding-right: 5px;\n",
       "}\n",
       "\n",
       ".xr-var-list > li:nth-child(odd) > div,\n",
       ".xr-var-list > li:nth-child(odd) > label,\n",
       ".xr-var-list > li:nth-child(odd) > .xr-var-name span {\n",
       "  background-color: var(--xr-background-color-row-odd);\n",
       "}\n",
       "\n",
       ".xr-var-name {\n",
       "  grid-column: 1;\n",
       "}\n",
       "\n",
       ".xr-var-dims {\n",
       "  grid-column: 2;\n",
       "}\n",
       "\n",
       ".xr-var-dtype {\n",
       "  grid-column: 3;\n",
       "  text-align: right;\n",
       "  color: var(--xr-font-color2);\n",
       "}\n",
       "\n",
       ".xr-var-preview {\n",
       "  grid-column: 4;\n",
       "}\n",
       "\n",
       ".xr-index-preview {\n",
       "  grid-column: 2 / 5;\n",
       "  color: var(--xr-font-color2);\n",
       "}\n",
       "\n",
       ".xr-var-name,\n",
       ".xr-var-dims,\n",
       ".xr-var-dtype,\n",
       ".xr-preview,\n",
       ".xr-attrs dt {\n",
       "  white-space: nowrap;\n",
       "  overflow: hidden;\n",
       "  text-overflow: ellipsis;\n",
       "  padding-right: 10px;\n",
       "}\n",
       "\n",
       ".xr-var-name:hover,\n",
       ".xr-var-dims:hover,\n",
       ".xr-var-dtype:hover,\n",
       ".xr-attrs dt:hover {\n",
       "  overflow: visible;\n",
       "  width: auto;\n",
       "  z-index: 1;\n",
       "}\n",
       "\n",
       ".xr-var-attrs,\n",
       ".xr-var-data,\n",
       ".xr-index-data {\n",
       "  display: none;\n",
       "  background-color: var(--xr-background-color) !important;\n",
       "  padding-bottom: 5px !important;\n",
       "}\n",
       "\n",
       ".xr-var-attrs-in:checked ~ .xr-var-attrs,\n",
       ".xr-var-data-in:checked ~ .xr-var-data,\n",
       ".xr-index-data-in:checked ~ .xr-index-data {\n",
       "  display: block;\n",
       "}\n",
       "\n",
       ".xr-var-data > table {\n",
       "  float: right;\n",
       "}\n",
       "\n",
       ".xr-var-name span,\n",
       ".xr-var-data,\n",
       ".xr-index-name div,\n",
       ".xr-index-data,\n",
       ".xr-attrs {\n",
       "  padding-left: 25px !important;\n",
       "}\n",
       "\n",
       ".xr-attrs,\n",
       ".xr-var-attrs,\n",
       ".xr-var-data,\n",
       ".xr-index-data {\n",
       "  grid-column: 1 / -1;\n",
       "}\n",
       "\n",
       "dl.xr-attrs {\n",
       "  padding: 0;\n",
       "  margin: 0;\n",
       "  display: grid;\n",
       "  grid-template-columns: 125px auto;\n",
       "}\n",
       "\n",
       ".xr-attrs dt,\n",
       ".xr-attrs dd {\n",
       "  padding: 0;\n",
       "  margin: 0;\n",
       "  float: left;\n",
       "  padding-right: 10px;\n",
       "  width: auto;\n",
       "}\n",
       "\n",
       ".xr-attrs dt {\n",
       "  font-weight: normal;\n",
       "  grid-column: 1;\n",
       "}\n",
       "\n",
       ".xr-attrs dt:hover span {\n",
       "  display: inline-block;\n",
       "  background: var(--xr-background-color);\n",
       "  padding-right: 10px;\n",
       "}\n",
       "\n",
       ".xr-attrs dd {\n",
       "  grid-column: 2;\n",
       "  white-space: pre-wrap;\n",
       "  word-break: break-all;\n",
       "}\n",
       "\n",
       ".xr-icon-database,\n",
       ".xr-icon-file-text2,\n",
       ".xr-no-icon {\n",
       "  display: inline-block;\n",
       "  vertical-align: middle;\n",
       "  width: 1em;\n",
       "  height: 1.5em !important;\n",
       "  stroke-width: 0;\n",
       "  stroke: currentColor;\n",
       "  fill: currentColor;\n",
       "}\n",
       "</style><pre class='xr-text-repr-fallback'>&lt;xarray.Dataset&gt;\n",
       "Dimensions:                    (time: 9145, lm: 2, chan: 64, pol: 4)\n",
       "Coordinates:\n",
       "  * chan                       (chan) float64 1.41e+10 1.411e+10 ... 1.423e+10\n",
       "  * pol                        (pol) &lt;U2 &#x27;RR&#x27; &#x27;RL&#x27; &#x27;LR&#x27; &#x27;LL&#x27;\n",
       "  * time                       (time) float64 5.17e+09 5.17e+09 ... 5.17e+09\n",
       "Dimensions without coordinates: lm\n",
       "Data variables:\n",
       "    DIRECTIONAL_COSINES        (time, lm) float64 dask.array&lt;chunksize=(9145, 2), meta=np.ndarray&gt;\n",
       "    IDEAL_DIRECTIONAL_COSINES  (time, lm) float64 dask.array&lt;chunksize=(9145, 2), meta=np.ndarray&gt;\n",
       "    VIS                        (time, chan, pol) complex64 dask.array&lt;chunksize=(2287, 16, 2), meta=np.ndarray&gt;\n",
       "    WEIGHT                     (time, chan, pol) float64 dask.array&lt;chunksize=(2287, 16, 2), meta=np.ndarray&gt;\n",
       "Attributes:\n",
       "    antenna_name:         ea25\n",
       "    ddi:                  0\n",
       "    grid_parms:           {&#x27;cell_size&#x27;: 0.0006442398522758158, &#x27;n_pix&#x27;: 961}\n",
       "    holog_map_key:        map_0\n",
       "    l_max:                0.009673800837874147\n",
       "    l_min:                -0.009671789717177779\n",
       "    m_max:                0.009698335330087179\n",
       "    m_min:                -0.009771580421317516\n",
       "    parallactic_samples:  [5.307972218541546, 5.354953165003047, 5.4937719298...\n",
       "    telescope_name:       EVLA</pre><div class='xr-wrap' style='display:none'><div class='xr-header'><div class='xr-obj-type'>xarray.Dataset</div></div><ul class='xr-sections'><li class='xr-section-item'><input id='section-51be9a1a-fa35-4148-9922-d5d8c218baf3' class='xr-section-summary-in' type='checkbox' disabled ><label for='section-51be9a1a-fa35-4148-9922-d5d8c218baf3' class='xr-section-summary'  title='Expand/collapse section'>Dimensions:</label><div class='xr-section-inline-details'><ul class='xr-dim-list'><li><span class='xr-has-index'>time</span>: 9145</li><li><span>lm</span>: 2</li><li><span class='xr-has-index'>chan</span>: 64</li><li><span class='xr-has-index'>pol</span>: 4</li></ul></div><div class='xr-section-details'></div></li><li class='xr-section-item'><input id='section-760d0794-b457-4953-8d2e-7d5003fed5ce' class='xr-section-summary-in' type='checkbox'  checked><label for='section-760d0794-b457-4953-8d2e-7d5003fed5ce' class='xr-section-summary' >Coordinates: <span>(3)</span></label><div class='xr-section-inline-details'></div><div class='xr-section-details'><ul class='xr-var-list'><li class='xr-var-item'><div class='xr-var-name'><span class='xr-has-index'>chan</span></div><div class='xr-var-dims'>(chan)</div><div class='xr-var-dtype'>float64</div><div class='xr-var-preview xr-preview'>1.41e+10 1.411e+10 ... 1.423e+10</div><input id='attrs-0b2b5c56-22d8-4f96-b237-94c31ab39689' class='xr-var-attrs-in' type='checkbox' disabled><label for='attrs-0b2b5c56-22d8-4f96-b237-94c31ab39689' title='Show/Hide attributes'><svg class='icon xr-icon-file-text2'><use xlink:href='#icon-file-text2'></use></svg></label><input id='data-bb722b79-aacd-4435-a6b2-68cb762c7a84' class='xr-var-data-in' type='checkbox'><label for='data-bb722b79-aacd-4435-a6b2-68cb762c7a84' title='Show/Hide data repr'><svg class='icon xr-icon-database'><use xlink:href='#icon-database'></use></svg></label><div class='xr-var-attrs'><dl class='xr-attrs'></dl></div><div class='xr-var-data'><pre>array([1.4104e+10, 1.4106e+10, 1.4108e+10, 1.4110e+10, 1.4112e+10, 1.4114e+10,\n",
       "       1.4116e+10, 1.4118e+10, 1.4120e+10, 1.4122e+10, 1.4124e+10, 1.4126e+10,\n",
       "       1.4128e+10, 1.4130e+10, 1.4132e+10, 1.4134e+10, 1.4136e+10, 1.4138e+10,\n",
       "       1.4140e+10, 1.4142e+10, 1.4144e+10, 1.4146e+10, 1.4148e+10, 1.4150e+10,\n",
       "       1.4152e+10, 1.4154e+10, 1.4156e+10, 1.4158e+10, 1.4160e+10, 1.4162e+10,\n",
       "       1.4164e+10, 1.4166e+10, 1.4168e+10, 1.4170e+10, 1.4172e+10, 1.4174e+10,\n",
       "       1.4176e+10, 1.4178e+10, 1.4180e+10, 1.4182e+10, 1.4184e+10, 1.4186e+10,\n",
       "       1.4188e+10, 1.4190e+10, 1.4192e+10, 1.4194e+10, 1.4196e+10, 1.4198e+10,\n",
       "       1.4200e+10, 1.4202e+10, 1.4204e+10, 1.4206e+10, 1.4208e+10, 1.4210e+10,\n",
       "       1.4212e+10, 1.4214e+10, 1.4216e+10, 1.4218e+10, 1.4220e+10, 1.4222e+10,\n",
       "       1.4224e+10, 1.4226e+10, 1.4228e+10, 1.4230e+10])</pre></div></li><li class='xr-var-item'><div class='xr-var-name'><span class='xr-has-index'>pol</span></div><div class='xr-var-dims'>(pol)</div><div class='xr-var-dtype'>&lt;U2</div><div class='xr-var-preview xr-preview'>&#x27;RR&#x27; &#x27;RL&#x27; &#x27;LR&#x27; &#x27;LL&#x27;</div><input id='attrs-41a0052d-9e11-4bcd-a059-770653eb0dcd' class='xr-var-attrs-in' type='checkbox' disabled><label for='attrs-41a0052d-9e11-4bcd-a059-770653eb0dcd' title='Show/Hide attributes'><svg class='icon xr-icon-file-text2'><use xlink:href='#icon-file-text2'></use></svg></label><input id='data-8c8e333c-0d3a-42f9-9623-863efa50b36e' class='xr-var-data-in' type='checkbox'><label for='data-8c8e333c-0d3a-42f9-9623-863efa50b36e' title='Show/Hide data repr'><svg class='icon xr-icon-database'><use xlink:href='#icon-database'></use></svg></label><div class='xr-var-attrs'><dl class='xr-attrs'></dl></div><div class='xr-var-data'><pre>array([&#x27;RR&#x27;, &#x27;RL&#x27;, &#x27;LR&#x27;, &#x27;LL&#x27;], dtype=&#x27;&lt;U2&#x27;)</pre></div></li><li class='xr-var-item'><div class='xr-var-name'><span class='xr-has-index'>time</span></div><div class='xr-var-dims'>(time)</div><div class='xr-var-dtype'>float64</div><div class='xr-var-preview xr-preview'>5.17e+09 5.17e+09 ... 5.17e+09</div><input id='attrs-4c1aed81-1cd3-498d-8708-b26d94765a80' class='xr-var-attrs-in' type='checkbox' disabled><label for='attrs-4c1aed81-1cd3-498d-8708-b26d94765a80' title='Show/Hide attributes'><svg class='icon xr-icon-file-text2'><use xlink:href='#icon-file-text2'></use></svg></label><input id='data-479a75dd-d462-44e0-b6ab-4ea9040898da' class='xr-var-data-in' type='checkbox'><label for='data-479a75dd-d462-44e0-b6ab-4ea9040898da' title='Show/Hide data repr'><svg class='icon xr-icon-database'><use xlink:href='#icon-database'></use></svg></label><div class='xr-var-attrs'><dl class='xr-attrs'></dl></div><div class='xr-var-data'><pre>array([5.170354e+09, 5.170354e+09, 5.170354e+09, ..., 5.170365e+09,\n",
       "       5.170365e+09, 5.170365e+09])</pre></div></li></ul></div></li><li class='xr-section-item'><input id='section-c3d3bca7-1379-4794-927b-561fe81c2a03' class='xr-section-summary-in' type='checkbox'  checked><label for='section-c3d3bca7-1379-4794-927b-561fe81c2a03' class='xr-section-summary' >Data variables: <span>(4)</span></label><div class='xr-section-inline-details'></div><div class='xr-section-details'><ul class='xr-var-list'><li class='xr-var-item'><div class='xr-var-name'><span>DIRECTIONAL_COSINES</span></div><div class='xr-var-dims'>(time, lm)</div><div class='xr-var-dtype'>float64</div><div class='xr-var-preview xr-preview'>dask.array&lt;chunksize=(9145, 2), meta=np.ndarray&gt;</div><input id='attrs-4b0c4a99-055f-4713-a07b-688b98027814' class='xr-var-attrs-in' type='checkbox' disabled><label for='attrs-4b0c4a99-055f-4713-a07b-688b98027814' title='Show/Hide attributes'><svg class='icon xr-icon-file-text2'><use xlink:href='#icon-file-text2'></use></svg></label><input id='data-c5080460-ec02-484f-b788-ea184d34a4d7' class='xr-var-data-in' type='checkbox'><label for='data-c5080460-ec02-484f-b788-ea184d34a4d7' title='Show/Hide data repr'><svg class='icon xr-icon-database'><use xlink:href='#icon-database'></use></svg></label><div class='xr-var-attrs'><dl class='xr-attrs'></dl></div><div class='xr-var-data'><table>\n",
       "    <tr>\n",
       "        <td>\n",
       "            <table style=\"border-collapse: collapse;\">\n",
       "                <thead>\n",
       "                    <tr>\n",
       "                        <td> </td>\n",
       "                        <th> Array </th>\n",
       "                        <th> Chunk </th>\n",
       "                    </tr>\n",
       "                </thead>\n",
       "                <tbody>\n",
       "                    \n",
       "                    <tr>\n",
       "                        <th> Bytes </th>\n",
       "                        <td> 142.89 kiB </td>\n",
       "                        <td> 142.89 kiB </td>\n",
       "                    </tr>\n",
       "                    \n",
       "                    <tr>\n",
       "                        <th> Shape </th>\n",
       "                        <td> (9145, 2) </td>\n",
       "                        <td> (9145, 2) </td>\n",
       "                    </tr>\n",
       "                    <tr>\n",
       "                        <th> Dask graph </th>\n",
       "                        <td colspan=\"2\"> 1 chunks in 2 graph layers </td>\n",
       "                    </tr>\n",
       "                    <tr>\n",
       "                        <th> Data type </th>\n",
       "                        <td colspan=\"2\"> float64 numpy.ndarray </td>\n",
       "                    </tr>\n",
       "                </tbody>\n",
       "            </table>\n",
       "        </td>\n",
       "        <td>\n",
       "        <svg width=\"75\" height=\"170\" style=\"stroke:rgb(0,0,0);stroke-width:1\" >\n",
       "\n",
       "  <!-- Horizontal lines -->\n",
       "  <line x1=\"0\" y1=\"0\" x2=\"25\" y2=\"0\" style=\"stroke-width:2\" />\n",
       "  <line x1=\"0\" y1=\"120\" x2=\"25\" y2=\"120\" style=\"stroke-width:2\" />\n",
       "\n",
       "  <!-- Vertical lines -->\n",
       "  <line x1=\"0\" y1=\"0\" x2=\"0\" y2=\"120\" style=\"stroke-width:2\" />\n",
       "  <line x1=\"25\" y1=\"0\" x2=\"25\" y2=\"120\" style=\"stroke-width:2\" />\n",
       "\n",
       "  <!-- Colored Rectangle -->\n",
       "  <polygon points=\"0.0,0.0 25.412616514582485,0.0 25.412616514582485,120.0 0.0,120.0\" style=\"fill:#ECB172A0;stroke-width:0\"/>\n",
       "\n",
       "  <!-- Text -->\n",
       "  <text x=\"12.706308\" y=\"140.000000\" font-size=\"1.0rem\" font-weight=\"100\" text-anchor=\"middle\" >2</text>\n",
       "  <text x=\"45.412617\" y=\"60.000000\" font-size=\"1.0rem\" font-weight=\"100\" text-anchor=\"middle\" transform=\"rotate(-90,45.412617,60.000000)\">9145</text>\n",
       "</svg>\n",
       "        </td>\n",
       "    </tr>\n",
       "</table></div></li><li class='xr-var-item'><div class='xr-var-name'><span>IDEAL_DIRECTIONAL_COSINES</span></div><div class='xr-var-dims'>(time, lm)</div><div class='xr-var-dtype'>float64</div><div class='xr-var-preview xr-preview'>dask.array&lt;chunksize=(9145, 2), meta=np.ndarray&gt;</div><input id='attrs-a13d614b-9045-4384-abac-0528a3b0c47f' class='xr-var-attrs-in' type='checkbox' disabled><label for='attrs-a13d614b-9045-4384-abac-0528a3b0c47f' title='Show/Hide attributes'><svg class='icon xr-icon-file-text2'><use xlink:href='#icon-file-text2'></use></svg></label><input id='data-aa395335-76fe-45ef-af05-0207f5be186c' class='xr-var-data-in' type='checkbox'><label for='data-aa395335-76fe-45ef-af05-0207f5be186c' title='Show/Hide data repr'><svg class='icon xr-icon-database'><use xlink:href='#icon-database'></use></svg></label><div class='xr-var-attrs'><dl class='xr-attrs'></dl></div><div class='xr-var-data'><table>\n",
       "    <tr>\n",
       "        <td>\n",
       "            <table style=\"border-collapse: collapse;\">\n",
       "                <thead>\n",
       "                    <tr>\n",
       "                        <td> </td>\n",
       "                        <th> Array </th>\n",
       "                        <th> Chunk </th>\n",
       "                    </tr>\n",
       "                </thead>\n",
       "                <tbody>\n",
       "                    \n",
       "                    <tr>\n",
       "                        <th> Bytes </th>\n",
       "                        <td> 142.89 kiB </td>\n",
       "                        <td> 142.89 kiB </td>\n",
       "                    </tr>\n",
       "                    \n",
       "                    <tr>\n",
       "                        <th> Shape </th>\n",
       "                        <td> (9145, 2) </td>\n",
       "                        <td> (9145, 2) </td>\n",
       "                    </tr>\n",
       "                    <tr>\n",
       "                        <th> Dask graph </th>\n",
       "                        <td colspan=\"2\"> 1 chunks in 2 graph layers </td>\n",
       "                    </tr>\n",
       "                    <tr>\n",
       "                        <th> Data type </th>\n",
       "                        <td colspan=\"2\"> float64 numpy.ndarray </td>\n",
       "                    </tr>\n",
       "                </tbody>\n",
       "            </table>\n",
       "        </td>\n",
       "        <td>\n",
       "        <svg width=\"75\" height=\"170\" style=\"stroke:rgb(0,0,0);stroke-width:1\" >\n",
       "\n",
       "  <!-- Horizontal lines -->\n",
       "  <line x1=\"0\" y1=\"0\" x2=\"25\" y2=\"0\" style=\"stroke-width:2\" />\n",
       "  <line x1=\"0\" y1=\"120\" x2=\"25\" y2=\"120\" style=\"stroke-width:2\" />\n",
       "\n",
       "  <!-- Vertical lines -->\n",
       "  <line x1=\"0\" y1=\"0\" x2=\"0\" y2=\"120\" style=\"stroke-width:2\" />\n",
       "  <line x1=\"25\" y1=\"0\" x2=\"25\" y2=\"120\" style=\"stroke-width:2\" />\n",
       "\n",
       "  <!-- Colored Rectangle -->\n",
       "  <polygon points=\"0.0,0.0 25.412616514582485,0.0 25.412616514582485,120.0 0.0,120.0\" style=\"fill:#ECB172A0;stroke-width:0\"/>\n",
       "\n",
       "  <!-- Text -->\n",
       "  <text x=\"12.706308\" y=\"140.000000\" font-size=\"1.0rem\" font-weight=\"100\" text-anchor=\"middle\" >2</text>\n",
       "  <text x=\"45.412617\" y=\"60.000000\" font-size=\"1.0rem\" font-weight=\"100\" text-anchor=\"middle\" transform=\"rotate(-90,45.412617,60.000000)\">9145</text>\n",
       "</svg>\n",
       "        </td>\n",
       "    </tr>\n",
       "</table></div></li><li class='xr-var-item'><div class='xr-var-name'><span>VIS</span></div><div class='xr-var-dims'>(time, chan, pol)</div><div class='xr-var-dtype'>complex64</div><div class='xr-var-preview xr-preview'>dask.array&lt;chunksize=(2287, 16, 2), meta=np.ndarray&gt;</div><input id='attrs-aa9771a7-8875-4376-b6bf-0400f2a218aa' class='xr-var-attrs-in' type='checkbox' disabled><label for='attrs-aa9771a7-8875-4376-b6bf-0400f2a218aa' title='Show/Hide attributes'><svg class='icon xr-icon-file-text2'><use xlink:href='#icon-file-text2'></use></svg></label><input id='data-02c4e6a6-ec04-4500-9b3f-da67e9cf0cdb' class='xr-var-data-in' type='checkbox'><label for='data-02c4e6a6-ec04-4500-9b3f-da67e9cf0cdb' title='Show/Hide data repr'><svg class='icon xr-icon-database'><use xlink:href='#icon-database'></use></svg></label><div class='xr-var-attrs'><dl class='xr-attrs'></dl></div><div class='xr-var-data'><table>\n",
       "    <tr>\n",
       "        <td>\n",
       "            <table style=\"border-collapse: collapse;\">\n",
       "                <thead>\n",
       "                    <tr>\n",
       "                        <td> </td>\n",
       "                        <th> Array </th>\n",
       "                        <th> Chunk </th>\n",
       "                    </tr>\n",
       "                </thead>\n",
       "                <tbody>\n",
       "                    \n",
       "                    <tr>\n",
       "                        <th> Bytes </th>\n",
       "                        <td> 17.86 MiB </td>\n",
       "                        <td> 571.75 kiB </td>\n",
       "                    </tr>\n",
       "                    \n",
       "                    <tr>\n",
       "                        <th> Shape </th>\n",
       "                        <td> (9145, 64, 4) </td>\n",
       "                        <td> (2287, 16, 2) </td>\n",
       "                    </tr>\n",
       "                    <tr>\n",
       "                        <th> Dask graph </th>\n",
       "                        <td colspan=\"2\"> 32 chunks in 2 graph layers </td>\n",
       "                    </tr>\n",
       "                    <tr>\n",
       "                        <th> Data type </th>\n",
       "                        <td colspan=\"2\"> complex64 numpy.ndarray </td>\n",
       "                    </tr>\n",
       "                </tbody>\n",
       "            </table>\n",
       "        </td>\n",
       "        <td>\n",
       "        <svg width=\"156\" height=\"146\" style=\"stroke:rgb(0,0,0);stroke-width:1\" >\n",
       "\n",
       "  <!-- Horizontal lines -->\n",
       "  <line x1=\"10\" y1=\"0\" x2=\"80\" y2=\"70\" style=\"stroke-width:2\" />\n",
       "  <line x1=\"10\" y1=\"6\" x2=\"80\" y2=\"76\" />\n",
       "  <line x1=\"10\" y1=\"12\" x2=\"80\" y2=\"83\" />\n",
       "  <line x1=\"10\" y1=\"19\" x2=\"80\" y2=\"89\" />\n",
       "  <line x1=\"10\" y1=\"25\" x2=\"80\" y2=\"96\" style=\"stroke-width:2\" />\n",
       "\n",
       "  <!-- Vertical lines -->\n",
       "  <line x1=\"10\" y1=\"0\" x2=\"10\" y2=\"25\" style=\"stroke-width:2\" />\n",
       "  <line x1=\"27\" y1=\"17\" x2=\"27\" y2=\"43\" />\n",
       "  <line x1=\"45\" y1=\"35\" x2=\"45\" y2=\"60\" />\n",
       "  <line x1=\"62\" y1=\"52\" x2=\"62\" y2=\"78\" />\n",
       "  <line x1=\"80\" y1=\"70\" x2=\"80\" y2=\"96\" style=\"stroke-width:2\" />\n",
       "\n",
       "  <!-- Colored Rectangle -->\n",
       "  <polygon points=\"10.0,0.0 80.58823529411765,70.58823529411765 80.58823529411765,96.00085180870013 10.0,25.412616514582485\" style=\"fill:#ECB172A0;stroke-width:0\"/>\n",
       "\n",
       "  <!-- Horizontal lines -->\n",
       "  <line x1=\"10\" y1=\"0\" x2=\"35\" y2=\"0\" style=\"stroke-width:2\" />\n",
       "  <line x1=\"27\" y1=\"17\" x2=\"53\" y2=\"17\" />\n",
       "  <line x1=\"45\" y1=\"35\" x2=\"70\" y2=\"35\" />\n",
       "  <line x1=\"62\" y1=\"52\" x2=\"88\" y2=\"52\" />\n",
       "  <line x1=\"80\" y1=\"70\" x2=\"106\" y2=\"70\" style=\"stroke-width:2\" />\n",
       "\n",
       "  <!-- Vertical lines -->\n",
       "  <line x1=\"10\" y1=\"0\" x2=\"80\" y2=\"70\" style=\"stroke-width:2\" />\n",
       "  <line x1=\"22\" y1=\"0\" x2=\"93\" y2=\"70\" />\n",
       "  <line x1=\"35\" y1=\"0\" x2=\"106\" y2=\"70\" style=\"stroke-width:2\" />\n",
       "\n",
       "  <!-- Colored Rectangle -->\n",
       "  <polygon points=\"10.0,0.0 35.41261651458248,0.0 106.00085180870013,70.58823529411765 80.58823529411765,70.58823529411765\" style=\"fill:#ECB172A0;stroke-width:0\"/>\n",
       "\n",
       "  <!-- Horizontal lines -->\n",
       "  <line x1=\"80\" y1=\"70\" x2=\"106\" y2=\"70\" style=\"stroke-width:2\" />\n",
       "  <line x1=\"80\" y1=\"76\" x2=\"106\" y2=\"76\" />\n",
       "  <line x1=\"80\" y1=\"83\" x2=\"106\" y2=\"83\" />\n",
       "  <line x1=\"80\" y1=\"89\" x2=\"106\" y2=\"89\" />\n",
       "  <line x1=\"80\" y1=\"96\" x2=\"106\" y2=\"96\" style=\"stroke-width:2\" />\n",
       "\n",
       "  <!-- Vertical lines -->\n",
       "  <line x1=\"80\" y1=\"70\" x2=\"80\" y2=\"96\" style=\"stroke-width:2\" />\n",
       "  <line x1=\"93\" y1=\"70\" x2=\"93\" y2=\"96\" />\n",
       "  <line x1=\"106\" y1=\"70\" x2=\"106\" y2=\"96\" style=\"stroke-width:2\" />\n",
       "\n",
       "  <!-- Colored Rectangle -->\n",
       "  <polygon points=\"80.58823529411765,70.58823529411765 106.00085180870013,70.58823529411765 106.00085180870013,96.00085180870013 80.58823529411765,96.00085180870013\" style=\"fill:#ECB172A0;stroke-width:0\"/>\n",
       "\n",
       "  <!-- Text -->\n",
       "  <text x=\"93.294544\" y=\"116.000852\" font-size=\"1.0rem\" font-weight=\"100\" text-anchor=\"middle\" >4</text>\n",
       "  <text x=\"126.000852\" y=\"83.294544\" font-size=\"1.0rem\" font-weight=\"100\" text-anchor=\"middle\" transform=\"rotate(0,126.000852,83.294544)\">64</text>\n",
       "  <text x=\"35.294118\" y=\"80.706734\" font-size=\"1.0rem\" font-weight=\"100\" text-anchor=\"middle\" transform=\"rotate(45,35.294118,80.706734)\">9145</text>\n",
       "</svg>\n",
       "        </td>\n",
       "    </tr>\n",
       "</table></div></li><li class='xr-var-item'><div class='xr-var-name'><span>WEIGHT</span></div><div class='xr-var-dims'>(time, chan, pol)</div><div class='xr-var-dtype'>float64</div><div class='xr-var-preview xr-preview'>dask.array&lt;chunksize=(2287, 16, 2), meta=np.ndarray&gt;</div><input id='attrs-b44c3189-9004-4d12-ad32-83dea8e0e27a' class='xr-var-attrs-in' type='checkbox' disabled><label for='attrs-b44c3189-9004-4d12-ad32-83dea8e0e27a' title='Show/Hide attributes'><svg class='icon xr-icon-file-text2'><use xlink:href='#icon-file-text2'></use></svg></label><input id='data-5c9088fd-0a48-4c50-97c6-a79320f50e22' class='xr-var-data-in' type='checkbox'><label for='data-5c9088fd-0a48-4c50-97c6-a79320f50e22' title='Show/Hide data repr'><svg class='icon xr-icon-database'><use xlink:href='#icon-database'></use></svg></label><div class='xr-var-attrs'><dl class='xr-attrs'></dl></div><div class='xr-var-data'><table>\n",
       "    <tr>\n",
       "        <td>\n",
       "            <table style=\"border-collapse: collapse;\">\n",
       "                <thead>\n",
       "                    <tr>\n",
       "                        <td> </td>\n",
       "                        <th> Array </th>\n",
       "                        <th> Chunk </th>\n",
       "                    </tr>\n",
       "                </thead>\n",
       "                <tbody>\n",
       "                    \n",
       "                    <tr>\n",
       "                        <th> Bytes </th>\n",
       "                        <td> 17.86 MiB </td>\n",
       "                        <td> 571.75 kiB </td>\n",
       "                    </tr>\n",
       "                    \n",
       "                    <tr>\n",
       "                        <th> Shape </th>\n",
       "                        <td> (9145, 64, 4) </td>\n",
       "                        <td> (2287, 16, 2) </td>\n",
       "                    </tr>\n",
       "                    <tr>\n",
       "                        <th> Dask graph </th>\n",
       "                        <td colspan=\"2\"> 32 chunks in 2 graph layers </td>\n",
       "                    </tr>\n",
       "                    <tr>\n",
       "                        <th> Data type </th>\n",
       "                        <td colspan=\"2\"> float64 numpy.ndarray </td>\n",
       "                    </tr>\n",
       "                </tbody>\n",
       "            </table>\n",
       "        </td>\n",
       "        <td>\n",
       "        <svg width=\"156\" height=\"146\" style=\"stroke:rgb(0,0,0);stroke-width:1\" >\n",
       "\n",
       "  <!-- Horizontal lines -->\n",
       "  <line x1=\"10\" y1=\"0\" x2=\"80\" y2=\"70\" style=\"stroke-width:2\" />\n",
       "  <line x1=\"10\" y1=\"6\" x2=\"80\" y2=\"76\" />\n",
       "  <line x1=\"10\" y1=\"12\" x2=\"80\" y2=\"83\" />\n",
       "  <line x1=\"10\" y1=\"19\" x2=\"80\" y2=\"89\" />\n",
       "  <line x1=\"10\" y1=\"25\" x2=\"80\" y2=\"96\" style=\"stroke-width:2\" />\n",
       "\n",
       "  <!-- Vertical lines -->\n",
       "  <line x1=\"10\" y1=\"0\" x2=\"10\" y2=\"25\" style=\"stroke-width:2\" />\n",
       "  <line x1=\"27\" y1=\"17\" x2=\"27\" y2=\"43\" />\n",
       "  <line x1=\"45\" y1=\"35\" x2=\"45\" y2=\"60\" />\n",
       "  <line x1=\"62\" y1=\"52\" x2=\"62\" y2=\"78\" />\n",
       "  <line x1=\"80\" y1=\"70\" x2=\"80\" y2=\"96\" style=\"stroke-width:2\" />\n",
       "\n",
       "  <!-- Colored Rectangle -->\n",
       "  <polygon points=\"10.0,0.0 80.58823529411765,70.58823529411765 80.58823529411765,96.00085180870013 10.0,25.412616514582485\" style=\"fill:#ECB172A0;stroke-width:0\"/>\n",
       "\n",
       "  <!-- Horizontal lines -->\n",
       "  <line x1=\"10\" y1=\"0\" x2=\"35\" y2=\"0\" style=\"stroke-width:2\" />\n",
       "  <line x1=\"27\" y1=\"17\" x2=\"53\" y2=\"17\" />\n",
       "  <line x1=\"45\" y1=\"35\" x2=\"70\" y2=\"35\" />\n",
       "  <line x1=\"62\" y1=\"52\" x2=\"88\" y2=\"52\" />\n",
       "  <line x1=\"80\" y1=\"70\" x2=\"106\" y2=\"70\" style=\"stroke-width:2\" />\n",
       "\n",
       "  <!-- Vertical lines -->\n",
       "  <line x1=\"10\" y1=\"0\" x2=\"80\" y2=\"70\" style=\"stroke-width:2\" />\n",
       "  <line x1=\"22\" y1=\"0\" x2=\"93\" y2=\"70\" />\n",
       "  <line x1=\"35\" y1=\"0\" x2=\"106\" y2=\"70\" style=\"stroke-width:2\" />\n",
       "\n",
       "  <!-- Colored Rectangle -->\n",
       "  <polygon points=\"10.0,0.0 35.41261651458248,0.0 106.00085180870013,70.58823529411765 80.58823529411765,70.58823529411765\" style=\"fill:#ECB172A0;stroke-width:0\"/>\n",
       "\n",
       "  <!-- Horizontal lines -->\n",
       "  <line x1=\"80\" y1=\"70\" x2=\"106\" y2=\"70\" style=\"stroke-width:2\" />\n",
       "  <line x1=\"80\" y1=\"76\" x2=\"106\" y2=\"76\" />\n",
       "  <line x1=\"80\" y1=\"83\" x2=\"106\" y2=\"83\" />\n",
       "  <line x1=\"80\" y1=\"89\" x2=\"106\" y2=\"89\" />\n",
       "  <line x1=\"80\" y1=\"96\" x2=\"106\" y2=\"96\" style=\"stroke-width:2\" />\n",
       "\n",
       "  <!-- Vertical lines -->\n",
       "  <line x1=\"80\" y1=\"70\" x2=\"80\" y2=\"96\" style=\"stroke-width:2\" />\n",
       "  <line x1=\"93\" y1=\"70\" x2=\"93\" y2=\"96\" />\n",
       "  <line x1=\"106\" y1=\"70\" x2=\"106\" y2=\"96\" style=\"stroke-width:2\" />\n",
       "\n",
       "  <!-- Colored Rectangle -->\n",
       "  <polygon points=\"80.58823529411765,70.58823529411765 106.00085180870013,70.58823529411765 106.00085180870013,96.00085180870013 80.58823529411765,96.00085180870013\" style=\"fill:#ECB172A0;stroke-width:0\"/>\n",
       "\n",
       "  <!-- Text -->\n",
       "  <text x=\"93.294544\" y=\"116.000852\" font-size=\"1.0rem\" font-weight=\"100\" text-anchor=\"middle\" >4</text>\n",
       "  <text x=\"126.000852\" y=\"83.294544\" font-size=\"1.0rem\" font-weight=\"100\" text-anchor=\"middle\" transform=\"rotate(0,126.000852,83.294544)\">64</text>\n",
       "  <text x=\"35.294118\" y=\"80.706734\" font-size=\"1.0rem\" font-weight=\"100\" text-anchor=\"middle\" transform=\"rotate(45,35.294118,80.706734)\">9145</text>\n",
       "</svg>\n",
       "        </td>\n",
       "    </tr>\n",
       "</table></div></li></ul></div></li><li class='xr-section-item'><input id='section-7d2fb51e-3965-4f08-8056-87d19330b129' class='xr-section-summary-in' type='checkbox'  ><label for='section-7d2fb51e-3965-4f08-8056-87d19330b129' class='xr-section-summary' >Indexes: <span>(3)</span></label><div class='xr-section-inline-details'></div><div class='xr-section-details'><ul class='xr-var-list'><li class='xr-var-item'><div class='xr-index-name'><div>chan</div></div><div class='xr-index-preview'>PandasIndex</div><div></div><input id='index-e73b19f2-7864-4594-9e8d-7aab640bc09f' class='xr-index-data-in' type='checkbox'/><label for='index-e73b19f2-7864-4594-9e8d-7aab640bc09f' title='Show/Hide index repr'><svg class='icon xr-icon-database'><use xlink:href='#icon-database'></use></svg></label><div class='xr-index-data'><pre>PandasIndex(Float64Index([14104000000.0, 14106000000.0, 14108000000.0, 14110000000.0,\n",
       "              14112000000.0, 14114000000.0, 14116000000.0, 14118000000.0,\n",
       "              14120000000.0, 14122000000.0, 14124000000.0, 14126000000.0,\n",
       "              14128000000.0, 14130000000.0, 14132000000.0, 14134000000.0,\n",
       "              14136000000.0, 14138000000.0, 14140000000.0, 14142000000.0,\n",
       "              14144000000.0, 14146000000.0, 14148000000.0, 14150000000.0,\n",
       "              14152000000.0, 14154000000.0, 14156000000.0, 14158000000.0,\n",
       "              14160000000.0, 14162000000.0, 14164000000.0, 14166000000.0,\n",
       "              14168000000.0, 14170000000.0, 14172000000.0, 14174000000.0,\n",
       "              14176000000.0, 14178000000.0, 14180000000.0, 14182000000.0,\n",
       "              14184000000.0, 14186000000.0, 14188000000.0, 14190000000.0,\n",
       "              14192000000.0, 14194000000.0, 14196000000.0, 14198000000.0,\n",
       "              14200000000.0, 14202000000.0, 14204000000.0, 14206000000.0,\n",
       "              14208000000.0, 14210000000.0, 14212000000.0, 14214000000.0,\n",
       "              14216000000.0, 14218000000.0, 14220000000.0, 14222000000.0,\n",
       "              14224000000.0, 14226000000.0, 14228000000.0, 14230000000.0],\n",
       "             dtype=&#x27;float64&#x27;, name=&#x27;chan&#x27;))</pre></div></li><li class='xr-var-item'><div class='xr-index-name'><div>pol</div></div><div class='xr-index-preview'>PandasIndex</div><div></div><input id='index-fe312fb6-bb90-4140-a846-80ab67a523da' class='xr-index-data-in' type='checkbox'/><label for='index-fe312fb6-bb90-4140-a846-80ab67a523da' title='Show/Hide index repr'><svg class='icon xr-icon-database'><use xlink:href='#icon-database'></use></svg></label><div class='xr-index-data'><pre>PandasIndex(Index([&#x27;RR&#x27;, &#x27;RL&#x27;, &#x27;LR&#x27;, &#x27;LL&#x27;], dtype=&#x27;object&#x27;, name=&#x27;pol&#x27;))</pre></div></li><li class='xr-var-item'><div class='xr-index-name'><div>time</div></div><div class='xr-index-preview'>PandasIndex</div><div></div><input id='index-06841fe6-185d-4719-b581-4281f82838b8' class='xr-index-data-in' type='checkbox'/><label for='index-06841fe6-185d-4719-b581-4281f82838b8' title='Show/Hide index repr'><svg class='icon xr-icon-database'><use xlink:href='#icon-database'></use></svg></label><div class='xr-index-data'><pre>PandasIndex(Float64Index([5170354117.500001, 5170354118.499999,      5170354119.5,\n",
       "                   5170354120.5,      5170354121.5,      5170354122.5,\n",
       "                   5170354123.5,      5170354124.5, 5170354125.500001,\n",
       "              5170354126.499999,\n",
       "              ...\n",
       "                   5170364897.5,      5170364899.5,      5170364900.5,\n",
       "              5170364901.500001,      5170364902.5,      5170364903.5,\n",
       "                   5170364904.5,      5170364905.5,      5170364906.5,\n",
       "                   5170364907.5],\n",
       "             dtype=&#x27;float64&#x27;, name=&#x27;time&#x27;, length=9145))</pre></div></li></ul></div></li><li class='xr-section-item'><input id='section-a9882e41-14be-44f0-9da9-dfef47396cf6' class='xr-section-summary-in' type='checkbox'  ><label for='section-a9882e41-14be-44f0-9da9-dfef47396cf6' class='xr-section-summary' >Attributes: <span>(10)</span></label><div class='xr-section-inline-details'></div><div class='xr-section-details'><dl class='xr-attrs'><dt><span>antenna_name :</span></dt><dd>ea25</dd><dt><span>ddi :</span></dt><dd>0</dd><dt><span>grid_parms :</span></dt><dd>{&#x27;cell_size&#x27;: 0.0006442398522758158, &#x27;n_pix&#x27;: 961}</dd><dt><span>holog_map_key :</span></dt><dd>map_0</dd><dt><span>l_max :</span></dt><dd>0.009673800837874147</dd><dt><span>l_min :</span></dt><dd>-0.009671789717177779</dd><dt><span>m_max :</span></dt><dd>0.009698335330087179</dd><dt><span>m_min :</span></dt><dd>-0.009771580421317516</dd><dt><span>parallactic_samples :</span></dt><dd>[5.307972218541546, 5.354953165003047, 5.493771929819276]</dd><dt><span>telescope_name :</span></dt><dd>EVLA</dd></dl></div></li></ul></div></div>"
      ],
      "text/plain": [
       "<xarray.Dataset>\n",
       "Dimensions:                    (time: 9145, lm: 2, chan: 64, pol: 4)\n",
       "Coordinates:\n",
       "  * chan                       (chan) float64 1.41e+10 1.411e+10 ... 1.423e+10\n",
       "  * pol                        (pol) <U2 'RR' 'RL' 'LR' 'LL'\n",
       "  * time                       (time) float64 5.17e+09 5.17e+09 ... 5.17e+09\n",
       "Dimensions without coordinates: lm\n",
       "Data variables:\n",
       "    DIRECTIONAL_COSINES        (time, lm) float64 dask.array<chunksize=(9145, 2), meta=np.ndarray>\n",
       "    IDEAL_DIRECTIONAL_COSINES  (time, lm) float64 dask.array<chunksize=(9145, 2), meta=np.ndarray>\n",
       "    VIS                        (time, chan, pol) complex64 dask.array<chunksize=(2287, 16, 2), meta=np.ndarray>\n",
       "    WEIGHT                     (time, chan, pol) float64 dask.array<chunksize=(2287, 16, 2), meta=np.ndarray>\n",
       "Attributes:\n",
       "    antenna_name:         ea25\n",
       "    ddi:                  0\n",
       "    grid_parms:           {'cell_size': 0.0006442398522758158, 'n_pix': 961}\n",
       "    holog_map_key:        map_0\n",
       "    l_max:                0.009673800837874147\n",
       "    l_min:                -0.009671789717177779\n",
       "    m_max:                0.009698335330087179\n",
       "    m_min:                -0.009771580421317516\n",
       "    parallactic_samples:  [5.307972218541546, 5.354953165003047, 5.4937719298...\n",
       "    telescope_name:       EVLA"
      ]
     },
     "execution_count": 8,
     "metadata": {},
     "output_type": "execute_result"
    }
   ],
   "source": [
    "holog_mds['ddi_0']['map_0']['ant_ea25']"
   ]
  },
  {
   "cell_type": "markdown",
   "id": "6b807ce2-9d85-440c-9c17-ec55f910345b",
   "metadata": {},
   "source": [
    "In this case, there is only one selection in the holography file as seen in the summary. Using the available keys we can see an overview of the Dask dataset structure. In addition, the numpy arrays for the data are accessed by calling `values` on a given dataset variable. For instance accessing the data for the `DIRECTIONAL_COSINES` below would be simply\n",
    "```\n",
    ">> holog_mds['ddi_0']['map_0']['ant_ea25'].DIRECTIONAL_COSINES.values\n",
    ">> array([[-0.00433549, -0.0027946 ],\n",
    "       [-0.00870191, -0.00682571],\n",
    "       [-0.00965634, -0.00908509],\n",
    "       ...,\n",
    "       [ 0.00966373,  0.00957556],\n",
    "       [ 0.00966267,  0.00957601],\n",
    "       [ 0.00965895,  0.00956941]])\n",
    "\n",
    ">> holog_mds['ddi_0']['map_0']['ant_ea25'].DIRECTIONAL_COSINES.values.shape\n",
    ">> (9145, 2)\n",
    "\n",
    "```\n",
    "where the dimension are given in the mds output for each data variable (in this case `(time, lm)`). A more in-depth overview of how to interact with Dask dataset can be found [here](https://tutorial.dask.org/).\n",
    "\n",
    "A summary of the available key values can be obtained using the summary convenience function."
   ]
  },
  {
   "cell_type": "code",
   "execution_count": 9,
   "id": "5e5127dd-5796-4d05-87c5-8d3747b44c54",
   "metadata": {
    "tags": []
   },
   "outputs": [
    {
     "name": "stdout",
     "output_type": "stream",
     "text": [
      "####################################################################################################\n",
      "###                                         Summary for:                                         ###\n",
      "###                       data/ea25_cal_small_after_fixed.split.holog.zarr                       ###\n",
      "####################################################################################################\n",
      "\n",
      "Full documentation for AstrohackHologFile objects' API at: \n",
      "https://astrohack.readthedocs.io/en/stable/_api/autoapi/astrohack/mds/index.html#astrohack.mds.AstrohackHologFile\n",
      "\n",
      "Input Parameters:\n",
      "+---------------------------+--------------------------------------------------+\n",
      "| Parameter                 | Value                                            |\n",
      "+---------------------------+--------------------------------------------------+\n",
      "| ms_name                   | data/ea25_cal_small_after_fixed.split.ms         |\n",
      "| point_name                | data/ea25_cal_small_after_fixed.split.point.zarr |\n",
      "| holog_name                | data/ea25_cal_small_after_fixed.split.holog.zarr |\n",
      "| holog_obs_dict            | None                                             |\n",
      "| ddi                       | all                                              |\n",
      "| baseline_average_distance | all                                              |\n",
      "| baseline_average_nearest  | all                                              |\n",
      "| data_column               | CORRECTED_DATA                                   |\n",
      "| parallel                  | True                                             |\n",
      "| overwrite                 | True                                             |\n",
      "| version                   | 0.4.2                                            |\n",
      "| origin                    | extract_holog                                    |\n",
      "+---------------------------+--------------------------------------------------+\n",
      "\n",
      "Contents:\n",
      "+-------+-------+--------------------------+\n",
      "| DDI   | Map   | Antenna                  |\n",
      "+-------+-------+--------------------------+\n",
      "| ddi_0 | map_0 | ['ant_ea25', 'ant_ea06'] |\n",
      "| ddi_1 | map_0 | ['ant_ea25', 'ant_ea06'] |\n",
      "+-------+-------+--------------------------+\n",
      "\n",
      "Available methods:\n",
      "+----------------------+-----------------------------------------------------------------------+\n",
      "| Methods              | Description                                                           |\n",
      "+----------------------+-----------------------------------------------------------------------+\n",
      "| summary              | Prints summary of the AstrohackHologFile object, with available data, |\n",
      "|                      | attributes and available methods                                      |\n",
      "| select               | Select data on the basis of ddi, scan, ant. This is a convenience     |\n",
      "|                      | function.                                                             |\n",
      "| plot_diagnostics     | Plot diagnostic calibration plots from the holography data file.      |\n",
      "| plot_lm_sky_coverage | Plot directional cosine coverage.                                     |\n",
      "+----------------------+-----------------------------------------------------------------------+\n",
      "\n"
     ]
    }
   ],
   "source": [
    "holog_mds.summary()"
   ]
  },
  {
   "cell_type": "markdown",
   "id": "ab5d55ba-96fc-44bb-898f-8aefd7f6a8a3",
   "metadata": {},
   "source": [
    "## Holog\n",
    "\n",
    "The `holog` function processes the holography data and produces a holog image file on disk with the suffix, `.image.zarr`. This function is a direct replacement for the task `HOLOG` in AIPS. It is required that the user provide the `grid_size` and `cell_size` when processing holography data. The `grid_size` defines the number of `l x m`  points used to when doing the gridding. The `cell_size` defines the value in arseconds of each grid spacing. More in-depth parameter information can be found in readthedocs [here](https://astrohack.readthedocs.io/en/latest/_api/autoapi/astrohack/holog/index.html).\n",
    "\n",
    "Inline information on the input paramters can also be gotten using `help(holog)` in the cell."
   ]
  },
  {
   "cell_type": "code",
   "execution_count": 10,
   "id": "a0fe01a7-05d8-4865-825a-5eeda5c4042d",
   "metadata": {
    "tags": []
   },
   "outputs": [
    {
     "data": {
      "text/html": [
       "<pre style=\"white-space:pre;overflow-x:auto;line-height:normal;font-family:Menlo,'DejaVu Sans Mono',consolas,'Courier New',monospace\"><span style=\"color: #7fbfbf; text-decoration-color: #7fbfbf\">[2023-12-15,13:55:32] </span><span style=\"color: #000080; text-decoration-color: #000080\">INFO    </span> Checking parameter values for holog.holog                           <a href=\"file:///export/home/ajax/jhoskins/.conda/envs/holo-3.8/lib/python3.8/site-packages/auror/parameter.py\" target=\"_blank\"><span style=\"color: #7f7f7f; text-decoration-color: #7f7f7f\">parameter.py</span></a><span style=\"color: #7f7f7f; text-decoration-color: #7f7f7f\">:</span><a href=\"file:///export/home/ajax/jhoskins/.conda/envs/holo-3.8/lib/python3.8/site-packages/auror/parameter.py#120\" target=\"_blank\"><span style=\"color: #7f7f7f; text-decoration-color: #7f7f7f\">120</span></a>\n",
       "</pre>\n"
      ],
      "text/plain": [
       "\u001b[2;36m[2023-12-15,13:55:32]\u001b[0m\u001b[2;36m \u001b[0m\u001b[34mINFO    \u001b[0m Checking parameter values for holog.holog                           \u001b]8;id=610782;file:///export/home/ajax/jhoskins/.conda/envs/holo-3.8/lib/python3.8/site-packages/auror/parameter.py\u001b\\\u001b[2mparameter.py\u001b[0m\u001b]8;;\u001b\\\u001b[2m:\u001b[0m\u001b]8;id=152369;file:///export/home/ajax/jhoskins/.conda/envs/holo-3.8/lib/python3.8/site-packages/auror/parameter.py#120\u001b\\\u001b[2m120\u001b[0m\u001b]8;;\u001b\\\n"
      ]
     },
     "metadata": {},
     "output_type": "display_data"
    },
    {
     "data": {
      "text/html": [
       "<pre style=\"white-space:pre;overflow-x:auto;line-height:normal;font-family:Menlo,'DejaVu Sans Mono',consolas,'Courier New',monospace\"><span style=\"color: #7fbfbf; text-decoration-color: #7fbfbf\">                      </span><span style=\"color: #000080; text-decoration-color: #000080\">INFO    </span> Creating output file name:                                              <a href=\"file:///export/home/ajax/jhoskins/.conda/envs/holo-3.8/lib/python3.8/site-packages/skriba/prototype/logger.py\" target=\"_blank\"><span style=\"color: #7f7f7f; text-decoration-color: #7f7f7f\">logger.py</span></a><span style=\"color: #7f7f7f; text-decoration-color: #7f7f7f\">:</span><a href=\"file:///export/home/ajax/jhoskins/.conda/envs/holo-3.8/lib/python3.8/site-packages/skriba/prototype/logger.py#31\" target=\"_blank\"><span style=\"color: #7f7f7f; text-decoration-color: #7f7f7f\">31</span></a>\n",
       "<span style=\"color: #7fbfbf; text-decoration-color: #7fbfbf\">                      </span>         data/ea25_cal_small_after_fixed.split.image.zarr                        <span style=\"color: #7f7f7f; text-decoration-color: #7f7f7f\">            </span>\n",
       "</pre>\n"
      ],
      "text/plain": [
       "\u001b[2;36m                     \u001b[0m\u001b[2;36m \u001b[0m\u001b[34mINFO    \u001b[0m Creating output file name:                                              \u001b]8;id=646445;file:///export/home/ajax/jhoskins/.conda/envs/holo-3.8/lib/python3.8/site-packages/skriba/prototype/logger.py\u001b\\\u001b[2mlogger.py\u001b[0m\u001b]8;;\u001b\\\u001b[2m:\u001b[0m\u001b]8;id=825786;file:///export/home/ajax/jhoskins/.conda/envs/holo-3.8/lib/python3.8/site-packages/skriba/prototype/logger.py#31\u001b\\\u001b[2m31\u001b[0m\u001b]8;;\u001b\\\n",
       "\u001b[2;36m                      \u001b[0m         data/ea25_cal_small_after_fixed.split.image.zarr                        \u001b[2m            \u001b[0m\n"
      ]
     },
     "metadata": {},
     "output_type": "display_data"
    },
    {
     "data": {
      "text/html": [
       "<pre style=\"white-space:pre;overflow-x:auto;line-height:normal;font-family:Menlo,'DejaVu Sans Mono',consolas,'Courier New',monospace\"><span style=\"color: #7fbfbf; text-decoration-color: #7fbfbf\">                      </span><span style=\"color: #000080; text-decoration-color: #000080\">INFO    </span> Cell size: <span style=\"font-weight: bold\">[</span><span style=\"color: #008080; text-decoration-color: #008080; font-weight: bold\">-0.00064424</span>  <span style=\"color: #008080; text-decoration-color: #008080; font-weight: bold\">0.00064424</span><span style=\"font-weight: bold\">]</span>, Grid size <span style=\"font-weight: bold\">[</span><span style=\"color: #008080; text-decoration-color: #008080; font-weight: bold\">31</span> <span style=\"color: #008080; text-decoration-color: #008080; font-weight: bold\">31</span><span style=\"font-weight: bold\">]</span>                 <a href=\"file:///export/home/ajax/jhoskins/.conda/envs/holo-3.8/lib/python3.8/site-packages/skriba/prototype/logger.py\" target=\"_blank\"><span style=\"color: #7f7f7f; text-decoration-color: #7f7f7f\">logger.py</span></a><span style=\"color: #7f7f7f; text-decoration-color: #7f7f7f\">:</span><a href=\"file:///export/home/ajax/jhoskins/.conda/envs/holo-3.8/lib/python3.8/site-packages/skriba/prototype/logger.py#31\" target=\"_blank\"><span style=\"color: #7f7f7f; text-decoration-color: #7f7f7f\">31</span></a>\n",
       "</pre>\n"
      ],
      "text/plain": [
       "\u001b[2;36m                     \u001b[0m\u001b[2;36m \u001b[0m\u001b[34mINFO    \u001b[0m Cell size: \u001b[1m[\u001b[0m\u001b[1;36m-0.00064424\u001b[0m  \u001b[1;36m0.00064424\u001b[0m\u001b[1m]\u001b[0m, Grid size \u001b[1m[\u001b[0m\u001b[1;36m31\u001b[0m \u001b[1;36m31\u001b[0m\u001b[1m]\u001b[0m                 \u001b]8;id=971232;file:///export/home/ajax/jhoskins/.conda/envs/holo-3.8/lib/python3.8/site-packages/skriba/prototype/logger.py\u001b\\\u001b[2mlogger.py\u001b[0m\u001b]8;;\u001b\\\u001b[2m:\u001b[0m\u001b]8;id=244971;file:///export/home/ajax/jhoskins/.conda/envs/holo-3.8/lib/python3.8/site-packages/skriba/prototype/logger.py#31\u001b\\\u001b[2m31\u001b[0m\u001b]8;;\u001b\\\n"
      ]
     },
     "metadata": {},
     "output_type": "display_data"
    },
    {
     "data": {
      "text/html": [
       "<pre style=\"white-space:pre;overflow-x:auto;line-height:normal;font-family:Menlo,'DejaVu Sans Mono',consolas,'Courier New',monospace\"><span style=\"color: #7fbfbf; text-decoration-color: #7fbfbf\">                      </span><span style=\"color: #800000; text-decoration-color: #800000; font-weight: bold\">ERROR   </span> There was an error, see log above for more info :: only integers,       <a href=\"file:///export/home/ajax/jhoskins/.conda/envs/holo-3.8/lib/python3.8/site-packages/skriba/prototype/logger.py\" target=\"_blank\"><span style=\"color: #7f7f7f; text-decoration-color: #7f7f7f\">logger.py</span></a><span style=\"color: #7f7f7f; text-decoration-color: #7f7f7f\">:</span><a href=\"file:///export/home/ajax/jhoskins/.conda/envs/holo-3.8/lib/python3.8/site-packages/skriba/prototype/logger.py#75\" target=\"_blank\"><span style=\"color: #7f7f7f; text-decoration-color: #7f7f7f\">75</span></a>\n",
       "<span style=\"color: #7fbfbf; text-decoration-color: #7fbfbf\">                      </span>         slices <span style=\"font-weight: bold\">(</span>`:`<span style=\"font-weight: bold\">)</span>, ellipsis <span style=\"font-weight: bold\">(</span>`<span style=\"color: #808000; text-decoration-color: #808000\">...</span>`<span style=\"font-weight: bold\">)</span>, numpy.newaxis <span style=\"font-weight: bold\">(</span>`<span style=\"color: #800080; text-decoration-color: #800080; font-style: italic\">None</span>`<span style=\"font-weight: bold\">)</span> and integer or   <span style=\"color: #7f7f7f; text-decoration-color: #7f7f7f\">            </span>\n",
       "<span style=\"color: #7fbfbf; text-decoration-color: #7fbfbf\">                      </span>         boolean arrays are valid indices                                        <span style=\"color: #7f7f7f; text-decoration-color: #7f7f7f\">            </span>\n",
       "</pre>\n"
      ],
      "text/plain": [
       "\u001b[2;36m                     \u001b[0m\u001b[2;36m \u001b[0m\u001b[1;31mERROR   \u001b[0m There was an error, see log above for more info :: only integers,       \u001b]8;id=816739;file:///export/home/ajax/jhoskins/.conda/envs/holo-3.8/lib/python3.8/site-packages/skriba/prototype/logger.py\u001b\\\u001b[2mlogger.py\u001b[0m\u001b]8;;\u001b\\\u001b[2m:\u001b[0m\u001b]8;id=321826;file:///export/home/ajax/jhoskins/.conda/envs/holo-3.8/lib/python3.8/site-packages/skriba/prototype/logger.py#75\u001b\\\u001b[2m75\u001b[0m\u001b]8;;\u001b\\\n",
       "\u001b[2;36m                      \u001b[0m         slices \u001b[1m(\u001b[0m`:`\u001b[1m)\u001b[0m, ellipsis \u001b[1m(\u001b[0m`\u001b[33m...\u001b[0m`\u001b[1m)\u001b[0m, numpy.newaxis \u001b[1m(\u001b[0m`\u001b[3;35mNone\u001b[0m`\u001b[1m)\u001b[0m and integer or   \u001b[2m            \u001b[0m\n",
       "\u001b[2;36m                      \u001b[0m         boolean arrays are valid indices                                        \u001b[2m            \u001b[0m\n"
      ]
     },
     "metadata": {},
     "output_type": "display_data"
    }
   ],
   "source": [
    "import numpy as np\n",
    "\n",
    "from astrohack import holog\n",
    "\n",
    "cell_size = np.array([-0.0006442, 0.0006442]) # arcseconds\n",
    "grid_size = np.array([31, 31])                # pixels\n",
    "\n",
    "image_mds = holog(\n",
    "    holog_name='data/ea25_cal_small_after_fixed.split.holog.zarr',\n",
    "    overwrite=True,\n",
    "    phase_fit=True,\n",
    "    apply_mask=True,\n",
    "    to_stokes=True,\n",
    "    parallel=True\n",
    ")"
   ]
  },
  {
   "cell_type": "markdown",
   "id": "0beb9904-a5fb-48c6-8ddb-82e6f8678e3c",
   "metadata": {
    "tags": []
   },
   "source": [
    "___image_name.image.zarr:___ <span style=\"color:red\"> The image zarr file contains gridded image data the beam, extracted aperture and the amplitude and phase components. It also contains all of the relevant coordinate information. The image file structure is a compound dictionary keys according to `ant` -> `ddi` with the dictionary values consisting of the image dataset. </span>\n",
    "\n",
    "```\n",
    "image_mds = \n",
    "{\n",
    "   ant_0:{\n",
    "          ddi_0: image_ds,\n",
    "                 ⋮               \n",
    "          ddi_m: image_ds\n",
    "         },\n",
    "       ⋮\n",
    "   ant_n: …\n",
    "}\n",
    "\n",
    "```\n",
    "\n",
    "\n",
    "An example of the image dataset object is show below."
   ]
  },
  {
   "cell_type": "code",
   "execution_count": null,
   "id": "67f4ac19-5b40-4f93-8d6a-d5fd8362d517",
   "metadata": {
    "tags": []
   },
   "outputs": [],
   "source": [
    "image_mds['ant_ea25']['ddi_0']"
   ]
  },
  {
   "cell_type": "markdown",
   "id": "b879a189-d321-4f78-834d-5424a39d07a8",
   "metadata": {},
   "source": [
    "A summary of the available key values can be obtained using the summary convenience function."
   ]
  },
  {
   "cell_type": "code",
   "execution_count": null,
   "id": "c1e65b1e-6911-4ccd-a6e2-09617f36b511",
   "metadata": {
    "tags": []
   },
   "outputs": [],
   "source": [
    "image_mds.summary()"
   ]
  },
  {
   "cell_type": "markdown",
   "id": "9c1a32d2-e5ef-44e8-84ec-f3df4d208f15",
   "metadata": {},
   "source": [
    "Each of the holography output files is a compound dictionary with respect to the run parameters and contains a xarray Dataset, this means that the holography files have access to all native xarray functionality. The user can use their favorite plotting package to visualize the data or use xarray's internal functions to do simple filtering and plotting."
   ]
  },
  {
   "cell_type": "code",
   "execution_count": null,
   "id": "429fa9c6-956c-4b36-b09f-a7c62aabd293",
   "metadata": {
    "tags": []
   },
   "outputs": [],
   "source": [
    "image_mds['ant_ea25']['ddi_0'].CORRECTED_PHASE.isel(chan=0, pol=0).plot()"
   ]
  },
  {
   "cell_type": "markdown",
   "id": "0c6f2f8c-afae-48d5-9f07-d35e77ffe5cc",
   "metadata": {
    "tags": []
   },
   "source": [
    "## Panel\n",
    "\n",
    "The `panel` function takes the place of and expands the `PANEL` AIPS function to processes the image information and derives adjustements to the dish panels. This produces a file on disk of format `.panel.zarr` containing information on corrections, residuals and screw adjustments. As an added bonus the `panel` function has a helper function to convert aips data to astrohack format and process it using the `aips_holog_to_astrohack` function. For a full description of the operation and arguments of the `panel` function see [docs](https://astrohack.readthedocs.io/en/latest/_api/autoapi/astrohack/panel/index.html)."
   ]
  },
  {
   "cell_type": "code",
   "execution_count": null,
   "id": "2ce3462e-48b8-4826-adc3-e628fbc4fdab",
   "metadata": {
    "tags": []
   },
   "outputs": [],
   "source": [
    "from astrohack.panel import panel\n",
    "\n",
    "panel_model = 'rigid'\n",
    "\n",
    "panel_mds = panel(\n",
    "    image_name='data/ea25_cal_small_after_fixed.split.image.zarr', \n",
    "    panel_model=panel_model, \n",
    "    panel_margins=0.2,\n",
    "    clip_type='relative',\n",
    "    clip_level=0.2,\n",
    "    parallel=True,\n",
    "    overwrite=True\n",
    ")"
   ]
  },
  {
   "cell_type": "markdown",
   "id": "b623156c-691c-47fc-ad14-0b2d5a9a0d40",
   "metadata": {},
   "source": [
    "___panel_name.panel.zarr:___ <span style=\"color:red\"> The panel zarr file contains process information regarding the per panel screw corrections as well as residuals, masks and phase corrections used to produce them. The panel file structure is a compound dictionary keyed according to `ant` -> `ddi` with the value consisting of the panel dataset.</span>\n",
    "\n",
    "```\n",
    "panel_mds = \n",
    "{\n",
    "   ant_0:{\n",
    "          ddi_0: panel_ds,\n",
    "                 ⋮               \n",
    "          ddi_m: panel_ds\n",
    "         },\n",
    "       ⋮\n",
    "   ant_n: …\n",
    "\n",
    "```\n",
    "\n",
    "An example of the panel dataset object is show below."
   ]
  },
  {
   "cell_type": "code",
   "execution_count": null,
   "id": "033850be-7f56-447c-91a4-b5fb3d602a37",
   "metadata": {
    "tags": []
   },
   "outputs": [],
   "source": [
    "panel_mds['ant_ea25']['ddi_0']"
   ]
  },
  {
   "cell_type": "markdown",
   "id": "b4b5b594-0490-46fd-bc10-5c0eddaa1223",
   "metadata": {},
   "source": [
    "A summary of the available key values can be obtained using the summary convenience function."
   ]
  },
  {
   "cell_type": "code",
   "execution_count": null,
   "id": "ce77dc75-71c5-4ec6-9628-b57b9c5648a3",
   "metadata": {
    "tags": []
   },
   "outputs": [],
   "source": [
    "panel_mds.summary()"
   ]
  },
  {
   "cell_type": "markdown",
   "id": "3830914f-d312-4bf7-9225-cef6e74c4f2f",
   "metadata": {},
   "source": [
    "## Additional Functions\n",
    "\n",
    "The `panel_mds` object provides two helper functions for the user to export or investigate the results of the `panel` function.\n",
    "- `export_screws()`: This method exports the screw and panel adjustements from the panel output file.\n",
    "- `plot_antennas()`: This method plots one of three diagnostics plots from the panel output file data. The plots types are: deviation, phase and ancillary.\n",
    "\n",
    "Examples usage for each helper functions are given below and more detailed documentation can be found in the [visualization tutorial](https://astrohack.readthedocs.io/en/latest/visualization_tutorial.html)."
   ]
  },
  {
   "cell_type": "code",
   "execution_count": null,
   "id": "b9362a56-31ed-4f7c-a5bb-4507f46170fe",
   "metadata": {
    "tags": []
   },
   "outputs": [],
   "source": [
    "export_folder = 'exports'\n",
    "\n",
    "panel_mds.export_screws(\n",
    "    destination=export_folder,\n",
    "    ant='ea25',\n",
    "    ddi=0,\n",
    "    unit='mm',\n",
    "    threshold=0.5, # Threshold in mm for significant adjustments\n",
    "    display=True\n",
    ")"
   ]
  },
  {
   "cell_type": "code",
   "execution_count": null,
   "id": "55c4a268-ccf5-42fe-8c62-ad5211a0487e",
   "metadata": {
    "tags": []
   },
   "outputs": [],
   "source": [
    "with open(export_folder+'/panel_screws_ant_ea25_ddi_0.txt', 'r') as file:\n",
    "    for _ in range(30):\n",
    "        print(file.readline()[:-1])"
   ]
  },
  {
   "cell_type": "code",
   "execution_count": null,
   "id": "b192bb34-4bbb-49e1-9aa1-f890febff1c5",
   "metadata": {
    "tags": []
   },
   "outputs": [],
   "source": [
    "panel_mds.plot_antennas(\n",
    "    destination=export_folder,\n",
    "    ant='ea25', \n",
    "    ddi=0,\n",
    "    plot_type='deviation',\n",
    "    plot_screws=False,\n",
    "    dpi=300,\n",
    "    parallel=False,\n",
    "    display=True\n",
    ")"
   ]
  }
 ],
 "metadata": {
  "kernelspec": {
   "display_name": "Python 3 (ipykernel)",
   "language": "python",
   "name": "python3"
  },
  "language_info": {
   "codemirror_mode": {
    "name": "ipython",
    "version": 3
   },
   "file_extension": ".py",
   "mimetype": "text/x-python",
   "name": "python",
   "nbconvert_exporter": "python",
   "pygments_lexer": "ipython3",
   "version": "3.8.18"
  }
 },
 "nbformat": 4,
 "nbformat_minor": 5
}
