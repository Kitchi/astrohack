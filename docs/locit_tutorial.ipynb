{
 "cells": [
  {
   "cell_type": "markdown",
   "id": "7b3aae73",
   "metadata": {},
   "source": [
    "[![Open In Colab](https://colab.research.google.com/assets/colab-badge.svg)](https://colab.research.google.com/github/casangi/astrohack/blob/main/docs/tutorial_vla.ipynb)"
   ]
  },
  {
   "cell_type": "markdown",
   "id": "9151b55a",
   "metadata": {},
   "source": [
    "![astrohack](_media/astrohack_logo.png)"
   ]
  },
  {
   "cell_type": "code",
   "execution_count": 1,
   "id": "e2b14dc2",
   "metadata": {},
   "outputs": [
    {
     "name": "stdout",
     "output_type": "stream",
     "text": [
      "AstroHACK version 0.2.2 already installed.\n"
     ]
    }
   ],
   "source": [
    "import os\n",
    "\n",
    "from importlib.metadata import version\n",
    "\n",
    "try:\n",
    "    import astrohack\n",
    "    \n",
    "    print('AstroHACK version', version('astrohack'), 'already installed.')\n",
    "except ImportError as e:\n",
    "    print(e)\n",
    "    print('Installing AstroHACK')\n",
    "    \n",
    "    os.system(\"pip install astrohack\")\n",
    "    \n",
    "    import astrohack \n",
    "    print('astrohack version', version('astrohack'), ' installed.')"
   ]
  },
  {
   "cell_type": "markdown",
   "id": "4c6db5ff",
   "metadata": {},
   "source": [
    "Run CASA script yada yada yada"
   ]
  },
  {
   "cell_type": "code",
   "execution_count": null,
   "id": "9dbf9b71",
   "metadata": {},
   "outputs": [],
   "source": [
    "from astrohack.astrohack_client import astrohack_local_client\n",
    "\n",
    "client = astrohack_local_client(cores=2, memory_limit='8GB')\n",
    "client"
   ]
  },
  {
   "cell_type": "code",
   "execution_count": null,
   "id": "ba508eff",
   "metadata": {},
   "outputs": [],
   "source": [
    "# For the moment use my cal table, definetely not the data to put online\n",
    "cal_table = 'Le cal table messieur'\n",
    "\n",
    "locit_mds = extract_locit(cal_table, \n",
    "                          locit_name=None, \n",
    "                          ant_id=None, \n",
    "                          ddi=None, \n",
    "                          overwrite=False)"
   ]
  },
  {
   "cell_type": "code",
   "execution_count": null,
   "id": "ebfff08e",
   "metadata": {},
   "outputs": [],
   "source": [
    "locit_mds.summary()"
   ]
  },
  {
   "cell_type": "code",
   "execution_count": null,
   "id": "17076778",
   "metadata": {},
   "outputs": [],
   "source": [
    "locit_mds.print_source_table()"
   ]
  },
  {
   "cell_type": "code",
   "execution_count": null,
   "id": "0d5a3d53",
   "metadata": {},
   "outputs": [],
   "source": [
    "locit_mds.print_antenna_table()"
   ]
  },
  {
   "cell_type": "code",
   "execution_count": null,
   "id": "a7f06041",
   "metadata": {},
   "outputs": [],
   "source": [
    "locit_plot_folder = 'locit_mds_plots'"
   ]
  },
  {
   "cell_type": "code",
   "execution_count": null,
   "id": "d493ac87",
   "metadata": {},
   "outputs": [],
   "source": [
    "locit_mds.plot_source_positions(locit_plot_folder, \n",
    "                                display_labels=True, \n",
    "                                precessed=False)"
   ]
  },
  {
   "cell_type": "code",
   "execution_count": null,
   "id": "7330e982",
   "metadata": {},
   "outputs": [],
   "source": [
    "locit_mds.plot_antenna_positions(locit_plot_folder, \n",
    "                                 display_stations=True)"
   ]
  },
  {
   "cell_type": "markdown",
   "id": "1b62e549",
   "metadata": {},
   "source": [
    "Now we proceed to actual fit yada yada yada"
   ]
  },
  {
   "cell_type": "code",
   "execution_count": null,
   "id": "0fc53d91",
   "metadata": {},
   "outputs": [],
   "source": [
    "position_mds = locit(locit_name, \n",
    "                     position_name=None, \n",
    "                     elevation_limit=10.0, \n",
    "                     polarization='both', \n",
    "                     fit_engine='linear algebra',\n",
    "                     fit_kterm=False, \n",
    "                     fit_slope=True, \n",
    "                     ant_id=None, \n",
    "                     ddi=None, \n",
    "                     parallel=False, \n",
    "                     overwrite=False)"
   ]
  },
  {
   "cell_type": "code",
   "execution_count": null,
   "id": "15ef87d7",
   "metadata": {},
   "outputs": [],
   "source": [
    "position_mds.summary()"
   ]
  },
  {
   "cell_type": "code",
   "execution_count": null,
   "id": "5535c581",
   "metadata": {},
   "outputs": [],
   "source": [
    "position_export_folder = 'position_mds_export'"
   ]
  },
  {
   "cell_type": "code",
   "execution_count": null,
   "id": "0485f8e4",
   "metadata": {},
   "outputs": [],
   "source": [
    "position_mds.export_fit_results(position_export_folder, \n",
    "                                combine_ddis=False, \n",
    "                                position_unit='m', \n",
    "                                angle_unit='deg',\n",
    "                                time_unit='hour')"
   ]
  },
  {
   "cell_type": "code",
   "execution_count": null,
   "id": "1f634742",
   "metadata": {},
   "outputs": [],
   "source": [
    "position_plot_folder = 'position_mds_plots'"
   ]
  },
  {
   "cell_type": "code",
   "execution_count": null,
   "id": "29164f2b",
   "metadata": {},
   "outputs": [],
   "source": [
    "position_mds.plot_sky_coverage(position_plot_folder, \n",
    "                               ant_id=None,\n",
    "                               ddi=None,\n",
    "                               time_unit='hour', \n",
    "                               angle_unit='deg', \n",
    "                               display=True,\n",
    "                               figure_size=None,\n",
    "                               dpi=300,\n",
    "                               parallel=False)"
   ]
  },
  {
   "cell_type": "code",
   "execution_count": null,
   "id": "518380af",
   "metadata": {},
   "outputs": [],
   "source": [
    "position_mds.plot_gains(position_plot_folder, \n",
    "                        ant_id=None,\n",
    "                        ddi=None,\n",
    "                        time_unit='hour',\n",
    "                        angle_unit='deg',\n",
    "                        plot_fit=True,\n",
    "                        display=True,\n",
    "                        figure_size=None,\n",
    "                        dpi=300,\n",
    "                        parallel=False)"
   ]
  },
  {
   "cell_type": "code",
   "execution_count": null,
   "id": "c92adcbd",
   "metadata": {},
   "outputs": [],
   "source": []
  }
 ],
 "metadata": {
  "kernelspec": {
   "display_name": "Python 3 (ipykernel)",
   "language": "python",
   "name": "python3"
  },
  "language_info": {
   "codemirror_mode": {
    "name": "ipython",
    "version": 3
   },
   "file_extension": ".py",
   "mimetype": "text/x-python",
   "name": "python",
   "nbconvert_exporter": "python",
   "pygments_lexer": "ipython3",
   "version": "3.8.15"
  }
 },
 "nbformat": 4,
 "nbformat_minor": 5
}
